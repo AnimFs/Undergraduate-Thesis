{
 "cells": [
  {
   "cell_type": "code",
   "execution_count": 1,
   "id": "bf7925b8-5bd3-47fb-b299-6242aab04b17",
   "metadata": {},
   "outputs": [],
   "source": [
    "%load_ext autoreload\n",
    "%autoreload 2"
   ]
  },
  {
   "cell_type": "code",
   "execution_count": 2,
   "id": "bc16708a-972f-45ce-b54c-6e2b88b2b996",
   "metadata": {},
   "outputs": [],
   "source": [
    "import qiskit_metal as metal\n",
    "from qiskit_metal import designs, draw\n",
    "from qiskit_metal import MetalGUI, Dict, open_docs"
   ]
  },
  {
   "cell_type": "code",
   "execution_count": 3,
   "id": "3b525fc3-5cac-4abc-8345-1940d5f47f45",
   "metadata": {},
   "outputs": [],
   "source": [
    "from qiskit_metal.qlibrary.qubits.transmon_pocket_6 import TransmonPocket6\n",
    "from qiskit_metal.qlibrary.qubits.transmon_cross_fl import TransmonCrossFL\n",
    "from qiskit_metal.qlibrary.qubits.transmon_pocket_cl import TransmonPocketCL\n",
    "\n",
    "from qiskit_metal.qlibrary.tlines.straight_path import RouteStraight\n",
    "from qiskit_metal.qlibrary.tlines.meandered import RouteMeander\n",
    "from qiskit_metal.qlibrary.tlines.pathfinder import RoutePathfinder\n",
    "from qiskit_metal.qlibrary.tlines.anchored_path import RouteAnchors\n",
    "\n",
    "from qiskit_metal.qlibrary.lumped.cap_n_interdigital import CapNInterdigital\n",
    "from qiskit_metal.qlibrary.couplers.cap_n_interdigital_tee import CapNInterdigitalTee\n",
    "from qiskit_metal.qlibrary.couplers.coupled_line_tee import CoupledLineTee\n",
    "\n",
    "from qiskit_metal.qlibrary.terminations.launchpad_wb import LaunchpadWirebond\n",
    "from qiskit_metal.qlibrary.terminations.launchpad_wb_coupled import LaunchpadWirebondCoupled"
   ]
  },
  {
   "cell_type": "code",
   "execution_count": 4,
   "id": "2b2ca0ae-3776-42a1-ba1e-adf99ddefc30",
   "metadata": {},
   "outputs": [],
   "source": [
    "design = metal.designs.DesignPlanar()\n",
    "gui = metal.MetalGUI(design)"
   ]
  },
  {
   "cell_type": "code",
   "execution_count": 5,
   "id": "b016524a-af24-4d4e-be00-cd48907c7f8e",
   "metadata": {},
   "outputs": [
    {
     "data": {
      "text/plain": [
       "{'material': 'silicon',\n",
       " 'layer_start': '0',\n",
       " 'layer_end': '2048',\n",
       " 'size': {'center_x': '0.0mm',\n",
       "  'center_y': '0.0mm',\n",
       "  'center_z': '0.0mm',\n",
       "  'size_x': '9mm',\n",
       "  'size_y': '6mm',\n",
       "  'size_z': '-750um',\n",
       "  'sample_holder_top': '890um',\n",
       "  'sample_holder_bottom': '1650um'}}"
      ]
     },
     "execution_count": 5,
     "metadata": {},
     "output_type": "execute_result"
    }
   ],
   "source": [
    "design.overwrite_enabled = True\n",
    "design.chips.main"
   ]
  },
  {
   "cell_type": "code",
   "execution_count": 6,
   "id": "a70ad743-7eb6-4c5d-bb60-49ea61e12930",
   "metadata": {},
   "outputs": [],
   "source": [
    "design.chips.main.size.size_x = '12mm'\n",
    "design.chips.main.size.size_y = '12mm'"
   ]
  },
  {
   "cell_type": "markdown",
   "id": "2b23d2c7-990f-410f-a96f-ee627db8dbd2",
   "metadata": {},
   "source": [
    "## Define Qubits"
   ]
  },
  {
   "cell_type": "markdown",
   "id": "b4551f0f-407e-44c0-a7a2-fdda50b82c4d",
   "metadata": {},
   "source": [
    "#### 4 Qubits -- 2 TransmonPocket Qubits with Drive Lines, 2 TransmonCross Qubits (X-mon) with Flux Lines"
   ]
  },
  {
   "cell_type": "code",
   "execution_count": 7,
   "id": "76862f18-3c6f-4736-ac73-f82b48d80200",
   "metadata": {},
   "outputs": [
    {
     "data": {
      "text/plain": [
       "{'pos_x': '0.0um',\n",
       " 'pos_y': '0.0um',\n",
       " 'orientation': '0.0',\n",
       " 'chip': 'main',\n",
       " 'layer': '1',\n",
       " 'connection_pads': {},\n",
       " '_default_connection_pads': {'pad_gap': '15um',\n",
       "  'pad_width': '125um',\n",
       "  'pad_height': '30um',\n",
       "  'pad_cpw_shift': '5um',\n",
       "  'pad_cpw_extent': '25um',\n",
       "  'cpw_width': 'cpw_width',\n",
       "  'cpw_gap': 'cpw_gap',\n",
       "  'cpw_extend': '100um',\n",
       "  'pocket_extent': '5um',\n",
       "  'pocket_rise': '65um',\n",
       "  'loc_W': '+1',\n",
       "  'loc_H': '+1'},\n",
       " 'pad_gap': '30um',\n",
       " 'inductor_width': '20um',\n",
       " 'pad_width': '455um',\n",
       " 'pad_height': '90um',\n",
       " 'pocket_width': '650um',\n",
       " 'pocket_height': '650um',\n",
       " 'make_CL': True,\n",
       " 'cl_gap': '6um',\n",
       " 'cl_width': '10um',\n",
       " 'cl_length': '20um',\n",
       " 'cl_ground_gap': '6um',\n",
       " 'cl_pocket_edge': '0',\n",
       " 'cl_off_center': '50um',\n",
       " 'hfss_wire_bonds': False,\n",
       " 'q3d_wire_bonds': False,\n",
       " 'aedt_q3d_wire_bonds': False,\n",
       " 'aedt_hfss_wire_bonds': False,\n",
       " 'hfss_inductance': '10nH',\n",
       " 'hfss_capacitance': 0,\n",
       " 'hfss_resistance': 0,\n",
       " 'hfss_mesh_kw_jj': 7e-06,\n",
       " 'q3d_inductance': '10nH',\n",
       " 'q3d_capacitance': 0,\n",
       " 'q3d_resistance': 0,\n",
       " 'q3d_mesh_kw_jj': 7e-06,\n",
       " 'gds_cell_name': 'my_other_junction',\n",
       " 'aedt_q3d_inductance': 1e-08,\n",
       " 'aedt_q3d_capacitance': 0,\n",
       " 'aedt_hfss_inductance': 1e-08,\n",
       " 'aedt_hfss_capacitance': 0}"
      ]
     },
     "execution_count": 7,
     "metadata": {},
     "output_type": "execute_result"
    }
   ],
   "source": [
    "TransmonPocketCL.get_template_options(design)"
   ]
  },
  {
   "cell_type": "code",
   "execution_count": 8,
   "id": "59d4e100-dfd1-4816-af09-639c24c82a3a",
   "metadata": {},
   "outputs": [],
   "source": [
    "Q_1 = TransmonPocketCL(design,'Q_1', options = dict(\n",
    "    pos_x='-3mm',\n",
    "    pos_y='-1mm',\n",
    "    gds_cell_name = 'FakeJunction_01',\n",
    "    hfss_inductance = '14nH',\n",
    "    pad_width = '425 um',\n",
    "    pocket_height = '650um',\n",
    "    connection_pads=dict(\n",
    "        readout = dict(loc_W=-1, loc_H=1, pad_width = '80um', pad_gap = '50um'),\n",
    "        bus_13 = dict(loc_W=1, loc_H=1, pad_width = '60um', pad_gap = '10um'),\n",
    "        bus_14 = dict(loc_W=1, loc_H=-1, pad_width = '60um', pad_gap = '10um')\n",
    "    )\n",
    "))\n",
    "\n",
    "Q_2 = TransmonPocketCL(design,'Q_2', options = dict(\n",
    "    pos_x='3mm',\n",
    "    pos_y='1mm',\n",
    "    orientation='180',\n",
    "    gds_cell_name = 'FakeJunction_01',\n",
    "    hfss_inductance = '14nH',\n",
    "    pad_width = '425 um',\n",
    "    pocket_height = '650um',\n",
    "    connection_pads=dict(\n",
    "        readout = dict(loc_W=-1, loc_H=1, pad_width = '80um', pad_gap = '50um'),\n",
    "        bus_23 = dict(loc_W=1, loc_H=-1, pad_width = '60um', pad_gap = '10um'),\n",
    "        bus_24 = dict(loc_W=1, loc_H=1, pad_width = '60um', pad_gap = '10um')\n",
    "    )\n",
    "))\n",
    "\n",
    "gui.rebuild()\n",
    "gui.autoscale()"
   ]
  },
  {
   "cell_type": "code",
   "execution_count": 9,
   "id": "b0981c81-65b0-43ba-9335-0fd14973c8a3",
   "metadata": {},
   "outputs": [
    {
     "data": {
      "text/plain": [
       "{'pos_x': '0.0um',\n",
       " 'pos_y': '0.0um',\n",
       " 'orientation': '0.0',\n",
       " 'chip': 'main',\n",
       " 'layer': '1',\n",
       " 'connection_pads': {},\n",
       " '_default_connection_pads': {'connector_type': '0',\n",
       "  'claw_length': '30um',\n",
       "  'ground_spacing': '5um',\n",
       "  'claw_width': '10um',\n",
       "  'claw_gap': '6um',\n",
       "  'claw_cpw_length': '40um',\n",
       "  'claw_cpw_width': '10um',\n",
       "  'connector_location': '0'},\n",
       " 'cross_width': '20um',\n",
       " 'cross_length': '200um',\n",
       " 'cross_gap': '20um',\n",
       " 'make_fl': True,\n",
       " 'fl_options': {'t_top': '15um',\n",
       "  't_offset': '0um',\n",
       "  't_inductive_gap': '3um',\n",
       "  't_width': '5um',\n",
       "  't_gap': '3um'},\n",
       " 'hfss_wire_bonds': False,\n",
       " 'q3d_wire_bonds': False,\n",
       " 'aedt_q3d_wire_bonds': False,\n",
       " 'aedt_hfss_wire_bonds': False,\n",
       " 'hfss_inductance': '10nH',\n",
       " 'hfss_capacitance': 0,\n",
       " 'hfss_resistance': 0,\n",
       " 'hfss_mesh_kw_jj': 7e-06,\n",
       " 'q3d_inductance': '10nH',\n",
       " 'q3d_capacitance': 0,\n",
       " 'q3d_resistance': 0,\n",
       " 'q3d_mesh_kw_jj': 7e-06,\n",
       " 'gds_cell_name': 'my_other_junction',\n",
       " 'aedt_q3d_inductance': 1e-08,\n",
       " 'aedt_q3d_capacitance': 0,\n",
       " 'aedt_hfss_inductance': 1e-08,\n",
       " 'aedt_hfss_capacitance': 0}"
      ]
     },
     "execution_count": 9,
     "metadata": {},
     "output_type": "execute_result"
    }
   ],
   "source": [
    "TransmonCrossFL.get_template_options(design)"
   ]
  },
  {
   "cell_type": "code",
   "execution_count": 9,
   "id": "af4dead7-e4c4-44b9-b8ff-2f17afc42b02",
   "metadata": {},
   "outputs": [],
   "source": [
    "Q_3 = TransmonCrossFL(design, 'Q_3', options=dict(\n",
    "    pos_x='0mm',\n",
    "    pos_y='3mm',\n",
    "    orientation='180',\n",
    "    connection_pads=dict(\n",
    "        bus_13=dict(connector_location='180', claw_length='95um'),\n",
    "        bus_23=dict(connector_location='90', claw_length='95um'),\n",
    "        readout=dict(connector_location='-90')\n",
    "    ),\n",
    "    fl_options=dict()\n",
    "))\n",
    "\n",
    "Q_4 = TransmonCrossFL(design, 'Q_4', options=dict(\n",
    "    pos_x='0mm',\n",
    "    pos_y='-3mm',\n",
    "    orientation='0',\n",
    "    connection_pads=dict(\n",
    "        bus_14=dict(connector_location='90', claw_length='95um'),\n",
    "        bus_24=dict(connector_location='180', claw_length='95um'),\n",
    "        readout=dict(connector_location='0')\n",
    "    ),\n",
    "    fl_options=dict()\n",
    "))\n",
    "\n",
    "gui.rebuild()\n",
    "gui.autoscale()"
   ]
  },
  {
   "cell_type": "markdown",
   "id": "f4c5a6b6-85a7-4e6a-9b07-a258ecce8f15",
   "metadata": {},
   "source": [
    "## Resonator Bus Length Determine"
   ]
  },
  {
   "cell_type": "code",
   "execution_count": 11,
   "id": "3c30b566-6b15-4585-8993-507870ab49b7",
   "metadata": {},
   "outputs": [],
   "source": [
    "from qiskit_metal.analyses.em.cpw_calculations import guided_wavelength"
   ]
  },
  {
   "cell_type": "code",
   "execution_count": 12,
   "id": "186e70a5-4875-4bee-ae3c-4313855fa836",
   "metadata": {},
   "outputs": [
    {
     "data": {
      "text/plain": [
       "\u001b[1;31mSignature:\u001b[0m\n",
       "\u001b[0mguided_wavelength\u001b[0m\u001b[1;33m(\u001b[0m\u001b[1;33m\n",
       "\u001b[0m    \u001b[0mfreq\u001b[0m\u001b[1;33m,\u001b[0m\u001b[1;33m\n",
       "\u001b[0m    \u001b[0mline_width\u001b[0m\u001b[1;33m,\u001b[0m\u001b[1;33m\n",
       "\u001b[0m    \u001b[0mline_gap\u001b[0m\u001b[1;33m,\u001b[0m\u001b[1;33m\n",
       "\u001b[0m    \u001b[0msubstrate_thickness\u001b[0m\u001b[1;33m,\u001b[0m\u001b[1;33m\n",
       "\u001b[0m    \u001b[0mfilm_thickness\u001b[0m\u001b[1;33m,\u001b[0m\u001b[1;33m\n",
       "\u001b[0m    \u001b[0mdielectric_constant\u001b[0m\u001b[1;33m=\u001b[0m\u001b[1;36m11.45\u001b[0m\u001b[1;33m,\u001b[0m\u001b[1;33m\n",
       "\u001b[0m\u001b[1;33m)\u001b[0m\u001b[1;33m\u001b[0m\u001b[1;33m\u001b[0m\u001b[0m\n",
       "\u001b[1;31mDocstring:\u001b[0m\n",
       "A simple calculator to determine the guided wavelength of a planar CPW\n",
       "transmission line. Assumes the substrate has relative permeability of 1.\n",
       "Assumes package grounds are far away.\n",
       "\n",
       "Args:\n",
       "    freq (float): The frequency of interest, in Hz (eg. 5*10**9).\n",
       "    line_width (float): The width of the CPW trace (center) line, in meters (eg. 10*10**-6).\n",
       "    line_gap (float): The width of the CPW gap (dielectric space), in meters (eg. 6*10**-6).\n",
       "    substrate_thickness (float): Thickness of the dielectric substrate, in meters (eg. 760*10**-6).\n",
       "    film_thickness (float): Thickness of the thin film, in meters (eg. 200*10**-9).\n",
       "    dielectric_constant (float): The relative permittivity of the substrate.\n",
       "        Defaults to 11.45, the value for Silicon at cryogenic temperatures.\n",
       "\n",
       "Returns:\n",
       "    tuple: Contents outlined below\n",
       "\n",
       "Tuple contents:\n",
       "    * lambdaG: The guided wavelength of the CPW based on the input parameters, in meters.\n",
       "      This value is for a full wavelength. Divide by 2 for a lambda/2 resonator, 4 for a lambda/4.\n",
       "    * etfSqrt: Effective dielectric constant (accounting for film thickness)\n",
       "    * q: Filling factor\n",
       "\u001b[1;31mFile:\u001b[0m      c:\\programdata\\anaconda3\\envs\\qmetal\\lib\\site-packages\\qiskit_metal\\analyses\\em\\cpw_calculations.py\n",
       "\u001b[1;31mType:\u001b[0m      function"
      ]
     },
     "metadata": {},
     "output_type": "display_data"
    }
   ],
   "source": [
    "?guided_wavelength"
   ]
  },
  {
   "cell_type": "markdown",
   "id": "99580d0a-4be0-4444-824f-732c37f80376",
   "metadata": {},
   "source": [
    "### Relative Permittivity/ Dielectric Constant of Substrate is 11.45 (Silicon at Cryogenic Temperature)\n",
    "### If we choose different substrate we have to change the value here"
   ]
  },
  {
   "cell_type": "code",
   "execution_count": 13,
   "id": "8490aff9-d4f2-42ff-9ac6-bcea602ed4d3",
   "metadata": {},
   "outputs": [],
   "source": [
    "def find_resonator_length(frequency, line_width, line_gap, N):\n",
    "    # frequency in GHz\n",
    "    # line_width/line_gap in um\n",
    "    # N -> 2 for lambda/2, 4 for lambda/4\n",
    "    # substrate dimensions and properties already set (Default dielectric constant value is used)\n",
    "    \n",
    "    \n",
    "    [lambdaG, effSqrt, q] = guided_wavelength(frequency*10**9, line_width*10**-6,\n",
    "                                              line_gap*10**-6, 750*10**-6, 200*10**-9)\n",
    "    \n",
    "    return str(lambdaG/N*10**3) + \" mm\""
   ]
  },
  {
   "cell_type": "markdown",
   "id": "118d52b2-b944-4484-a161-420599deb3b4",
   "metadata": {},
   "source": [
    "### Substrate Thickness is 750 micrometer and film thickness 200 nm\n",
    "### Linewidth = 10, LineGap = 2"
   ]
  },
  {
   "cell_type": "code",
   "execution_count": 14,
   "id": "f34f12b7-c8a7-4211-9636-abd7d16f0a5c",
   "metadata": {},
   "outputs": [
    {
     "data": {
      "text/plain": [
       "'10.652379409921904 mm'"
      ]
     },
     "execution_count": 14,
     "metadata": {},
     "output_type": "execute_result"
    }
   ],
   "source": [
    "find_resonator_length(5.8,10,2,2) #bus13"
   ]
  },
  {
   "cell_type": "code",
   "execution_count": 15,
   "id": "c1571512-dc21-486e-b7f0-c25d1a25ed10",
   "metadata": {},
   "outputs": [
    {
     "data": {
      "text/plain": [
       "'10.297300096231258 mm'"
      ]
     },
     "execution_count": 15,
     "metadata": {},
     "output_type": "execute_result"
    }
   ],
   "source": [
    "find_resonator_length(6,10,2,2) #bus23"
   ]
  },
  {
   "cell_type": "code",
   "execution_count": 16,
   "id": "77fc6783-6eae-4343-a70b-3163e2e5a826",
   "metadata": {},
   "outputs": [
    {
     "data": {
      "text/plain": [
       "'9.965129125358668 mm'"
      ]
     },
     "execution_count": 16,
     "metadata": {},
     "output_type": "execute_result"
    }
   ],
   "source": [
    "find_resonator_length(6.2,10,2,2) #bus24"
   ]
  },
  {
   "cell_type": "code",
   "execution_count": 17,
   "id": "98bd3fb4-f970-4e7d-911b-3f5524f92f86",
   "metadata": {},
   "outputs": [
    {
     "data": {
      "text/plain": [
       "'9.653718840164947 mm'"
      ]
     },
     "execution_count": 17,
     "metadata": {},
     "output_type": "execute_result"
    }
   ],
   "source": [
    "find_resonator_length(6.4,10,2,2) #bus14"
   ]
  },
  {
   "cell_type": "code",
   "execution_count": 18,
   "id": "977764a6-e319-4fb3-8586-14ec476a4940",
   "metadata": {},
   "outputs": [],
   "source": [
    "bus_13 = RouteMeander(design, 'Bus_13', options = dict(\n",
    "                                            hfss_wire_bonds = True,\n",
    "                                            pin_inputs = Dict(\n",
    "                                                start_pin = Dict(\n",
    "                                                    component = 'Q_1',\n",
    "                                                    pin = 'bus_13'\n",
    "                                                ),\n",
    "                                                end_pin = Dict(\n",
    "                                                    component = 'Q_3',\n",
    "                                                    pin = 'bus_13'\n",
    "                                                )\n",
    "                                            ),\n",
    "                                            lead = Dict(\n",
    "                                                start_straight = '125um',\n",
    "                                                end_straight = '225um'\n",
    "                                            ),\n",
    "                                            meander = Dict(\n",
    "                                                asymmetry = '50um'),\n",
    "                                                fillet = \"99um\",\n",
    "                                                total_length = '10.65mm'\n",
    "                                            \n",
    "                                        ))\n",
    "\n",
    "bus_23 = RouteMeander(design, 'Bus_23', options = dict(\n",
    "                                        hfss_wire_bonds = True,\n",
    "                                        pin_inputs = Dict(\n",
    "                                            start_pin = Dict(\n",
    "                                                component = 'Q_2',\n",
    "                                                pin = 'bus_23'\n",
    "                                            ),\n",
    "                                            end_pin = Dict(\n",
    "                                                component = 'Q_3',\n",
    "                                                pin = 'bus_23'\n",
    "                                            )\n",
    "                                        ),\n",
    "                                        lead = Dict(\n",
    "                                            start_straight = '125um',\n",
    "                                            end_straight = '225um'\n",
    "                                        ),\n",
    "                                        meander = Dict(\n",
    "                                            asymmetry = '50um'),\n",
    "                                            fillet = \"99um\",\n",
    "                                            total_length = '10.3mm'\n",
    "                                        \n",
    "                                    ))\n",
    "\n",
    "bus_24 = RouteMeander(design, 'Bus_24', options = dict(\n",
    "                                        hfss_wire_bonds = True,\n",
    "                                        pin_inputs = Dict(\n",
    "                                            start_pin = Dict(\n",
    "                                                component = 'Q_2',\n",
    "                                                pin = 'bus_24'\n",
    "                                            ),\n",
    "                                            end_pin = Dict(\n",
    "                                                component = 'Q_4',\n",
    "                                                pin = 'bus_24'\n",
    "                                            )\n",
    "                                        ),\n",
    "                                        lead = Dict(\n",
    "                                            start_straight = '125um',\n",
    "                                            end_straight = '225um'\n",
    "                                        ),\n",
    "                                        meander = Dict(\n",
    "                                            asymmetry = '50um'),\n",
    "                                            fillet = \"99um\",\n",
    "                                            total_length = '9.97mm'\n",
    "                                        \n",
    "                                    ))\n",
    "\n",
    "bus_14 = RouteMeander(design, 'Bus_14', options = dict(\n",
    "                                        hfss_wire_bonds = True,\n",
    "                                        pin_inputs = Dict(\n",
    "                                            start_pin = Dict(\n",
    "                                                component = 'Q_1',\n",
    "                                                pin = 'bus_14'\n",
    "                                            ),\n",
    "                                            end_pin = Dict(\n",
    "                                                component = 'Q_4',\n",
    "                                                pin = 'bus_14'\n",
    "                                            )\n",
    "                                        ),\n",
    "                                        lead = Dict(\n",
    "                                            start_straight = '125um',\n",
    "                                            end_straight = '225um'\n",
    "                                        ),\n",
    "                                        meander = Dict(\n",
    "                                            asymmetry = '50um'),\n",
    "                                            fillet = \"99um\",\n",
    "                                            total_length = '9.65mm'\n",
    "                                        \n",
    "                                    ))\n",
    "\n",
    "gui.rebuild()\n",
    "gui.autoscale()"
   ]
  },
  {
   "cell_type": "code",
   "execution_count": 19,
   "id": "4eea6253-2b46-4197-b80c-511eee593b1a",
   "metadata": {},
   "outputs": [],
   "source": [
    "from collections import OrderedDict\n",
    "jogs_start = OrderedDict()\n",
    "jogs_start[0] = ['L', '350um']\n",
    "jogs_start[1] = ['L', '500um']\n",
    "\n",
    "jogs_end = OrderedDict()\n",
    "jogs_end[0] = ['L', '680um']\n",
    "jogs_end[1] = ['L','700um']\n",
    "\n",
    "bus_13 = RouteMeander(design, 'Bus_13', options = dict(\n",
    "                                            hfss_wire_bonds = True,\n",
    "                                            pin_inputs = Dict(\n",
    "                                                start_pin = Dict(\n",
    "                                                    component = 'Q_1',\n",
    "                                                    pin = 'bus_13'\n",
    "                                                ),\n",
    "                                                end_pin = Dict(\n",
    "                                                    component = 'Q_3',\n",
    "                                                    pin = 'bus_13'\n",
    "                                                )\n",
    "                                            ),\n",
    "                                            lead = Dict(\n",
    "                                                start_straight = '125um',\n",
    "                                                end_straight = '225um'\n",
    "                                            ),\n",
    "                                            meander = Dict(\n",
    "                                                asymmetry = '50um'),\n",
    "                                                fillet = \"99um\",\n",
    "                                                total_length = '10.65mm'\n",
    "                                            \n",
    "                                        ))\n",
    "\n",
    "jogs_start = OrderedDict()\n",
    "jogs_start[0] = ['R', '350um']\n",
    "jogs_start[1] = ['R', '700um']\n",
    "\n",
    "bus_23 = RouteMeander(design, 'Bus_23', options = dict(\n",
    "                                        hfss_wire_bonds = True,\n",
    "                                        pin_inputs = Dict(\n",
    "                                            start_pin = Dict(\n",
    "                                                component = 'Q_2',\n",
    "                                                pin = 'bus_23'\n",
    "                                            ),\n",
    "                                            end_pin = Dict(\n",
    "                                                component = 'Q_3',\n",
    "                                                pin = 'bus_23'\n",
    "                                            )\n",
    "                                        ),\n",
    "                                        lead = Dict(\n",
    "                                            start_straight = '125um',\n",
    "                                            end_straight = '225um'\n",
    "                                        ),\n",
    "                                        meander = Dict(\n",
    "                                            asymmetry = '50um'),\n",
    "                                            fillet = \"99um\",\n",
    "                                            total_length = '10.3mm'\n",
    "                                        \n",
    "                                    ))\n",
    "\n",
    "jogs_start = OrderedDict()\n",
    "jogs_start[0] = ['R', '350um']\n",
    "jogs_start[1] = ['R', '700um']\n",
    "\n",
    "bus_24 = RouteMeander(design, 'Bus_24', options = dict(\n",
    "                                        hfss_wire_bonds = True,\n",
    "                                        pin_inputs = Dict(\n",
    "                                            start_pin = Dict(\n",
    "                                                component = 'Q_2',\n",
    "                                                pin = 'bus_24'\n",
    "                                            ),\n",
    "                                            end_pin = Dict(\n",
    "                                                component = 'Q_4',\n",
    "                                                pin = 'bus_24'\n",
    "                                            )\n",
    "                                        ),\n",
    "                                        lead = Dict(\n",
    "                                            start_straight = '125um',\n",
    "                                            end_straight = '225um'\n",
    "                                        ),\n",
    "                                        meander = Dict(\n",
    "                                            asymmetry = '50um'),\n",
    "                                            fillet = \"99um\",\n",
    "                                            total_length = '9.97mm'\n",
    "                                        \n",
    "                                    ))\n",
    "\n",
    "jogs_start = OrderedDict()\n",
    "jogs_start[0] = ['R', '350um']\n",
    "jogs_start[1] = ['R', '700um']\n",
    "bus_14 = RouteMeander(design, 'Bus_14', options = dict(\n",
    "                                        hfss_wire_bonds = True,\n",
    "                                        pin_inputs = Dict(\n",
    "                                            start_pin = Dict(\n",
    "                                                component = 'Q_1',\n",
    "                                                pin = 'bus_14'\n",
    "                                            ),\n",
    "                                            end_pin = Dict(\n",
    "                                                component = 'Q_4',\n",
    "                                                pin = 'bus_14'\n",
    "                                            )\n",
    "                                        ),\n",
    "                                        lead = Dict(\n",
    "                                            start_straight = '125um',\n",
    "                                            end_straight = '225um'\n",
    "                                        ),\n",
    "                                        meander = Dict(\n",
    "                                            asymmetry = '50um'),\n",
    "                                            fillet = \"99um\",\n",
    "                                            total_length = '9.65mm'\n",
    "                                        \n",
    "                                    ))\n",
    "\n",
    "gui.rebuild()\n",
    "gui.autoscale()\n"
   ]
  },
  {
   "cell_type": "markdown",
   "id": "4d64cb67-80b4-404f-89ba-171e47009cf5",
   "metadata": {},
   "source": [
    "## Readout and Control Line\n",
    "### Readout resonator frequencies: readout_Q1= 6.8 GHz, readout_Q2= 7 GHz, readout_Q3= 7.2 GHz, readout_Q4= 7.4 GHz\n",
    "### LineWidth = 10, LineGap = 6"
   ]
  },
  {
   "cell_type": "code",
   "execution_count": 20,
   "id": "3c8aa245-4f1c-4078-9248-362257217d96",
   "metadata": {},
   "outputs": [],
   "source": [
    "launch_readout_q_1 = LaunchpadWirebond(design, 'Launch_Readout_Q_1',\n",
    "                                        options = dict(\n",
    "                                            pos_x = '-4mm',\n",
    "                                            pos_y = '4mm',\n",
    "                                            orientation = '-90'\n",
    "                                        ))\n",
    "\n",
    "launch_readout_q_2 = LaunchpadWirebond(design, 'Launch_Readout_Q_2',\n",
    "                                        options = dict(\n",
    "                                            pos_x = '4mm',\n",
    "                                            pos_y = '-4mm',\n",
    "                                            orientation = '90'\n",
    "                                        ))\n",
    "\n",
    "launch_readout_q_3 = LaunchpadWirebond(design, 'Launch_Readout_Q_3',\n",
    "                                        options = dict(\n",
    "                                            pos_x = '4mm',\n",
    "                                            pos_y = '4mm',\n",
    "                                            orientation = '-90'\n",
    "                                        ))\n",
    "launch_readout_q_4 = LaunchpadWirebond(design, 'Launch_Readout_Q_4',\n",
    "                                        options = dict(\n",
    "                                            pos_x = '-4mm',\n",
    "                                            pos_y = '-4mm',\n",
    "                                            orientation = '90'\n",
    "                                        ))\n",
    "\n",
    "\n",
    "\n",
    "\n",
    "gui.rebuild()\n",
    "gui.autoscale()\n"
   ]
  },
  {
   "cell_type": "code",
   "execution_count": 21,
   "id": "c82a1fc2-4acc-451b-ba26-fcc0bf37ddc5",
   "metadata": {},
   "outputs": [],
   "source": [
    "launch_cl_q_1 = LaunchpadWirebond(design, 'Launch_CL_Q_1',\n",
    "                                    options = dict(\n",
    "                                        pos_x = '-4mm',\n",
    "                                        pos_y = '-1mm',\n",
    "                                        orientation = '0',\n",
    "                                        trace_width = '5um',\n",
    "                                        trace_gap = '3um'\n",
    "                                    ))\n",
    "\n",
    "launch_cl_q_2 = LaunchpadWirebond(design, 'Launch_CL_Q_2',\n",
    "                                    options = dict(\n",
    "                                        pos_x = '4mm',\n",
    "                                        pos_y = '1mm',\n",
    "                                        orientation = '180',\n",
    "                                        trace_width = '5um',\n",
    "                                        trace_gap = '3um'\n",
    "                                    ))\n",
    "\n",
    "\n",
    "launch_fl_q_3 = LaunchpadWirebond(design, 'Launch_FL_Q_3',\n",
    "                                    options = dict(\n",
    "                                        pos_x = '0mm',\n",
    "                                        pos_y = '4mm',\n",
    "                                        orientation = '-90',\n",
    "                                        trace_width = '5um',\n",
    "                                        trace_gap = '3um'\n",
    "                                    ))\n",
    "\n",
    "launch_fl_q_4 = LaunchpadWirebond(design, 'Launch_FL_Q_4',\n",
    "                                    options = dict(\n",
    "                                        pos_x = '0mm',\n",
    "                                        pos_y = '-4mm',\n",
    "                                        orientation = '90',\n",
    "                                        trace_width = '5um',\n",
    "                                        trace_gap = '3um'\n",
    "                                    ))\n",
    "\n",
    "\n",
    "\n",
    "gui.rebuild()\n",
    "gui.autoscale()"
   ]
  },
  {
   "cell_type": "code",
   "execution_count": 22,
   "id": "d78439b4-b8e8-4276-9afd-35e0f49f7f60",
   "metadata": {},
   "outputs": [
    {
     "data": {
      "text/plain": [
       "\u001b[1;31mInit signature:\u001b[0m\n",
       "\u001b[0mCapNInterdigital\u001b[0m\u001b[1;33m(\u001b[0m\u001b[1;33m\n",
       "\u001b[0m    \u001b[0mdesign\u001b[0m\u001b[1;33m:\u001b[0m \u001b[1;34m'QDesign'\u001b[0m\u001b[1;33m,\u001b[0m\u001b[1;33m\n",
       "\u001b[0m    \u001b[0mname\u001b[0m\u001b[1;33m:\u001b[0m \u001b[0mstr\u001b[0m \u001b[1;33m=\u001b[0m \u001b[1;32mNone\u001b[0m\u001b[1;33m,\u001b[0m\u001b[1;33m\n",
       "\u001b[0m    \u001b[0moptions\u001b[0m\u001b[1;33m:\u001b[0m \u001b[0maddict\u001b[0m\u001b[1;33m.\u001b[0m\u001b[0maddict\u001b[0m\u001b[1;33m.\u001b[0m\u001b[0mDict\u001b[0m \u001b[1;33m=\u001b[0m \u001b[1;32mNone\u001b[0m\u001b[1;33m,\u001b[0m\u001b[1;33m\n",
       "\u001b[0m    \u001b[0mmake\u001b[0m\u001b[1;33m=\u001b[0m\u001b[1;32mTrue\u001b[0m\u001b[1;33m,\u001b[0m\u001b[1;33m\n",
       "\u001b[0m    \u001b[0mcomponent_template\u001b[0m\u001b[1;33m:\u001b[0m \u001b[0maddict\u001b[0m\u001b[1;33m.\u001b[0m\u001b[0maddict\u001b[0m\u001b[1;33m.\u001b[0m\u001b[0mDict\u001b[0m \u001b[1;33m=\u001b[0m \u001b[1;32mNone\u001b[0m\u001b[1;33m,\u001b[0m\u001b[1;33m\n",
       "\u001b[0m\u001b[1;33m)\u001b[0m \u001b[1;33m->\u001b[0m \u001b[0mtyping\u001b[0m\u001b[1;33m.\u001b[0m\u001b[0mOptional\u001b[0m\u001b[1;33m[\u001b[0m\u001b[0mstr\u001b[0m\u001b[1;33m]\u001b[0m\u001b[1;33m\u001b[0m\u001b[1;33m\u001b[0m\u001b[0m\n",
       "\u001b[1;31mDocstring:\u001b[0m     \n",
       "Generates a two pin (+) structure comprised of a north CPW transmission\n",
       "line, and a south transmission line, coupled together via a finger\n",
       "capacitor. Such a structure can be used, as an example, for generating CPW\n",
       "resonators. (0,0) represents the center position of the component. Setting\n",
       "finger length to 0 gives a simple gap capacitor. The width of the gap\n",
       "capacitor is found via.\n",
       "\n",
       "(cap_width * finger_count +  * cap_gap * (finger_count-1)).\n",
       "\n",
       "Inherits QComponent class.\n",
       "\n",
       "::\n",
       "\n",
       "              (0,0)     N\n",
       "                +       ^\n",
       "                |       |\n",
       "                |\n",
       "                |\n",
       "           --|-----|--\n",
       "          |  |  |  |  |\n",
       "          |-----|-----|\n",
       "                |\n",
       "                |\n",
       "                |\n",
       "                |\n",
       "                +\n",
       "\n",
       ".. image::\n",
       "    CapNInterdigital.png\n",
       "\n",
       ".. meta::\n",
       "    Cap N Interdigital\n",
       "\n",
       "Options:\n",
       "    * north_width: '10um' -- The width of the 'north' portion of the CPW transmission line\n",
       "    * north_gap: '6um' -- The dielectric gap of the 'north' portion of the CPW transmission line\n",
       "    * south_width: '10um' -- The width of the 'south' portion of the CPW transmission line\n",
       "    * south_gap: '6um' -- The dielectric gap of the 'south' portion of the CPW transmission line\n",
       "        (also for the capacitor gap to ground)\n",
       "    * cap_width: '10um' -- The width of the finger capacitor metal (and islands)\n",
       "    * cap_gap: '6um' -- The width of dielectric for the capacitive coupling/fingers\n",
       "    * cap_gap_ground: '6um' -- Width of the dielectric between the capacitor and ground\n",
       "    * finger_length: '20um' -- The depth of the finger islands of the capacitor\n",
       "    * finger_count: '5' -- Number of fingers in the capacitor\n",
       "    * cap_distance: '50um' -- Distance of the north point of the capacitor from the north pin\n",
       "\u001b[1;31mInit docstring:\u001b[0m\n",
       "Create a new Metal component and adds it's default_options to the\n",
       "design.\n",
       "\n",
       "Args:\n",
       "    design (QDesign): The parent design.\n",
       "    name (str): Name of the component. Auto-named if possible.\n",
       "    options (dict): User options that will override the defaults.  Defaults to None.\n",
       "    make (bool): True if the make function should be called at the end of the init.\n",
       "        Options be used in the make function to create the geometry.  Defaults to True.\n",
       "    component_template (dict): User can overwrite the template options for the component\n",
       "        that will be stored in the design, in design.template,\n",
       "        and used every time a new component is instantiated.  Defaults to None.\n",
       "\n",
       "Raises:\n",
       "    ValueError: User supplied design isn't a QDesign\n",
       "\n",
       "Note:  Information copied from QDesign class.\n",
       "    self._design.overwrite_enabled (bool):\n",
       "    When True - If the string name, used for component, already\n",
       "    exists in the design, the existing component will be\n",
       "    deleted from design, and new component will be generated\n",
       "    with the same name and newly generated component_id,\n",
       "    and then added to design.\n",
       "\n",
       "    When False - If the string name, used for component, already\n",
       "    exists in the design, the existing component will be\n",
       "    kept in the design, and current component will not be generated,\n",
       "    nor will be added to the design. The variable design.self.status\n",
       "    will still be NotBuilt, as opposed to Initialization Successful.\n",
       "\n",
       "    Either True or False - If string name, used for component, is NOT\n",
       "    being used in the design, a component will be generated and\n",
       "    added to design using the name.\n",
       "\u001b[1;31mFile:\u001b[0m           c:\\programdata\\anaconda3\\envs\\qmetal\\lib\\site-packages\\qiskit_metal\\qlibrary\\lumped\\cap_n_interdigital.py\n",
       "\u001b[1;31mType:\u001b[0m           type\n",
       "\u001b[1;31mSubclasses:\u001b[0m     "
      ]
     },
     "metadata": {},
     "output_type": "display_data"
    }
   ],
   "source": [
    "?CapNInterdigital"
   ]
  },
  {
   "cell_type": "code",
   "execution_count": 23,
   "id": "8e9b4ca5-1c6d-4ee6-973c-c80c9fd0a878",
   "metadata": {},
   "outputs": [],
   "source": [
    "cap_readout_q_1 = CapNInterdigital(design, 'Cap_Readout_Q_1',\n",
    "                                options=dict(\n",
    "                                    pos_x='-4mm',\n",
    "                                    pos_y='3.8mm',\n",
    "                                    orientation='0'\n",
    "                                ))\n",
    "\n",
    "cap_readout_q_2 = CapNInterdigital(design, 'Cap_Readout_Q_2',\n",
    "                                options=dict(\n",
    "                                    pos_x='4mm',\n",
    "                                    pos_y='-3.8mm',\n",
    "                                    orientation='180'\n",
    "                                ))\n",
    "\n",
    "cap_readout_q_3 = CapNInterdigital(design, 'Cap_Readout_Q_3',\n",
    "                                options=dict(\n",
    "                                    pos_x='4mm',\n",
    "                                    pos_y='3.8mm',\n",
    "                                    orientation='0'\n",
    "                                ))\n",
    "\n",
    "cap_readout_q_4 = CapNInterdigital(design, 'Cap_Readout_Q_4',\n",
    "                                options=dict(\n",
    "                                    pos_x='-4mm',\n",
    "                                    pos_y='-3.8mm',\n",
    "                                    orientation='180'\n",
    "                                ))\n",
    "\n",
    "gui.rebuild()\n",
    "gui.autoscale()"
   ]
  },
  {
   "cell_type": "markdown",
   "id": "dfdb05f5-93cb-44bb-bcd5-011e68977cc5",
   "metadata": {},
   "source": [
    "### In order to tune capacitive coupling strength, we can change number of fingers(finger_count) or size of transmission line"
   ]
  },
  {
   "cell_type": "code",
   "execution_count": 24,
   "id": "ff5f4c97-0009-4a39-a81b-eb2945f0588c",
   "metadata": {},
   "outputs": [
    {
     "data": {
      "text/plain": [
       "'8.95050496196293 mm'"
      ]
     },
     "execution_count": 24,
     "metadata": {},
     "output_type": "execute_result"
    }
   ],
   "source": [
    "find_resonator_length(6.8,10,6,2) #Readout_Q1"
   ]
  },
  {
   "cell_type": "code",
   "execution_count": 25,
   "id": "f48df745-d44f-40f1-9392-10fad9d10811",
   "metadata": {},
   "outputs": [
    {
     "data": {
      "text/plain": [
       "'8.694776247529553 mm'"
      ]
     },
     "execution_count": 25,
     "metadata": {},
     "output_type": "execute_result"
    }
   ],
   "source": [
    "find_resonator_length(7,10,6,2) #Readout_Q2"
   ]
  },
  {
   "cell_type": "code",
   "execution_count": 26,
   "id": "b49f7e3b-c4e8-4fc3-8cb4-010ee6634f77",
   "metadata": {},
   "outputs": [
    {
     "data": {
      "text/plain": [
       "'8.453254683870284 mm'"
      ]
     },
     "execution_count": 26,
     "metadata": {},
     "output_type": "execute_result"
    }
   ],
   "source": [
    "find_resonator_length(7.2,10,6,2) #Readout_Q3"
   ]
  },
  {
   "cell_type": "code",
   "execution_count": 27,
   "id": "9a788ca2-0f56-42a8-bc8c-1db671c1c8d9",
   "metadata": {},
   "outputs": [
    {
     "data": {
      "text/plain": [
       "'8.224788339841421 mm'"
      ]
     },
     "execution_count": 27,
     "metadata": {},
     "output_type": "execute_result"
    }
   ],
   "source": [
    "find_resonator_length(7.4,10,6,2) #Readout_Q4"
   ]
  },
  {
   "cell_type": "code",
   "execution_count": 28,
   "id": "e32e34e9-b0b0-435f-b474-4b66fda80e29",
   "metadata": {},
   "outputs": [],
   "source": [
    "jogs_start = OrderedDict()\n",
    "jogs_start[0] = ['R', '350um']\n",
    "jogs_end[0] = ['R', '300um']\n",
    "\n",
    "readout_1 = RouteMeander(design, 'Readout_1', options=dict(\n",
    "                                    hfss_wire_bonds=True,\n",
    "                                    pin_inputs=Dict(\n",
    "                                        start_pin=Dict(\n",
    "                                            component='Q_1',\n",
    "                                            pin='readout'\n",
    "                                        ),\n",
    "                                        end_pin=Dict(\n",
    "                                            component='Cap_Readout_Q_1',\n",
    "                                            pin='south_end'\n",
    "                                        )\n",
    "                                    ),\n",
    "                                    lead=Dict(\n",
    "                                        start_straight='125um',\n",
    "                                        end_straight='125um',\n",
    "                                        start_jogged_extension=jogs_start,\n",
    "                                        end_jogged_extension=jogs_end\n",
    "                                    ),\n",
    "                                    meander=Dict(\n",
    "                                        asymmetry='150um'),\n",
    "                                        fillet='99um',\n",
    "                                        total_length='8.95mm'\n",
    "                                    \n",
    "                                ))\n",
    "\n",
    "\n",
    "\n",
    "\n",
    "\n",
    "readout_2 = RouteMeander(design, 'Readout_2', options=dict(\n",
    "                                    hfss_wire_bonds=True,\n",
    "                                    pin_inputs=Dict(\n",
    "                                        start_pin=Dict(\n",
    "                                            component='Q_2',\n",
    "                                            pin='readout'\n",
    "                                        ),\n",
    "                                        end_pin=Dict(\n",
    "                                            component='Cap_Readout_Q_2',\n",
    "                                            pin='south_end'\n",
    "                                        )\n",
    "                                    ),\n",
    "                                    lead=Dict(\n",
    "                                        start_straight='125um',\n",
    "                                        end_straight='125um',\n",
    "                                        start_jogged_extension=jogs_start,\n",
    "                                        # end_jogged_extension=jogs_end\n",
    "                                    ),\n",
    "                                    meander=Dict(\n",
    "                                        asymmetry='150um'),\n",
    "                                        fillet='99um',\n",
    "                                        total_length='8.69mm'\n",
    "                                    \n",
    "                                ))\n",
    "\n",
    "\n",
    "\n",
    "readout_3 = RouteMeander(design, 'Readout_3', options=dict(\n",
    "                                    hfss_wire_bonds=True,\n",
    "                                    pin_inputs=Dict(\n",
    "                                        start_pin=Dict(\n",
    "                                            component='Q_3',\n",
    "                                            pin='readout'\n",
    "                                        ),\n",
    "                                        end_pin=Dict(\n",
    "                                            component='Cap_Readout_Q_3',\n",
    "                                            pin='south_end'\n",
    "                                        )\n",
    "                                    ),\n",
    "                                    lead=Dict(\n",
    "                                        start_straight='125um',\n",
    "                                        end_straight='125um',\n",
    "                                        start_jogged_extension=jogs_start,\n",
    "                                        # end_jogged_extension=jogs_end\n",
    "                                    ),\n",
    "                                    meander=Dict(\n",
    "                                        asymmetry='150um'),\n",
    "                                        fillet='99um',\n",
    "                                        total_length='8.45mm'\n",
    "                                    \n",
    "                                ))\n",
    "\n",
    "\n",
    "\n",
    "readout_4 = RouteMeander(design, 'Readout_4', options=dict(\n",
    "                                    hfss_wire_bonds=True,\n",
    "                                    pin_inputs=Dict(\n",
    "                                        start_pin=Dict(\n",
    "                                            component='Q_4',\n",
    "                                            pin='readout'\n",
    "                                        ),\n",
    "                                        end_pin=Dict(\n",
    "                                            component='Cap_Readout_Q_4',\n",
    "                                            pin='south_end'\n",
    "                                        )\n",
    "                                    ),\n",
    "                                    lead=Dict(\n",
    "                                        start_straight='125um',\n",
    "                                        end_straight='125um',\n",
    "                                        start_jogged_extension=jogs_start,\n",
    "                                        # end_jogged_extension=jogs_end\n",
    "                                    ),\n",
    "                                    meander=Dict(\n",
    "                                        asymmetry='150um'),\n",
    "                                        fillet='99um',\n",
    "                                        total_length='8.22mm'\n",
    "                                    \n",
    "                                ))\n",
    "\n",
    "gui.rebuild()\n",
    "gui.autoscale()\n"
   ]
  },
  {
   "cell_type": "markdown",
   "id": "cc6ede9f-55f0-4588-90ab-2e62199e89dd",
   "metadata": {},
   "source": [
    "## Flux Line and Charge Line"
   ]
  },
  {
   "cell_type": "code",
   "execution_count": 29,
   "id": "0e109acc-29cd-461e-ba76-736b80bbd991",
   "metadata": {},
   "outputs": [
    {
     "data": {
      "text/plain": [
       "{'Charge_Line', 'bus_13', 'bus_14', 'readout'}"
      ]
     },
     "execution_count": 29,
     "metadata": {},
     "output_type": "execute_result"
    }
   ],
   "source": [
    "Q_1.pin_names"
   ]
  },
  {
   "cell_type": "code",
   "execution_count": 30,
   "id": "09d2d29f-ca20-4719-b2ba-338eb45db3fd",
   "metadata": {},
   "outputs": [
    {
     "data": {
      "text/plain": [
       "{'bus_13', 'bus_23', 'flux_line', 'readout'}"
      ]
     },
     "execution_count": 30,
     "metadata": {},
     "output_type": "execute_result"
    }
   ],
   "source": [
    "Q_3.pin_names"
   ]
  },
  {
   "cell_type": "code",
   "execution_count": 31,
   "id": "386e4da9-4a75-496d-a0b0-2e1f05836853",
   "metadata": {},
   "outputs": [],
   "source": [
    "jogs_start = OrderedDict()\n",
    "jogs_start[0] = ['R', '350um']\n",
    "jogs_end[0] = ['R', '100um']\n",
    "\n",
    "\n",
    "charge_line_q_1 = RoutePathfinder(design, 'Charge_Line_Q_1', options = dict(\n",
    "                                            hfss_wire_bonds = True,\n",
    "                                            fillet='99um',\n",
    "                                            trace_width = '5um',\n",
    "                                            trace_gap = '3um',\n",
    "    \n",
    "                                            lead=dict(\n",
    "                                                start_straight='125um',\n",
    "                                                end_straight='125um',\n",
    "                                                start_jogged_extension=jogs_start,\n",
    "                                                #end_jogged_extension=jogs_end\n",
    "                                                #end_straight='150um'\n",
    "                                                ),\n",
    "                                            pin_inputs=Dict(\n",
    "                                                start_pin=Dict(\n",
    "                                                    component='Launch_CL_Q_1',\n",
    "                                                    pin='tie'),\n",
    "                                                end_pin=Dict(\n",
    "                                                    component='Q_1',\n",
    "                                                    pin='Charge_Line')\n",
    "                                            )))\n",
    "\n",
    "\n",
    "\n",
    "\n",
    "\n",
    "charge_line_q_2 = RoutePathfinder(design, 'Charge_Line_Q_2', options = dict(\n",
    "                                            hfss_wire_bonds = True,\n",
    "                                            fillet='99um',\n",
    "                                            trace_width = '5um',\n",
    "                                            trace_gap = '3um',\n",
    "    \n",
    "                                            lead=dict(\n",
    "                                                start_straight='125um',\n",
    "                                                end_straight='125um',\n",
    "                                                start_jogged_extension=jogs_start,\n",
    "                                            ),\n",
    "                                            pin_inputs=Dict(\n",
    "                                                start_pin=Dict(\n",
    "                                                    component='Launch_CL_Q_2',\n",
    "                                                    pin='tie'),\n",
    "                                                end_pin=Dict(\n",
    "                                                    component='Q_2',\n",
    "                                                    pin='Charge_Line')\n",
    "                                            )))\n",
    "\n",
    "flux_line_q_3 = RoutePathfinder(design, 'Flux_Line_Q_3', options = dict(\n",
    "                                            hfss_wire_bonds = True,\n",
    "                                            pin_inputs=Dict(\n",
    "                                                start_pin=Dict(\n",
    "                                                    component='Q_3',\n",
    "                                                    pin='flux_line'\n",
    "                                                ),\n",
    "                                                end_pin=Dict(\n",
    "                                                    component='Launch_FL_Q_3',\n",
    "                                                    pin='tie'\n",
    "                                                )\n",
    "                                            ),\n",
    "                                            fillet = '99um',\n",
    "                                            trace_width = '5um',\n",
    "                                            trace_gap = '3um'\n",
    "                                        ))\n",
    "flux_line_q_4 = RoutePathfinder(design, 'Flux_Line_Q_4', options = dict(\n",
    "                                            hfss_wire_bonds = True,\n",
    "                                            pin_inputs=Dict(\n",
    "                                                start_pin=Dict(\n",
    "                                                    component='Q_4',\n",
    "                                                    pin='flux_line'\n",
    "                                                ),\n",
    "                                                end_pin=Dict(\n",
    "                                                    component='Launch_FL_Q_4',\n",
    "                                                    pin='tie'\n",
    "                                                )\n",
    "                                            ),\n",
    "                                            fillet = '99um',\n",
    "                                            trace_width = '5um',\n",
    "                                            trace_gap = '3um'\n",
    "                                        ))\n",
    "\n",
    "gui.rebuild()\n",
    "gui.autoscale()"
   ]
  },
  {
   "cell_type": "code",
   "execution_count": 32,
   "id": "dc0e4394-7279-4b69-aa14-59a44bae6cf7",
   "metadata": {},
   "outputs": [],
   "source": [
    "tl_readout_q_1 = RouteStraight(design, 'TL_Readout_Q_1', options = dict(\n",
    "                                            hfss_wire_bonds = True,\n",
    "                                            pin_inputs=Dict(\n",
    "                                                start_pin=Dict(\n",
    "                                                    component='Cap_Readout_Q_1',\n",
    "                                                    pin='north_end'\n",
    "                                                ),\n",
    "                                                end_pin=Dict(\n",
    "                                                    component='Launch_Readout_Q_1',\n",
    "                                                    pin='tie'\n",
    "                                                )\n",
    "                                            ),\n",
    "                                            trace_width = '10um',\n",
    "                                            trace_gap = '6um'\n",
    "                                        ))\n",
    "tl_readout_q_2 = RouteStraight(design, 'TL_Readout_Q_2', options = dict(\n",
    "                                            hfss_wire_bonds = True,\n",
    "                                            pin_inputs=Dict(\n",
    "                                                start_pin=Dict(\n",
    "                                                    component='Cap_Readout_Q_2',\n",
    "                                                    pin='north_end'\n",
    "                                                ),\n",
    "                                                end_pin=Dict(\n",
    "                                                    component='Launch_Readout_Q_2',\n",
    "                                                    pin='tie'\n",
    "                                                )\n",
    "                                            ),\n",
    "                                            trace_width = '10um',\n",
    "                                            trace_gap = '6um'\n",
    "                                        ))\n",
    "\n",
    "tl_readout_q_3 = RouteStraight(design, 'TL_Readout_Q_3', options = dict(\n",
    "                                            hfss_wire_bonds = True,\n",
    "                                            pin_inputs=Dict(\n",
    "                                                start_pin=Dict(\n",
    "                                                    component='Cap_Readout_Q_3',\n",
    "                                                    pin='north_end'\n",
    "                                                ),\n",
    "                                                end_pin=Dict(\n",
    "                                                    component='Launch_Readout_Q_3',\n",
    "                                                    pin='tie'\n",
    "                                                )\n",
    "                                            ),\n",
    "                                            trace_width = '10um',\n",
    "                                            trace_gap = '6um'\n",
    "                                        ))\n",
    "\n",
    "tl_readout_q_4 = RouteStraight(design, 'TL_Readout_Q_4', options = dict(\n",
    "                                            hfss_wire_bonds = True,\n",
    "                                            pin_inputs=Dict(\n",
    "                                                start_pin=Dict(\n",
    "                                                    component='Cap_Readout_Q_4',\n",
    "                                                    pin='north_end'\n",
    "                                                ),\n",
    "                                                end_pin=Dict(\n",
    "                                                    component='Launch_Readout_Q_4',\n",
    "                                                    pin='tie'\n",
    "                                                )\n",
    "                                            ),\n",
    "                                            trace_width = '10um',\n",
    "                                            trace_gap = '6um'\n",
    "                                        ))\n",
    "\n",
    "gui.rebuild()\n",
    "gui.autoscale()"
   ]
  },
  {
   "cell_type": "code",
   "execution_count": 33,
   "id": "95b2bdb0-3fdc-4abd-bb1d-a6c7943fe964",
   "metadata": {},
   "outputs": [
    {
     "data": {
      "image/png": "[encoded data removed]",
      "text/plain": [
       "<IPython.core.display.Image object>"
      ]
     },
     "metadata": {
      "image/png": {
       "width": 500
      }
     },
     "output_type": "display_data"
    }
   ],
   "source": [
    "gui.screenshot()"
   ]
  },
  {
   "cell_type": "markdown",
   "id": "f08b4bfa-62fa-4cb2-886a-461a5e5e5083",
   "metadata": {},
   "source": [
    "## Target Parameters:\n",
    "<br> qubit frequency - Q1 = 4.8, Q2 = 5, Q3 = 5.2, Q4 = 5.4 GHz\n",
    "<br> qubit anharmonicity >= 300 MHz\n",
    "<br> qubit - bus coupling (g) ~ 80 MHz\n",
    "<br> qubit - readout coupling (chi) ~ 1 MHz\n",
    "<br> bus frequency - bus_13 = 5.8, bus_23 = 6, bus_24 = 6.2, bus_14 = 6.4 GHz\n",
    "<br> readout_frequencies - 6.8, 7, 7.2, 7.4 GHz\n",
    "<br> readout coupling to external lines, Q_external ~ 2000\n"
   ]
  },
  {
   "cell_type": "markdown",
   "id": "86aceb1e-9c62-4845-8d15-0642b6d44887",
   "metadata": {},
   "source": [
    "## Simulation LOM"
   ]
  },
  {
   "cell_type": "markdown",
   "id": "b9114409-97d8-4a29-95e6-9505c032bc5e",
   "metadata": {},
   "source": [
    "All the qubit parameters will be tuned initially via a capacitance matrix and lumped oscillator model. This is comparatively less accurate but faster method"
   ]
  },
  {
   "cell_type": "markdown",
   "id": "6a108de9-2345-4165-a868-9146a79741fe",
   "metadata": {},
   "source": [
    "Qubit frequency depends on Josephson Junction that we will fabricate later on.\n",
    "<br> Anharmonicity of qubit depends on actual layout of the qubit, conductive material.\n",
    "<br> Coupling strength (chi, g) depends on capacitive coupling between the conductioon paths and charge islands in this case."
   ]
  },
  {
   "cell_type": "markdown",
   "id": "9763c19b-52f8-4a25-837c-8e946bd3b9c4",
   "metadata": {},
   "source": [
    "### Tuning the Qubits"
   ]
  },
  {
   "cell_type": "code",
   "execution_count": 34,
   "id": "e7edce5a-6363-4736-894a-097a691b2d2c",
   "metadata": {},
   "outputs": [],
   "source": [
    "from qiskit_metal.analyses.quantization import LOManalysis"
   ]
  },
  {
   "cell_type": "code",
   "execution_count": 35,
   "id": "e0ec1471-48b8-4247-9533-c4f59b4a13cd",
   "metadata": {},
   "outputs": [],
   "source": [
    "c1 = LOManalysis(design, \"q3d\")"
   ]
  },
  {
   "cell_type": "code",
   "execution_count": 36,
   "id": "06ca1dc3-807b-4438-b818-4ae7f6735dd3",
   "metadata": {},
   "outputs": [
    {
     "data": {
      "text/plain": [
       "{'name': 'Setup',\n",
       " 'reuse_selected_design': True,\n",
       " 'reuse_setup': True,\n",
       " 'freq_ghz': 5.0,\n",
       " 'save_fields': False,\n",
       " 'enabled': True,\n",
       " 'max_passes': 15,\n",
       " 'min_passes': 2,\n",
       " 'min_converged_passes': 2,\n",
       " 'percent_error': 0.5,\n",
       " 'percent_refinement': 30,\n",
       " 'auto_increase_solution_order': True,\n",
       " 'solution_order': 'High',\n",
       " 'solver_type': 'Iterative'}"
      ]
     },
     "execution_count": 36,
     "metadata": {},
     "output_type": "execute_result"
    }
   ],
   "source": [
    "c1.sim.setup"
   ]
  },
  {
   "cell_type": "markdown",
   "id": "2eeb7aa4-eec7-4659-9381-724eb7582c4c",
   "metadata": {},
   "source": [
    "c1.sim.setup.name = 'Tune_Q_1'\n",
    "c1.sim.setup.freq_ghz = 4.8\n",
    "c1.sim.setup.max_passes = 16\n",
    "c1.sim.setup.min_converged_passes = 2\n",
    "c1.sim.setup.percent_error = 0.05\n",
    "c1.sim.setup"
   ]
  },
  {
   "cell_type": "code",
   "execution_count": 37,
   "id": "304d5971-de2a-4343-a496-be68b8780e49",
   "metadata": {},
   "outputs": [
    {
     "data": {
      "text/plain": [
       "\u001b[1;31mSignature:\u001b[0m \u001b[0mc1\u001b[0m\u001b[1;33m.\u001b[0m\u001b[0msim\u001b[0m\u001b[1;33m.\u001b[0m\u001b[0mrun\u001b[0m\u001b[1;33m(\u001b[0m\u001b[1;33m*\u001b[0m\u001b[0margs\u001b[0m\u001b[1;33m,\u001b[0m \u001b[1;33m**\u001b[0m\u001b[0mkwargs\u001b[0m\u001b[1;33m)\u001b[0m\u001b[1;33m\u001b[0m\u001b[1;33m\u001b[0m\u001b[0m\n",
       "\u001b[1;31mDocstring:\u001b[0m\n",
       "Alias for run_sim() necessary to implement super-class method, while\n",
       "preventing method name collision when sim and non-sim QAnalysis classes are inherited.\n",
       "\u001b[1;31mFile:\u001b[0m      c:\\programdata\\anaconda3\\envs\\qmetal\\lib\\site-packages\\qiskit_metal\\analyses\\core\\simulation.py\n",
       "\u001b[1;31mType:\u001b[0m      method"
      ]
     },
     "metadata": {},
     "output_type": "display_data"
    }
   ],
   "source": [
    "?c1.sim.run"
   ]
  },
  {
   "cell_type": "code",
   "execution_count": 39,
   "id": "6ffd3bd0-b396-459a-8648-b434cc736699",
   "metadata": {},
   "outputs": [
    {
     "data": {
      "text/plain": [
       "dict_keys(['readout', 'bus_13', 'bus_14', 'Charge_Line'])"
      ]
     },
     "execution_count": 39,
     "metadata": {},
     "output_type": "execute_result"
    }
   ],
   "source": [
    "Q_1.pins.keys()"
   ]
  },
  {
   "cell_type": "code",
   "execution_count": 40,
   "id": "1d9095b5-eb6e-4499-bac2-8ec3e0c60344",
   "metadata": {},
   "outputs": [
    {
     "name": "stderr",
     "output_type": "stream",
     "text": [
      "INFO 02:30PM [connect_project]: Connecting to Ansys Desktop API...\n",
      "INFO 02:30PM [load_ansys_project]: \tOpened Ansys App\n",
      "INFO 02:30PM [load_ansys_project]: \tOpened Ansys Desktop v2024.1.0\n",
      "INFO 02:30PM [load_ansys_project]: \tOpened Ansys Project\n",
      "\tFolder:    C:/Users/user/Documents/Ansoft/\n",
      "\tProject:   Project5\n",
      "INFO 02:30PM [connect_design]: No active design found (or error getting active design).\n",
      "INFO 02:30PM [connect]: \t Connected to project \"Project5\". No design detected\n",
      "INFO 02:30PM [connect_design]: \tOpened active design\n",
      "\tDesign:    Q_1_q3d [Solution type: Q3D]\n",
      "WARNING 02:30PM [connect_setup]: \tNo design setup detected.\n",
      "WARNING 02:30PM [connect_setup]: \tCreating Q3D default setup.\n",
      "INFO 02:30PM [get_setup]: \tOpened setup `Setup`  (<class 'pyEPR.ansys.AnsysQ3DSetup'>)\n",
      "INFO 02:30PM [get_setup]: \tOpened setup `Tune_Q_1`  (<class 'pyEPR.ansys.AnsysQ3DSetup'>)\n",
      "INFO 02:30PM [analyze]: Analyzing setup Tune_Q_1\n",
      "INFO 02:34PM [get_matrix]: Exporting matrix data to (C:\\Users\\user\\AppData\\Local\\Temp\\tmpslib9_nf.txt, C, , Tune_Q_1:LastAdaptive, \"Original\", \"ohm\", \"nH\", \"fF\", \"mSie\", 4800000000, Maxwell, 1, False\n",
      "INFO 02:34PM [get_matrix]: Exporting matrix data to (C:\\Users\\user\\AppData\\Local\\Temp\\tmpvklp1wle.txt, C, , Tune_Q_1:AdaptivePass, \"Original\", \"ohm\", \"nH\", \"fF\", \"mSie\", 4800000000, Maxwell, 1, False\n",
      "INFO 02:34PM [get_matrix]: Exporting matrix data to (C:\\Users\\user\\AppData\\Local\\Temp\\tmpf2o1jkpk.txt, C, , Tune_Q_1:AdaptivePass, \"Original\", \"ohm\", \"nH\", \"fF\", \"mSie\", 4800000000, Maxwell, 2, False\n",
      "INFO 02:34PM [get_matrix]: Exporting matrix data to (C:\\Users\\user\\AppData\\Local\\Temp\\tmpn13okxtq.txt, C, , Tune_Q_1:AdaptivePass, \"Original\", \"ohm\", \"nH\", \"fF\", \"mSie\", 4800000000, Maxwell, 3, False\n",
      "INFO 02:34PM [get_matrix]: Exporting matrix data to (C:\\Users\\user\\AppData\\Local\\Temp\\tmp0ar_lgug.txt, C, , Tune_Q_1:AdaptivePass, \"Original\", \"ohm\", \"nH\", \"fF\", \"mSie\", 4800000000, Maxwell, 4, False\n",
      "INFO 02:34PM [get_matrix]: Exporting matrix data to (C:\\Users\\user\\AppData\\Local\\Temp\\tmpf2r5yfco.txt, C, , Tune_Q_1:AdaptivePass, \"Original\", \"ohm\", \"nH\", \"fF\", \"mSie\", 4800000000, Maxwell, 5, False\n",
      "INFO 02:34PM [get_matrix]: Exporting matrix data to (C:\\Users\\user\\AppData\\Local\\Temp\\tmpvcy842kq.txt, C, , Tune_Q_1:AdaptivePass, \"Original\", \"ohm\", \"nH\", \"fF\", \"mSie\", 4800000000, Maxwell, 6, False\n",
      "INFO 02:34PM [get_matrix]: Exporting matrix data to (C:\\Users\\user\\AppData\\Local\\Temp\\tmpl0blvpzj.txt, C, , Tune_Q_1:AdaptivePass, \"Original\", \"ohm\", \"nH\", \"fF\", \"mSie\", 4800000000, Maxwell, 7, False\n",
      "INFO 02:34PM [get_matrix]: Exporting matrix data to (C:\\Users\\user\\AppData\\Local\\Temp\\tmp4bdmn6g1.txt, C, , Tune_Q_1:AdaptivePass, \"Original\", \"ohm\", \"nH\", \"fF\", \"mSie\", 4800000000, Maxwell, 8, False\n",
      "INFO 02:34PM [get_matrix]: Exporting matrix data to (C:\\Users\\user\\AppData\\Local\\Temp\\tmp8n1tmwhj.txt, C, , Tune_Q_1:AdaptivePass, \"Original\", \"ohm\", \"nH\", \"fF\", \"mSie\", 4800000000, Maxwell, 9, False\n",
      "INFO 02:34PM [get_matrix]: Exporting matrix data to (C:\\Users\\user\\AppData\\Local\\Temp\\tmpm05rmawd.txt, C, , Tune_Q_1:AdaptivePass, \"Original\", \"ohm\", \"nH\", \"fF\", \"mSie\", 4800000000, Maxwell, 10, False\n",
      "INFO 02:34PM [get_matrix]: Exporting matrix data to (C:\\Users\\user\\AppData\\Local\\Temp\\tmpeqw0ie0h.txt, C, , Tune_Q_1:AdaptivePass, \"Original\", \"ohm\", \"nH\", \"fF\", \"mSie\", 4800000000, Maxwell, 11, False\n",
      "INFO 02:34PM [get_matrix]: Exporting matrix data to (C:\\Users\\user\\AppData\\Local\\Temp\\tmp2k7d60lo.txt, C, , Tune_Q_1:AdaptivePass, \"Original\", \"ohm\", \"nH\", \"fF\", \"mSie\", 4800000000, Maxwell, 12, False\n",
      "INFO 02:34PM [get_matrix]: Exporting matrix data to (C:\\Users\\user\\AppData\\Local\\Temp\\tmpofyv2_h5.txt, C, , Tune_Q_1:AdaptivePass, \"Original\", \"ohm\", \"nH\", \"fF\", \"mSie\", 4800000000, Maxwell, 13, False\n",
      "INFO 02:34PM [get_matrix]: Exporting matrix data to (C:\\Users\\user\\AppData\\Local\\Temp\\tmpmc42pwvv.txt, C, , Tune_Q_1:AdaptivePass, \"Original\", \"ohm\", \"nH\", \"fF\", \"mSie\", 4800000000, Maxwell, 14, False\n",
      "INFO 02:34PM [get_matrix]: Exporting matrix data to (C:\\Users\\user\\AppData\\Local\\Temp\\tmpv4isl_hl.txt, C, , Tune_Q_1:AdaptivePass, \"Original\", \"ohm\", \"nH\", \"fF\", \"mSie\", 4800000000, Maxwell, 15, False\n",
      "INFO 02:34PM [get_matrix]: Exporting matrix data to (C:\\Users\\user\\AppData\\Local\\Temp\\tmpxbcyfhhd.txt, C, , Tune_Q_1:AdaptivePass, \"Original\", \"ohm\", \"nH\", \"fF\", \"mSie\", 4800000000, Maxwell, 16, False\n",
      "INFO 02:34PM [get_matrix]: Exporting matrix data to (C:\\Users\\user\\AppData\\Local\\Temp\\tmp3co8i6l9.txt, C, , Tune_Q_1:AdaptivePass, \"Original\", \"ohm\", \"nH\", \"fF\", \"mSie\", 4800000000, Maxwell, 17, False\n"
     ]
    }
   ],
   "source": [
    "c1.sim.run(name=\"Q_1\", components=['Q_1'], open_terminations=[('Q_1', 'readout'), ('Q_1', 'bus_13'),('Q_1', 'bus_14'), ('Q_1', 'Charge_Line')])"
   ]
  },
  {
   "cell_type": "code",
   "execution_count": 41,
   "id": "b26e6555-cffc-43fa-862d-598bcbce6953",
   "metadata": {},
   "outputs": [
    {
     "data": {
      "text/html": [
       "<div>\n",
       "<style scoped>\n",
       "    .dataframe tbody tr th:only-of-type {\n",
       "        vertical-align: middle;\n",
       "    }\n",
       "\n",
       "    .dataframe tbody tr th {\n",
       "        vertical-align: top;\n",
       "    }\n",
       "\n",
       "    .dataframe thead th {\n",
       "        text-align: right;\n",
       "    }\n",
       "</style>\n",
       "<table border=\"1\" class=\"dataframe\">\n",
       "  <thead>\n",
       "    <tr style=\"text-align: right;\">\n",
       "      <th></th>\n",
       "      <th>bus_13_connector_pad_Q_1</th>\n",
       "      <th>bus_14_connector_pad_Q_1</th>\n",
       "      <th>cl_metal_Q_1</th>\n",
       "      <th>ground_main_plane</th>\n",
       "      <th>pad_bot_Q_1</th>\n",
       "      <th>pad_top_Q_1</th>\n",
       "      <th>readout_connector_pad_Q_1</th>\n",
       "    </tr>\n",
       "  </thead>\n",
       "  <tbody>\n",
       "    <tr>\n",
       "      <th>bus_13_connector_pad_Q_1</th>\n",
       "      <td>42.53696</td>\n",
       "      <td>-0.21103</td>\n",
       "      <td>-0.00638</td>\n",
       "      <td>-31.08009</td>\n",
       "      <td>-1.14864</td>\n",
       "      <td>-9.29584</td>\n",
       "      <td>-0.16382</td>\n",
       "    </tr>\n",
       "    <tr>\n",
       "      <th>bus_14_connector_pad_Q_1</th>\n",
       "      <td>-0.21103</td>\n",
       "      <td>42.53686</td>\n",
       "      <td>-0.00582</td>\n",
       "      <td>-31.14094</td>\n",
       "      <td>-9.34278</td>\n",
       "      <td>-1.13033</td>\n",
       "      <td>-0.07507</td>\n",
       "    </tr>\n",
       "    <tr>\n",
       "      <th>cl_metal_Q_1</th>\n",
       "      <td>-0.00638</td>\n",
       "      <td>-0.00582</td>\n",
       "      <td>16.52872</td>\n",
       "      <td>-15.97661</td>\n",
       "      <td>-0.14199</td>\n",
       "      <td>-0.20620</td>\n",
       "      <td>-0.11511</td>\n",
       "    </tr>\n",
       "    <tr>\n",
       "      <th>ground_main_plane</th>\n",
       "      <td>-31.08009</td>\n",
       "      <td>-31.14094</td>\n",
       "      <td>-15.97661</td>\n",
       "      <td>249.29469</td>\n",
       "      <td>-40.82433</td>\n",
       "      <td>-37.74708</td>\n",
       "      <td>-34.13436</td>\n",
       "    </tr>\n",
       "    <tr>\n",
       "      <th>pad_bot_Q_1</th>\n",
       "      <td>-1.14864</td>\n",
       "      <td>-9.34278</td>\n",
       "      <td>-0.14199</td>\n",
       "      <td>-40.82433</td>\n",
       "      <td>88.30486</td>\n",
       "      <td>-32.76215</td>\n",
       "      <td>-1.19847</td>\n",
       "    </tr>\n",
       "    <tr>\n",
       "      <th>pad_top_Q_1</th>\n",
       "      <td>-9.29584</td>\n",
       "      <td>-1.13033</td>\n",
       "      <td>-0.20620</td>\n",
       "      <td>-37.74708</td>\n",
       "      <td>-32.76215</td>\n",
       "      <td>90.10237</td>\n",
       "      <td>-6.18107</td>\n",
       "    </tr>\n",
       "    <tr>\n",
       "      <th>readout_connector_pad_Q_1</th>\n",
       "      <td>-0.16382</td>\n",
       "      <td>-0.07507</td>\n",
       "      <td>-0.11511</td>\n",
       "      <td>-34.13436</td>\n",
       "      <td>-1.19847</td>\n",
       "      <td>-6.18107</td>\n",
       "      <td>42.63760</td>\n",
       "    </tr>\n",
       "  </tbody>\n",
       "</table>\n",
       "</div>"
      ],
      "text/plain": [
       "                           bus_13_connector_pad_Q_1  bus_14_connector_pad_Q_1  \\\n",
       "bus_13_connector_pad_Q_1                   42.53696                  -0.21103   \n",
       "bus_14_connector_pad_Q_1                   -0.21103                  42.53686   \n",
       "cl_metal_Q_1                               -0.00638                  -0.00582   \n",
       "ground_main_plane                         -31.08009                 -31.14094   \n",
       "pad_bot_Q_1                                -1.14864                  -9.34278   \n",
       "pad_top_Q_1                                -9.29584                  -1.13033   \n",
       "readout_connector_pad_Q_1                  -0.16382                  -0.07507   \n",
       "\n",
       "                           cl_metal_Q_1  ground_main_plane  pad_bot_Q_1  \\\n",
       "bus_13_connector_pad_Q_1       -0.00638          -31.08009     -1.14864   \n",
       "bus_14_connector_pad_Q_1       -0.00582          -31.14094     -9.34278   \n",
       "cl_metal_Q_1                   16.52872          -15.97661     -0.14199   \n",
       "ground_main_plane             -15.97661          249.29469    -40.82433   \n",
       "pad_bot_Q_1                    -0.14199          -40.82433     88.30486   \n",
       "pad_top_Q_1                    -0.20620          -37.74708    -32.76215   \n",
       "readout_connector_pad_Q_1      -0.11511          -34.13436     -1.19847   \n",
       "\n",
       "                           pad_top_Q_1  readout_connector_pad_Q_1  \n",
       "bus_13_connector_pad_Q_1      -9.29584                   -0.16382  \n",
       "bus_14_connector_pad_Q_1      -1.13033                   -0.07507  \n",
       "cl_metal_Q_1                  -0.20620                   -0.11511  \n",
       "ground_main_plane            -37.74708                  -34.13436  \n",
       "pad_bot_Q_1                  -32.76215                   -1.19847  \n",
       "pad_top_Q_1                   90.10237                   -6.18107  \n",
       "readout_connector_pad_Q_1     -6.18107                   42.63760  "
      ]
     },
     "execution_count": 41,
     "metadata": {},
     "output_type": "execute_result"
    }
   ],
   "source": [
    "c1.sim.capacitance_matrix"
   ]
  },
  {
   "cell_type": "code",
   "execution_count": 42,
   "id": "5762b760-9f59-4b1a-bb73-b57cc6ac9227",
   "metadata": {},
   "outputs": [],
   "source": [
    "c1.setup.junctions = Dict({'Lj': 14.9, 'Cj': 2})\n",
    "c1.setup.freq_readout = 6.8\n",
    "c1.setup.freq_bus = [5.8, 6, 8]  "
   ]
  },
  {
   "cell_type": "code",
   "execution_count": 43,
   "id": "5af1e1b2-b9a5-441a-8b65-84687b801183",
   "metadata": {},
   "outputs": [
    {
     "name": "stdout",
     "output_type": "stream",
     "text": [
      "[4, 5] [6 0 1 2]\n",
      "Predicted Values\n",
      "\n",
      "Transmon Properties\n",
      "f_Q 4.917796 [GHz]\n",
      "EC 314.666930 [MHz]\n",
      "EJ 10.966148 [GHz]\n",
      "alpha -375.093355 [MHz]\n",
      "dispersion 206.298818 [KHz]\n",
      "Lq 14.893992 [nH]\n",
      "Cq 61.557877 [fF]\n",
      "T1 363.020158 [us]\n",
      "\n",
      "**Coupling Properties**\n",
      "\n",
      "tCqbus1 -2.425765 [fF]\n",
      "gbus1_in_MHz -35.141466 [MHz]\n",
      "χ_bus1 -0.225019 [MHz]\n",
      "1/T1bus1 167.003043 [Hz]\n",
      "T1bus1 953.006247 [us]\n",
      "\n",
      "tCqbus2 -3.980846 [fF]\n",
      "gbus2_in_MHz -49.169869 [MHz]\n",
      "χ_bus2 -1.651522 [MHz]\n",
      "1/T1bus2 151.732290 [Hz]\n",
      "T1bus2 1048.919403 [us]\n",
      "\n",
      "tCqbus3 4.199233 [fF]\n",
      "gbus3_in_MHz 53.651679 [MHz]\n",
      "χ_bus3 -1.387998 [MHz]\n",
      "1/T1bus3 119.682491 [Hz]\n",
      "T1bus3 1329.809750 [us]\n",
      "\n",
      "tCqbus4 -0.029013 [fF]\n",
      "gbus4_in_MHz -0.495589 [MHz]\n",
      "χ_bus4 -0.000018 [MHz]\n",
      "1/T1bus4 0.001199 [Hz]\n",
      "T1bus4 132734844.852724 [us]\n",
      "Bus-Bus Couplings\n",
      "gbus1_2 2.170039 [MHz]\n",
      "gbus1_3 2.023545 [MHz]\n",
      "gbus1_4 0.476598 [MHz]\n",
      "gbus2_3 2.665936 [MHz]\n",
      "gbus2_4 0.117611 [MHz]\n",
      "gbus3_4 0.120219 [MHz]\n"
     ]
    },
    {
     "data": {
      "text/html": [
       "<div>\n",
       "<style scoped>\n",
       "    .dataframe tbody tr th:only-of-type {\n",
       "        vertical-align: middle;\n",
       "    }\n",
       "\n",
       "    .dataframe tbody tr th {\n",
       "        vertical-align: top;\n",
       "    }\n",
       "\n",
       "    .dataframe thead th {\n",
       "        text-align: right;\n",
       "    }\n",
       "</style>\n",
       "<table border=\"1\" class=\"dataframe\">\n",
       "  <thead>\n",
       "    <tr style=\"text-align: right;\">\n",
       "      <th></th>\n",
       "      <th>fQ</th>\n",
       "      <th>EC</th>\n",
       "      <th>EJ</th>\n",
       "      <th>alpha</th>\n",
       "      <th>dispersion</th>\n",
       "      <th>gbus</th>\n",
       "      <th>chi_in_MHz</th>\n",
       "      <th>χr MHz</th>\n",
       "      <th>gr MHz</th>\n",
       "    </tr>\n",
       "  </thead>\n",
       "  <tbody>\n",
       "    <tr>\n",
       "      <th>1</th>\n",
       "      <td>5.289056</td>\n",
       "      <td>368.487199</td>\n",
       "      <td>10.966148</td>\n",
       "      <td>-448.465789</td>\n",
       "      <td>690.604044</td>\n",
       "      <td>[-31.774496156217896, -45.03844604649601, 40.3...</td>\n",
       "      <td>[-0.3123093965996632, -3.7269145010157825, -1....</td>\n",
       "      <td>0.312309</td>\n",
       "      <td>31.774496</td>\n",
       "    </tr>\n",
       "    <tr>\n",
       "      <th>2</th>\n",
       "      <td>5.213884</td>\n",
       "      <td>357.180871</td>\n",
       "      <td>10.966148</td>\n",
       "      <td>-432.805828</td>\n",
       "      <td>548.46596</td>\n",
       "      <td>[-34.39714654832053, -45.39244390546804, 48.34...</td>\n",
       "      <td>[-0.32718667185908906, -3.001824857808574, -2....</td>\n",
       "      <td>0.327187</td>\n",
       "      <td>34.397147</td>\n",
       "    </tr>\n",
       "    <tr>\n",
       "      <th>3</th>\n",
       "      <td>5.133449</td>\n",
       "      <td>345.315164</td>\n",
       "      <td>10.966148</td>\n",
       "      <td>-416.514456</td>\n",
       "      <td>425.346047</td>\n",
       "      <td>[-34.00000382385623, -46.45701401585289, 50.49...</td>\n",
       "      <td>[-0.28440038141426977, -2.506067541076813, -1....</td>\n",
       "      <td>0.284400</td>\n",
       "      <td>34.000004</td>\n",
       "    </tr>\n",
       "    <tr>\n",
       "      <th>4</th>\n",
       "      <td>5.068359</td>\n",
       "      <td>335.887058</td>\n",
       "      <td>10.966148</td>\n",
       "      <td>-403.672527</td>\n",
       "      <td>344.170679</td>\n",
       "      <td>[-34.11279711985558, -47.06784046064517, 50.87...</td>\n",
       "      <td>[-0.2609869707197266, -2.1689744976184873, -1....</td>\n",
       "      <td>0.260987</td>\n",
       "      <td>34.112797</td>\n",
       "    </tr>\n",
       "    <tr>\n",
       "      <th>5</th>\n",
       "      <td>5.032646</td>\n",
       "      <td>330.779715</td>\n",
       "      <td>10.966148</td>\n",
       "      <td>-396.753248</td>\n",
       "      <td>305.689167</td>\n",
       "      <td>[-34.05776422472714, -47.53961977600745, 51.73...</td>\n",
       "      <td>[-0.24744899317393237, -2.0234464509848946, -1...</td>\n",
       "      <td>0.247449</td>\n",
       "      <td>34.057764</td>\n",
       "    </tr>\n",
       "    <tr>\n",
       "      <th>6</th>\n",
       "      <td>4.995239</td>\n",
       "      <td>325.479577</td>\n",
       "      <td>10.966148</td>\n",
       "      <td>-389.600243</td>\n",
       "      <td>269.485894</td>\n",
       "      <td>[-34.21313559513416, -47.32047625930678, 51.37...</td>\n",
       "      <td>[-0.2370866865170054, -1.8308177702597421, -1....</td>\n",
       "      <td>0.237087</td>\n",
       "      <td>34.213136</td>\n",
       "    </tr>\n",
       "    <tr>\n",
       "      <th>7</th>\n",
       "      <td>4.978331</td>\n",
       "      <td>323.100494</td>\n",
       "      <td>10.966148</td>\n",
       "      <td>-386.398492</td>\n",
       "      <td>254.399358</td>\n",
       "      <td>[-34.54205453001084, -47.74407192422917, 52.16...</td>\n",
       "      <td>[-0.23610643748860669, -1.790391758259709, -1....</td>\n",
       "      <td>0.236106</td>\n",
       "      <td>34.542055</td>\n",
       "    </tr>\n",
       "    <tr>\n",
       "      <th>8</th>\n",
       "      <td>4.959067</td>\n",
       "      <td>320.402413</td>\n",
       "      <td>10.966148</td>\n",
       "      <td>-382.774169</td>\n",
       "      <td>238.120599</td>\n",
       "      <td>[-34.58728110419293, -47.90776606607217, 52.28...</td>\n",
       "      <td>[-0.23055818818163454, -1.72317839294403, -1.4...</td>\n",
       "      <td>0.230558</td>\n",
       "      <td>34.587281</td>\n",
       "    </tr>\n",
       "    <tr>\n",
       "      <th>9</th>\n",
       "      <td>4.947665</td>\n",
       "      <td>318.811841</td>\n",
       "      <td>10.966148</td>\n",
       "      <td>-380.6409</td>\n",
       "      <td>228.924417</td>\n",
       "      <td>[-34.73135715920614, -48.18152314049909, 52.57...</td>\n",
       "      <td>[-0.2288935172049823, -1.6975356598906342, -1....</td>\n",
       "      <td>0.228894</td>\n",
       "      <td>34.731357</td>\n",
       "    </tr>\n",
       "    <tr>\n",
       "      <th>10</th>\n",
       "      <td>4.939958</td>\n",
       "      <td>317.739209</td>\n",
       "      <td>10.966148</td>\n",
       "      <td>-379.203686</td>\n",
       "      <td>222.886147</td>\n",
       "      <td>[-34.868918100068214, -48.44754855003252, 52.8...</td>\n",
       "      <td>[-0.22830202464617133, -1.686198805397649, -1....</td>\n",
       "      <td>0.228302</td>\n",
       "      <td>34.868918</td>\n",
       "    </tr>\n",
       "    <tr>\n",
       "      <th>11</th>\n",
       "      <td>4.933844</td>\n",
       "      <td>316.889887</td>\n",
       "      <td>10.966148</td>\n",
       "      <td>-378.066479</td>\n",
       "      <td>218.196704</td>\n",
       "      <td>[-34.90164839291092, -48.721425794840115, 53.1...</td>\n",
       "      <td>[-0.22683822482000252, -1.681644124439667, -1....</td>\n",
       "      <td>0.226838</td>\n",
       "      <td>34.901648</td>\n",
       "    </tr>\n",
       "    <tr>\n",
       "      <th>12</th>\n",
       "      <td>4.92773</td>\n",
       "      <td>316.041969</td>\n",
       "      <td>10.966148</td>\n",
       "      <td>-376.931853</td>\n",
       "      <td>213.59478</td>\n",
       "      <td>[-34.97659031061797, -48.81290847933911, 53.24...</td>\n",
       "      <td>[-0.22593147763184443, -1.664638474304694, -1....</td>\n",
       "      <td>0.225931</td>\n",
       "      <td>34.976590</td>\n",
       "    </tr>\n",
       "    <tr>\n",
       "      <th>13</th>\n",
       "      <td>4.925739</td>\n",
       "      <td>315.766033</td>\n",
       "      <td>10.966148</td>\n",
       "      <td>-376.562765</td>\n",
       "      <td>212.114201</td>\n",
       "      <td>[-35.05778359312298, -48.91431844841151, 53.38...</td>\n",
       "      <td>[-0.22636971124862076, -1.6640238211680602, -1...</td>\n",
       "      <td>0.226370</td>\n",
       "      <td>35.057784</td>\n",
       "    </tr>\n",
       "    <tr>\n",
       "      <th>14</th>\n",
       "      <td>4.921683</td>\n",
       "      <td>315.204477</td>\n",
       "      <td>10.966148</td>\n",
       "      <td>-375.811864</td>\n",
       "      <td>209.126683</td>\n",
       "      <td>[-35.0639154573096, -49.03216019124326, 53.511...</td>\n",
       "      <td>[-0.2252082275839187, -1.6567623485548755, -1....</td>\n",
       "      <td>0.225208</td>\n",
       "      <td>35.063915</td>\n",
       "    </tr>\n",
       "    <tr>\n",
       "      <th>15</th>\n",
       "      <td>4.919183</td>\n",
       "      <td>314.858651</td>\n",
       "      <td>10.966148</td>\n",
       "      <td>-375.349585</td>\n",
       "      <td>207.303835</td>\n",
       "      <td>[-35.097794184085906, -49.12412338554463, 53.6...</td>\n",
       "      <td>[-0.22488147374881254, -1.65361610005046, -1.3...</td>\n",
       "      <td>0.224881</td>\n",
       "      <td>35.097794</td>\n",
       "    </tr>\n",
       "    <tr>\n",
       "      <th>16</th>\n",
       "      <td>4.917796</td>\n",
       "      <td>314.66693</td>\n",
       "      <td>10.966148</td>\n",
       "      <td>-375.093355</td>\n",
       "      <td>206.298818</td>\n",
       "      <td>[-35.14146595645646, -49.169868804416964, 53.6...</td>\n",
       "      <td>[-0.2250189827493767, -1.6515221708601384, -1....</td>\n",
       "      <td>0.225019</td>\n",
       "      <td>35.141466</td>\n",
       "    </tr>\n",
       "  </tbody>\n",
       "</table>\n",
       "</div>"
      ],
      "text/plain": [
       "          fQ          EC         EJ       alpha  dispersion  \\\n",
       "1   5.289056  368.487199  10.966148 -448.465789  690.604044   \n",
       "2   5.213884  357.180871  10.966148 -432.805828   548.46596   \n",
       "3   5.133449  345.315164  10.966148 -416.514456  425.346047   \n",
       "4   5.068359  335.887058  10.966148 -403.672527  344.170679   \n",
       "5   5.032646  330.779715  10.966148 -396.753248  305.689167   \n",
       "6   4.995239  325.479577  10.966148 -389.600243  269.485894   \n",
       "7   4.978331  323.100494  10.966148 -386.398492  254.399358   \n",
       "8   4.959067  320.402413  10.966148 -382.774169  238.120599   \n",
       "9   4.947665  318.811841  10.966148   -380.6409  228.924417   \n",
       "10  4.939958  317.739209  10.966148 -379.203686  222.886147   \n",
       "11  4.933844  316.889887  10.966148 -378.066479  218.196704   \n",
       "12   4.92773  316.041969  10.966148 -376.931853   213.59478   \n",
       "13  4.925739  315.766033  10.966148 -376.562765  212.114201   \n",
       "14  4.921683  315.204477  10.966148 -375.811864  209.126683   \n",
       "15  4.919183  314.858651  10.966148 -375.349585  207.303835   \n",
       "16  4.917796   314.66693  10.966148 -375.093355  206.298818   \n",
       "\n",
       "                                                 gbus  \\\n",
       "1   [-31.774496156217896, -45.03844604649601, 40.3...   \n",
       "2   [-34.39714654832053, -45.39244390546804, 48.34...   \n",
       "3   [-34.00000382385623, -46.45701401585289, 50.49...   \n",
       "4   [-34.11279711985558, -47.06784046064517, 50.87...   \n",
       "5   [-34.05776422472714, -47.53961977600745, 51.73...   \n",
       "6   [-34.21313559513416, -47.32047625930678, 51.37...   \n",
       "7   [-34.54205453001084, -47.74407192422917, 52.16...   \n",
       "8   [-34.58728110419293, -47.90776606607217, 52.28...   \n",
       "9   [-34.73135715920614, -48.18152314049909, 52.57...   \n",
       "10  [-34.868918100068214, -48.44754855003252, 52.8...   \n",
       "11  [-34.90164839291092, -48.721425794840115, 53.1...   \n",
       "12  [-34.97659031061797, -48.81290847933911, 53.24...   \n",
       "13  [-35.05778359312298, -48.91431844841151, 53.38...   \n",
       "14  [-35.0639154573096, -49.03216019124326, 53.511...   \n",
       "15  [-35.097794184085906, -49.12412338554463, 53.6...   \n",
       "16  [-35.14146595645646, -49.169868804416964, 53.6...   \n",
       "\n",
       "                                           chi_in_MHz    χr MHz     gr MHz  \n",
       "1   [-0.3123093965996632, -3.7269145010157825, -1....  0.312309  31.774496  \n",
       "2   [-0.32718667185908906, -3.001824857808574, -2....  0.327187  34.397147  \n",
       "3   [-0.28440038141426977, -2.506067541076813, -1....  0.284400  34.000004  \n",
       "4   [-0.2609869707197266, -2.1689744976184873, -1....  0.260987  34.112797  \n",
       "5   [-0.24744899317393237, -2.0234464509848946, -1...  0.247449  34.057764  \n",
       "6   [-0.2370866865170054, -1.8308177702597421, -1....  0.237087  34.213136  \n",
       "7   [-0.23610643748860669, -1.790391758259709, -1....  0.236106  34.542055  \n",
       "8   [-0.23055818818163454, -1.72317839294403, -1.4...  0.230558  34.587281  \n",
       "9   [-0.2288935172049823, -1.6975356598906342, -1....  0.228894  34.731357  \n",
       "10  [-0.22830202464617133, -1.686198805397649, -1....  0.228302  34.868918  \n",
       "11  [-0.22683822482000252, -1.681644124439667, -1....  0.226838  34.901648  \n",
       "12  [-0.22593147763184443, -1.664638474304694, -1....  0.225931  34.976590  \n",
       "13  [-0.22636971124862076, -1.6640238211680602, -1...  0.226370  35.057784  \n",
       "14  [-0.2252082275839187, -1.6567623485548755, -1....  0.225208  35.063915  \n",
       "15  [-0.22488147374881254, -1.65361610005046, -1.3...  0.224881  35.097794  \n",
       "16  [-0.2250189827493767, -1.6515221708601384, -1....  0.225019  35.141466  "
      ]
     },
     "execution_count": 43,
     "metadata": {},
     "output_type": "execute_result"
    }
   ],
   "source": [
    "c1.run_lom()\n",
    "c1.lumped_oscillator_all"
   ]
  },
  {
   "cell_type": "code",
   "execution_count": 44,
   "id": "98a01ec5-c448-4b43-a505-12db914cc411",
   "metadata": {},
   "outputs": [
    {
     "name": "stderr",
     "output_type": "stream",
     "text": [
      "WARNING:py.warnings:C:\\ProgramData\\Anaconda3\\envs\\qmetal\\lib\\site-packages\\pyEPR\\core_distributed_analysis.py:504: FutureWarning: The default dtype for empty Series will be 'object' instead of 'float64' in a future version. Specify a dtype explicitly to silence this warning.\n",
      "  self._hfss_variables[variation] = pd.Series(\n",
      "\n",
      "INFO 02:34PM [hfss_report_full_convergence]: Creating report for variation 0\n"
     ]
    },
    {
     "name": "stdout",
     "output_type": "stream",
     "text": [
      "Design \"Q_1_q3d\" info:\n",
      "\t# eigenmodes    0\n",
      "\t# variations    1\n"
     ]
    }
   ],
   "source": [
    "c1.plot_convergence();\n",
    "c1.plot_convergence_chi()"
   ]
  },
  {
   "cell_type": "code",
   "execution_count": 45,
   "id": "7cb96b08-41ab-4061-90a2-a98b280a3b9f",
   "metadata": {},
   "outputs": [
    {
     "data": {
      "text/plain": [
       "{'pos_x': '-3mm',\n",
       " 'pos_y': '-1mm',\n",
       " 'orientation': '0.0',\n",
       " 'chip': 'main',\n",
       " 'layer': '1',\n",
       " 'connection_pads': {'readout': {'pad_gap': '50um',\n",
       "   'pad_width': '80um',\n",
       "   'pad_height': '30um',\n",
       "   'pad_cpw_shift': '5um',\n",
       "   'pad_cpw_extent': '25um',\n",
       "   'cpw_width': 'cpw_width',\n",
       "   'cpw_gap': 'cpw_gap',\n",
       "   'cpw_extend': '100um',\n",
       "   'pocket_extent': '5um',\n",
       "   'pocket_rise': '65um',\n",
       "   'loc_W': -1,\n",
       "   'loc_H': 1},\n",
       "  'bus_13': {'pad_gap': '10um',\n",
       "   'pad_width': '60um',\n",
       "   'pad_height': '30um',\n",
       "   'pad_cpw_shift': '5um',\n",
       "   'pad_cpw_extent': '25um',\n",
       "   'cpw_width': 'cpw_width',\n",
       "   'cpw_gap': 'cpw_gap',\n",
       "   'cpw_extend': '100um',\n",
       "   'pocket_extent': '5um',\n",
       "   'pocket_rise': '65um',\n",
       "   'loc_W': 1,\n",
       "   'loc_H': 1},\n",
       "  'bus_14': {'pad_gap': '10um',\n",
       "   'pad_width': '60um',\n",
       "   'pad_height': '30um',\n",
       "   'pad_cpw_shift': '5um',\n",
       "   'pad_cpw_extent': '25um',\n",
       "   'cpw_width': 'cpw_width',\n",
       "   'cpw_gap': 'cpw_gap',\n",
       "   'cpw_extend': '100um',\n",
       "   'pocket_extent': '5um',\n",
       "   'pocket_rise': '65um',\n",
       "   'loc_W': 1,\n",
       "   'loc_H': -1}},\n",
       " 'pad_gap': '30um',\n",
       " 'inductor_width': '20um',\n",
       " 'pad_width': '425 um',\n",
       " 'pad_height': '90um',\n",
       " 'pocket_width': '650um',\n",
       " 'pocket_height': '650um',\n",
       " 'make_CL': True,\n",
       " 'cl_gap': '6um',\n",
       " 'cl_width': '10um',\n",
       " 'cl_length': '20um',\n",
       " 'cl_ground_gap': '6um',\n",
       " 'cl_pocket_edge': '0',\n",
       " 'cl_off_center': '50um',\n",
       " 'hfss_wire_bonds': False,\n",
       " 'q3d_wire_bonds': False,\n",
       " 'aedt_q3d_wire_bonds': False,\n",
       " 'aedt_hfss_wire_bonds': False,\n",
       " 'hfss_inductance': '14nH',\n",
       " 'hfss_capacitance': 0,\n",
       " 'hfss_resistance': 0,\n",
       " 'hfss_mesh_kw_jj': 7e-06,\n",
       " 'q3d_inductance': '10nH',\n",
       " 'q3d_capacitance': 0,\n",
       " 'q3d_resistance': 0,\n",
       " 'q3d_mesh_kw_jj': 7e-06,\n",
       " 'gds_cell_name': 'FakeJunction_01',\n",
       " 'aedt_q3d_inductance': 1e-08,\n",
       " 'aedt_q3d_capacitance': 0,\n",
       " 'aedt_hfss_inductance': 1e-08,\n",
       " 'aedt_hfss_capacitance': 0}"
      ]
     },
     "execution_count": 45,
     "metadata": {},
     "output_type": "execute_result"
    }
   ],
   "source": [
    "Q_1.options"
   ]
  },
  {
   "cell_type": "code",
   "execution_count": 46,
   "id": "59fd1287-3771-465f-a4c9-469980731752",
   "metadata": {},
   "outputs": [],
   "source": [
    "Q_1.options.pad_gap = '28um'\n",
    "Q_1.options.connection_pads.readout.pad_gap = '20um'\n",
    "Q_1.options.connection_pads.readout.pad_width = '100um'\n",
    "Q_1.options.connection_pads.bus_13.pad_width = '130um'\n",
    "Q_1.options.connection_pads.bus_14.pad_width = '130um'\n",
    "\n",
    "gui.rebuild()"
   ]
  },
  {
   "cell_type": "code",
   "execution_count": 47,
   "id": "b78032ab-1542-40ab-89c7-460d18f27bf4",
   "metadata": {},
   "outputs": [],
   "source": [
    "c1.sim.renderer.clean_active_design()"
   ]
  },
  {
   "cell_type": "code",
   "execution_count": 48,
   "id": "458fe976-dd59-4705-ac8a-daf51ff4ebf3",
   "metadata": {},
   "outputs": [
    {
     "name": "stderr",
     "output_type": "stream",
     "text": [
      "INFO 02:53PM [connect_design]: \tOpened active design\n",
      "\tDesign:    Q_1_q3d [Solution type: Q3D]\n",
      "INFO 02:53PM [get_setup]: \tOpened setup `Tune_Q_1`  (<class 'pyEPR.ansys.AnsysQ3DSetup'>)\n",
      "INFO 02:53PM [analyze]: Analyzing setup Tune_Q_1\n",
      "INFO 02:57PM [get_matrix]: Exporting matrix data to (C:\\Users\\user\\AppData\\Local\\Temp\\tmpcnxm4qhd.txt, C, , Tune_Q_1:LastAdaptive, \"Original\", \"ohm\", \"nH\", \"fF\", \"mSie\", 4800000000, Maxwell, 1, False\n",
      "INFO 02:57PM [get_matrix]: Exporting matrix data to (C:\\Users\\user\\AppData\\Local\\Temp\\tmpcl_n1__8.txt, C, , Tune_Q_1:AdaptivePass, \"Original\", \"ohm\", \"nH\", \"fF\", \"mSie\", 4800000000, Maxwell, 1, False\n",
      "INFO 02:57PM [get_matrix]: Exporting matrix data to (C:\\Users\\user\\AppData\\Local\\Temp\\tmpm1mm_6hh.txt, C, , Tune_Q_1:AdaptivePass, \"Original\", \"ohm\", \"nH\", \"fF\", \"mSie\", 4800000000, Maxwell, 2, False\n",
      "INFO 02:57PM [get_matrix]: Exporting matrix data to (C:\\Users\\user\\AppData\\Local\\Temp\\tmpoal4ep2w.txt, C, , Tune_Q_1:AdaptivePass, \"Original\", \"ohm\", \"nH\", \"fF\", \"mSie\", 4800000000, Maxwell, 3, False\n",
      "INFO 02:57PM [get_matrix]: Exporting matrix data to (C:\\Users\\user\\AppData\\Local\\Temp\\tmpnxpozbqz.txt, C, , Tune_Q_1:AdaptivePass, \"Original\", \"ohm\", \"nH\", \"fF\", \"mSie\", 4800000000, Maxwell, 4, False\n",
      "INFO 02:57PM [get_matrix]: Exporting matrix data to (C:\\Users\\user\\AppData\\Local\\Temp\\tmp3q9q5avy.txt, C, , Tune_Q_1:AdaptivePass, \"Original\", \"ohm\", \"nH\", \"fF\", \"mSie\", 4800000000, Maxwell, 5, False\n",
      "INFO 02:57PM [get_matrix]: Exporting matrix data to (C:\\Users\\user\\AppData\\Local\\Temp\\tmp0a712wqs.txt, C, , Tune_Q_1:AdaptivePass, \"Original\", \"ohm\", \"nH\", \"fF\", \"mSie\", 4800000000, Maxwell, 6, False\n",
      "INFO 02:57PM [get_matrix]: Exporting matrix data to (C:\\Users\\user\\AppData\\Local\\Temp\\tmpud3i1uvv.txt, C, , Tune_Q_1:AdaptivePass, \"Original\", \"ohm\", \"nH\", \"fF\", \"mSie\", 4800000000, Maxwell, 7, False\n",
      "INFO 02:57PM [get_matrix]: Exporting matrix data to (C:\\Users\\user\\AppData\\Local\\Temp\\tmp9mw12q9j.txt, C, , Tune_Q_1:AdaptivePass, \"Original\", \"ohm\", \"nH\", \"fF\", \"mSie\", 4800000000, Maxwell, 8, False\n",
      "INFO 02:57PM [get_matrix]: Exporting matrix data to (C:\\Users\\user\\AppData\\Local\\Temp\\tmpp67zq8w0.txt, C, , Tune_Q_1:AdaptivePass, \"Original\", \"ohm\", \"nH\", \"fF\", \"mSie\", 4800000000, Maxwell, 9, False\n",
      "INFO 02:57PM [get_matrix]: Exporting matrix data to (C:\\Users\\user\\AppData\\Local\\Temp\\tmp51l7pwzd.txt, C, , Tune_Q_1:AdaptivePass, \"Original\", \"ohm\", \"nH\", \"fF\", \"mSie\", 4800000000, Maxwell, 10, False\n",
      "INFO 02:57PM [get_matrix]: Exporting matrix data to (C:\\Users\\user\\AppData\\Local\\Temp\\tmphp9run2p.txt, C, , Tune_Q_1:AdaptivePass, \"Original\", \"ohm\", \"nH\", \"fF\", \"mSie\", 4800000000, Maxwell, 11, False\n",
      "INFO 02:57PM [get_matrix]: Exporting matrix data to (C:\\Users\\user\\AppData\\Local\\Temp\\tmpiaaej6rs.txt, C, , Tune_Q_1:AdaptivePass, \"Original\", \"ohm\", \"nH\", \"fF\", \"mSie\", 4800000000, Maxwell, 12, False\n",
      "INFO 02:57PM [get_matrix]: Exporting matrix data to (C:\\Users\\user\\AppData\\Local\\Temp\\tmph_58nn6j.txt, C, , Tune_Q_1:AdaptivePass, \"Original\", \"ohm\", \"nH\", \"fF\", \"mSie\", 4800000000, Maxwell, 13, False\n",
      "INFO 02:57PM [get_matrix]: Exporting matrix data to (C:\\Users\\user\\AppData\\Local\\Temp\\tmpqj9ls3a_.txt, C, , Tune_Q_1:AdaptivePass, \"Original\", \"ohm\", \"nH\", \"fF\", \"mSie\", 4800000000, Maxwell, 14, False\n",
      "INFO 02:57PM [get_matrix]: Exporting matrix data to (C:\\Users\\user\\AppData\\Local\\Temp\\tmptinufk20.txt, C, , Tune_Q_1:AdaptivePass, \"Original\", \"ohm\", \"nH\", \"fF\", \"mSie\", 4800000000, Maxwell, 15, False\n",
      "INFO 02:57PM [get_matrix]: Exporting matrix data to (C:\\Users\\user\\AppData\\Local\\Temp\\tmptg5q61v3.txt, C, , Tune_Q_1:AdaptivePass, \"Original\", \"ohm\", \"nH\", \"fF\", \"mSie\", 4800000000, Maxwell, 16, False\n",
      "INFO 02:57PM [get_matrix]: Exporting matrix data to (C:\\Users\\user\\AppData\\Local\\Temp\\tmpwezxtlzb.txt, C, , Tune_Q_1:AdaptivePass, \"Original\", \"ohm\", \"nH\", \"fF\", \"mSie\", 4800000000, Maxwell, 17, False\n"
     ]
    }
   ],
   "source": [
    "c1.sim.run(name=\"Q_1\", components=['Q_1'], open_terminations=[('Q_1', 'readout'), ('Q_1', 'bus_13'),('Q_1', 'bus_14'), ('Q_1', 'Charge_Line')])"
   ]
  },
  {
   "cell_type": "code",
   "execution_count": 49,
   "id": "b5e6c17f-e6e2-4f27-be8b-31d1fbb59e4f",
   "metadata": {},
   "outputs": [
    {
     "data": {
      "text/html": [
       "<div>\n",
       "<style scoped>\n",
       "    .dataframe tbody tr th:only-of-type {\n",
       "        vertical-align: middle;\n",
       "    }\n",
       "\n",
       "    .dataframe tbody tr th {\n",
       "        vertical-align: top;\n",
       "    }\n",
       "\n",
       "    .dataframe thead th {\n",
       "        text-align: right;\n",
       "    }\n",
       "</style>\n",
       "<table border=\"1\" class=\"dataframe\">\n",
       "  <thead>\n",
       "    <tr style=\"text-align: right;\">\n",
       "      <th></th>\n",
       "      <th>bus_13_connector_pad_Q_1</th>\n",
       "      <th>bus_14_connector_pad_Q_1</th>\n",
       "      <th>cl_metal_Q_1</th>\n",
       "      <th>ground_main_plane</th>\n",
       "      <th>pad_bot_Q_1</th>\n",
       "      <th>pad_top_Q_1</th>\n",
       "      <th>readout_connector_pad_Q_1</th>\n",
       "    </tr>\n",
       "  </thead>\n",
       "  <tbody>\n",
       "    <tr>\n",
       "      <th>bus_13_connector_pad_Q_1</th>\n",
       "      <td>53.32915</td>\n",
       "      <td>-0.35422</td>\n",
       "      <td>-0.00980</td>\n",
       "      <td>-34.17921</td>\n",
       "      <td>-1.62762</td>\n",
       "      <td>-15.99468</td>\n",
       "      <td>-0.31770</td>\n",
       "    </tr>\n",
       "    <tr>\n",
       "      <th>bus_14_connector_pad_Q_1</th>\n",
       "      <td>-0.35422</td>\n",
       "      <td>53.31769</td>\n",
       "      <td>-0.00879</td>\n",
       "      <td>-34.28616</td>\n",
       "      <td>-16.11262</td>\n",
       "      <td>-1.58902</td>\n",
       "      <td>-0.12183</td>\n",
       "    </tr>\n",
       "    <tr>\n",
       "      <th>cl_metal_Q_1</th>\n",
       "      <td>-0.00980</td>\n",
       "      <td>-0.00879</td>\n",
       "      <td>16.53455</td>\n",
       "      <td>-15.95972</td>\n",
       "      <td>-0.13813</td>\n",
       "      <td>-0.18843</td>\n",
       "      <td>-0.15351</td>\n",
       "    </tr>\n",
       "    <tr>\n",
       "      <th>ground_main_plane</th>\n",
       "      <td>-34.17921</td>\n",
       "      <td>-34.28616</td>\n",
       "      <td>-15.95972</td>\n",
       "      <td>249.33566</td>\n",
       "      <td>-38.58662</td>\n",
       "      <td>-34.48661</td>\n",
       "      <td>-33.50304</td>\n",
       "    </tr>\n",
       "    <tr>\n",
       "      <th>pad_bot_Q_1</th>\n",
       "      <td>-1.62762</td>\n",
       "      <td>-16.11262</td>\n",
       "      <td>-0.13813</td>\n",
       "      <td>-38.58662</td>\n",
       "      <td>93.55516</td>\n",
       "      <td>-32.90602</td>\n",
       "      <td>-1.44607</td>\n",
       "    </tr>\n",
       "    <tr>\n",
       "      <th>pad_top_Q_1</th>\n",
       "      <td>-15.99468</td>\n",
       "      <td>-1.58902</td>\n",
       "      <td>-0.18843</td>\n",
       "      <td>-34.48661</td>\n",
       "      <td>-32.90602</td>\n",
       "      <td>98.21055</td>\n",
       "      <td>-10.48478</td>\n",
       "    </tr>\n",
       "    <tr>\n",
       "      <th>readout_connector_pad_Q_1</th>\n",
       "      <td>-0.31770</td>\n",
       "      <td>-0.12183</td>\n",
       "      <td>-0.15351</td>\n",
       "      <td>-33.50304</td>\n",
       "      <td>-1.44607</td>\n",
       "      <td>-10.48478</td>\n",
       "      <td>46.81114</td>\n",
       "    </tr>\n",
       "  </tbody>\n",
       "</table>\n",
       "</div>"
      ],
      "text/plain": [
       "                           bus_13_connector_pad_Q_1  bus_14_connector_pad_Q_1  \\\n",
       "bus_13_connector_pad_Q_1                   53.32915                  -0.35422   \n",
       "bus_14_connector_pad_Q_1                   -0.35422                  53.31769   \n",
       "cl_metal_Q_1                               -0.00980                  -0.00879   \n",
       "ground_main_plane                         -34.17921                 -34.28616   \n",
       "pad_bot_Q_1                                -1.62762                 -16.11262   \n",
       "pad_top_Q_1                               -15.99468                  -1.58902   \n",
       "readout_connector_pad_Q_1                  -0.31770                  -0.12183   \n",
       "\n",
       "                           cl_metal_Q_1  ground_main_plane  pad_bot_Q_1  \\\n",
       "bus_13_connector_pad_Q_1       -0.00980          -34.17921     -1.62762   \n",
       "bus_14_connector_pad_Q_1       -0.00879          -34.28616    -16.11262   \n",
       "cl_metal_Q_1                   16.53455          -15.95972     -0.13813   \n",
       "ground_main_plane             -15.95972          249.33566    -38.58662   \n",
       "pad_bot_Q_1                    -0.13813          -38.58662     93.55516   \n",
       "pad_top_Q_1                    -0.18843          -34.48661    -32.90602   \n",
       "readout_connector_pad_Q_1      -0.15351          -33.50304     -1.44607   \n",
       "\n",
       "                           pad_top_Q_1  readout_connector_pad_Q_1  \n",
       "bus_13_connector_pad_Q_1     -15.99468                   -0.31770  \n",
       "bus_14_connector_pad_Q_1      -1.58902                   -0.12183  \n",
       "cl_metal_Q_1                  -0.18843                   -0.15351  \n",
       "ground_main_plane            -34.48661                  -33.50304  \n",
       "pad_bot_Q_1                  -32.90602                   -1.44607  \n",
       "pad_top_Q_1                   98.21055                  -10.48478  \n",
       "readout_connector_pad_Q_1    -10.48478                   46.81114  "
      ]
     },
     "execution_count": 49,
     "metadata": {},
     "output_type": "execute_result"
    }
   ],
   "source": [
    "c1.sim.capacitance_matrix"
   ]
  },
  {
   "cell_type": "code",
   "execution_count": 50,
   "id": "c24834c5-f92d-4081-9aa7-90d529d1c32e",
   "metadata": {},
   "outputs": [],
   "source": [
    "c1.setup.junctions = Dict({'Lj': 14.9, 'Cj': 2})\n",
    "c1.setup.freq_readout = 6.8\n",
    "c1.setup.freq_bus = [5.8, 6, 8]  "
   ]
  },
  {
   "cell_type": "code",
   "execution_count": 51,
   "id": "1fa9f5b6-7190-4137-bd98-5fc650758d5c",
   "metadata": {},
   "outputs": [
    {
     "name": "stdout",
     "output_type": "stream",
     "text": [
      "[4, 5] [6 0 1 2]\n",
      "Predicted Values\n",
      "\n",
      "Transmon Properties\n",
      "f_Q 4.794596 [GHz]\n",
      "EC 297.905991 [MHz]\n",
      "EJ 10.966148 [GHz]\n",
      "alpha -352.829389 [MHz]\n",
      "dispersion 132.435416 [KHz]\n",
      "Lq 14.893992 [nH]\n",
      "Cq 65.021278 [fF]\n",
      "T1 159.891150 [us]\n",
      "\n",
      "**Coupling Properties**\n",
      "\n",
      "tCqbus1 -4.280428 [fF]\n",
      "gbus1_in_MHz -59.327050 [MHz]\n",
      "χ_bus1 -0.544239 [MHz]\n",
      "1/T1bus1 407.064601 [Hz]\n",
      "T1bus1 390.982028 [us]\n",
      "\n",
      "tCqbus2 -6.830626 [fF]\n",
      "gbus2_in_MHz -80.694541 [MHz]\n",
      "χ_bus2 -3.407214 [MHz]\n",
      "1/T1bus2 306.076579 [Hz]\n",
      "T1bus2 519.984062 [us]\n",
      "\n",
      "tCqbus3 7.616293 [fF]\n",
      "gbus3_in_MHz 93.068243 [MHz]\n",
      "χ_bus3 -3.308339 [MHz]\n",
      "1/T1bus3 282.253990 [Hz]\n",
      "T1bus3 563.871367 [us]\n",
      "\n",
      "tCqbus4 -0.018610 [fF]\n",
      "gbus4_in_MHz -0.304562 [MHz]\n",
      "χ_bus4 -0.000006 [MHz]\n",
      "1/T1bus4 0.000406 [Hz]\n",
      "T1bus4 392313149.650612 [us]\n",
      "Bus-Bus Couplings\n",
      "gbus1_2 5.003096 [MHz]\n",
      "gbus1_3 4.701154 [MHz]\n",
      "gbus1_4 0.633190 [MHz]\n",
      "gbus2_3 6.278444 [MHz]\n",
      "gbus2_4 0.166662 [MHz]\n",
      "gbus3_4 0.169947 [MHz]\n"
     ]
    },
    {
     "data": {
      "text/html": [
       "<div>\n",
       "<style scoped>\n",
       "    .dataframe tbody tr th:only-of-type {\n",
       "        vertical-align: middle;\n",
       "    }\n",
       "\n",
       "    .dataframe tbody tr th {\n",
       "        vertical-align: top;\n",
       "    }\n",
       "\n",
       "    .dataframe thead th {\n",
       "        text-align: right;\n",
       "    }\n",
       "</style>\n",
       "<table border=\"1\" class=\"dataframe\">\n",
       "  <thead>\n",
       "    <tr style=\"text-align: right;\">\n",
       "      <th></th>\n",
       "      <th>fQ</th>\n",
       "      <th>EC</th>\n",
       "      <th>EJ</th>\n",
       "      <th>alpha</th>\n",
       "      <th>dispersion</th>\n",
       "      <th>gbus</th>\n",
       "      <th>chi_in_MHz</th>\n",
       "      <th>χr MHz</th>\n",
       "      <th>gr MHz</th>\n",
       "    </tr>\n",
       "  </thead>\n",
       "  <tbody>\n",
       "    <tr>\n",
       "      <th>1</th>\n",
       "      <td>5.184379</td>\n",
       "      <td>352.800584</td>\n",
       "      <td>10.966148</td>\n",
       "      <td>-426.774848</td>\n",
       "      <td>500.100457</td>\n",
       "      <td>[-51.05015079535539, -74.73331393288456, 74.42...</td>\n",
       "      <td>[-0.6901893836787092, -7.469776799517084, -4.7...</td>\n",
       "      <td>0.690189</td>\n",
       "      <td>51.050151</td>\n",
       "    </tr>\n",
       "    <tr>\n",
       "      <th>2</th>\n",
       "      <td>5.097431</td>\n",
       "      <td>340.078964</td>\n",
       "      <td>10.966148</td>\n",
       "      <td>-409.371168</td>\n",
       "      <td>378.571646</td>\n",
       "      <td>[-57.01493936987612, -73.04976291694626, 84.68...</td>\n",
       "      <td>[-0.7596545287620622, -5.630841611322401, -5.0...</td>\n",
       "      <td>0.759655</td>\n",
       "      <td>57.014939</td>\n",
       "    </tr>\n",
       "    <tr>\n",
       "      <th>3</th>\n",
       "      <td>5.010416</td>\n",
       "      <td>327.623921</td>\n",
       "      <td>10.966148</td>\n",
       "      <td>-392.490871</td>\n",
       "      <td>283.692702</td>\n",
       "      <td>[-57.13761423095734, -74.67041679744551, 86.08...</td>\n",
       "      <td>[-0.6752737625807934, -4.728224821154976, -4.3...</td>\n",
       "      <td>0.675274</td>\n",
       "      <td>57.137614</td>\n",
       "    </tr>\n",
       "    <tr>\n",
       "      <th>4</th>\n",
       "      <td>4.948923</td>\n",
       "      <td>318.987103</td>\n",
       "      <td>10.966148</td>\n",
       "      <td>-380.87584</td>\n",
       "      <td>229.923455</td>\n",
       "      <td>[-57.596305656191184, -75.73995049287242, 87.4...</td>\n",
       "      <td>[-0.6305562779858115, -4.206952032633609, -3.9...</td>\n",
       "      <td>0.630556</td>\n",
       "      <td>57.596306</td>\n",
       "    </tr>\n",
       "    <tr>\n",
       "      <th>5</th>\n",
       "      <td>4.917077</td>\n",
       "      <td>314.567493</td>\n",
       "      <td>10.966148</td>\n",
       "      <td>-374.960474</td>\n",
       "      <td>205.779115</td>\n",
       "      <td>[-57.42439915838004, -76.0210705088587, 88.568...</td>\n",
       "      <td>[-0.600274392072851, -3.941394315240594, -3.77...</td>\n",
       "      <td>0.600274</td>\n",
       "      <td>57.424399</td>\n",
       "    </tr>\n",
       "    <tr>\n",
       "      <th>6</th>\n",
       "      <td>4.872275</td>\n",
       "      <td>308.411285</td>\n",
       "      <td>10.966148</td>\n",
       "      <td>-366.752326</td>\n",
       "      <td>175.602367</td>\n",
       "      <td>[-58.02159675963634, -77.99139702500004, 89.93...</td>\n",
       "      <td>[-0.5769942776512361, -3.7557686992106483, -3....</td>\n",
       "      <td>0.576994</td>\n",
       "      <td>58.021597</td>\n",
       "    </tr>\n",
       "    <tr>\n",
       "      <th>7</th>\n",
       "      <td>4.858966</td>\n",
       "      <td>306.596217</td>\n",
       "      <td>10.966148</td>\n",
       "      <td>-364.339239</td>\n",
       "      <td>167.425343</td>\n",
       "      <td>[-58.230778755597036, -78.05890561254941, 90.5...</td>\n",
       "      <td>[-0.5709254439055463, -3.654899282242063, -3.5...</td>\n",
       "      <td>0.570925</td>\n",
       "      <td>58.230779</td>\n",
       "    </tr>\n",
       "    <tr>\n",
       "      <th>8</th>\n",
       "      <td>4.837863</td>\n",
       "      <td>303.731077</td>\n",
       "      <td>10.966148</td>\n",
       "      <td>-360.536529</td>\n",
       "      <td>155.147924</td>\n",
       "      <td>[-58.39694001361487, -78.6025408040226, 90.857...</td>\n",
       "      <td>[-0.5582986466954212, -3.541510402225065, -3.4...</td>\n",
       "      <td>0.558299</td>\n",
       "      <td>58.396940</td>\n",
       "    </tr>\n",
       "    <tr>\n",
       "      <th>9</th>\n",
       "      <td>4.825995</td>\n",
       "      <td>302.126778</td>\n",
       "      <td>10.966148</td>\n",
       "      <td>-358.410671</td>\n",
       "      <td>148.599158</td>\n",
       "      <td>[-58.6533513128876, -79.18812678746573, 91.547...</td>\n",
       "      <td>[-0.5544273460749116, -3.5048197505778904, -3....</td>\n",
       "      <td>0.554427</td>\n",
       "      <td>58.653351</td>\n",
       "    </tr>\n",
       "    <tr>\n",
       "      <th>10</th>\n",
       "      <td>4.818699</td>\n",
       "      <td>301.142858</td>\n",
       "      <td>10.966148</td>\n",
       "      <td>-357.108091</td>\n",
       "      <td>144.695123</td>\n",
       "      <td>[-58.77598241406197, -79.4971901837496, 91.772...</td>\n",
       "      <td>[-0.5514045027089006, -3.4781250301772637, -3....</td>\n",
       "      <td>0.551405</td>\n",
       "      <td>58.775982</td>\n",
       "    </tr>\n",
       "    <tr>\n",
       "      <th>11</th>\n",
       "      <td>4.811633</td>\n",
       "      <td>300.191912</td>\n",
       "      <td>10.966148</td>\n",
       "      <td>-355.850037</td>\n",
       "      <td>141.001519</td>\n",
       "      <td>[-58.933522969406454, -79.7615826756483, 92.11...</td>\n",
       "      <td>[-0.5492199305024316, -3.4495846115898616, -3....</td>\n",
       "      <td>0.549220</td>\n",
       "      <td>58.933523</td>\n",
       "    </tr>\n",
       "    <tr>\n",
       "      <th>12</th>\n",
       "      <td>4.804731</td>\n",
       "      <td>299.264655</td>\n",
       "      <td>10.966148</td>\n",
       "      <td>-354.62415</td>\n",
       "      <td>137.474091</td>\n",
       "      <td>[-59.010329176036336, -80.10279785794883, 92.4...</td>\n",
       "      <td>[-0.5456679697789586, -3.429169911988099, -3.3...</td>\n",
       "      <td>0.545668</td>\n",
       "      <td>59.010329</td>\n",
       "    </tr>\n",
       "    <tr>\n",
       "      <th>13</th>\n",
       "      <td>4.802555</td>\n",
       "      <td>298.972598</td>\n",
       "      <td>10.966148</td>\n",
       "      <td>-354.238202</td>\n",
       "      <td>136.378042</td>\n",
       "      <td>[-59.15671573343587, -80.31955886370264, 92.65...</td>\n",
       "      <td>[-0.5468100087772996, -3.432097777453171, -3.3...</td>\n",
       "      <td>0.546810</td>\n",
       "      <td>59.156716</td>\n",
       "    </tr>\n",
       "    <tr>\n",
       "      <th>14</th>\n",
       "      <td>4.798847</td>\n",
       "      <td>298.47547</td>\n",
       "      <td>10.966148</td>\n",
       "      <td>-353.581445</td>\n",
       "      <td>134.528744</td>\n",
       "      <td>[-59.20683913600197, -80.42975811533267, 92.80...</td>\n",
       "      <td>[-0.5450725620905792, -3.4149905903173354, -3....</td>\n",
       "      <td>0.545073</td>\n",
       "      <td>59.206839</td>\n",
       "    </tr>\n",
       "    <tr>\n",
       "      <th>15</th>\n",
       "      <td>4.796085</td>\n",
       "      <td>298.105383</td>\n",
       "      <td>10.966148</td>\n",
       "      <td>-353.092672</td>\n",
       "      <td>133.165318</td>\n",
       "      <td>[-59.26162611049737, -80.60081762784809, 92.98...</td>\n",
       "      <td>[-0.544102756805935, -3.4098522589949947, -3.3...</td>\n",
       "      <td>0.544103</td>\n",
       "      <td>59.261626</td>\n",
       "    </tr>\n",
       "    <tr>\n",
       "      <th>16</th>\n",
       "      <td>4.794596</td>\n",
       "      <td>297.905991</td>\n",
       "      <td>10.966148</td>\n",
       "      <td>-352.829389</td>\n",
       "      <td>132.435416</td>\n",
       "      <td>[-59.32705012151651, -80.69454066509708, 93.06...</td>\n",
       "      <td>[-0.5442390762823711, -3.407213926983278, -3.3...</td>\n",
       "      <td>0.544239</td>\n",
       "      <td>59.327050</td>\n",
       "    </tr>\n",
       "  </tbody>\n",
       "</table>\n",
       "</div>"
      ],
      "text/plain": [
       "          fQ          EC         EJ       alpha  dispersion  \\\n",
       "1   5.184379  352.800584  10.966148 -426.774848  500.100457   \n",
       "2   5.097431  340.078964  10.966148 -409.371168  378.571646   \n",
       "3   5.010416  327.623921  10.966148 -392.490871  283.692702   \n",
       "4   4.948923  318.987103  10.966148  -380.87584  229.923455   \n",
       "5   4.917077  314.567493  10.966148 -374.960474  205.779115   \n",
       "6   4.872275  308.411285  10.966148 -366.752326  175.602367   \n",
       "7   4.858966  306.596217  10.966148 -364.339239  167.425343   \n",
       "8   4.837863  303.731077  10.966148 -360.536529  155.147924   \n",
       "9   4.825995  302.126778  10.966148 -358.410671  148.599158   \n",
       "10  4.818699  301.142858  10.966148 -357.108091  144.695123   \n",
       "11  4.811633  300.191912  10.966148 -355.850037  141.001519   \n",
       "12  4.804731  299.264655  10.966148  -354.62415  137.474091   \n",
       "13  4.802555  298.972598  10.966148 -354.238202  136.378042   \n",
       "14  4.798847   298.47547  10.966148 -353.581445  134.528744   \n",
       "15  4.796085  298.105383  10.966148 -353.092672  133.165318   \n",
       "16  4.794596  297.905991  10.966148 -352.829389  132.435416   \n",
       "\n",
       "                                                 gbus  \\\n",
       "1   [-51.05015079535539, -74.73331393288456, 74.42...   \n",
       "2   [-57.01493936987612, -73.04976291694626, 84.68...   \n",
       "3   [-57.13761423095734, -74.67041679744551, 86.08...   \n",
       "4   [-57.596305656191184, -75.73995049287242, 87.4...   \n",
       "5   [-57.42439915838004, -76.0210705088587, 88.568...   \n",
       "6   [-58.02159675963634, -77.99139702500004, 89.93...   \n",
       "7   [-58.230778755597036, -78.05890561254941, 90.5...   \n",
       "8   [-58.39694001361487, -78.6025408040226, 90.857...   \n",
       "9   [-58.6533513128876, -79.18812678746573, 91.547...   \n",
       "10  [-58.77598241406197, -79.4971901837496, 91.772...   \n",
       "11  [-58.933522969406454, -79.7615826756483, 92.11...   \n",
       "12  [-59.010329176036336, -80.10279785794883, 92.4...   \n",
       "13  [-59.15671573343587, -80.31955886370264, 92.65...   \n",
       "14  [-59.20683913600197, -80.42975811533267, 92.80...   \n",
       "15  [-59.26162611049737, -80.60081762784809, 92.98...   \n",
       "16  [-59.32705012151651, -80.69454066509708, 93.06...   \n",
       "\n",
       "                                           chi_in_MHz    χr MHz     gr MHz  \n",
       "1   [-0.6901893836787092, -7.469776799517084, -4.7...  0.690189  51.050151  \n",
       "2   [-0.7596545287620622, -5.630841611322401, -5.0...  0.759655  57.014939  \n",
       "3   [-0.6752737625807934, -4.728224821154976, -4.3...  0.675274  57.137614  \n",
       "4   [-0.6305562779858115, -4.206952032633609, -3.9...  0.630556  57.596306  \n",
       "5   [-0.600274392072851, -3.941394315240594, -3.77...  0.600274  57.424399  \n",
       "6   [-0.5769942776512361, -3.7557686992106483, -3....  0.576994  58.021597  \n",
       "7   [-0.5709254439055463, -3.654899282242063, -3.5...  0.570925  58.230779  \n",
       "8   [-0.5582986466954212, -3.541510402225065, -3.4...  0.558299  58.396940  \n",
       "9   [-0.5544273460749116, -3.5048197505778904, -3....  0.554427  58.653351  \n",
       "10  [-0.5514045027089006, -3.4781250301772637, -3....  0.551405  58.775982  \n",
       "11  [-0.5492199305024316, -3.4495846115898616, -3....  0.549220  58.933523  \n",
       "12  [-0.5456679697789586, -3.429169911988099, -3.3...  0.545668  59.010329  \n",
       "13  [-0.5468100087772996, -3.432097777453171, -3.3...  0.546810  59.156716  \n",
       "14  [-0.5450725620905792, -3.4149905903173354, -3....  0.545073  59.206839  \n",
       "15  [-0.544102756805935, -3.4098522589949947, -3.3...  0.544103  59.261626  \n",
       "16  [-0.5442390762823711, -3.407213926983278, -3.3...  0.544239  59.327050  "
      ]
     },
     "execution_count": 51,
     "metadata": {},
     "output_type": "execute_result"
    }
   ],
   "source": [
    "c1.run_lom()\n",
    "c1.lumped_oscillator_all"
   ]
  },
  {
   "cell_type": "code",
   "execution_count": 52,
   "id": "6016f429-5205-4ced-bf8f-5c8b70498f83",
   "metadata": {},
   "outputs": [
    {
     "name": "stderr",
     "output_type": "stream",
     "text": [
      "WARNING:py.warnings:C:\\ProgramData\\Anaconda3\\envs\\qmetal\\lib\\site-packages\\pyEPR\\core_distributed_analysis.py:504: FutureWarning: The default dtype for empty Series will be 'object' instead of 'float64' in a future version. Specify a dtype explicitly to silence this warning.\n",
      "  self._hfss_variables[variation] = pd.Series(\n",
      "\n",
      "INFO 03:00PM [hfss_report_full_convergence]: Creating report for variation 0\n"
     ]
    },
    {
     "name": "stdout",
     "output_type": "stream",
     "text": [
      "Design \"Q_1_q3d\" info:\n",
      "\t# eigenmodes    0\n",
      "\t# variations    1\n"
     ]
    }
   ],
   "source": [
    "c1.plot_convergence();\n",
    "c1.plot_convergence_chi()"
   ]
  },
  {
   "cell_type": "code",
   "execution_count": 53,
   "id": "8d7caa6d-fe73-4b3b-8c3a-662b007d1505",
   "metadata": {},
   "outputs": [],
   "source": [
    "Q_1.options.pad_gap = '28um'\n",
    "Q_1.options.connection_pads.readout.pad_gap = '15um'\n",
    "Q_1.options.connection_pads.readout.pad_width = '150um'\n",
    "Q_1.options.connection_pads.bus_13.pad_width = '130um'\n",
    "Q_1.options.connection_pads.bus_14.pad_width = '110um'\n",
    "\n",
    "gui.rebuild()"
   ]
  },
  {
   "cell_type": "code",
   "execution_count": 54,
   "id": "0fc2024e-d5b7-4052-a1b5-58ee0385dc37",
   "metadata": {},
   "outputs": [],
   "source": [
    "c1.sim.renderer.clean_active_design()"
   ]
  },
  {
   "cell_type": "code",
   "execution_count": 55,
   "id": "79d51a25-2979-4666-a933-193f90665458",
   "metadata": {},
   "outputs": [
    {
     "name": "stderr",
     "output_type": "stream",
     "text": [
      "INFO 03:13PM [connect_design]: \tOpened active design\n",
      "\tDesign:    Q_1_q3d [Solution type: Q3D]\n",
      "INFO 03:13PM [get_setup]: \tOpened setup `Tune_Q_1`  (<class 'pyEPR.ansys.AnsysQ3DSetup'>)\n",
      "INFO 03:13PM [analyze]: Analyzing setup Tune_Q_1\n",
      "INFO 03:16PM [get_matrix]: Exporting matrix data to (C:\\Users\\user\\AppData\\Local\\Temp\\tmpyn0i700s.txt, C, , Tune_Q_1:LastAdaptive, \"Original\", \"ohm\", \"nH\", \"fF\", \"mSie\", 4800000000, Maxwell, 1, False\n",
      "INFO 03:16PM [get_matrix]: Exporting matrix data to (C:\\Users\\user\\AppData\\Local\\Temp\\tmpdne66jdb.txt, C, , Tune_Q_1:AdaptivePass, \"Original\", \"ohm\", \"nH\", \"fF\", \"mSie\", 4800000000, Maxwell, 1, False\n",
      "INFO 03:16PM [get_matrix]: Exporting matrix data to (C:\\Users\\user\\AppData\\Local\\Temp\\tmph5d012kl.txt, C, , Tune_Q_1:AdaptivePass, \"Original\", \"ohm\", \"nH\", \"fF\", \"mSie\", 4800000000, Maxwell, 2, False\n",
      "INFO 03:16PM [get_matrix]: Exporting matrix data to (C:\\Users\\user\\AppData\\Local\\Temp\\tmprcdk5yuf.txt, C, , Tune_Q_1:AdaptivePass, \"Original\", \"ohm\", \"nH\", \"fF\", \"mSie\", 4800000000, Maxwell, 3, False\n",
      "INFO 03:16PM [get_matrix]: Exporting matrix data to (C:\\Users\\user\\AppData\\Local\\Temp\\tmpaak3a7yq.txt, C, , Tune_Q_1:AdaptivePass, \"Original\", \"ohm\", \"nH\", \"fF\", \"mSie\", 4800000000, Maxwell, 4, False\n",
      "INFO 03:16PM [get_matrix]: Exporting matrix data to (C:\\Users\\user\\AppData\\Local\\Temp\\tmpmj04gdn8.txt, C, , Tune_Q_1:AdaptivePass, \"Original\", \"ohm\", \"nH\", \"fF\", \"mSie\", 4800000000, Maxwell, 5, False\n",
      "INFO 03:16PM [get_matrix]: Exporting matrix data to (C:\\Users\\user\\AppData\\Local\\Temp\\tmp0ce6fvsf.txt, C, , Tune_Q_1:AdaptivePass, \"Original\", \"ohm\", \"nH\", \"fF\", \"mSie\", 4800000000, Maxwell, 6, False\n",
      "INFO 03:16PM [get_matrix]: Exporting matrix data to (C:\\Users\\user\\AppData\\Local\\Temp\\tmp8vm852nz.txt, C, , Tune_Q_1:AdaptivePass, \"Original\", \"ohm\", \"nH\", \"fF\", \"mSie\", 4800000000, Maxwell, 7, False\n",
      "INFO 03:16PM [get_matrix]: Exporting matrix data to (C:\\Users\\user\\AppData\\Local\\Temp\\tmptm_dgrtw.txt, C, , Tune_Q_1:AdaptivePass, \"Original\", \"ohm\", \"nH\", \"fF\", \"mSie\", 4800000000, Maxwell, 8, False\n",
      "INFO 03:16PM [get_matrix]: Exporting matrix data to (C:\\Users\\user\\AppData\\Local\\Temp\\tmphjrxxpb3.txt, C, , Tune_Q_1:AdaptivePass, \"Original\", \"ohm\", \"nH\", \"fF\", \"mSie\", 4800000000, Maxwell, 9, False\n",
      "INFO 03:16PM [get_matrix]: Exporting matrix data to (C:\\Users\\user\\AppData\\Local\\Temp\\tmpkp4lro4h.txt, C, , Tune_Q_1:AdaptivePass, \"Original\", \"ohm\", \"nH\", \"fF\", \"mSie\", 4800000000, Maxwell, 10, False\n",
      "INFO 03:16PM [get_matrix]: Exporting matrix data to (C:\\Users\\user\\AppData\\Local\\Temp\\tmpruqybn7z.txt, C, , Tune_Q_1:AdaptivePass, \"Original\", \"ohm\", \"nH\", \"fF\", \"mSie\", 4800000000, Maxwell, 11, False\n",
      "INFO 03:16PM [get_matrix]: Exporting matrix data to (C:\\Users\\user\\AppData\\Local\\Temp\\tmp0r9w08l6.txt, C, , Tune_Q_1:AdaptivePass, \"Original\", \"ohm\", \"nH\", \"fF\", \"mSie\", 4800000000, Maxwell, 12, False\n",
      "INFO 03:16PM [get_matrix]: Exporting matrix data to (C:\\Users\\user\\AppData\\Local\\Temp\\tmprlnzcnfk.txt, C, , Tune_Q_1:AdaptivePass, \"Original\", \"ohm\", \"nH\", \"fF\", \"mSie\", 4800000000, Maxwell, 13, False\n",
      "INFO 03:16PM [get_matrix]: Exporting matrix data to (C:\\Users\\user\\AppData\\Local\\Temp\\tmpkcqdtx3w.txt, C, , Tune_Q_1:AdaptivePass, \"Original\", \"ohm\", \"nH\", \"fF\", \"mSie\", 4800000000, Maxwell, 14, False\n",
      "INFO 03:16PM [get_matrix]: Exporting matrix data to (C:\\Users\\user\\AppData\\Local\\Temp\\tmpctdl1azc.txt, C, , Tune_Q_1:AdaptivePass, \"Original\", \"ohm\", \"nH\", \"fF\", \"mSie\", 4800000000, Maxwell, 15, False\n",
      "INFO 03:16PM [get_matrix]: Exporting matrix data to (C:\\Users\\user\\AppData\\Local\\Temp\\tmpt6btsadc.txt, C, , Tune_Q_1:AdaptivePass, \"Original\", \"ohm\", \"nH\", \"fF\", \"mSie\", 4800000000, Maxwell, 16, False\n",
      "INFO 03:16PM [get_matrix]: Exporting matrix data to (C:\\Users\\user\\AppData\\Local\\Temp\\tmpaln0wwl9.txt, C, , Tune_Q_1:AdaptivePass, \"Original\", \"ohm\", \"nH\", \"fF\", \"mSie\", 4800000000, Maxwell, 17, False\n"
     ]
    }
   ],
   "source": [
    "c1.sim.run(name=\"Q_1\", components=['Q_1'], open_terminations=[('Q_1', 'readout'), ('Q_1', 'bus_13'),('Q_1', 'bus_14'), ('Q_1', 'Charge_Line')])"
   ]
  },
  {
   "cell_type": "code",
   "execution_count": 56,
   "id": "65ef383d-77f4-4a6c-a951-9ce0a3fc836a",
   "metadata": {},
   "outputs": [
    {
     "data": {
      "text/html": [
       "<div>\n",
       "<style scoped>\n",
       "    .dataframe tbody tr th:only-of-type {\n",
       "        vertical-align: middle;\n",
       "    }\n",
       "\n",
       "    .dataframe tbody tr th {\n",
       "        vertical-align: top;\n",
       "    }\n",
       "\n",
       "    .dataframe thead th {\n",
       "        text-align: right;\n",
       "    }\n",
       "</style>\n",
       "<table border=\"1\" class=\"dataframe\">\n",
       "  <thead>\n",
       "    <tr style=\"text-align: right;\">\n",
       "      <th></th>\n",
       "      <th>bus_13_connector_pad_Q_1</th>\n",
       "      <th>bus_14_connector_pad_Q_1</th>\n",
       "      <th>cl_metal_Q_1</th>\n",
       "      <th>ground_main_plane</th>\n",
       "      <th>pad_bot_Q_1</th>\n",
       "      <th>pad_top_Q_1</th>\n",
       "      <th>readout_connector_pad_Q_1</th>\n",
       "    </tr>\n",
       "  </thead>\n",
       "  <tbody>\n",
       "    <tr>\n",
       "      <th>bus_13_connector_pad_Q_1</th>\n",
       "      <td>53.33077</td>\n",
       "      <td>-0.33159</td>\n",
       "      <td>-0.00965</td>\n",
       "      <td>-34.13588</td>\n",
       "      <td>-1.63182</td>\n",
       "      <td>-15.89420</td>\n",
       "      <td>-0.48710</td>\n",
       "    </tr>\n",
       "    <tr>\n",
       "      <th>bus_14_connector_pad_Q_1</th>\n",
       "      <td>-0.33159</td>\n",
       "      <td>50.24319</td>\n",
       "      <td>-0.00780</td>\n",
       "      <td>-33.39629</td>\n",
       "      <td>-14.15842</td>\n",
       "      <td>-1.42492</td>\n",
       "      <td>-0.14047</td>\n",
       "    </tr>\n",
       "    <tr>\n",
       "      <th>cl_metal_Q_1</th>\n",
       "      <td>-0.00965</td>\n",
       "      <td>-0.00780</td>\n",
       "      <td>16.52001</td>\n",
       "      <td>-15.93983</td>\n",
       "      <td>-0.13809</td>\n",
       "      <td>-0.18193</td>\n",
       "      <td>-0.16703</td>\n",
       "    </tr>\n",
       "    <tr>\n",
       "      <th>ground_main_plane</th>\n",
       "      <td>-34.13588</td>\n",
       "      <td>-33.39629</td>\n",
       "      <td>-15.93983</td>\n",
       "      <td>249.39844</td>\n",
       "      <td>-38.99769</td>\n",
       "      <td>-33.19551</td>\n",
       "      <td>-35.40139</td>\n",
       "    </tr>\n",
       "    <tr>\n",
       "      <th>pad_bot_Q_1</th>\n",
       "      <td>-1.63182</td>\n",
       "      <td>-14.15842</td>\n",
       "      <td>-0.13809</td>\n",
       "      <td>-38.99769</td>\n",
       "      <td>92.28256</td>\n",
       "      <td>-32.74671</td>\n",
       "      <td>-1.84476</td>\n",
       "    </tr>\n",
       "    <tr>\n",
       "      <th>pad_top_Q_1</th>\n",
       "      <td>-15.89420</td>\n",
       "      <td>-1.42492</td>\n",
       "      <td>-0.18193</td>\n",
       "      <td>-33.19551</td>\n",
       "      <td>-32.74671</td>\n",
       "      <td>101.60921</td>\n",
       "      <td>-15.69293</td>\n",
       "    </tr>\n",
       "    <tr>\n",
       "      <th>readout_connector_pad_Q_1</th>\n",
       "      <td>-0.48710</td>\n",
       "      <td>-0.14047</td>\n",
       "      <td>-0.16703</td>\n",
       "      <td>-35.40139</td>\n",
       "      <td>-1.84476</td>\n",
       "      <td>-15.69293</td>\n",
       "      <td>54.65882</td>\n",
       "    </tr>\n",
       "  </tbody>\n",
       "</table>\n",
       "</div>"
      ],
      "text/plain": [
       "                           bus_13_connector_pad_Q_1  bus_14_connector_pad_Q_1  \\\n",
       "bus_13_connector_pad_Q_1                   53.33077                  -0.33159   \n",
       "bus_14_connector_pad_Q_1                   -0.33159                  50.24319   \n",
       "cl_metal_Q_1                               -0.00965                  -0.00780   \n",
       "ground_main_plane                         -34.13588                 -33.39629   \n",
       "pad_bot_Q_1                                -1.63182                 -14.15842   \n",
       "pad_top_Q_1                               -15.89420                  -1.42492   \n",
       "readout_connector_pad_Q_1                  -0.48710                  -0.14047   \n",
       "\n",
       "                           cl_metal_Q_1  ground_main_plane  pad_bot_Q_1  \\\n",
       "bus_13_connector_pad_Q_1       -0.00965          -34.13588     -1.63182   \n",
       "bus_14_connector_pad_Q_1       -0.00780          -33.39629    -14.15842   \n",
       "cl_metal_Q_1                   16.52001          -15.93983     -0.13809   \n",
       "ground_main_plane             -15.93983          249.39844    -38.99769   \n",
       "pad_bot_Q_1                    -0.13809          -38.99769     92.28256   \n",
       "pad_top_Q_1                    -0.18193          -33.19551    -32.74671   \n",
       "readout_connector_pad_Q_1      -0.16703          -35.40139     -1.84476   \n",
       "\n",
       "                           pad_top_Q_1  readout_connector_pad_Q_1  \n",
       "bus_13_connector_pad_Q_1     -15.89420                   -0.48710  \n",
       "bus_14_connector_pad_Q_1      -1.42492                   -0.14047  \n",
       "cl_metal_Q_1                  -0.18193                   -0.16703  \n",
       "ground_main_plane            -33.19551                  -35.40139  \n",
       "pad_bot_Q_1                  -32.74671                   -1.84476  \n",
       "pad_top_Q_1                  101.60921                  -15.69293  \n",
       "readout_connector_pad_Q_1    -15.69293                   54.65882  "
      ]
     },
     "execution_count": 56,
     "metadata": {},
     "output_type": "execute_result"
    }
   ],
   "source": [
    "c1.sim.capacitance_matrix"
   ]
  },
  {
   "cell_type": "code",
   "execution_count": 57,
   "id": "67795f84-4ddd-438a-83dd-d90c9904f7c8",
   "metadata": {},
   "outputs": [],
   "source": [
    "c1.setup.junctions = Dict({'Lj': 14.9, 'Cj': 2})\n",
    "c1.setup.freq_readout = 6.8\n",
    "c1.setup.freq_bus = [5.8, 6, 8]  "
   ]
  },
  {
   "cell_type": "code",
   "execution_count": 58,
   "id": "381dded9-34e3-4171-87c7-bc62577756d5",
   "metadata": {},
   "outputs": [
    {
     "name": "stdout",
     "output_type": "stream",
     "text": [
      "[4, 5] [6 0 1 2]\n",
      "Predicted Values\n",
      "\n",
      "Transmon Properties\n",
      "f_Q 4.783420 [GHz]\n",
      "EC 296.412121 [MHz]\n",
      "EJ 10.966148 [GHz]\n",
      "alpha -350.858041 [MHz]\n",
      "dispersion 127.069816 [KHz]\n",
      "Lq 14.893992 [nH]\n",
      "Cq 65.348974 [fF]\n",
      "T1 118.961871 [us]\n",
      "\n",
      "**Coupling Properties**\n",
      "\n",
      "tCqbus1 -6.239246 [fF]\n",
      "gbus1_in_MHz -86.008235 [MHz]\n",
      "χ_bus1 -1.127191 [MHz]\n",
      "1/T1bus1 843.765280 [Hz]\n",
      "T1bus1 188.624665 [us]\n",
      "\n",
      "tCqbus2 -6.446807 [fF]\n",
      "gbus2_in_MHz -75.858743 [MHz]\n",
      "χ_bus2 -2.942137 [MHz]\n",
      "1/T1bus2 263.901224 [Hz]\n",
      "T1bus2 603.085278 [us]\n",
      "\n",
      "tCqbus3 6.975273 [fF]\n",
      "gbus3_in_MHz 84.938431 [MHz]\n",
      "χ_bus3 -2.699845 [MHz]\n",
      "1/T1bus3 230.198559 [Hz]\n",
      "T1bus3 691.381144 [us]\n",
      "\n",
      "tCqbus4 -0.009423 [fF]\n",
      "gbus4_in_MHz -0.153610 [MHz]\n",
      "χ_bus4 -0.000002 [MHz]\n",
      "1/T1bus4 0.000102 [Hz]\n",
      "T1bus4 1557523456.463995 [us]\n",
      "Bus-Bus Couplings\n",
      "gbus1_2 7.198865 [MHz]\n",
      "gbus1_3 5.899613 [MHz]\n",
      "gbus1_4 0.720176 [MHz]\n",
      "gbus2_3 5.453219 [MHz]\n",
      "gbus2_4 0.159952 [MHz]\n",
      "gbus3_4 0.144998 [MHz]\n"
     ]
    },
    {
     "data": {
      "text/html": [
       "<div>\n",
       "<style scoped>\n",
       "    .dataframe tbody tr th:only-of-type {\n",
       "        vertical-align: middle;\n",
       "    }\n",
       "\n",
       "    .dataframe tbody tr th {\n",
       "        vertical-align: top;\n",
       "    }\n",
       "\n",
       "    .dataframe thead th {\n",
       "        text-align: right;\n",
       "    }\n",
       "</style>\n",
       "<table border=\"1\" class=\"dataframe\">\n",
       "  <thead>\n",
       "    <tr style=\"text-align: right;\">\n",
       "      <th></th>\n",
       "      <th>fQ</th>\n",
       "      <th>EC</th>\n",
       "      <th>EJ</th>\n",
       "      <th>alpha</th>\n",
       "      <th>dispersion</th>\n",
       "      <th>gbus</th>\n",
       "      <th>chi_in_MHz</th>\n",
       "      <th>χr MHz</th>\n",
       "      <th>gr MHz</th>\n",
       "    </tr>\n",
       "  </thead>\n",
       "  <tbody>\n",
       "    <tr>\n",
       "      <th>1</th>\n",
       "      <td>5.173744</td>\n",
       "      <td>351.229644</td>\n",
       "      <td>10.966148</td>\n",
       "      <td>-424.616752</td>\n",
       "      <td>483.605938</td>\n",
       "      <td>[-76.13990406846295, -71.6845437365883, 65.999...</td>\n",
       "      <td>[-1.5117304868151291, -6.668655038461873, -3.6...</td>\n",
       "      <td>1.511730</td>\n",
       "      <td>76.139904</td>\n",
       "    </tr>\n",
       "    <tr>\n",
       "      <th>2</th>\n",
       "      <td>5.086753</td>\n",
       "      <td>338.535722</td>\n",
       "      <td>10.966148</td>\n",
       "      <td>-407.271164</td>\n",
       "      <td>365.60133</td>\n",
       "      <td>[-80.67980384965823, -69.29027664807386, 76.83...</td>\n",
       "      <td>[-1.4982801687245453, -4.927555542813164, -4.0...</td>\n",
       "      <td>1.498280</td>\n",
       "      <td>80.679804</td>\n",
       "    </tr>\n",
       "    <tr>\n",
       "      <th>3</th>\n",
       "      <td>4.99565</td>\n",
       "      <td>325.537543</td>\n",
       "      <td>10.966148</td>\n",
       "      <td>-389.678323</td>\n",
       "      <td>269.862253</td>\n",
       "      <td>[-81.41294111412391, -70.62964336589336, 78.22...</td>\n",
       "      <td>[-1.3432431929109137, -4.082702798422833, -3.4...</td>\n",
       "      <td>1.343243</td>\n",
       "      <td>81.412941</td>\n",
       "    </tr>\n",
       "    <tr>\n",
       "      <th>4</th>\n",
       "      <td>4.938898</td>\n",
       "      <td>317.591969</td>\n",
       "      <td>10.966148</td>\n",
       "      <td>-379.006488</td>\n",
       "      <td>222.067404</td>\n",
       "      <td>[-82.32384668839275, -71.35671629138895, 79.69...</td>\n",
       "      <td>[-1.2707454542506154, -3.649061024271793, -3.1...</td>\n",
       "      <td>1.270745</td>\n",
       "      <td>82.323847</td>\n",
       "    </tr>\n",
       "    <tr>\n",
       "      <th>5</th>\n",
       "      <td>4.902011</td>\n",
       "      <td>312.489313</td>\n",
       "      <td>10.966148</td>\n",
       "      <td>-372.185518</td>\n",
       "      <td>195.157329</td>\n",
       "      <td>[-82.46919796809468, -71.66530517005322, 80.71...</td>\n",
       "      <td>[-1.2131361479802836, -3.386340028906704, -3.0...</td>\n",
       "      <td>1.213136</td>\n",
       "      <td>82.469198</td>\n",
       "    </tr>\n",
       "    <tr>\n",
       "      <th>6</th>\n",
       "      <td>4.863438</td>\n",
       "      <td>307.205468</td>\n",
       "      <td>10.966148</td>\n",
       "      <td>-365.14887</td>\n",
       "      <td>170.134895</td>\n",
       "      <td>[-83.46562814193177, -73.08047170801872, 81.42...</td>\n",
       "      <td>[-1.179995635632148, -3.234793681033957, -2.87...</td>\n",
       "      <td>1.179996</td>\n",
       "      <td>83.465628</td>\n",
       "    </tr>\n",
       "    <tr>\n",
       "      <th>7</th>\n",
       "      <td>4.846058</td>\n",
       "      <td>304.841909</td>\n",
       "      <td>10.966148</td>\n",
       "      <td>-362.009931</td>\n",
       "      <td>159.818099</td>\n",
       "      <td>[-83.94048319432972, -73.50803303225214, 82.41...</td>\n",
       "      <td>[-1.1661525700154394, -3.152168745281802, -2.8...</td>\n",
       "      <td>1.166153</td>\n",
       "      <td>83.940483</td>\n",
       "    </tr>\n",
       "    <tr>\n",
       "      <th>8</th>\n",
       "      <td>4.827634</td>\n",
       "      <td>302.348092</td>\n",
       "      <td>10.966148</td>\n",
       "      <td>-358.70379</td>\n",
       "      <td>149.488977</td>\n",
       "      <td>[-84.4846818672561, -73.92403540502701, 82.768...</td>\n",
       "      <td>[-1.1528078226248306, -3.0649774610674, -2.781...</td>\n",
       "      <td>1.152808</td>\n",
       "      <td>84.484682</td>\n",
       "    </tr>\n",
       "    <tr>\n",
       "      <th>9</th>\n",
       "      <td>4.814106</td>\n",
       "      <td>300.524556</td>\n",
       "      <td>10.966148</td>\n",
       "      <td>-356.290011</td>\n",
       "      <td>142.284734</td>\n",
       "      <td>[-84.8487874923684, -74.47740615576787, 83.354...</td>\n",
       "      <td>[-1.1421660184738154, -3.023340374710646, -2.7...</td>\n",
       "      <td>1.142166</td>\n",
       "      <td>84.848787</td>\n",
       "    </tr>\n",
       "    <tr>\n",
       "      <th>10</th>\n",
       "      <td>4.807848</td>\n",
       "      <td>299.68321</td>\n",
       "      <td>10.966148</td>\n",
       "      <td>-355.177403</td>\n",
       "      <td>139.057345</td>\n",
       "      <td>[-85.0759413285827, -74.80651585287654, 83.678...</td>\n",
       "      <td>[-1.138855474782897, -3.010286715566972, -2.74...</td>\n",
       "      <td>1.138855</td>\n",
       "      <td>85.075941</td>\n",
       "    </tr>\n",
       "    <tr>\n",
       "      <th>11</th>\n",
       "      <td>4.800524</td>\n",
       "      <td>298.700259</td>\n",
       "      <td>10.966148</td>\n",
       "      <td>-353.878385</td>\n",
       "      <td>135.362406</td>\n",
       "      <td>[-85.39766262804773, -75.00599311865467, 84.04...</td>\n",
       "      <td>[-1.1364757600376003, -2.98034921617103, -2.72...</td>\n",
       "      <td>1.136476</td>\n",
       "      <td>85.397663</td>\n",
       "    </tr>\n",
       "    <tr>\n",
       "      <th>12</th>\n",
       "      <td>4.79474</td>\n",
       "      <td>297.925264</td>\n",
       "      <td>10.966148</td>\n",
       "      <td>-352.854837</td>\n",
       "      <td>132.505827</td>\n",
       "      <td>[-85.59258756231004, -75.3510807104516, 84.353...</td>\n",
       "      <td>[-1.133022794864862, -2.9718035735439168, -2.7...</td>\n",
       "      <td>1.133023</td>\n",
       "      <td>85.592588</td>\n",
       "    </tr>\n",
       "    <tr>\n",
       "      <th>13</th>\n",
       "      <td>4.791472</td>\n",
       "      <td>297.487946</td>\n",
       "      <td>10.966148</td>\n",
       "      <td>-352.277514</td>\n",
       "      <td>130.915673</td>\n",
       "      <td>[-85.70624050925984, -75.52635677399351, 84.53...</td>\n",
       "      <td>[-1.1311695583130403, -2.9654409633207726, -2....</td>\n",
       "      <td>1.131170</td>\n",
       "      <td>85.706241</td>\n",
       "    </tr>\n",
       "    <tr>\n",
       "      <th>14</th>\n",
       "      <td>4.78791</td>\n",
       "      <td>297.011705</td>\n",
       "      <td>10.966148</td>\n",
       "      <td>-351.649014</td>\n",
       "      <td>129.201691</td>\n",
       "      <td>[-85.83806882516417, -75.62975297769344, 84.71...</td>\n",
       "      <td>[-1.1293616953381256, -2.9516845222062265, -2....</td>\n",
       "      <td>1.129362</td>\n",
       "      <td>85.838069</td>\n",
       "    </tr>\n",
       "    <tr>\n",
       "      <th>15</th>\n",
       "      <td>4.784951</td>\n",
       "      <td>296.616428</td>\n",
       "      <td>10.966148</td>\n",
       "      <td>-351.127524</td>\n",
       "      <td>127.793006</td>\n",
       "      <td>[-85.95614475479039, -75.76893801139516, 84.87...</td>\n",
       "      <td>[-1.128086042849567, -2.9444731101456423, -2.7...</td>\n",
       "      <td>1.128086</td>\n",
       "      <td>85.956145</td>\n",
       "    </tr>\n",
       "    <tr>\n",
       "      <th>16</th>\n",
       "      <td>4.78342</td>\n",
       "      <td>296.412121</td>\n",
       "      <td>10.966148</td>\n",
       "      <td>-350.858041</td>\n",
       "      <td>127.069816</td>\n",
       "      <td>[-86.00823512086387, -75.85874313416058, 84.93...</td>\n",
       "      <td>[-1.1271910642768193, -2.942137488110536, -2.6...</td>\n",
       "      <td>1.127191</td>\n",
       "      <td>86.008235</td>\n",
       "    </tr>\n",
       "  </tbody>\n",
       "</table>\n",
       "</div>"
      ],
      "text/plain": [
       "          fQ          EC         EJ       alpha  dispersion  \\\n",
       "1   5.173744  351.229644  10.966148 -424.616752  483.605938   \n",
       "2   5.086753  338.535722  10.966148 -407.271164   365.60133   \n",
       "3    4.99565  325.537543  10.966148 -389.678323  269.862253   \n",
       "4   4.938898  317.591969  10.966148 -379.006488  222.067404   \n",
       "5   4.902011  312.489313  10.966148 -372.185518  195.157329   \n",
       "6   4.863438  307.205468  10.966148  -365.14887  170.134895   \n",
       "7   4.846058  304.841909  10.966148 -362.009931  159.818099   \n",
       "8   4.827634  302.348092  10.966148  -358.70379  149.488977   \n",
       "9   4.814106  300.524556  10.966148 -356.290011  142.284734   \n",
       "10  4.807848   299.68321  10.966148 -355.177403  139.057345   \n",
       "11  4.800524  298.700259  10.966148 -353.878385  135.362406   \n",
       "12   4.79474  297.925264  10.966148 -352.854837  132.505827   \n",
       "13  4.791472  297.487946  10.966148 -352.277514  130.915673   \n",
       "14   4.78791  297.011705  10.966148 -351.649014  129.201691   \n",
       "15  4.784951  296.616428  10.966148 -351.127524  127.793006   \n",
       "16   4.78342  296.412121  10.966148 -350.858041  127.069816   \n",
       "\n",
       "                                                 gbus  \\\n",
       "1   [-76.13990406846295, -71.6845437365883, 65.999...   \n",
       "2   [-80.67980384965823, -69.29027664807386, 76.83...   \n",
       "3   [-81.41294111412391, -70.62964336589336, 78.22...   \n",
       "4   [-82.32384668839275, -71.35671629138895, 79.69...   \n",
       "5   [-82.46919796809468, -71.66530517005322, 80.71...   \n",
       "6   [-83.46562814193177, -73.08047170801872, 81.42...   \n",
       "7   [-83.94048319432972, -73.50803303225214, 82.41...   \n",
       "8   [-84.4846818672561, -73.92403540502701, 82.768...   \n",
       "9   [-84.8487874923684, -74.47740615576787, 83.354...   \n",
       "10  [-85.0759413285827, -74.80651585287654, 83.678...   \n",
       "11  [-85.39766262804773, -75.00599311865467, 84.04...   \n",
       "12  [-85.59258756231004, -75.3510807104516, 84.353...   \n",
       "13  [-85.70624050925984, -75.52635677399351, 84.53...   \n",
       "14  [-85.83806882516417, -75.62975297769344, 84.71...   \n",
       "15  [-85.95614475479039, -75.76893801139516, 84.87...   \n",
       "16  [-86.00823512086387, -75.85874313416058, 84.93...   \n",
       "\n",
       "                                           chi_in_MHz    χr MHz     gr MHz  \n",
       "1   [-1.5117304868151291, -6.668655038461873, -3.6...  1.511730  76.139904  \n",
       "2   [-1.4982801687245453, -4.927555542813164, -4.0...  1.498280  80.679804  \n",
       "3   [-1.3432431929109137, -4.082702798422833, -3.4...  1.343243  81.412941  \n",
       "4   [-1.2707454542506154, -3.649061024271793, -3.1...  1.270745  82.323847  \n",
       "5   [-1.2131361479802836, -3.386340028906704, -3.0...  1.213136  82.469198  \n",
       "6   [-1.179995635632148, -3.234793681033957, -2.87...  1.179996  83.465628  \n",
       "7   [-1.1661525700154394, -3.152168745281802, -2.8...  1.166153  83.940483  \n",
       "8   [-1.1528078226248306, -3.0649774610674, -2.781...  1.152808  84.484682  \n",
       "9   [-1.1421660184738154, -3.023340374710646, -2.7...  1.142166  84.848787  \n",
       "10  [-1.138855474782897, -3.010286715566972, -2.74...  1.138855  85.075941  \n",
       "11  [-1.1364757600376003, -2.98034921617103, -2.72...  1.136476  85.397663  \n",
       "12  [-1.133022794864862, -2.9718035735439168, -2.7...  1.133023  85.592588  \n",
       "13  [-1.1311695583130403, -2.9654409633207726, -2....  1.131170  85.706241  \n",
       "14  [-1.1293616953381256, -2.9516845222062265, -2....  1.129362  85.838069  \n",
       "15  [-1.128086042849567, -2.9444731101456423, -2.7...  1.128086  85.956145  \n",
       "16  [-1.1271910642768193, -2.942137488110536, -2.6...  1.127191  86.008235  "
      ]
     },
     "execution_count": 58,
     "metadata": {},
     "output_type": "execute_result"
    }
   ],
   "source": [
    "c1.run_lom()\n",
    "c1.lumped_oscillator_all"
   ]
  },
  {
   "cell_type": "code",
   "execution_count": 59,
   "id": "191976d4-4497-4f0b-88cd-55a823c1cb05",
   "metadata": {},
   "outputs": [],
   "source": [
    "c1.setup.junctions = Dict({'Lj': 16, 'Cj': 2})"
   ]
  },
  {
   "cell_type": "code",
   "execution_count": 60,
   "id": "7095a40a-7b6c-4115-8582-a14c77a9f905",
   "metadata": {},
   "outputs": [
    {
     "name": "stdout",
     "output_type": "stream",
     "text": [
      "[4, 5] [6 0 1 2]\n",
      "Predicted Values\n",
      "\n",
      "Transmon Properties\n",
      "f_Q 4.604056 [GHz]\n",
      "EC 296.412121 [MHz]\n",
      "EJ 10.212225 [GHz]\n",
      "alpha -353.826675 [MHz]\n",
      "dispersion 210.460704 [KHz]\n",
      "Lq 15.993548 [nH]\n",
      "Cq 65.348974 [fF]\n",
      "T1 160.061446 [us]\n",
      "\n",
      "**Coupling Properties**\n",
      "\n",
      "tCqbus1 -6.239246 [fF]\n",
      "gbus1_in_MHz -84.490252 [MHz]\n",
      "χ_bus1 -0.942305 [MHz]\n",
      "1/T1bus1 656.299470 [Hz]\n",
      "T1bus1 242.503538 [us]\n",
      "\n",
      "tCqbus2 -6.446807 [fF]\n",
      "gbus2_in_MHz -74.519892 [MHz]\n",
      "χ_bus2 -2.157830 [MHz]\n",
      "1/T1bus2 176.395079 [Hz]\n",
      "T1bus2 902.264077 [us]\n",
      "\n",
      "tCqbus3 6.975273 [fF]\n",
      "gbus3_in_MHz 83.439330 [MHz]\n",
      "χ_bus3 -2.062360 [MHz]\n",
      "1/T1bus3 161.641901 [Hz]\n",
      "T1bus3 984.614400 [us]\n",
      "\n",
      "tCqbus4 -0.009423 [fF]\n",
      "gbus4_in_MHz -0.150899 [MHz]\n",
      "χ_bus4 -0.000001 [MHz]\n",
      "1/T1bus4 0.000084 [Hz]\n",
      "T1bus4 1887801401.256214 [us]\n",
      "Bus-Bus Couplings\n",
      "gbus1_2 7.198865 [MHz]\n",
      "gbus1_3 5.899613 [MHz]\n",
      "gbus1_4 0.720176 [MHz]\n",
      "gbus2_3 5.453219 [MHz]\n",
      "gbus2_4 0.159952 [MHz]\n",
      "gbus3_4 0.144998 [MHz]\n"
     ]
    },
    {
     "data": {
      "text/html": [
       "<div>\n",
       "<style scoped>\n",
       "    .dataframe tbody tr th:only-of-type {\n",
       "        vertical-align: middle;\n",
       "    }\n",
       "\n",
       "    .dataframe tbody tr th {\n",
       "        vertical-align: top;\n",
       "    }\n",
       "\n",
       "    .dataframe thead th {\n",
       "        text-align: right;\n",
       "    }\n",
       "</style>\n",
       "<table border=\"1\" class=\"dataframe\">\n",
       "  <thead>\n",
       "    <tr style=\"text-align: right;\">\n",
       "      <th></th>\n",
       "      <th>fQ</th>\n",
       "      <th>EC</th>\n",
       "      <th>EJ</th>\n",
       "      <th>alpha</th>\n",
       "      <th>dispersion</th>\n",
       "      <th>gbus</th>\n",
       "      <th>chi_in_MHz</th>\n",
       "      <th>χr MHz</th>\n",
       "      <th>gr MHz</th>\n",
       "    </tr>\n",
       "  </thead>\n",
       "  <tbody>\n",
       "    <tr>\n",
       "      <th>1</th>\n",
       "      <td>4.978261</td>\n",
       "      <td>351.229644</td>\n",
       "      <td>10.212225</td>\n",
       "      <td>-428.905206</td>\n",
       "      <td>761.923676</td>\n",
       "      <td>[-74.79609021006048, -70.41936374345528, 64.83...</td>\n",
       "      <td>[-1.206358782789385, -4.177251341077587, -2.46...</td>\n",
       "      <td>1.206359</td>\n",
       "      <td>74.796090</td>\n",
       "    </tr>\n",
       "    <tr>\n",
       "      <th>2</th>\n",
       "      <td>4.89489</td>\n",
       "      <td>338.535722</td>\n",
       "      <td>10.212225</td>\n",
       "      <td>-411.222124</td>\n",
       "      <td>582.090598</td>\n",
       "      <td>[-79.2558640662711, -68.06735372544321, 75.477...</td>\n",
       "      <td>[-1.2098571164428467, -3.2329353786600765, -2....</td>\n",
       "      <td>1.209857</td>\n",
       "      <td>79.255864</td>\n",
       "    </tr>\n",
       "    <tr>\n",
       "      <th>3</th>\n",
       "      <td>4.807561</td>\n",
       "      <td>325.537543</td>\n",
       "      <td>10.212225</td>\n",
       "      <td>-393.304379</td>\n",
       "      <td>434.575767</td>\n",
       "      <td>[-79.97606199192154, -69.38308159607857, 76.84...</td>\n",
       "      <td>[-1.0971008306658647, -2.788413009258232, -2.4...</td>\n",
       "      <td>1.097101</td>\n",
       "      <td>79.976062</td>\n",
       "    </tr>\n",
       "    <tr>\n",
       "      <th>4</th>\n",
       "      <td>4.753151</td>\n",
       "      <td>317.591969</td>\n",
       "      <td>10.212225</td>\n",
       "      <td>-382.443794</td>\n",
       "      <td>360.22481</td>\n",
       "      <td>[-80.8708907461658, -70.09732221392545, 78.285...</td>\n",
       "      <td>[-1.0448045791440765, -2.5468766003857484, -2....</td>\n",
       "      <td>1.044805</td>\n",
       "      <td>80.870891</td>\n",
       "    </tr>\n",
       "    <tr>\n",
       "      <th>5</th>\n",
       "      <td>4.717782</td>\n",
       "      <td>312.489313</td>\n",
       "      <td>10.212225</td>\n",
       "      <td>-375.505414</td>\n",
       "      <td>318.103689</td>\n",
       "      <td>[-81.01367668163215, -70.40046472360919, 79.29...</td>\n",
       "      <td>[-1.0015797761021406, -2.3943257248046503, -2....</td>\n",
       "      <td>1.001580</td>\n",
       "      <td>81.013677</td>\n",
       "    </tr>\n",
       "    <tr>\n",
       "      <th>6</th>\n",
       "      <td>4.680795</td>\n",
       "      <td>307.205468</td>\n",
       "      <td>10.212225</td>\n",
       "      <td>-368.350243</td>\n",
       "      <td>278.740746</td>\n",
       "      <td>[-81.99252058854502, -71.79065460276573, 79.98...</td>\n",
       "      <td>[-0.9783136352799352, -2.316397687947818, -2.1...</td>\n",
       "      <td>0.978314</td>\n",
       "      <td>81.992521</td>\n",
       "    </tr>\n",
       "    <tr>\n",
       "      <th>7</th>\n",
       "      <td>4.664128</td>\n",
       "      <td>304.841909</td>\n",
       "      <td>10.212225</td>\n",
       "      <td>-365.159274</td>\n",
       "      <td>262.449556</td>\n",
       "      <td>[-82.45899479507835, -72.21066978099527, 80.95...</td>\n",
       "      <td>[-0.9686227356951745, -2.269587979064322, -2.1...</td>\n",
       "      <td>0.968623</td>\n",
       "      <td>82.458995</td>\n",
       "    </tr>\n",
       "    <tr>\n",
       "      <th>8</th>\n",
       "      <td>4.64646</td>\n",
       "      <td>302.348092</td>\n",
       "      <td>10.212225</td>\n",
       "      <td>-361.798888</td>\n",
       "      <td>246.099267</td>\n",
       "      <td>[-82.99358875773684, -72.61933001484178, 81.30...</td>\n",
       "      <td>[-0.9593857484172815, -2.2192494935679608, -2....</td>\n",
       "      <td>0.959386</td>\n",
       "      <td>82.993589</td>\n",
       "    </tr>\n",
       "    <tr>\n",
       "      <th>9</th>\n",
       "      <td>4.633486</td>\n",
       "      <td>300.524556</td>\n",
       "      <td>10.212225</td>\n",
       "      <td>-359.345864</td>\n",
       "      <td>234.670483</td>\n",
       "      <td>[-83.35126818372352, -73.16293417482082, 81.88...</td>\n",
       "      <td>[-0.9518578711901909, -2.1979264406479406, -2....</td>\n",
       "      <td>0.951858</td>\n",
       "      <td>83.351268</td>\n",
       "    </tr>\n",
       "    <tr>\n",
       "      <th>10</th>\n",
       "      <td>4.627484</td>\n",
       "      <td>299.68321</td>\n",
       "      <td>10.212225</td>\n",
       "      <td>-358.215269</td>\n",
       "      <td>229.543583</td>\n",
       "      <td>[-83.574412920152, -73.48623532544761, 82.2015...</td>\n",
       "      <td>[-0.9497072645671266, -2.1924497296797947, -2....</td>\n",
       "      <td>0.949707</td>\n",
       "      <td>83.574413</td>\n",
       "    </tr>\n",
       "    <tr>\n",
       "      <th>11</th>\n",
       "      <td>4.62046</td>\n",
       "      <td>298.700259</td>\n",
       "      <td>10.212225</td>\n",
       "      <td>-356.895329</td>\n",
       "      <td>223.668464</td>\n",
       "      <td>[-83.89045607297298, -73.6821919627528, 82.558...</td>\n",
       "      <td>[-0.9484298103173667, -2.17525564924816, -2.07...</td>\n",
       "      <td>0.948430</td>\n",
       "      <td>83.890456</td>\n",
       "    </tr>\n",
       "    <tr>\n",
       "      <th>12</th>\n",
       "      <td>4.614912</td>\n",
       "      <td>297.925264</td>\n",
       "      <td>10.212225</td>\n",
       "      <td>-355.855357</td>\n",
       "      <td>219.122259</td>\n",
       "      <td>[-84.08194072409843, -74.02118900986237, 82.86...</td>\n",
       "      <td>[-0.9461022689694579, -2.172618786732925, -2.0...</td>\n",
       "      <td>0.946102</td>\n",
       "      <td>84.081941</td>\n",
       "    </tr>\n",
       "    <tr>\n",
       "      <th>13</th>\n",
       "      <td>4.611778</td>\n",
       "      <td>297.487946</td>\n",
       "      <td>10.212225</td>\n",
       "      <td>-355.268794</td>\n",
       "      <td>216.589965</td>\n",
       "      <td>[-84.19358777930161, -74.19337157852647, 83.04...</td>\n",
       "      <td>[-0.9448662749062866, -2.169985270848844, -2.0...</td>\n",
       "      <td>0.944866</td>\n",
       "      <td>84.193588</td>\n",
       "    </tr>\n",
       "    <tr>\n",
       "      <th>14</th>\n",
       "      <td>4.608362</td>\n",
       "      <td>297.011705</td>\n",
       "      <td>10.212225</td>\n",
       "      <td>-354.630255</td>\n",
       "      <td>213.859185</td>\n",
       "      <td>[-84.32308942143337, -74.29494291452873, 83.21...</td>\n",
       "      <td>[-0.9436943271898879, -2.1620988761114805, -2....</td>\n",
       "      <td>0.943694</td>\n",
       "      <td>84.323089</td>\n",
       "    </tr>\n",
       "    <tr>\n",
       "      <th>15</th>\n",
       "      <td>4.605524</td>\n",
       "      <td>296.616428</td>\n",
       "      <td>10.212225</td>\n",
       "      <td>-354.100451</td>\n",
       "      <td>211.613799</td>\n",
       "      <td>[-84.43908139688973, -74.43167143374623, 83.37...</td>\n",
       "      <td>[-0.9429083318840192, -2.1586156352778683, -2....</td>\n",
       "      <td>0.942908</td>\n",
       "      <td>84.439081</td>\n",
       "    </tr>\n",
       "    <tr>\n",
       "      <th>16</th>\n",
       "      <td>4.604056</td>\n",
       "      <td>296.412121</td>\n",
       "      <td>10.212225</td>\n",
       "      <td>-353.826675</td>\n",
       "      <td>210.460704</td>\n",
       "      <td>[-84.49025240593652, -74.51989156149487, 83.43...</td>\n",
       "      <td>[-0.9423046961524586, -2.157830456543623, -2.0...</td>\n",
       "      <td>0.942305</td>\n",
       "      <td>84.490252</td>\n",
       "    </tr>\n",
       "  </tbody>\n",
       "</table>\n",
       "</div>"
      ],
      "text/plain": [
       "          fQ          EC         EJ       alpha  dispersion  \\\n",
       "1   4.978261  351.229644  10.212225 -428.905206  761.923676   \n",
       "2    4.89489  338.535722  10.212225 -411.222124  582.090598   \n",
       "3   4.807561  325.537543  10.212225 -393.304379  434.575767   \n",
       "4   4.753151  317.591969  10.212225 -382.443794   360.22481   \n",
       "5   4.717782  312.489313  10.212225 -375.505414  318.103689   \n",
       "6   4.680795  307.205468  10.212225 -368.350243  278.740746   \n",
       "7   4.664128  304.841909  10.212225 -365.159274  262.449556   \n",
       "8    4.64646  302.348092  10.212225 -361.798888  246.099267   \n",
       "9   4.633486  300.524556  10.212225 -359.345864  234.670483   \n",
       "10  4.627484   299.68321  10.212225 -358.215269  229.543583   \n",
       "11   4.62046  298.700259  10.212225 -356.895329  223.668464   \n",
       "12  4.614912  297.925264  10.212225 -355.855357  219.122259   \n",
       "13  4.611778  297.487946  10.212225 -355.268794  216.589965   \n",
       "14  4.608362  297.011705  10.212225 -354.630255  213.859185   \n",
       "15  4.605524  296.616428  10.212225 -354.100451  211.613799   \n",
       "16  4.604056  296.412121  10.212225 -353.826675  210.460704   \n",
       "\n",
       "                                                 gbus  \\\n",
       "1   [-74.79609021006048, -70.41936374345528, 64.83...   \n",
       "2   [-79.2558640662711, -68.06735372544321, 75.477...   \n",
       "3   [-79.97606199192154, -69.38308159607857, 76.84...   \n",
       "4   [-80.8708907461658, -70.09732221392545, 78.285...   \n",
       "5   [-81.01367668163215, -70.40046472360919, 79.29...   \n",
       "6   [-81.99252058854502, -71.79065460276573, 79.98...   \n",
       "7   [-82.45899479507835, -72.21066978099527, 80.95...   \n",
       "8   [-82.99358875773684, -72.61933001484178, 81.30...   \n",
       "9   [-83.35126818372352, -73.16293417482082, 81.88...   \n",
       "10  [-83.574412920152, -73.48623532544761, 82.2015...   \n",
       "11  [-83.89045607297298, -73.6821919627528, 82.558...   \n",
       "12  [-84.08194072409843, -74.02118900986237, 82.86...   \n",
       "13  [-84.19358777930161, -74.19337157852647, 83.04...   \n",
       "14  [-84.32308942143337, -74.29494291452873, 83.21...   \n",
       "15  [-84.43908139688973, -74.43167143374623, 83.37...   \n",
       "16  [-84.49025240593652, -74.51989156149487, 83.43...   \n",
       "\n",
       "                                           chi_in_MHz    χr MHz     gr MHz  \n",
       "1   [-1.206358782789385, -4.177251341077587, -2.46...  1.206359  74.796090  \n",
       "2   [-1.2098571164428467, -3.2329353786600765, -2....  1.209857  79.255864  \n",
       "3   [-1.0971008306658647, -2.788413009258232, -2.4...  1.097101  79.976062  \n",
       "4   [-1.0448045791440765, -2.5468766003857484, -2....  1.044805  80.870891  \n",
       "5   [-1.0015797761021406, -2.3943257248046503, -2....  1.001580  81.013677  \n",
       "6   [-0.9783136352799352, -2.316397687947818, -2.1...  0.978314  81.992521  \n",
       "7   [-0.9686227356951745, -2.269587979064322, -2.1...  0.968623  82.458995  \n",
       "8   [-0.9593857484172815, -2.2192494935679608, -2....  0.959386  82.993589  \n",
       "9   [-0.9518578711901909, -2.1979264406479406, -2....  0.951858  83.351268  \n",
       "10  [-0.9497072645671266, -2.1924497296797947, -2....  0.949707  83.574413  \n",
       "11  [-0.9484298103173667, -2.17525564924816, -2.07...  0.948430  83.890456  \n",
       "12  [-0.9461022689694579, -2.172618786732925, -2.0...  0.946102  84.081941  \n",
       "13  [-0.9448662749062866, -2.169985270848844, -2.0...  0.944866  84.193588  \n",
       "14  [-0.9436943271898879, -2.1620988761114805, -2....  0.943694  84.323089  \n",
       "15  [-0.9429083318840192, -2.1586156352778683, -2....  0.942908  84.439081  \n",
       "16  [-0.9423046961524586, -2.157830456543623, -2.0...  0.942305  84.490252  "
      ]
     },
     "execution_count": 60,
     "metadata": {},
     "output_type": "execute_result"
    }
   ],
   "source": [
    "c1.run_lom()\n",
    "c1.lumped_oscillator_all"
   ]
  },
  {
   "cell_type": "code",
   "execution_count": 61,
   "id": "ca6b0cca-d107-4a8e-8d81-dcbcf869d62a",
   "metadata": {},
   "outputs": [],
   "source": [
    "c1.setup.junctions = Dict({'Lj': 14.9, 'Cj': 4})"
   ]
  },
  {
   "cell_type": "code",
   "execution_count": 62,
   "id": "75d43032-6f93-40a2-a82d-d08781f7ba3c",
   "metadata": {},
   "outputs": [
    {
     "name": "stdout",
     "output_type": "stream",
     "text": [
      "[4, 5] [6 0 1 2]\n",
      "Predicted Values\n",
      "\n",
      "Transmon Properties\n",
      "f_Q 4.716894 [GHz]\n",
      "EC 287.609846 [MHz]\n",
      "EJ 10.966148 [GHz]\n",
      "alpha -339.284958 [MHz]\n",
      "dispersion 98.928486 [KHz]\n",
      "Lq 14.893992 [nH]\n",
      "Cq 67.348974 [fF]\n",
      "T1 129.515775 [us]\n",
      "\n",
      "**Coupling Properties**\n",
      "\n",
      "tCqbus1 -6.239246 [fF]\n",
      "gbus1_in_MHz -86.658883 [MHz]\n",
      "χ_bus1 -1.049455 [MHz]\n",
      "1/T1bus1 789.612459 [Hz]\n",
      "T1bus1 201.560831 [us]\n",
      "\n",
      "tCqbus2 -6.446807 [fF]\n",
      "gbus2_in_MHz -76.432611 [MHz]\n",
      "χ_bus2 -2.610169 [MHz]\n",
      "1/T1bus2 232.402589 [Hz]\n",
      "T1bus2 684.824313 [us]\n",
      "\n",
      "tCqbus3 6.975273 [fF]\n",
      "gbus3_in_MHz 85.580986 [MHz]\n",
      "χ_bus3 -2.432121 [MHz]\n",
      "1/T1bus3 206.830860 [Hz]\n",
      "T1bus3 769.493212 [us]\n",
      "\n",
      "tCqbus4 -0.009423 [fF]\n",
      "gbus4_in_MHz -0.154772 [MHz]\n",
      "χ_bus4 -0.000001 [MHz]\n",
      "1/T1bus4 0.000098 [Hz]\n",
      "T1bus4 1626680918.467184 [us]\n",
      "Bus-Bus Couplings\n",
      "gbus1_2 7.198865 [MHz]\n",
      "gbus1_3 5.899613 [MHz]\n",
      "gbus1_4 0.720176 [MHz]\n",
      "gbus2_3 5.453219 [MHz]\n",
      "gbus2_4 0.159952 [MHz]\n",
      "gbus3_4 0.144998 [MHz]\n"
     ]
    },
    {
     "data": {
      "text/html": [
       "<div>\n",
       "<style scoped>\n",
       "    .dataframe tbody tr th:only-of-type {\n",
       "        vertical-align: middle;\n",
       "    }\n",
       "\n",
       "    .dataframe tbody tr th {\n",
       "        vertical-align: top;\n",
       "    }\n",
       "\n",
       "    .dataframe thead th {\n",
       "        text-align: right;\n",
       "    }\n",
       "</style>\n",
       "<table border=\"1\" class=\"dataframe\">\n",
       "  <thead>\n",
       "    <tr style=\"text-align: right;\">\n",
       "      <th></th>\n",
       "      <th>fQ</th>\n",
       "      <th>EC</th>\n",
       "      <th>EJ</th>\n",
       "      <th>alpha</th>\n",
       "      <th>dispersion</th>\n",
       "      <th>gbus</th>\n",
       "      <th>chi_in_MHz</th>\n",
       "      <th>χr MHz</th>\n",
       "      <th>gr MHz</th>\n",
       "    </tr>\n",
       "  </thead>\n",
       "  <tbody>\n",
       "    <tr>\n",
       "      <th>1</th>\n",
       "      <td>5.08954</td>\n",
       "      <td>338.938089</td>\n",
       "      <td>10.966148</td>\n",
       "      <td>-407.818463</td>\n",
       "      <td>368.948272</td>\n",
       "      <td>[-76.8210116041581, -72.3257959620699, 66.5902...</td>\n",
       "      <td>[-1.363758720108821, -5.407623924990551, -3.04...</td>\n",
       "      <td>1.363759</td>\n",
       "      <td>76.821012</td>\n",
       "    </tr>\n",
       "    <tr>\n",
       "      <th>2</th>\n",
       "      <td>5.006729</td>\n",
       "      <td>327.102119</td>\n",
       "      <td>10.966148</td>\n",
       "      <td>-391.787051</td>\n",
       "      <td>280.181479</td>\n",
       "      <td>[-81.3757716559069, -69.88799503027253, 77.496...</td>\n",
       "      <td>[-1.3627238628282732, -4.105215744874391, -3.4...</td>\n",
       "      <td>1.362724</td>\n",
       "      <td>81.375772</td>\n",
       "    </tr>\n",
       "    <tr>\n",
       "      <th>3</th>\n",
       "      <td>4.919853</td>\n",
       "      <td>314.95135</td>\n",
       "      <td>10.966148</td>\n",
       "      <td>-375.473488</td>\n",
       "      <td>207.791184</td>\n",
       "      <td>[-82.0885994682077, -71.21580949541853, 78.873...</td>\n",
       "      <td>[-1.2312708524353977, -3.480608453800633, -3.0...</td>\n",
       "      <td>1.231271</td>\n",
       "      <td>82.088599</td>\n",
       "    </tr>\n",
       "    <tr>\n",
       "      <th>4</th>\n",
       "      <td>4.865659</td>\n",
       "      <td>307.508232</td>\n",
       "      <td>10.966148</td>\n",
       "      <td>-365.551345</td>\n",
       "      <td>171.49455</td>\n",
       "      <td>[-82.99058895685367, -71.93463557971043, 80.33...</td>\n",
       "      <td>[-1.1700655409525906, -3.1493189518477833, -2....</td>\n",
       "      <td>1.170066</td>\n",
       "      <td>82.990589</td>\n",
       "    </tr>\n",
       "    <tr>\n",
       "      <th>5</th>\n",
       "      <td>4.830403</td>\n",
       "      <td>302.722015</td>\n",
       "      <td>10.966148</td>\n",
       "      <td>-359.199134</td>\n",
       "      <td>151.002199</td>\n",
       "      <td>[-83.12651277596517, -72.23650832783169, 81.35...</td>\n",
       "      <td>[-1.1201379912965097, -2.9439026136713586, -2....</td>\n",
       "      <td>1.120138</td>\n",
       "      <td>83.126513</td>\n",
       "    </tr>\n",
       "    <tr>\n",
       "      <th>6</th>\n",
       "      <td>4.79351</td>\n",
       "      <td>297.760694</td>\n",
       "      <td>10.966148</td>\n",
       "      <td>-352.637559</td>\n",
       "      <td>131.90559</td>\n",
       "      <td>[-84.11976669238418, -73.65321949526559, 82.06...</td>\n",
       "      <td>[-1.0926000288809565, -2.8321384642029157, -2....</td>\n",
       "      <td>1.092600</td>\n",
       "      <td>84.119767</td>\n",
       "    </tr>\n",
       "    <tr>\n",
       "      <th>7</th>\n",
       "      <td>4.776879</td>\n",
       "      <td>295.539707</td>\n",
       "      <td>10.966148</td>\n",
       "      <td>-349.707754</td>\n",
       "      <td>124.019094</td>\n",
       "      <td>[-84.59334017405709, -74.0797504039527, 83.052...</td>\n",
       "      <td>[-1.0811111134638556, -2.76817484456726, -2.55...</td>\n",
       "      <td>1.081111</td>\n",
       "      <td>84.593340</td>\n",
       "    </tr>\n",
       "    <tr>\n",
       "      <th>8</th>\n",
       "      <td>4.759243</td>\n",
       "      <td>293.19518</td>\n",
       "      <td>10.966148</td>\n",
       "      <td>-346.620028</td>\n",
       "      <td>116.114976</td>\n",
       "      <td>[-85.13645738251621, -74.4943385085165, 83.406...</td>\n",
       "      <td>[-1.0701094986491502, -2.699992388295405, -2.4...</td>\n",
       "      <td>1.070109</td>\n",
       "      <td>85.136457</td>\n",
       "    </tr>\n",
       "    <tr>\n",
       "      <th>9</th>\n",
       "      <td>4.746289</td>\n",
       "      <td>291.480066</td>\n",
       "      <td>10.966148</td>\n",
       "      <td>-344.364506</td>\n",
       "      <td>110.596976</td>\n",
       "      <td>[-85.49946885627097, -75.04855232826586, 83.99...</td>\n",
       "      <td>[-1.061213368847833, -2.6692352613920507, -2.4...</td>\n",
       "      <td>1.061213</td>\n",
       "      <td>85.499469</td>\n",
       "    </tr>\n",
       "    <tr>\n",
       "      <th>10</th>\n",
       "      <td>4.740296</td>\n",
       "      <td>290.688533</td>\n",
       "      <td>10.966148</td>\n",
       "      <td>-343.324503</td>\n",
       "      <td>108.123573</td>\n",
       "      <td>[-85.72655884029191, -75.37859802374383, 84.31...</td>\n",
       "      <td>[-1.0585864723328602, -2.6603955036576536, -2....</td>\n",
       "      <td>1.058586</td>\n",
       "      <td>85.726559</td>\n",
       "    </tr>\n",
       "    <tr>\n",
       "      <th>11</th>\n",
       "      <td>4.733281</td>\n",
       "      <td>289.76361</td>\n",
       "      <td>10.966148</td>\n",
       "      <td>-342.10998</td>\n",
       "      <td>105.290735</td>\n",
       "      <td>[-86.04862261090273, -75.5777406172625, 84.681...</td>\n",
       "      <td>[-1.056895685005984, -2.6370159061262224, -2.4...</td>\n",
       "      <td>1.056896</td>\n",
       "      <td>86.048623</td>\n",
       "    </tr>\n",
       "    <tr>\n",
       "      <th>12</th>\n",
       "      <td>4.727739</td>\n",
       "      <td>289.034238</td>\n",
       "      <td>10.966148</td>\n",
       "      <td>-341.152802</td>\n",
       "      <td>103.099818</td>\n",
       "      <td>[-86.24335965431192, -75.92398523203579, 84.99...</td>\n",
       "      <td>[-1.054092472014733, -2.6318541496975776, -2.4...</td>\n",
       "      <td>1.054092</td>\n",
       "      <td>86.243360</td>\n",
       "    </tr>\n",
       "    <tr>\n",
       "      <th>13</th>\n",
       "      <td>4.724608</td>\n",
       "      <td>288.622614</td>\n",
       "      <td>10.966148</td>\n",
       "      <td>-340.612834</td>\n",
       "      <td>101.879893</td>\n",
       "      <td>[-86.3569309533307, -76.09976051141464, 85.177...</td>\n",
       "      <td>[-1.0525975036568145, -2.6275625314756184, -2....</td>\n",
       "      <td>1.052598</td>\n",
       "      <td>86.356931</td>\n",
       "    </tr>\n",
       "    <tr>\n",
       "      <th>14</th>\n",
       "      <td>4.721196</td>\n",
       "      <td>288.174314</td>\n",
       "      <td>10.966148</td>\n",
       "      <td>-340.024934</td>\n",
       "      <td>100.56471</td>\n",
       "      <td>[-86.4887285616559, -76.20303282679666, 85.354...</td>\n",
       "      <td>[-1.0511638349728527, -2.61682299666702, -2.43...</td>\n",
       "      <td>1.051164</td>\n",
       "      <td>86.488729</td>\n",
       "    </tr>\n",
       "    <tr>\n",
       "      <th>15</th>\n",
       "      <td>4.718361</td>\n",
       "      <td>287.802194</td>\n",
       "      <td>10.966148</td>\n",
       "      <td>-339.537079</td>\n",
       "      <td>99.483585</td>\n",
       "      <td>[-86.60684212028002, -76.34251711374564, 85.51...</td>\n",
       "      <td>[-1.0501821992930536, -2.611624824723562, -2.4...</td>\n",
       "      <td>1.050182</td>\n",
       "      <td>86.606842</td>\n",
       "    </tr>\n",
       "    <tr>\n",
       "      <th>16</th>\n",
       "      <td>4.716894</td>\n",
       "      <td>287.609846</td>\n",
       "      <td>10.966148</td>\n",
       "      <td>-339.284958</td>\n",
       "      <td>98.928486</td>\n",
       "      <td>[-86.6588833756998, -76.43261095931626, 85.580...</td>\n",
       "      <td>[-1.0494551046013478, -2.610168680171375, -2.4...</td>\n",
       "      <td>1.049455</td>\n",
       "      <td>86.658883</td>\n",
       "    </tr>\n",
       "  </tbody>\n",
       "</table>\n",
       "</div>"
      ],
      "text/plain": [
       "          fQ          EC         EJ       alpha  dispersion  \\\n",
       "1    5.08954  338.938089  10.966148 -407.818463  368.948272   \n",
       "2   5.006729  327.102119  10.966148 -391.787051  280.181479   \n",
       "3   4.919853   314.95135  10.966148 -375.473488  207.791184   \n",
       "4   4.865659  307.508232  10.966148 -365.551345   171.49455   \n",
       "5   4.830403  302.722015  10.966148 -359.199134  151.002199   \n",
       "6    4.79351  297.760694  10.966148 -352.637559   131.90559   \n",
       "7   4.776879  295.539707  10.966148 -349.707754  124.019094   \n",
       "8   4.759243   293.19518  10.966148 -346.620028  116.114976   \n",
       "9   4.746289  291.480066  10.966148 -344.364506  110.596976   \n",
       "10  4.740296  290.688533  10.966148 -343.324503  108.123573   \n",
       "11  4.733281   289.76361  10.966148  -342.10998  105.290735   \n",
       "12  4.727739  289.034238  10.966148 -341.152802  103.099818   \n",
       "13  4.724608  288.622614  10.966148 -340.612834  101.879893   \n",
       "14  4.721196  288.174314  10.966148 -340.024934   100.56471   \n",
       "15  4.718361  287.802194  10.966148 -339.537079   99.483585   \n",
       "16  4.716894  287.609846  10.966148 -339.284958   98.928486   \n",
       "\n",
       "                                                 gbus  \\\n",
       "1   [-76.8210116041581, -72.3257959620699, 66.5902...   \n",
       "2   [-81.3757716559069, -69.88799503027253, 77.496...   \n",
       "3   [-82.0885994682077, -71.21580949541853, 78.873...   \n",
       "4   [-82.99058895685367, -71.93463557971043, 80.33...   \n",
       "5   [-83.12651277596517, -72.23650832783169, 81.35...   \n",
       "6   [-84.11976669238418, -73.65321949526559, 82.06...   \n",
       "7   [-84.59334017405709, -74.0797504039527, 83.052...   \n",
       "8   [-85.13645738251621, -74.4943385085165, 83.406...   \n",
       "9   [-85.49946885627097, -75.04855232826586, 83.99...   \n",
       "10  [-85.72655884029191, -75.37859802374383, 84.31...   \n",
       "11  [-86.04862261090273, -75.5777406172625, 84.681...   \n",
       "12  [-86.24335965431192, -75.92398523203579, 84.99...   \n",
       "13  [-86.3569309533307, -76.09976051141464, 85.177...   \n",
       "14  [-86.4887285616559, -76.20303282679666, 85.354...   \n",
       "15  [-86.60684212028002, -76.34251711374564, 85.51...   \n",
       "16  [-86.6588833756998, -76.43261095931626, 85.580...   \n",
       "\n",
       "                                           chi_in_MHz    χr MHz     gr MHz  \n",
       "1   [-1.363758720108821, -5.407623924990551, -3.04...  1.363759  76.821012  \n",
       "2   [-1.3627238628282732, -4.105215744874391, -3.4...  1.362724  81.375772  \n",
       "3   [-1.2312708524353977, -3.480608453800633, -3.0...  1.231271  82.088599  \n",
       "4   [-1.1700655409525906, -3.1493189518477833, -2....  1.170066  82.990589  \n",
       "5   [-1.1201379912965097, -2.9439026136713586, -2....  1.120138  83.126513  \n",
       "6   [-1.0926000288809565, -2.8321384642029157, -2....  1.092600  84.119767  \n",
       "7   [-1.0811111134638556, -2.76817484456726, -2.55...  1.081111  84.593340  \n",
       "8   [-1.0701094986491502, -2.699992388295405, -2.4...  1.070109  85.136457  \n",
       "9   [-1.061213368847833, -2.6692352613920507, -2.4...  1.061213  85.499469  \n",
       "10  [-1.0585864723328602, -2.6603955036576536, -2....  1.058586  85.726559  \n",
       "11  [-1.056895685005984, -2.6370159061262224, -2.4...  1.056896  86.048623  \n",
       "12  [-1.054092472014733, -2.6318541496975776, -2.4...  1.054092  86.243360  \n",
       "13  [-1.0525975036568145, -2.6275625314756184, -2....  1.052598  86.356931  \n",
       "14  [-1.0511638349728527, -2.61682299666702, -2.43...  1.051164  86.488729  \n",
       "15  [-1.0501821992930536, -2.611624824723562, -2.4...  1.050182  86.606842  \n",
       "16  [-1.0494551046013478, -2.610168680171375, -2.4...  1.049455  86.658883  "
      ]
     },
     "execution_count": 62,
     "metadata": {},
     "output_type": "execute_result"
    }
   ],
   "source": [
    "c1.run_lom()\n",
    "c1.lumped_oscillator_all"
   ]
  },
  {
   "cell_type": "code",
   "execution_count": 63,
   "id": "7f825fa4-1041-4a3d-bb90-a2cfab96420b",
   "metadata": {},
   "outputs": [
    {
     "name": "stdout",
     "output_type": "stream",
     "text": [
      "[4, 5] [6 0 1 2]\n",
      "Predicted Values\n",
      "\n",
      "Transmon Properties\n",
      "f_Q 4.783420 [GHz]\n",
      "EC 296.412121 [MHz]\n",
      "EJ 10.966148 [GHz]\n",
      "alpha -350.858041 [MHz]\n",
      "dispersion 127.069816 [KHz]\n",
      "Lq 14.893992 [nH]\n",
      "Cq 65.348974 [fF]\n",
      "T1 118.961871 [us]\n",
      "\n",
      "**Coupling Properties**\n",
      "\n",
      "tCqbus1 -6.239246 [fF]\n",
      "gbus1_in_MHz -86.008235 [MHz]\n",
      "χ_bus1 -1.127191 [MHz]\n",
      "1/T1bus1 843.765280 [Hz]\n",
      "T1bus1 188.624665 [us]\n",
      "\n",
      "tCqbus2 -6.446807 [fF]\n",
      "gbus2_in_MHz -75.858743 [MHz]\n",
      "χ_bus2 -2.942137 [MHz]\n",
      "1/T1bus2 263.901224 [Hz]\n",
      "T1bus2 603.085278 [us]\n",
      "\n",
      "tCqbus3 6.975273 [fF]\n",
      "gbus3_in_MHz 84.938431 [MHz]\n",
      "χ_bus3 -2.699845 [MHz]\n",
      "1/T1bus3 230.198559 [Hz]\n",
      "T1bus3 691.381144 [us]\n",
      "\n",
      "tCqbus4 -0.009423 [fF]\n",
      "gbus4_in_MHz -0.153610 [MHz]\n",
      "χ_bus4 -0.000002 [MHz]\n",
      "1/T1bus4 0.000102 [Hz]\n",
      "T1bus4 1557523456.463995 [us]\n",
      "Bus-Bus Couplings\n",
      "gbus1_2 7.198865 [MHz]\n",
      "gbus1_3 5.899613 [MHz]\n",
      "gbus1_4 0.720176 [MHz]\n",
      "gbus2_3 5.453219 [MHz]\n",
      "gbus2_4 0.159952 [MHz]\n",
      "gbus3_4 0.144998 [MHz]\n"
     ]
    },
    {
     "data": {
      "text/html": [
       "<div>\n",
       "<style scoped>\n",
       "    .dataframe tbody tr th:only-of-type {\n",
       "        vertical-align: middle;\n",
       "    }\n",
       "\n",
       "    .dataframe tbody tr th {\n",
       "        vertical-align: top;\n",
       "    }\n",
       "\n",
       "    .dataframe thead th {\n",
       "        text-align: right;\n",
       "    }\n",
       "</style>\n",
       "<table border=\"1\" class=\"dataframe\">\n",
       "  <thead>\n",
       "    <tr style=\"text-align: right;\">\n",
       "      <th></th>\n",
       "      <th>fQ</th>\n",
       "      <th>EC</th>\n",
       "      <th>EJ</th>\n",
       "      <th>alpha</th>\n",
       "      <th>dispersion</th>\n",
       "      <th>gbus</th>\n",
       "      <th>chi_in_MHz</th>\n",
       "      <th>χr MHz</th>\n",
       "      <th>gr MHz</th>\n",
       "    </tr>\n",
       "  </thead>\n",
       "  <tbody>\n",
       "    <tr>\n",
       "      <th>1</th>\n",
       "      <td>5.173744</td>\n",
       "      <td>351.229644</td>\n",
       "      <td>10.966148</td>\n",
       "      <td>-424.616752</td>\n",
       "      <td>483.605938</td>\n",
       "      <td>[-76.13990406846295, -71.6845437365883, 65.999...</td>\n",
       "      <td>[-1.5117304868151291, -6.668655038461873, -3.6...</td>\n",
       "      <td>1.511730</td>\n",
       "      <td>76.139904</td>\n",
       "    </tr>\n",
       "    <tr>\n",
       "      <th>2</th>\n",
       "      <td>5.086753</td>\n",
       "      <td>338.535722</td>\n",
       "      <td>10.966148</td>\n",
       "      <td>-407.271164</td>\n",
       "      <td>365.60133</td>\n",
       "      <td>[-80.67980384965823, -69.29027664807386, 76.83...</td>\n",
       "      <td>[-1.4982801687245453, -4.927555542813164, -4.0...</td>\n",
       "      <td>1.498280</td>\n",
       "      <td>80.679804</td>\n",
       "    </tr>\n",
       "    <tr>\n",
       "      <th>3</th>\n",
       "      <td>4.99565</td>\n",
       "      <td>325.537543</td>\n",
       "      <td>10.966148</td>\n",
       "      <td>-389.678323</td>\n",
       "      <td>269.862253</td>\n",
       "      <td>[-81.41294111412391, -70.62964336589336, 78.22...</td>\n",
       "      <td>[-1.3432431929109137, -4.082702798422833, -3.4...</td>\n",
       "      <td>1.343243</td>\n",
       "      <td>81.412941</td>\n",
       "    </tr>\n",
       "    <tr>\n",
       "      <th>4</th>\n",
       "      <td>4.938898</td>\n",
       "      <td>317.591969</td>\n",
       "      <td>10.966148</td>\n",
       "      <td>-379.006488</td>\n",
       "      <td>222.067404</td>\n",
       "      <td>[-82.32384668839275, -71.35671629138895, 79.69...</td>\n",
       "      <td>[-1.2707454542506154, -3.649061024271793, -3.1...</td>\n",
       "      <td>1.270745</td>\n",
       "      <td>82.323847</td>\n",
       "    </tr>\n",
       "    <tr>\n",
       "      <th>5</th>\n",
       "      <td>4.902011</td>\n",
       "      <td>312.489313</td>\n",
       "      <td>10.966148</td>\n",
       "      <td>-372.185518</td>\n",
       "      <td>195.157329</td>\n",
       "      <td>[-82.46919796809468, -71.66530517005322, 80.71...</td>\n",
       "      <td>[-1.2131361479802836, -3.386340028906704, -3.0...</td>\n",
       "      <td>1.213136</td>\n",
       "      <td>82.469198</td>\n",
       "    </tr>\n",
       "    <tr>\n",
       "      <th>6</th>\n",
       "      <td>4.863438</td>\n",
       "      <td>307.205468</td>\n",
       "      <td>10.966148</td>\n",
       "      <td>-365.14887</td>\n",
       "      <td>170.134895</td>\n",
       "      <td>[-83.46562814193177, -73.08047170801872, 81.42...</td>\n",
       "      <td>[-1.179995635632148, -3.234793681033957, -2.87...</td>\n",
       "      <td>1.179996</td>\n",
       "      <td>83.465628</td>\n",
       "    </tr>\n",
       "    <tr>\n",
       "      <th>7</th>\n",
       "      <td>4.846058</td>\n",
       "      <td>304.841909</td>\n",
       "      <td>10.966148</td>\n",
       "      <td>-362.009931</td>\n",
       "      <td>159.818099</td>\n",
       "      <td>[-83.94048319432972, -73.50803303225214, 82.41...</td>\n",
       "      <td>[-1.1661525700154394, -3.152168745281802, -2.8...</td>\n",
       "      <td>1.166153</td>\n",
       "      <td>83.940483</td>\n",
       "    </tr>\n",
       "    <tr>\n",
       "      <th>8</th>\n",
       "      <td>4.827634</td>\n",
       "      <td>302.348092</td>\n",
       "      <td>10.966148</td>\n",
       "      <td>-358.70379</td>\n",
       "      <td>149.488977</td>\n",
       "      <td>[-84.4846818672561, -73.92403540502701, 82.768...</td>\n",
       "      <td>[-1.1528078226248306, -3.0649774610674, -2.781...</td>\n",
       "      <td>1.152808</td>\n",
       "      <td>84.484682</td>\n",
       "    </tr>\n",
       "    <tr>\n",
       "      <th>9</th>\n",
       "      <td>4.814106</td>\n",
       "      <td>300.524556</td>\n",
       "      <td>10.966148</td>\n",
       "      <td>-356.290011</td>\n",
       "      <td>142.284734</td>\n",
       "      <td>[-84.8487874923684, -74.47740615576787, 83.354...</td>\n",
       "      <td>[-1.1421660184738154, -3.023340374710646, -2.7...</td>\n",
       "      <td>1.142166</td>\n",
       "      <td>84.848787</td>\n",
       "    </tr>\n",
       "    <tr>\n",
       "      <th>10</th>\n",
       "      <td>4.807848</td>\n",
       "      <td>299.68321</td>\n",
       "      <td>10.966148</td>\n",
       "      <td>-355.177403</td>\n",
       "      <td>139.057345</td>\n",
       "      <td>[-85.0759413285827, -74.80651585287654, 83.678...</td>\n",
       "      <td>[-1.138855474782897, -3.010286715566972, -2.74...</td>\n",
       "      <td>1.138855</td>\n",
       "      <td>85.075941</td>\n",
       "    </tr>\n",
       "    <tr>\n",
       "      <th>11</th>\n",
       "      <td>4.800524</td>\n",
       "      <td>298.700259</td>\n",
       "      <td>10.966148</td>\n",
       "      <td>-353.878385</td>\n",
       "      <td>135.362406</td>\n",
       "      <td>[-85.39766262804773, -75.00599311865467, 84.04...</td>\n",
       "      <td>[-1.1364757600376003, -2.98034921617103, -2.72...</td>\n",
       "      <td>1.136476</td>\n",
       "      <td>85.397663</td>\n",
       "    </tr>\n",
       "    <tr>\n",
       "      <th>12</th>\n",
       "      <td>4.79474</td>\n",
       "      <td>297.925264</td>\n",
       "      <td>10.966148</td>\n",
       "      <td>-352.854837</td>\n",
       "      <td>132.505827</td>\n",
       "      <td>[-85.59258756231004, -75.3510807104516, 84.353...</td>\n",
       "      <td>[-1.133022794864862, -2.9718035735439168, -2.7...</td>\n",
       "      <td>1.133023</td>\n",
       "      <td>85.592588</td>\n",
       "    </tr>\n",
       "    <tr>\n",
       "      <th>13</th>\n",
       "      <td>4.791472</td>\n",
       "      <td>297.487946</td>\n",
       "      <td>10.966148</td>\n",
       "      <td>-352.277514</td>\n",
       "      <td>130.915673</td>\n",
       "      <td>[-85.70624050925984, -75.52635677399351, 84.53...</td>\n",
       "      <td>[-1.1311695583130403, -2.9654409633207726, -2....</td>\n",
       "      <td>1.131170</td>\n",
       "      <td>85.706241</td>\n",
       "    </tr>\n",
       "    <tr>\n",
       "      <th>14</th>\n",
       "      <td>4.78791</td>\n",
       "      <td>297.011705</td>\n",
       "      <td>10.966148</td>\n",
       "      <td>-351.649014</td>\n",
       "      <td>129.201691</td>\n",
       "      <td>[-85.83806882516417, -75.62975297769344, 84.71...</td>\n",
       "      <td>[-1.1293616953381256, -2.9516845222062265, -2....</td>\n",
       "      <td>1.129362</td>\n",
       "      <td>85.838069</td>\n",
       "    </tr>\n",
       "    <tr>\n",
       "      <th>15</th>\n",
       "      <td>4.784951</td>\n",
       "      <td>296.616428</td>\n",
       "      <td>10.966148</td>\n",
       "      <td>-351.127524</td>\n",
       "      <td>127.793006</td>\n",
       "      <td>[-85.95614475479039, -75.76893801139516, 84.87...</td>\n",
       "      <td>[-1.128086042849567, -2.9444731101456423, -2.7...</td>\n",
       "      <td>1.128086</td>\n",
       "      <td>85.956145</td>\n",
       "    </tr>\n",
       "    <tr>\n",
       "      <th>16</th>\n",
       "      <td>4.78342</td>\n",
       "      <td>296.412121</td>\n",
       "      <td>10.966148</td>\n",
       "      <td>-350.858041</td>\n",
       "      <td>127.069816</td>\n",
       "      <td>[-86.00823512086387, -75.85874313416058, 84.93...</td>\n",
       "      <td>[-1.1271910642768193, -2.942137488110536, -2.6...</td>\n",
       "      <td>1.127191</td>\n",
       "      <td>86.008235</td>\n",
       "    </tr>\n",
       "  </tbody>\n",
       "</table>\n",
       "</div>"
      ],
      "text/plain": [
       "          fQ          EC         EJ       alpha  dispersion  \\\n",
       "1   5.173744  351.229644  10.966148 -424.616752  483.605938   \n",
       "2   5.086753  338.535722  10.966148 -407.271164   365.60133   \n",
       "3    4.99565  325.537543  10.966148 -389.678323  269.862253   \n",
       "4   4.938898  317.591969  10.966148 -379.006488  222.067404   \n",
       "5   4.902011  312.489313  10.966148 -372.185518  195.157329   \n",
       "6   4.863438  307.205468  10.966148  -365.14887  170.134895   \n",
       "7   4.846058  304.841909  10.966148 -362.009931  159.818099   \n",
       "8   4.827634  302.348092  10.966148  -358.70379  149.488977   \n",
       "9   4.814106  300.524556  10.966148 -356.290011  142.284734   \n",
       "10  4.807848   299.68321  10.966148 -355.177403  139.057345   \n",
       "11  4.800524  298.700259  10.966148 -353.878385  135.362406   \n",
       "12   4.79474  297.925264  10.966148 -352.854837  132.505827   \n",
       "13  4.791472  297.487946  10.966148 -352.277514  130.915673   \n",
       "14   4.78791  297.011705  10.966148 -351.649014  129.201691   \n",
       "15  4.784951  296.616428  10.966148 -351.127524  127.793006   \n",
       "16   4.78342  296.412121  10.966148 -350.858041  127.069816   \n",
       "\n",
       "                                                 gbus  \\\n",
       "1   [-76.13990406846295, -71.6845437365883, 65.999...   \n",
       "2   [-80.67980384965823, -69.29027664807386, 76.83...   \n",
       "3   [-81.41294111412391, -70.62964336589336, 78.22...   \n",
       "4   [-82.32384668839275, -71.35671629138895, 79.69...   \n",
       "5   [-82.46919796809468, -71.66530517005322, 80.71...   \n",
       "6   [-83.46562814193177, -73.08047170801872, 81.42...   \n",
       "7   [-83.94048319432972, -73.50803303225214, 82.41...   \n",
       "8   [-84.4846818672561, -73.92403540502701, 82.768...   \n",
       "9   [-84.8487874923684, -74.47740615576787, 83.354...   \n",
       "10  [-85.0759413285827, -74.80651585287654, 83.678...   \n",
       "11  [-85.39766262804773, -75.00599311865467, 84.04...   \n",
       "12  [-85.59258756231004, -75.3510807104516, 84.353...   \n",
       "13  [-85.70624050925984, -75.52635677399351, 84.53...   \n",
       "14  [-85.83806882516417, -75.62975297769344, 84.71...   \n",
       "15  [-85.95614475479039, -75.76893801139516, 84.87...   \n",
       "16  [-86.00823512086387, -75.85874313416058, 84.93...   \n",
       "\n",
       "                                           chi_in_MHz    χr MHz     gr MHz  \n",
       "1   [-1.5117304868151291, -6.668655038461873, -3.6...  1.511730  76.139904  \n",
       "2   [-1.4982801687245453, -4.927555542813164, -4.0...  1.498280  80.679804  \n",
       "3   [-1.3432431929109137, -4.082702798422833, -3.4...  1.343243  81.412941  \n",
       "4   [-1.2707454542506154, -3.649061024271793, -3.1...  1.270745  82.323847  \n",
       "5   [-1.2131361479802836, -3.386340028906704, -3.0...  1.213136  82.469198  \n",
       "6   [-1.179995635632148, -3.234793681033957, -2.87...  1.179996  83.465628  \n",
       "7   [-1.1661525700154394, -3.152168745281802, -2.8...  1.166153  83.940483  \n",
       "8   [-1.1528078226248306, -3.0649774610674, -2.781...  1.152808  84.484682  \n",
       "9   [-1.1421660184738154, -3.023340374710646, -2.7...  1.142166  84.848787  \n",
       "10  [-1.138855474782897, -3.010286715566972, -2.74...  1.138855  85.075941  \n",
       "11  [-1.1364757600376003, -2.98034921617103, -2.72...  1.136476  85.397663  \n",
       "12  [-1.133022794864862, -2.9718035735439168, -2.7...  1.133023  85.592588  \n",
       "13  [-1.1311695583130403, -2.9654409633207726, -2....  1.131170  85.706241  \n",
       "14  [-1.1293616953381256, -2.9516845222062265, -2....  1.129362  85.838069  \n",
       "15  [-1.128086042849567, -2.9444731101456423, -2.7...  1.128086  85.956145  \n",
       "16  [-1.1271910642768193, -2.942137488110536, -2.6...  1.127191  86.008235  "
      ]
     },
     "execution_count": 63,
     "metadata": {},
     "output_type": "execute_result"
    }
   ],
   "source": [
    "c1.setup.junctions = Dict({'Lj': 14.9, 'Cj': 2})\n",
    "c1.run_lom()\n",
    "c1.lumped_oscillator_all"
   ]
  },
  {
   "cell_type": "code",
   "execution_count": 64,
   "id": "4117dcb3-09e7-4569-91cb-c32f0d6551ef",
   "metadata": {},
   "outputs": [
    {
     "name": "stderr",
     "output_type": "stream",
     "text": [
      "WARNING:py.warnings:C:\\ProgramData\\Anaconda3\\envs\\qmetal\\lib\\site-packages\\pyEPR\\core_distributed_analysis.py:504: FutureWarning: The default dtype for empty Series will be 'object' instead of 'float64' in a future version. Specify a dtype explicitly to silence this warning.\n",
      "  self._hfss_variables[variation] = pd.Series(\n",
      "\n",
      "INFO 03:46PM [hfss_report_full_convergence]: Creating report for variation 0\n"
     ]
    },
    {
     "name": "stdout",
     "output_type": "stream",
     "text": [
      "Design \"Q_1_q3d\" info:\n",
      "\t# eigenmodes    0\n",
      "\t# variations    1\n"
     ]
    }
   ],
   "source": [
    "c1.plot_convergence();\n",
    "c1.plot_convergence_chi()"
   ]
  },
  {
   "cell_type": "code",
   "execution_count": 65,
   "id": "875d2d31-855c-4df7-b739-6e5a162ac4d2",
   "metadata": {},
   "outputs": [],
   "source": [
    "c1.sim.renderer.clean_active_design()"
   ]
  },
  {
   "cell_type": "markdown",
   "id": "23f3948d-1522-4db6-9052-e1570deae7a9",
   "metadata": {
    "jp-MarkdownHeadingCollapsed": true
   },
   "source": [
    "## Calculating Computational Cost"
   ]
  },
  {
   "cell_type": "code",
   "execution_count": 71,
   "id": "a7dde9d8-6638-4ed4-8c87-15445e5e0ea1",
   "metadata": {},
   "outputs": [],
   "source": [
    "import time"
   ]
  },
  {
   "cell_type": "code",
   "execution_count": 72,
   "id": "e2d53462-a455-4ef2-b4aa-a1cced10392f",
   "metadata": {},
   "outputs": [
    {
     "name": "stderr",
     "output_type": "stream",
     "text": [
      "INFO 04:10PM [connect_design]: \tOpened active design\n",
      "\tDesign:    Q_1_q3d [Solution type: Q3D]\n"
     ]
    },
    {
     "name": "stdout",
     "output_type": "stream",
     "text": [
      "Counting\n"
     ]
    },
    {
     "name": "stderr",
     "output_type": "stream",
     "text": [
      "INFO 04:10PM [get_setup]: \tOpened setup `Tune_Q_1`  (<class 'pyEPR.ansys.AnsysQ3DSetup'>)\n",
      "INFO 04:10PM [analyze]: Analyzing setup Tune_Q_1\n",
      "INFO 04:11PM [get_matrix]: Exporting matrix data to (C:\\Users\\user\\AppData\\Local\\Temp\\tmpiiz1p5x0.txt, C, , Tune_Q_1:LastAdaptive, \"Original\", \"ohm\", \"nH\", \"fF\", \"mSie\", 4800000000, Maxwell, 1, False\n",
      "INFO 04:11PM [get_matrix]: Exporting matrix data to (C:\\Users\\user\\AppData\\Local\\Temp\\tmpzpwlt2cw.txt, C, , Tune_Q_1:AdaptivePass, \"Original\", \"ohm\", \"nH\", \"fF\", \"mSie\", 4800000000, Maxwell, 1, False\n",
      "INFO 04:11PM [get_matrix]: Exporting matrix data to (C:\\Users\\user\\AppData\\Local\\Temp\\tmpaufndgpq.txt, C, , Tune_Q_1:AdaptivePass, \"Original\", \"ohm\", \"nH\", \"fF\", \"mSie\", 4800000000, Maxwell, 2, False\n",
      "INFO 04:11PM [get_matrix]: Exporting matrix data to (C:\\Users\\user\\AppData\\Local\\Temp\\tmp5aw6om3t.txt, C, , Tune_Q_1:AdaptivePass, \"Original\", \"ohm\", \"nH\", \"fF\", \"mSie\", 4800000000, Maxwell, 3, False\n",
      "INFO 04:11PM [get_matrix]: Exporting matrix data to (C:\\Users\\user\\AppData\\Local\\Temp\\tmprc_w74g1.txt, C, , Tune_Q_1:AdaptivePass, \"Original\", \"ohm\", \"nH\", \"fF\", \"mSie\", 4800000000, Maxwell, 4, False\n",
      "INFO 04:11PM [get_matrix]: Exporting matrix data to (C:\\Users\\user\\AppData\\Local\\Temp\\tmpj11rf8r7.txt, C, , Tune_Q_1:AdaptivePass, \"Original\", \"ohm\", \"nH\", \"fF\", \"mSie\", 4800000000, Maxwell, 5, False\n",
      "INFO 04:11PM [get_matrix]: Exporting matrix data to (C:\\Users\\user\\AppData\\Local\\Temp\\tmpuxymlel3.txt, C, , Tune_Q_1:AdaptivePass, \"Original\", \"ohm\", \"nH\", \"fF\", \"mSie\", 4800000000, Maxwell, 6, False\n",
      "INFO 04:11PM [get_matrix]: Exporting matrix data to (C:\\Users\\user\\AppData\\Local\\Temp\\tmpme3c1fb2.txt, C, , Tune_Q_1:AdaptivePass, \"Original\", \"ohm\", \"nH\", \"fF\", \"mSie\", 4800000000, Maxwell, 7, False\n",
      "INFO 04:11PM [get_matrix]: Exporting matrix data to (C:\\Users\\user\\AppData\\Local\\Temp\\tmpc_9tq0mu.txt, C, , Tune_Q_1:AdaptivePass, \"Original\", \"ohm\", \"nH\", \"fF\", \"mSie\", 4800000000, Maxwell, 8, False\n",
      "INFO 04:11PM [get_matrix]: Exporting matrix data to (C:\\Users\\user\\AppData\\Local\\Temp\\tmpvpnyqj6e.txt, C, , Tune_Q_1:AdaptivePass, \"Original\", \"ohm\", \"nH\", \"fF\", \"mSie\", 4800000000, Maxwell, 9, False\n",
      "INFO 04:11PM [get_matrix]: Exporting matrix data to (C:\\Users\\user\\AppData\\Local\\Temp\\tmp8ibvdtz2.txt, C, , Tune_Q_1:AdaptivePass, \"Original\", \"ohm\", \"nH\", \"fF\", \"mSie\", 4800000000, Maxwell, 10, False\n",
      "INFO 04:11PM [get_matrix]: Exporting matrix data to (C:\\Users\\user\\AppData\\Local\\Temp\\tmpogkdkx69.txt, C, , Tune_Q_1:AdaptivePass, \"Original\", \"ohm\", \"nH\", \"fF\", \"mSie\", 4800000000, Maxwell, 11, False\n"
     ]
    },
    {
     "name": "stdout",
     "output_type": "stream",
     "text": [
      "Time Elapsed: 42.833556175231934\n"
     ]
    }
   ],
   "source": [
    "c1.sim.setup.max_passes = 10\n",
    "start = time.time()\n",
    "print(\"Counting\")\n",
    "c1.sim.run(name=\"Q_1\", components=['Q_1'], open_terminations=[('Q_1', 'readout'), ('Q_1', 'bus_13'),('Q_1', 'bus_14'), ('Q_1', 'Charge_Line')])\n",
    "end = time.time()\n",
    "print(\"Time Elapsed:\", end - start)"
   ]
  },
  {
   "cell_type": "code",
   "execution_count": 73,
   "id": "d9dbb75a-ca97-44e7-b911-227c15105388",
   "metadata": {},
   "outputs": [
    {
     "name": "stderr",
     "output_type": "stream",
     "text": [
      "INFO 04:11PM [connect_design]: \tOpened active design\n",
      "\tDesign:    Q_1_q3d [Solution type: Q3D]\n"
     ]
    },
    {
     "name": "stdout",
     "output_type": "stream",
     "text": [
      "Counting\n"
     ]
    },
    {
     "name": "stderr",
     "output_type": "stream",
     "text": [
      "INFO 04:11PM [get_setup]: \tOpened setup `Tune_Q_1`  (<class 'pyEPR.ansys.AnsysQ3DSetup'>)\n",
      "INFO 04:11PM [analyze]: Analyzing setup Tune_Q_1\n",
      "INFO 04:14PM [get_matrix]: Exporting matrix data to (C:\\Users\\user\\AppData\\Local\\Temp\\tmp9wr_o258.txt, C, , Tune_Q_1:LastAdaptive, \"Original\", \"ohm\", \"nH\", \"fF\", \"mSie\", 4800000000, Maxwell, 1, False\n",
      "INFO 04:14PM [get_matrix]: Exporting matrix data to (C:\\Users\\user\\AppData\\Local\\Temp\\tmp9nvfhdv0.txt, C, , Tune_Q_1:AdaptivePass, \"Original\", \"ohm\", \"nH\", \"fF\", \"mSie\", 4800000000, Maxwell, 1, False\n",
      "INFO 04:14PM [get_matrix]: Exporting matrix data to (C:\\Users\\user\\AppData\\Local\\Temp\\tmp739gcxy0.txt, C, , Tune_Q_1:AdaptivePass, \"Original\", \"ohm\", \"nH\", \"fF\", \"mSie\", 4800000000, Maxwell, 2, False\n",
      "INFO 04:14PM [get_matrix]: Exporting matrix data to (C:\\Users\\user\\AppData\\Local\\Temp\\tmpzcr8_s__.txt, C, , Tune_Q_1:AdaptivePass, \"Original\", \"ohm\", \"nH\", \"fF\", \"mSie\", 4800000000, Maxwell, 3, False\n",
      "INFO 04:14PM [get_matrix]: Exporting matrix data to (C:\\Users\\user\\AppData\\Local\\Temp\\tmpvw1l_nxp.txt, C, , Tune_Q_1:AdaptivePass, \"Original\", \"ohm\", \"nH\", \"fF\", \"mSie\", 4800000000, Maxwell, 4, False\n",
      "INFO 04:14PM [get_matrix]: Exporting matrix data to (C:\\Users\\user\\AppData\\Local\\Temp\\tmp9ac49riq.txt, C, , Tune_Q_1:AdaptivePass, \"Original\", \"ohm\", \"nH\", \"fF\", \"mSie\", 4800000000, Maxwell, 5, False\n",
      "INFO 04:14PM [get_matrix]: Exporting matrix data to (C:\\Users\\user\\AppData\\Local\\Temp\\tmpl9epxtbp.txt, C, , Tune_Q_1:AdaptivePass, \"Original\", \"ohm\", \"nH\", \"fF\", \"mSie\", 4800000000, Maxwell, 6, False\n",
      "INFO 04:14PM [get_matrix]: Exporting matrix data to (C:\\Users\\user\\AppData\\Local\\Temp\\tmp11olb4rv.txt, C, , Tune_Q_1:AdaptivePass, \"Original\", \"ohm\", \"nH\", \"fF\", \"mSie\", 4800000000, Maxwell, 7, False\n",
      "INFO 04:14PM [get_matrix]: Exporting matrix data to (C:\\Users\\user\\AppData\\Local\\Temp\\tmpvohwjft7.txt, C, , Tune_Q_1:AdaptivePass, \"Original\", \"ohm\", \"nH\", \"fF\", \"mSie\", 4800000000, Maxwell, 8, False\n",
      "INFO 04:14PM [get_matrix]: Exporting matrix data to (C:\\Users\\user\\AppData\\Local\\Temp\\tmpulzw5ycm.txt, C, , Tune_Q_1:AdaptivePass, \"Original\", \"ohm\", \"nH\", \"fF\", \"mSie\", 4800000000, Maxwell, 9, False\n",
      "INFO 04:14PM [get_matrix]: Exporting matrix data to (C:\\Users\\user\\AppData\\Local\\Temp\\tmpkjrer86n.txt, C, , Tune_Q_1:AdaptivePass, \"Original\", \"ohm\", \"nH\", \"fF\", \"mSie\", 4800000000, Maxwell, 10, False\n",
      "INFO 04:14PM [get_matrix]: Exporting matrix data to (C:\\Users\\user\\AppData\\Local\\Temp\\tmpa1h4by5_.txt, C, , Tune_Q_1:AdaptivePass, \"Original\", \"ohm\", \"nH\", \"fF\", \"mSie\", 4800000000, Maxwell, 11, False\n",
      "INFO 04:14PM [get_matrix]: Exporting matrix data to (C:\\Users\\user\\AppData\\Local\\Temp\\tmpq2d9ksl3.txt, C, , Tune_Q_1:AdaptivePass, \"Original\", \"ohm\", \"nH\", \"fF\", \"mSie\", 4800000000, Maxwell, 12, False\n",
      "INFO 04:14PM [get_matrix]: Exporting matrix data to (C:\\Users\\user\\AppData\\Local\\Temp\\tmpsb1xd6uk.txt, C, , Tune_Q_1:AdaptivePass, \"Original\", \"ohm\", \"nH\", \"fF\", \"mSie\", 4800000000, Maxwell, 13, False\n",
      "INFO 04:14PM [get_matrix]: Exporting matrix data to (C:\\Users\\user\\AppData\\Local\\Temp\\tmp63euljrk.txt, C, , Tune_Q_1:AdaptivePass, \"Original\", \"ohm\", \"nH\", \"fF\", \"mSie\", 4800000000, Maxwell, 14, False\n",
      "INFO 04:14PM [get_matrix]: Exporting matrix data to (C:\\Users\\user\\AppData\\Local\\Temp\\tmpcdrhp4gz.txt, C, , Tune_Q_1:AdaptivePass, \"Original\", \"ohm\", \"nH\", \"fF\", \"mSie\", 4800000000, Maxwell, 15, False\n",
      "INFO 04:14PM [get_matrix]: Exporting matrix data to (C:\\Users\\user\\AppData\\Local\\Temp\\tmpko2qocd2.txt, C, , Tune_Q_1:AdaptivePass, \"Original\", \"ohm\", \"nH\", \"fF\", \"mSie\", 4800000000, Maxwell, 16, False\n"
     ]
    },
    {
     "name": "stdout",
     "output_type": "stream",
     "text": [
      "Time Elapsed: 146.59014868736267\n"
     ]
    }
   ],
   "source": [
    "c1.sim.setup.max_passes = 15\n",
    "start = time.time()\n",
    "print(\"Counting\")\n",
    "c1.sim.run(name=\"Q_1\", components=['Q_1'], open_terminations=[('Q_1', 'readout'), ('Q_1', 'bus_13'),('Q_1', 'bus_14'), ('Q_1', 'Charge_Line')])\n",
    "end = time.time()\n",
    "print(\"Time Elapsed:\", end - start)"
   ]
  },
  {
   "cell_type": "code",
   "execution_count": 74,
   "id": "783f2d46-ed11-4b07-bb6f-3714262fd878",
   "metadata": {},
   "outputs": [
    {
     "name": "stdout",
     "output_type": "stream",
     "text": [
      "[4, 5] [6 0 1 2]\n",
      "Predicted Values\n",
      "\n",
      "Transmon Properties\n",
      "f_Q 4.784951 [GHz]\n",
      "EC 296.616428 [MHz]\n",
      "EJ 10.966148 [GHz]\n",
      "alpha -351.127524 [MHz]\n",
      "dispersion 127.793006 [KHz]\n",
      "Lq 14.893992 [nH]\n",
      "Cq 65.303963 [fF]\n",
      "T1 118.859072 [us]\n",
      "\n",
      "**Coupling Properties**\n",
      "\n",
      "tCqbus1 -6.232079 [fF]\n",
      "gbus1_in_MHz -85.956145 [MHz]\n",
      "χ_bus1 -1.128086 [MHz]\n",
      "1/T1bus1 844.341102 [Hz]\n",
      "T1bus1 188.496027 [us]\n",
      "\n",
      "tCqbus2 -6.435669 [fF]\n",
      "gbus2_in_MHz -75.768938 [MHz]\n",
      "χ_bus2 -2.944473 [MHz]\n",
      "1/T1bus2 264.163804 [Hz]\n",
      "T1bus2 602.485809 [us]\n",
      "\n",
      "tCqbus3 6.966295 [fF]\n",
      "gbus3_in_MHz 84.875182 [MHz]\n",
      "χ_bus3 -2.703364 [MHz]\n",
      "1/T1bus3 230.517253 [Hz]\n",
      "T1bus3 690.425299 [us]\n",
      "\n",
      "tCqbus4 -0.009482 [fF]\n",
      "gbus4_in_MHz -0.154650 [MHz]\n",
      "χ_bus4 -0.000002 [MHz]\n",
      "1/T1bus4 0.000104 [Hz]\n",
      "T1bus4 1534581424.510178 [us]\n",
      "Bus-Bus Couplings\n",
      "gbus1_2 7.186579 [MHz]\n",
      "gbus1_3 5.890887 [MHz]\n",
      "gbus1_4 0.720199 [MHz]\n",
      "gbus2_3 5.442810 [MHz]\n",
      "gbus2_4 0.159869 [MHz]\n",
      "gbus3_4 0.144965 [MHz]\n"
     ]
    },
    {
     "data": {
      "text/html": [
       "<div>\n",
       "<style scoped>\n",
       "    .dataframe tbody tr th:only-of-type {\n",
       "        vertical-align: middle;\n",
       "    }\n",
       "\n",
       "    .dataframe tbody tr th {\n",
       "        vertical-align: top;\n",
       "    }\n",
       "\n",
       "    .dataframe thead th {\n",
       "        text-align: right;\n",
       "    }\n",
       "</style>\n",
       "<table border=\"1\" class=\"dataframe\">\n",
       "  <thead>\n",
       "    <tr style=\"text-align: right;\">\n",
       "      <th></th>\n",
       "      <th>fQ</th>\n",
       "      <th>EC</th>\n",
       "      <th>EJ</th>\n",
       "      <th>alpha</th>\n",
       "      <th>dispersion</th>\n",
       "      <th>gbus</th>\n",
       "      <th>chi_in_MHz</th>\n",
       "      <th>χr MHz</th>\n",
       "      <th>gr MHz</th>\n",
       "    </tr>\n",
       "  </thead>\n",
       "  <tbody>\n",
       "    <tr>\n",
       "      <th>1</th>\n",
       "      <td>5.173744</td>\n",
       "      <td>351.229644</td>\n",
       "      <td>10.966148</td>\n",
       "      <td>-424.616752</td>\n",
       "      <td>483.605938</td>\n",
       "      <td>[-76.13990406846295, -71.6845437365883, 65.999...</td>\n",
       "      <td>[-1.5117304868151291, -6.668655038461873, -3.6...</td>\n",
       "      <td>1.511730</td>\n",
       "      <td>76.139904</td>\n",
       "    </tr>\n",
       "    <tr>\n",
       "      <th>2</th>\n",
       "      <td>5.086753</td>\n",
       "      <td>338.535722</td>\n",
       "      <td>10.966148</td>\n",
       "      <td>-407.271164</td>\n",
       "      <td>365.60133</td>\n",
       "      <td>[-80.67980384965823, -69.29027664807386, 76.83...</td>\n",
       "      <td>[-1.4982801687245453, -4.927555542813164, -4.0...</td>\n",
       "      <td>1.498280</td>\n",
       "      <td>80.679804</td>\n",
       "    </tr>\n",
       "    <tr>\n",
       "      <th>3</th>\n",
       "      <td>4.99565</td>\n",
       "      <td>325.537543</td>\n",
       "      <td>10.966148</td>\n",
       "      <td>-389.678323</td>\n",
       "      <td>269.862253</td>\n",
       "      <td>[-81.41294111412391, -70.62964336589336, 78.22...</td>\n",
       "      <td>[-1.3432431929109137, -4.082702798422833, -3.4...</td>\n",
       "      <td>1.343243</td>\n",
       "      <td>81.412941</td>\n",
       "    </tr>\n",
       "    <tr>\n",
       "      <th>4</th>\n",
       "      <td>4.938898</td>\n",
       "      <td>317.591969</td>\n",
       "      <td>10.966148</td>\n",
       "      <td>-379.006488</td>\n",
       "      <td>222.067404</td>\n",
       "      <td>[-82.32384668839275, -71.35671629138895, 79.69...</td>\n",
       "      <td>[-1.2707454542506154, -3.649061024271793, -3.1...</td>\n",
       "      <td>1.270745</td>\n",
       "      <td>82.323847</td>\n",
       "    </tr>\n",
       "    <tr>\n",
       "      <th>5</th>\n",
       "      <td>4.902011</td>\n",
       "      <td>312.489313</td>\n",
       "      <td>10.966148</td>\n",
       "      <td>-372.185518</td>\n",
       "      <td>195.157329</td>\n",
       "      <td>[-82.46919796809468, -71.66530517005322, 80.71...</td>\n",
       "      <td>[-1.2131361479802836, -3.386340028906704, -3.0...</td>\n",
       "      <td>1.213136</td>\n",
       "      <td>82.469198</td>\n",
       "    </tr>\n",
       "    <tr>\n",
       "      <th>6</th>\n",
       "      <td>4.863438</td>\n",
       "      <td>307.205468</td>\n",
       "      <td>10.966148</td>\n",
       "      <td>-365.14887</td>\n",
       "      <td>170.134895</td>\n",
       "      <td>[-83.46562814193177, -73.08047170801872, 81.42...</td>\n",
       "      <td>[-1.179995635632148, -3.234793681033957, -2.87...</td>\n",
       "      <td>1.179996</td>\n",
       "      <td>83.465628</td>\n",
       "    </tr>\n",
       "    <tr>\n",
       "      <th>7</th>\n",
       "      <td>4.846058</td>\n",
       "      <td>304.841909</td>\n",
       "      <td>10.966148</td>\n",
       "      <td>-362.009931</td>\n",
       "      <td>159.818099</td>\n",
       "      <td>[-83.94048319432972, -73.50803303225214, 82.41...</td>\n",
       "      <td>[-1.1661525700154394, -3.152168745281802, -2.8...</td>\n",
       "      <td>1.166153</td>\n",
       "      <td>83.940483</td>\n",
       "    </tr>\n",
       "    <tr>\n",
       "      <th>8</th>\n",
       "      <td>4.827634</td>\n",
       "      <td>302.348092</td>\n",
       "      <td>10.966148</td>\n",
       "      <td>-358.70379</td>\n",
       "      <td>149.488977</td>\n",
       "      <td>[-84.4846818672561, -73.92403540502701, 82.768...</td>\n",
       "      <td>[-1.1528078226248306, -3.0649774610674, -2.781...</td>\n",
       "      <td>1.152808</td>\n",
       "      <td>84.484682</td>\n",
       "    </tr>\n",
       "    <tr>\n",
       "      <th>9</th>\n",
       "      <td>4.814106</td>\n",
       "      <td>300.524556</td>\n",
       "      <td>10.966148</td>\n",
       "      <td>-356.290011</td>\n",
       "      <td>142.284734</td>\n",
       "      <td>[-84.8487874923684, -74.47740615576787, 83.354...</td>\n",
       "      <td>[-1.1421660184738154, -3.023340374710646, -2.7...</td>\n",
       "      <td>1.142166</td>\n",
       "      <td>84.848787</td>\n",
       "    </tr>\n",
       "    <tr>\n",
       "      <th>10</th>\n",
       "      <td>4.807848</td>\n",
       "      <td>299.68321</td>\n",
       "      <td>10.966148</td>\n",
       "      <td>-355.177403</td>\n",
       "      <td>139.057345</td>\n",
       "      <td>[-85.0759413285827, -74.80651585287654, 83.678...</td>\n",
       "      <td>[-1.138855474782897, -3.010286715566972, -2.74...</td>\n",
       "      <td>1.138855</td>\n",
       "      <td>85.075941</td>\n",
       "    </tr>\n",
       "    <tr>\n",
       "      <th>11</th>\n",
       "      <td>4.800524</td>\n",
       "      <td>298.700259</td>\n",
       "      <td>10.966148</td>\n",
       "      <td>-353.878385</td>\n",
       "      <td>135.362406</td>\n",
       "      <td>[-85.39766262804773, -75.00599311865467, 84.04...</td>\n",
       "      <td>[-1.1364757600376003, -2.98034921617103, -2.72...</td>\n",
       "      <td>1.136476</td>\n",
       "      <td>85.397663</td>\n",
       "    </tr>\n",
       "    <tr>\n",
       "      <th>12</th>\n",
       "      <td>4.79474</td>\n",
       "      <td>297.925264</td>\n",
       "      <td>10.966148</td>\n",
       "      <td>-352.854837</td>\n",
       "      <td>132.505827</td>\n",
       "      <td>[-85.59258756231004, -75.3510807104516, 84.353...</td>\n",
       "      <td>[-1.133022794864862, -2.9718035735439168, -2.7...</td>\n",
       "      <td>1.133023</td>\n",
       "      <td>85.592588</td>\n",
       "    </tr>\n",
       "    <tr>\n",
       "      <th>13</th>\n",
       "      <td>4.791472</td>\n",
       "      <td>297.487946</td>\n",
       "      <td>10.966148</td>\n",
       "      <td>-352.277514</td>\n",
       "      <td>130.915673</td>\n",
       "      <td>[-85.70624050925984, -75.52635677399351, 84.53...</td>\n",
       "      <td>[-1.1311695583130403, -2.9654409633207726, -2....</td>\n",
       "      <td>1.131170</td>\n",
       "      <td>85.706241</td>\n",
       "    </tr>\n",
       "    <tr>\n",
       "      <th>14</th>\n",
       "      <td>4.78791</td>\n",
       "      <td>297.011705</td>\n",
       "      <td>10.966148</td>\n",
       "      <td>-351.649014</td>\n",
       "      <td>129.201691</td>\n",
       "      <td>[-85.83806882516417, -75.62975297769344, 84.71...</td>\n",
       "      <td>[-1.1293616953381256, -2.9516845222062265, -2....</td>\n",
       "      <td>1.129362</td>\n",
       "      <td>85.838069</td>\n",
       "    </tr>\n",
       "    <tr>\n",
       "      <th>15</th>\n",
       "      <td>4.784951</td>\n",
       "      <td>296.616428</td>\n",
       "      <td>10.966148</td>\n",
       "      <td>-351.127524</td>\n",
       "      <td>127.793006</td>\n",
       "      <td>[-85.95614475479039, -75.76893801139516, 84.87...</td>\n",
       "      <td>[-1.128086042849567, -2.9444731101456423, -2.7...</td>\n",
       "      <td>1.128086</td>\n",
       "      <td>85.956145</td>\n",
       "    </tr>\n",
       "  </tbody>\n",
       "</table>\n",
       "</div>"
      ],
      "text/plain": [
       "          fQ          EC         EJ       alpha  dispersion  \\\n",
       "1   5.173744  351.229644  10.966148 -424.616752  483.605938   \n",
       "2   5.086753  338.535722  10.966148 -407.271164   365.60133   \n",
       "3    4.99565  325.537543  10.966148 -389.678323  269.862253   \n",
       "4   4.938898  317.591969  10.966148 -379.006488  222.067404   \n",
       "5   4.902011  312.489313  10.966148 -372.185518  195.157329   \n",
       "6   4.863438  307.205468  10.966148  -365.14887  170.134895   \n",
       "7   4.846058  304.841909  10.966148 -362.009931  159.818099   \n",
       "8   4.827634  302.348092  10.966148  -358.70379  149.488977   \n",
       "9   4.814106  300.524556  10.966148 -356.290011  142.284734   \n",
       "10  4.807848   299.68321  10.966148 -355.177403  139.057345   \n",
       "11  4.800524  298.700259  10.966148 -353.878385  135.362406   \n",
       "12   4.79474  297.925264  10.966148 -352.854837  132.505827   \n",
       "13  4.791472  297.487946  10.966148 -352.277514  130.915673   \n",
       "14   4.78791  297.011705  10.966148 -351.649014  129.201691   \n",
       "15  4.784951  296.616428  10.966148 -351.127524  127.793006   \n",
       "\n",
       "                                                 gbus  \\\n",
       "1   [-76.13990406846295, -71.6845437365883, 65.999...   \n",
       "2   [-80.67980384965823, -69.29027664807386, 76.83...   \n",
       "3   [-81.41294111412391, -70.62964336589336, 78.22...   \n",
       "4   [-82.32384668839275, -71.35671629138895, 79.69...   \n",
       "5   [-82.46919796809468, -71.66530517005322, 80.71...   \n",
       "6   [-83.46562814193177, -73.08047170801872, 81.42...   \n",
       "7   [-83.94048319432972, -73.50803303225214, 82.41...   \n",
       "8   [-84.4846818672561, -73.92403540502701, 82.768...   \n",
       "9   [-84.8487874923684, -74.47740615576787, 83.354...   \n",
       "10  [-85.0759413285827, -74.80651585287654, 83.678...   \n",
       "11  [-85.39766262804773, -75.00599311865467, 84.04...   \n",
       "12  [-85.59258756231004, -75.3510807104516, 84.353...   \n",
       "13  [-85.70624050925984, -75.52635677399351, 84.53...   \n",
       "14  [-85.83806882516417, -75.62975297769344, 84.71...   \n",
       "15  [-85.95614475479039, -75.76893801139516, 84.87...   \n",
       "\n",
       "                                           chi_in_MHz    χr MHz     gr MHz  \n",
       "1   [-1.5117304868151291, -6.668655038461873, -3.6...  1.511730  76.139904  \n",
       "2   [-1.4982801687245453, -4.927555542813164, -4.0...  1.498280  80.679804  \n",
       "3   [-1.3432431929109137, -4.082702798422833, -3.4...  1.343243  81.412941  \n",
       "4   [-1.2707454542506154, -3.649061024271793, -3.1...  1.270745  82.323847  \n",
       "5   [-1.2131361479802836, -3.386340028906704, -3.0...  1.213136  82.469198  \n",
       "6   [-1.179995635632148, -3.234793681033957, -2.87...  1.179996  83.465628  \n",
       "7   [-1.1661525700154394, -3.152168745281802, -2.8...  1.166153  83.940483  \n",
       "8   [-1.1528078226248306, -3.0649774610674, -2.781...  1.152808  84.484682  \n",
       "9   [-1.1421660184738154, -3.023340374710646, -2.7...  1.142166  84.848787  \n",
       "10  [-1.138855474782897, -3.010286715566972, -2.74...  1.138855  85.075941  \n",
       "11  [-1.1364757600376003, -2.98034921617103, -2.72...  1.136476  85.397663  \n",
       "12  [-1.133022794864862, -2.9718035735439168, -2.7...  1.133023  85.592588  \n",
       "13  [-1.1311695583130403, -2.9654409633207726, -2....  1.131170  85.706241  \n",
       "14  [-1.1293616953381256, -2.9516845222062265, -2....  1.129362  85.838069  \n",
       "15  [-1.128086042849567, -2.9444731101456423, -2.7...  1.128086  85.956145  "
      ]
     },
     "execution_count": 74,
     "metadata": {},
     "output_type": "execute_result"
    }
   ],
   "source": [
    "c1.setup.junctions = Dict({'Lj': 14.9, 'Cj': 2})\n",
    "c1.run_lom()\n",
    "c1.lumped_oscillator_all"
   ]
  },
  {
   "cell_type": "code",
   "execution_count": 75,
   "id": "f08c2e92-ca41-481d-950d-90a1b535523e",
   "metadata": {},
   "outputs": [
    {
     "name": "stderr",
     "output_type": "stream",
     "text": [
      "WARNING:py.warnings:C:\\ProgramData\\Anaconda3\\envs\\qmetal\\lib\\site-packages\\pyEPR\\core_distributed_analysis.py:504: FutureWarning: The default dtype for empty Series will be 'object' instead of 'float64' in a future version. Specify a dtype explicitly to silence this warning.\n",
      "  self._hfss_variables[variation] = pd.Series(\n",
      "\n",
      "INFO 04:14PM [hfss_report_full_convergence]: Creating report for variation 0\n"
     ]
    },
    {
     "name": "stdout",
     "output_type": "stream",
     "text": [
      "Design \"Q_1_q3d\" info:\n",
      "\t# eigenmodes    0\n",
      "\t# variations    1\n"
     ]
    }
   ],
   "source": [
    "c1.plot_convergence();\n",
    "c1.plot_convergence_chi()"
   ]
  },
  {
   "cell_type": "code",
   "execution_count": 76,
   "id": "1c1dfcb4-fc89-4e4a-9d05-3b75303f56e0",
   "metadata": {},
   "outputs": [],
   "source": [
    "c1.sim.renderer.clean_active_design()\n"
   ]
  },
  {
   "cell_type": "code",
   "execution_count": 77,
   "id": "68e210a2-d35f-4439-81e8-eeba11adb639",
   "metadata": {},
   "outputs": [
    {
     "name": "stderr",
     "output_type": "stream",
     "text": [
      "INFO 04:16PM [connect_design]: \tOpened active design\n",
      "\tDesign:    Q_1_q3d [Solution type: Q3D]\n"
     ]
    },
    {
     "name": "stdout",
     "output_type": "stream",
     "text": [
      "Counting\n"
     ]
    },
    {
     "name": "stderr",
     "output_type": "stream",
     "text": [
      "INFO 04:17PM [get_setup]: \tOpened setup `Tune_Q_1`  (<class 'pyEPR.ansys.AnsysQ3DSetup'>)\n",
      "INFO 04:17PM [analyze]: Analyzing setup Tune_Q_1\n",
      "INFO 04:27PM [get_matrix]: Exporting matrix data to (C:\\Users\\user\\AppData\\Local\\Temp\\tmpcab6d287.txt, C, , Tune_Q_1:LastAdaptive, \"Original\", \"ohm\", \"nH\", \"fF\", \"mSie\", 4800000000, Maxwell, 1, False\n",
      "INFO 04:27PM [get_matrix]: Exporting matrix data to (C:\\Users\\user\\AppData\\Local\\Temp\\tmpgnt1mw7o.txt, C, , Tune_Q_1:AdaptivePass, \"Original\", \"ohm\", \"nH\", \"fF\", \"mSie\", 4800000000, Maxwell, 1, False\n",
      "INFO 04:27PM [get_matrix]: Exporting matrix data to (C:\\Users\\user\\AppData\\Local\\Temp\\tmpf6jewwtd.txt, C, , Tune_Q_1:AdaptivePass, \"Original\", \"ohm\", \"nH\", \"fF\", \"mSie\", 4800000000, Maxwell, 2, False\n",
      "INFO 04:27PM [get_matrix]: Exporting matrix data to (C:\\Users\\user\\AppData\\Local\\Temp\\tmpcel21_h8.txt, C, , Tune_Q_1:AdaptivePass, \"Original\", \"ohm\", \"nH\", \"fF\", \"mSie\", 4800000000, Maxwell, 3, False\n",
      "INFO 04:27PM [get_matrix]: Exporting matrix data to (C:\\Users\\user\\AppData\\Local\\Temp\\tmp14mphi0p.txt, C, , Tune_Q_1:AdaptivePass, \"Original\", \"ohm\", \"nH\", \"fF\", \"mSie\", 4800000000, Maxwell, 4, False\n",
      "INFO 04:27PM [get_matrix]: Exporting matrix data to (C:\\Users\\user\\AppData\\Local\\Temp\\tmpwq908_xa.txt, C, , Tune_Q_1:AdaptivePass, \"Original\", \"ohm\", \"nH\", \"fF\", \"mSie\", 4800000000, Maxwell, 5, False\n",
      "INFO 04:27PM [get_matrix]: Exporting matrix data to (C:\\Users\\user\\AppData\\Local\\Temp\\tmpnxfx7388.txt, C, , Tune_Q_1:AdaptivePass, \"Original\", \"ohm\", \"nH\", \"fF\", \"mSie\", 4800000000, Maxwell, 6, False\n",
      "INFO 04:27PM [get_matrix]: Exporting matrix data to (C:\\Users\\user\\AppData\\Local\\Temp\\tmpn0hnxsss.txt, C, , Tune_Q_1:AdaptivePass, \"Original\", \"ohm\", \"nH\", \"fF\", \"mSie\", 4800000000, Maxwell, 7, False\n",
      "INFO 04:27PM [get_matrix]: Exporting matrix data to (C:\\Users\\user\\AppData\\Local\\Temp\\tmp_24d2uyg.txt, C, , Tune_Q_1:AdaptivePass, \"Original\", \"ohm\", \"nH\", \"fF\", \"mSie\", 4800000000, Maxwell, 8, False\n",
      "INFO 04:27PM [get_matrix]: Exporting matrix data to (C:\\Users\\user\\AppData\\Local\\Temp\\tmpj8a33716.txt, C, , Tune_Q_1:AdaptivePass, \"Original\", \"ohm\", \"nH\", \"fF\", \"mSie\", 4800000000, Maxwell, 9, False\n",
      "INFO 04:27PM [get_matrix]: Exporting matrix data to (C:\\Users\\user\\AppData\\Local\\Temp\\tmpwyqxxwam.txt, C, , Tune_Q_1:AdaptivePass, \"Original\", \"ohm\", \"nH\", \"fF\", \"mSie\", 4800000000, Maxwell, 10, False\n",
      "INFO 04:27PM [get_matrix]: Exporting matrix data to (C:\\Users\\user\\AppData\\Local\\Temp\\tmpbj4u_ty7.txt, C, , Tune_Q_1:AdaptivePass, \"Original\", \"ohm\", \"nH\", \"fF\", \"mSie\", 4800000000, Maxwell, 11, False\n",
      "INFO 04:27PM [get_matrix]: Exporting matrix data to (C:\\Users\\user\\AppData\\Local\\Temp\\tmp18skqfy_.txt, C, , Tune_Q_1:AdaptivePass, \"Original\", \"ohm\", \"nH\", \"fF\", \"mSie\", 4800000000, Maxwell, 12, False\n",
      "INFO 04:27PM [get_matrix]: Exporting matrix data to (C:\\Users\\user\\AppData\\Local\\Temp\\tmpoqrj3rwx.txt, C, , Tune_Q_1:AdaptivePass, \"Original\", \"ohm\", \"nH\", \"fF\", \"mSie\", 4800000000, Maxwell, 13, False\n",
      "INFO 04:27PM [get_matrix]: Exporting matrix data to (C:\\Users\\user\\AppData\\Local\\Temp\\tmpim7t8kh4.txt, C, , Tune_Q_1:AdaptivePass, \"Original\", \"ohm\", \"nH\", \"fF\", \"mSie\", 4800000000, Maxwell, 14, False\n",
      "INFO 04:27PM [get_matrix]: Exporting matrix data to (C:\\Users\\user\\AppData\\Local\\Temp\\tmpm6udsw3w.txt, C, , Tune_Q_1:AdaptivePass, \"Original\", \"ohm\", \"nH\", \"fF\", \"mSie\", 4800000000, Maxwell, 15, False\n",
      "INFO 04:27PM [get_matrix]: Exporting matrix data to (C:\\Users\\user\\AppData\\Local\\Temp\\tmp4zlmqnoi.txt, C, , Tune_Q_1:AdaptivePass, \"Original\", \"ohm\", \"nH\", \"fF\", \"mSie\", 4800000000, Maxwell, 16, False\n",
      "INFO 04:27PM [get_matrix]: Exporting matrix data to (C:\\Users\\user\\AppData\\Local\\Temp\\tmpjq9w5846.txt, C, , Tune_Q_1:AdaptivePass, \"Original\", \"ohm\", \"nH\", \"fF\", \"mSie\", 4800000000, Maxwell, 17, False\n",
      "INFO 04:27PM [get_matrix]: Exporting matrix data to (C:\\Users\\user\\AppData\\Local\\Temp\\tmpnuuodw6i.txt, C, , Tune_Q_1:AdaptivePass, \"Original\", \"ohm\", \"nH\", \"fF\", \"mSie\", 4800000000, Maxwell, 18, False\n",
      "INFO 04:27PM [get_matrix]: Exporting matrix data to (C:\\Users\\user\\AppData\\Local\\Temp\\tmpuo9otkpj.txt, C, , Tune_Q_1:AdaptivePass, \"Original\", \"ohm\", \"nH\", \"fF\", \"mSie\", 4800000000, Maxwell, 19, False\n",
      "INFO 04:27PM [get_matrix]: Exporting matrix data to (C:\\Users\\user\\AppData\\Local\\Temp\\tmpw9y1d_bv.txt, C, , Tune_Q_1:AdaptivePass, \"Original\", \"ohm\", \"nH\", \"fF\", \"mSie\", 4800000000, Maxwell, 20, False\n",
      "INFO 04:27PM [get_matrix]: Exporting matrix data to (C:\\Users\\user\\AppData\\Local\\Temp\\tmpb_og86t1.txt, C, , Tune_Q_1:AdaptivePass, \"Original\", \"ohm\", \"nH\", \"fF\", \"mSie\", 4800000000, Maxwell, 21, False\n",
      "INFO 04:27PM [get_matrix]: Exporting matrix data to (C:\\Users\\user\\AppData\\Local\\Temp\\tmpyhw960r7.txt, C, , Tune_Q_1:AdaptivePass, \"Original\", \"ohm\", \"nH\", \"fF\", \"mSie\", 4800000000, Maxwell, 22, False\n"
     ]
    },
    {
     "name": "stdout",
     "output_type": "stream",
     "text": [
      "Time Elapsed: 620.3387372493744\n"
     ]
    }
   ],
   "source": [
    "c1.sim.setup.max_passes = 25\n",
    "start = time.time()\n",
    "print(\"Counting\")\n",
    "c1.sim.run(name=\"Q_1\", components=['Q_1'], open_terminations=[('Q_1', 'readout'), ('Q_1', 'bus_13'),('Q_1', 'bus_14'), ('Q_1', 'Charge_Line')])\n",
    "end = time.time()\n",
    "print(\"Time Elapsed:\", end - start)"
   ]
  },
  {
   "cell_type": "code",
   "execution_count": 78,
   "id": "dc7482f6-aecf-4ce2-982b-edc3a9d8285c",
   "metadata": {},
   "outputs": [
    {
     "name": "stdout",
     "output_type": "stream",
     "text": [
      "[4, 5] [6 0 1 2]\n",
      "Predicted Values\n",
      "\n",
      "Transmon Properties\n",
      "f_Q 4.777567 [GHz]\n",
      "EC 295.631398 [MHz]\n",
      "EJ 10.966148 [GHz]\n",
      "alpha -349.828616 [MHz]\n",
      "dispersion 124.336892 [KHz]\n",
      "Lq 14.893992 [nH]\n",
      "Cq 65.521552 [fF]\n",
      "T1 119.468161 [us]\n",
      "\n",
      "**Coupling Properties**\n",
      "\n",
      "tCqbus1 -6.264750 [fF]\n",
      "gbus1_in_MHz -86.180428 [MHz]\n",
      "χ_bus1 -1.123068 [MHz]\n",
      "1/T1bus1 841.040134 [Hz]\n",
      "T1bus1 189.235848 [us]\n",
      "\n",
      "tCqbus2 -6.477735 [fF]\n",
      "gbus2_in_MHz -76.064368 [MHz]\n",
      "χ_bus2 -2.922618 [MHz]\n",
      "1/T1bus2 261.952476 [Hz]\n",
      "T1bus2 607.571822 [us]\n",
      "\n",
      "tCqbus3 7.012996 [fF]\n",
      "gbus3_in_MHz 85.220374 [MHz]\n",
      "χ_bus3 -2.688973 [MHz]\n",
      "1/T1bus3 229.202762 [Hz]\n",
      "T1bus3 694.384925 [us]\n",
      "\n",
      "tCqbus4 -0.009333 [fF]\n",
      "gbus4_in_MHz -0.151827 [MHz]\n",
      "χ_bus4 -0.000002 [MHz]\n",
      "1/T1bus4 0.000099 [Hz]\n",
      "T1bus4 1602599100.540603 [us]\n",
      "Bus-Bus Couplings\n",
      "gbus1_2 7.233407 [MHz]\n",
      "gbus1_3 5.932864 [MHz]\n",
      "gbus1_4 0.720063 [MHz]\n",
      "gbus2_3 5.485169 [MHz]\n",
      "gbus2_4 0.160059 [MHz]\n",
      "gbus3_4 0.145157 [MHz]\n"
     ]
    },
    {
     "data": {
      "text/html": [
       "<div>\n",
       "<style scoped>\n",
       "    .dataframe tbody tr th:only-of-type {\n",
       "        vertical-align: middle;\n",
       "    }\n",
       "\n",
       "    .dataframe tbody tr th {\n",
       "        vertical-align: top;\n",
       "    }\n",
       "\n",
       "    .dataframe thead th {\n",
       "        text-align: right;\n",
       "    }\n",
       "</style>\n",
       "<table border=\"1\" class=\"dataframe\">\n",
       "  <thead>\n",
       "    <tr style=\"text-align: right;\">\n",
       "      <th></th>\n",
       "      <th>fQ</th>\n",
       "      <th>EC</th>\n",
       "      <th>EJ</th>\n",
       "      <th>alpha</th>\n",
       "      <th>dispersion</th>\n",
       "      <th>gbus</th>\n",
       "      <th>chi_in_MHz</th>\n",
       "      <th>χr MHz</th>\n",
       "      <th>gr MHz</th>\n",
       "    </tr>\n",
       "  </thead>\n",
       "  <tbody>\n",
       "    <tr>\n",
       "      <th>1</th>\n",
       "      <td>5.173744</td>\n",
       "      <td>351.229644</td>\n",
       "      <td>10.966148</td>\n",
       "      <td>-424.616752</td>\n",
       "      <td>483.605938</td>\n",
       "      <td>[-76.13990406846295, -71.6845437365883, 65.999...</td>\n",
       "      <td>[-1.5117304868151291, -6.668655038461873, -3.6...</td>\n",
       "      <td>1.511730</td>\n",
       "      <td>76.139904</td>\n",
       "    </tr>\n",
       "    <tr>\n",
       "      <th>2</th>\n",
       "      <td>5.086753</td>\n",
       "      <td>338.535722</td>\n",
       "      <td>10.966148</td>\n",
       "      <td>-407.271164</td>\n",
       "      <td>365.60133</td>\n",
       "      <td>[-80.67980384965823, -69.29027664807386, 76.83...</td>\n",
       "      <td>[-1.4982801687245453, -4.927555542813164, -4.0...</td>\n",
       "      <td>1.498280</td>\n",
       "      <td>80.679804</td>\n",
       "    </tr>\n",
       "    <tr>\n",
       "      <th>3</th>\n",
       "      <td>4.99565</td>\n",
       "      <td>325.537543</td>\n",
       "      <td>10.966148</td>\n",
       "      <td>-389.678323</td>\n",
       "      <td>269.862253</td>\n",
       "      <td>[-81.41294111412391, -70.62964336589336, 78.22...</td>\n",
       "      <td>[-1.3432431929109137, -4.082702798422833, -3.4...</td>\n",
       "      <td>1.343243</td>\n",
       "      <td>81.412941</td>\n",
       "    </tr>\n",
       "    <tr>\n",
       "      <th>4</th>\n",
       "      <td>4.938898</td>\n",
       "      <td>317.591969</td>\n",
       "      <td>10.966148</td>\n",
       "      <td>-379.006488</td>\n",
       "      <td>222.067404</td>\n",
       "      <td>[-82.32384668839275, -71.35671629138895, 79.69...</td>\n",
       "      <td>[-1.2707454542506154, -3.649061024271793, -3.1...</td>\n",
       "      <td>1.270745</td>\n",
       "      <td>82.323847</td>\n",
       "    </tr>\n",
       "    <tr>\n",
       "      <th>5</th>\n",
       "      <td>4.902011</td>\n",
       "      <td>312.489313</td>\n",
       "      <td>10.966148</td>\n",
       "      <td>-372.185518</td>\n",
       "      <td>195.157329</td>\n",
       "      <td>[-82.46919796809468, -71.66530517005322, 80.71...</td>\n",
       "      <td>[-1.2131361479802836, -3.386340028906704, -3.0...</td>\n",
       "      <td>1.213136</td>\n",
       "      <td>82.469198</td>\n",
       "    </tr>\n",
       "    <tr>\n",
       "      <th>6</th>\n",
       "      <td>4.863438</td>\n",
       "      <td>307.205468</td>\n",
       "      <td>10.966148</td>\n",
       "      <td>-365.14887</td>\n",
       "      <td>170.134895</td>\n",
       "      <td>[-83.46562814193177, -73.08047170801872, 81.42...</td>\n",
       "      <td>[-1.179995635632148, -3.234793681033957, -2.87...</td>\n",
       "      <td>1.179996</td>\n",
       "      <td>83.465628</td>\n",
       "    </tr>\n",
       "    <tr>\n",
       "      <th>7</th>\n",
       "      <td>4.846058</td>\n",
       "      <td>304.841909</td>\n",
       "      <td>10.966148</td>\n",
       "      <td>-362.009931</td>\n",
       "      <td>159.818099</td>\n",
       "      <td>[-83.94048319432972, -73.50803303225214, 82.41...</td>\n",
       "      <td>[-1.1661525700154394, -3.152168745281802, -2.8...</td>\n",
       "      <td>1.166153</td>\n",
       "      <td>83.940483</td>\n",
       "    </tr>\n",
       "    <tr>\n",
       "      <th>8</th>\n",
       "      <td>4.827634</td>\n",
       "      <td>302.348092</td>\n",
       "      <td>10.966148</td>\n",
       "      <td>-358.70379</td>\n",
       "      <td>149.488977</td>\n",
       "      <td>[-84.4846818672561, -73.92403540502701, 82.768...</td>\n",
       "      <td>[-1.1528078226248306, -3.0649774610674, -2.781...</td>\n",
       "      <td>1.152808</td>\n",
       "      <td>84.484682</td>\n",
       "    </tr>\n",
       "    <tr>\n",
       "      <th>9</th>\n",
       "      <td>4.814106</td>\n",
       "      <td>300.524556</td>\n",
       "      <td>10.966148</td>\n",
       "      <td>-356.290011</td>\n",
       "      <td>142.284734</td>\n",
       "      <td>[-84.8487874923684, -74.47740615576787, 83.354...</td>\n",
       "      <td>[-1.1421660184738154, -3.023340374710646, -2.7...</td>\n",
       "      <td>1.142166</td>\n",
       "      <td>84.848787</td>\n",
       "    </tr>\n",
       "    <tr>\n",
       "      <th>10</th>\n",
       "      <td>4.807848</td>\n",
       "      <td>299.68321</td>\n",
       "      <td>10.966148</td>\n",
       "      <td>-355.177403</td>\n",
       "      <td>139.057345</td>\n",
       "      <td>[-85.0759413285827, -74.80651585287654, 83.678...</td>\n",
       "      <td>[-1.138855474782897, -3.010286715566972, -2.74...</td>\n",
       "      <td>1.138855</td>\n",
       "      <td>85.075941</td>\n",
       "    </tr>\n",
       "    <tr>\n",
       "      <th>11</th>\n",
       "      <td>4.800524</td>\n",
       "      <td>298.700259</td>\n",
       "      <td>10.966148</td>\n",
       "      <td>-353.878385</td>\n",
       "      <td>135.362406</td>\n",
       "      <td>[-85.39766262804773, -75.00599311865467, 84.04...</td>\n",
       "      <td>[-1.1364757600376003, -2.98034921617103, -2.72...</td>\n",
       "      <td>1.136476</td>\n",
       "      <td>85.397663</td>\n",
       "    </tr>\n",
       "    <tr>\n",
       "      <th>12</th>\n",
       "      <td>4.79474</td>\n",
       "      <td>297.925264</td>\n",
       "      <td>10.966148</td>\n",
       "      <td>-352.854837</td>\n",
       "      <td>132.505827</td>\n",
       "      <td>[-85.59258756231004, -75.3510807104516, 84.353...</td>\n",
       "      <td>[-1.133022794864862, -2.9718035735439168, -2.7...</td>\n",
       "      <td>1.133023</td>\n",
       "      <td>85.592588</td>\n",
       "    </tr>\n",
       "    <tr>\n",
       "      <th>13</th>\n",
       "      <td>4.791472</td>\n",
       "      <td>297.487946</td>\n",
       "      <td>10.966148</td>\n",
       "      <td>-352.277514</td>\n",
       "      <td>130.915673</td>\n",
       "      <td>[-85.70624050925984, -75.52635677399351, 84.53...</td>\n",
       "      <td>[-1.1311695583130403, -2.9654409633207726, -2....</td>\n",
       "      <td>1.131170</td>\n",
       "      <td>85.706241</td>\n",
       "    </tr>\n",
       "    <tr>\n",
       "      <th>14</th>\n",
       "      <td>4.78791</td>\n",
       "      <td>297.011705</td>\n",
       "      <td>10.966148</td>\n",
       "      <td>-351.649014</td>\n",
       "      <td>129.201691</td>\n",
       "      <td>[-85.83806882516417, -75.62975297769344, 84.71...</td>\n",
       "      <td>[-1.1293616953381256, -2.9516845222062265, -2....</td>\n",
       "      <td>1.129362</td>\n",
       "      <td>85.838069</td>\n",
       "    </tr>\n",
       "    <tr>\n",
       "      <th>15</th>\n",
       "      <td>4.784951</td>\n",
       "      <td>296.616428</td>\n",
       "      <td>10.966148</td>\n",
       "      <td>-351.127524</td>\n",
       "      <td>127.793006</td>\n",
       "      <td>[-85.95614475479039, -75.76893801139516, 84.87...</td>\n",
       "      <td>[-1.128086042849567, -2.9444731101456423, -2.7...</td>\n",
       "      <td>1.128086</td>\n",
       "      <td>85.956145</td>\n",
       "    </tr>\n",
       "    <tr>\n",
       "      <th>16</th>\n",
       "      <td>4.78342</td>\n",
       "      <td>296.412121</td>\n",
       "      <td>10.966148</td>\n",
       "      <td>-350.858041</td>\n",
       "      <td>127.069816</td>\n",
       "      <td>[-86.00823512086387, -75.85874313416058, 84.93...</td>\n",
       "      <td>[-1.1271910642768193, -2.942137488110536, -2.6...</td>\n",
       "      <td>1.127191</td>\n",
       "      <td>86.008235</td>\n",
       "    </tr>\n",
       "    <tr>\n",
       "      <th>17</th>\n",
       "      <td>4.780361</td>\n",
       "      <td>296.003957</td>\n",
       "      <td>10.966148</td>\n",
       "      <td>-350.319782</td>\n",
       "      <td>125.635</td>\n",
       "      <td>[-86.04325697078778, -75.90987125405432, 85.02...</td>\n",
       "      <td>[-1.12359834190939, -2.927563211510019, -2.690...</td>\n",
       "      <td>1.123598</td>\n",
       "      <td>86.043257</td>\n",
       "    </tr>\n",
       "    <tr>\n",
       "      <th>18</th>\n",
       "      <td>4.778861</td>\n",
       "      <td>295.803984</td>\n",
       "      <td>10.966148</td>\n",
       "      <td>-350.05613</td>\n",
       "      <td>124.93687</td>\n",
       "      <td>[-86.10208681946585, -75.94090131647663, 85.08...</td>\n",
       "      <td>[-1.1229286790541297, -2.920915145756686, -2.6...</td>\n",
       "      <td>1.122929</td>\n",
       "      <td>86.102087</td>\n",
       "    </tr>\n",
       "    <tr>\n",
       "      <th>19</th>\n",
       "      <td>4.778784</td>\n",
       "      <td>295.793624</td>\n",
       "      <td>10.966148</td>\n",
       "      <td>-350.042472</td>\n",
       "      <td>124.900788</td>\n",
       "      <td>[-86.13006885400549, -75.98907298962818, 85.13...</td>\n",
       "      <td>[-1.1235443916947232, -2.9241538282035973, -2....</td>\n",
       "      <td>1.123544</td>\n",
       "      <td>86.130069</td>\n",
       "    </tr>\n",
       "    <tr>\n",
       "      <th>20</th>\n",
       "      <td>4.77817</td>\n",
       "      <td>295.711797</td>\n",
       "      <td>10.966148</td>\n",
       "      <td>-349.9346</td>\n",
       "      <td>124.616098</td>\n",
       "      <td>[-86.1514243100863, -76.03450823866699, 85.166...</td>\n",
       "      <td>[-1.1231989337289623, -2.923952702970792, -2.6...</td>\n",
       "      <td>1.123199</td>\n",
       "      <td>86.151424</td>\n",
       "    </tr>\n",
       "    <tr>\n",
       "      <th>21</th>\n",
       "      <td>4.777567</td>\n",
       "      <td>295.631398</td>\n",
       "      <td>10.966148</td>\n",
       "      <td>-349.828616</td>\n",
       "      <td>124.336892</td>\n",
       "      <td>[-86.18042826080514, -76.06436777109488, 85.22...</td>\n",
       "      <td>[-1.123068498665603, -2.9226176898611516, -2.6...</td>\n",
       "      <td>1.123068</td>\n",
       "      <td>86.180428</td>\n",
       "    </tr>\n",
       "  </tbody>\n",
       "</table>\n",
       "</div>"
      ],
      "text/plain": [
       "          fQ          EC         EJ       alpha  dispersion  \\\n",
       "1   5.173744  351.229644  10.966148 -424.616752  483.605938   \n",
       "2   5.086753  338.535722  10.966148 -407.271164   365.60133   \n",
       "3    4.99565  325.537543  10.966148 -389.678323  269.862253   \n",
       "4   4.938898  317.591969  10.966148 -379.006488  222.067404   \n",
       "5   4.902011  312.489313  10.966148 -372.185518  195.157329   \n",
       "6   4.863438  307.205468  10.966148  -365.14887  170.134895   \n",
       "7   4.846058  304.841909  10.966148 -362.009931  159.818099   \n",
       "8   4.827634  302.348092  10.966148  -358.70379  149.488977   \n",
       "9   4.814106  300.524556  10.966148 -356.290011  142.284734   \n",
       "10  4.807848   299.68321  10.966148 -355.177403  139.057345   \n",
       "11  4.800524  298.700259  10.966148 -353.878385  135.362406   \n",
       "12   4.79474  297.925264  10.966148 -352.854837  132.505827   \n",
       "13  4.791472  297.487946  10.966148 -352.277514  130.915673   \n",
       "14   4.78791  297.011705  10.966148 -351.649014  129.201691   \n",
       "15  4.784951  296.616428  10.966148 -351.127524  127.793006   \n",
       "16   4.78342  296.412121  10.966148 -350.858041  127.069816   \n",
       "17  4.780361  296.003957  10.966148 -350.319782     125.635   \n",
       "18  4.778861  295.803984  10.966148  -350.05613   124.93687   \n",
       "19  4.778784  295.793624  10.966148 -350.042472  124.900788   \n",
       "20   4.77817  295.711797  10.966148   -349.9346  124.616098   \n",
       "21  4.777567  295.631398  10.966148 -349.828616  124.336892   \n",
       "\n",
       "                                                 gbus  \\\n",
       "1   [-76.13990406846295, -71.6845437365883, 65.999...   \n",
       "2   [-80.67980384965823, -69.29027664807386, 76.83...   \n",
       "3   [-81.41294111412391, -70.62964336589336, 78.22...   \n",
       "4   [-82.32384668839275, -71.35671629138895, 79.69...   \n",
       "5   [-82.46919796809468, -71.66530517005322, 80.71...   \n",
       "6   [-83.46562814193177, -73.08047170801872, 81.42...   \n",
       "7   [-83.94048319432972, -73.50803303225214, 82.41...   \n",
       "8   [-84.4846818672561, -73.92403540502701, 82.768...   \n",
       "9   [-84.8487874923684, -74.47740615576787, 83.354...   \n",
       "10  [-85.0759413285827, -74.80651585287654, 83.678...   \n",
       "11  [-85.39766262804773, -75.00599311865467, 84.04...   \n",
       "12  [-85.59258756231004, -75.3510807104516, 84.353...   \n",
       "13  [-85.70624050925984, -75.52635677399351, 84.53...   \n",
       "14  [-85.83806882516417, -75.62975297769344, 84.71...   \n",
       "15  [-85.95614475479039, -75.76893801139516, 84.87...   \n",
       "16  [-86.00823512086387, -75.85874313416058, 84.93...   \n",
       "17  [-86.04325697078778, -75.90987125405432, 85.02...   \n",
       "18  [-86.10208681946585, -75.94090131647663, 85.08...   \n",
       "19  [-86.13006885400549, -75.98907298962818, 85.13...   \n",
       "20  [-86.1514243100863, -76.03450823866699, 85.166...   \n",
       "21  [-86.18042826080514, -76.06436777109488, 85.22...   \n",
       "\n",
       "                                           chi_in_MHz    χr MHz     gr MHz  \n",
       "1   [-1.5117304868151291, -6.668655038461873, -3.6...  1.511730  76.139904  \n",
       "2   [-1.4982801687245453, -4.927555542813164, -4.0...  1.498280  80.679804  \n",
       "3   [-1.3432431929109137, -4.082702798422833, -3.4...  1.343243  81.412941  \n",
       "4   [-1.2707454542506154, -3.649061024271793, -3.1...  1.270745  82.323847  \n",
       "5   [-1.2131361479802836, -3.386340028906704, -3.0...  1.213136  82.469198  \n",
       "6   [-1.179995635632148, -3.234793681033957, -2.87...  1.179996  83.465628  \n",
       "7   [-1.1661525700154394, -3.152168745281802, -2.8...  1.166153  83.940483  \n",
       "8   [-1.1528078226248306, -3.0649774610674, -2.781...  1.152808  84.484682  \n",
       "9   [-1.1421660184738154, -3.023340374710646, -2.7...  1.142166  84.848787  \n",
       "10  [-1.138855474782897, -3.010286715566972, -2.74...  1.138855  85.075941  \n",
       "11  [-1.1364757600376003, -2.98034921617103, -2.72...  1.136476  85.397663  \n",
       "12  [-1.133022794864862, -2.9718035735439168, -2.7...  1.133023  85.592588  \n",
       "13  [-1.1311695583130403, -2.9654409633207726, -2....  1.131170  85.706241  \n",
       "14  [-1.1293616953381256, -2.9516845222062265, -2....  1.129362  85.838069  \n",
       "15  [-1.128086042849567, -2.9444731101456423, -2.7...  1.128086  85.956145  \n",
       "16  [-1.1271910642768193, -2.942137488110536, -2.6...  1.127191  86.008235  \n",
       "17  [-1.12359834190939, -2.927563211510019, -2.690...  1.123598  86.043257  \n",
       "18  [-1.1229286790541297, -2.920915145756686, -2.6...  1.122929  86.102087  \n",
       "19  [-1.1235443916947232, -2.9241538282035973, -2....  1.123544  86.130069  \n",
       "20  [-1.1231989337289623, -2.923952702970792, -2.6...  1.123199  86.151424  \n",
       "21  [-1.123068498665603, -2.9226176898611516, -2.6...  1.123068  86.180428  "
      ]
     },
     "execution_count": 78,
     "metadata": {},
     "output_type": "execute_result"
    }
   ],
   "source": [
    "c1.setup.junctions = Dict({'Lj': 14.9, 'Cj': 2})\n",
    "c1.run_lom()\n",
    "c1.lumped_oscillator_all"
   ]
  },
  {
   "cell_type": "code",
   "execution_count": 79,
   "id": "653ab807-6670-4950-ac9f-b050943b9cb8",
   "metadata": {},
   "outputs": [
    {
     "name": "stderr",
     "output_type": "stream",
     "text": [
      "WARNING:py.warnings:C:\\ProgramData\\Anaconda3\\envs\\qmetal\\lib\\site-packages\\pyEPR\\core_distributed_analysis.py:504: FutureWarning: The default dtype for empty Series will be 'object' instead of 'float64' in a future version. Specify a dtype explicitly to silence this warning.\n",
      "  self._hfss_variables[variation] = pd.Series(\n",
      "\n",
      "INFO 04:30PM [hfss_report_full_convergence]: Creating report for variation 0\n"
     ]
    },
    {
     "name": "stdout",
     "output_type": "stream",
     "text": [
      "Design \"Q_1_q3d\" info:\n",
      "\t# eigenmodes    0\n",
      "\t# variations    1\n"
     ]
    }
   ],
   "source": [
    "c1.plot_convergence();\n",
    "c1.plot_convergence_chi()"
   ]
  },
  {
   "cell_type": "code",
   "execution_count": 80,
   "id": "162b80a8-67dd-4b9c-bfa1-b6c8d9ab5ed3",
   "metadata": {},
   "outputs": [],
   "source": [
    "c1.sim.renderer.clean_active_design()"
   ]
  },
  {
   "cell_type": "code",
   "execution_count": 81,
   "id": "89533a2d-961b-4e26-b7ca-c3e182b1463c",
   "metadata": {},
   "outputs": [
    {
     "name": "stderr",
     "output_type": "stream",
     "text": [
      "INFO 04:35PM [connect_design]: \tOpened active design\n",
      "\tDesign:    Q_1_q3d [Solution type: Q3D]\n"
     ]
    },
    {
     "name": "stdout",
     "output_type": "stream",
     "text": [
      "Counting\n"
     ]
    },
    {
     "name": "stderr",
     "output_type": "stream",
     "text": [
      "INFO 04:35PM [get_setup]: \tOpened setup `Tune_Q_1`  (<class 'pyEPR.ansys.AnsysQ3DSetup'>)\n",
      "INFO 04:35PM [analyze]: Analyzing setup Tune_Q_1\n",
      "INFO 05:00PM [get_matrix]: Exporting matrix data to (C:\\Users\\user\\AppData\\Local\\Temp\\tmp3khrlrh6.txt, C, , Tune_Q_1:LastAdaptive, \"Original\", \"ohm\", \"nH\", \"fF\", \"mSie\", 4800000000, Maxwell, 1, False\n",
      "INFO 05:00PM [get_matrix]: Exporting matrix data to (C:\\Users\\user\\AppData\\Local\\Temp\\tmpuq3d9hzb.txt, C, , Tune_Q_1:AdaptivePass, \"Original\", \"ohm\", \"nH\", \"fF\", \"mSie\", 4800000000, Maxwell, 1, False\n",
      "INFO 05:00PM [get_matrix]: Exporting matrix data to (C:\\Users\\user\\AppData\\Local\\Temp\\tmpi9n59r0h.txt, C, , Tune_Q_1:AdaptivePass, \"Original\", \"ohm\", \"nH\", \"fF\", \"mSie\", 4800000000, Maxwell, 2, False\n",
      "INFO 05:00PM [get_matrix]: Exporting matrix data to (C:\\Users\\user\\AppData\\Local\\Temp\\tmpv59_cubh.txt, C, , Tune_Q_1:AdaptivePass, \"Original\", \"ohm\", \"nH\", \"fF\", \"mSie\", 4800000000, Maxwell, 3, False\n",
      "INFO 05:00PM [get_matrix]: Exporting matrix data to (C:\\Users\\user\\AppData\\Local\\Temp\\tmp0ov44_a_.txt, C, , Tune_Q_1:AdaptivePass, \"Original\", \"ohm\", \"nH\", \"fF\", \"mSie\", 4800000000, Maxwell, 4, False\n",
      "INFO 05:00PM [get_matrix]: Exporting matrix data to (C:\\Users\\user\\AppData\\Local\\Temp\\tmp3ghnrbjz.txt, C, , Tune_Q_1:AdaptivePass, \"Original\", \"ohm\", \"nH\", \"fF\", \"mSie\", 4800000000, Maxwell, 5, False\n",
      "INFO 05:00PM [get_matrix]: Exporting matrix data to (C:\\Users\\user\\AppData\\Local\\Temp\\tmpjxwonf9f.txt, C, , Tune_Q_1:AdaptivePass, \"Original\", \"ohm\", \"nH\", \"fF\", \"mSie\", 4800000000, Maxwell, 6, False\n",
      "INFO 05:00PM [get_matrix]: Exporting matrix data to (C:\\Users\\user\\AppData\\Local\\Temp\\tmpr8egulua.txt, C, , Tune_Q_1:AdaptivePass, \"Original\", \"ohm\", \"nH\", \"fF\", \"mSie\", 4800000000, Maxwell, 7, False\n",
      "INFO 05:00PM [get_matrix]: Exporting matrix data to (C:\\Users\\user\\AppData\\Local\\Temp\\tmp4imova2m.txt, C, , Tune_Q_1:AdaptivePass, \"Original\", \"ohm\", \"nH\", \"fF\", \"mSie\", 4800000000, Maxwell, 8, False\n",
      "INFO 05:00PM [get_matrix]: Exporting matrix data to (C:\\Users\\user\\AppData\\Local\\Temp\\tmpt0m0dr3a.txt, C, , Tune_Q_1:AdaptivePass, \"Original\", \"ohm\", \"nH\", \"fF\", \"mSie\", 4800000000, Maxwell, 9, False\n",
      "INFO 05:00PM [get_matrix]: Exporting matrix data to (C:\\Users\\user\\AppData\\Local\\Temp\\tmp14n_c_i5.txt, C, , Tune_Q_1:AdaptivePass, \"Original\", \"ohm\", \"nH\", \"fF\", \"mSie\", 4800000000, Maxwell, 10, False\n",
      "INFO 05:00PM [get_matrix]: Exporting matrix data to (C:\\Users\\user\\AppData\\Local\\Temp\\tmpe7kdtzqn.txt, C, , Tune_Q_1:AdaptivePass, \"Original\", \"ohm\", \"nH\", \"fF\", \"mSie\", 4800000000, Maxwell, 11, False\n",
      "INFO 05:00PM [get_matrix]: Exporting matrix data to (C:\\Users\\user\\AppData\\Local\\Temp\\tmpmz9d1qv6.txt, C, , Tune_Q_1:AdaptivePass, \"Original\", \"ohm\", \"nH\", \"fF\", \"mSie\", 4800000000, Maxwell, 12, False\n",
      "INFO 05:00PM [get_matrix]: Exporting matrix data to (C:\\Users\\user\\AppData\\Local\\Temp\\tmp8h1t40u1.txt, C, , Tune_Q_1:AdaptivePass, \"Original\", \"ohm\", \"nH\", \"fF\", \"mSie\", 4800000000, Maxwell, 13, False\n",
      "INFO 05:00PM [get_matrix]: Exporting matrix data to (C:\\Users\\user\\AppData\\Local\\Temp\\tmpn0bdf4f1.txt, C, , Tune_Q_1:AdaptivePass, \"Original\", \"ohm\", \"nH\", \"fF\", \"mSie\", 4800000000, Maxwell, 14, False\n",
      "INFO 05:00PM [get_matrix]: Exporting matrix data to (C:\\Users\\user\\AppData\\Local\\Temp\\tmpqxwf1wwd.txt, C, , Tune_Q_1:AdaptivePass, \"Original\", \"ohm\", \"nH\", \"fF\", \"mSie\", 4800000000, Maxwell, 15, False\n",
      "INFO 05:00PM [get_matrix]: Exporting matrix data to (C:\\Users\\user\\AppData\\Local\\Temp\\tmpy0conko9.txt, C, , Tune_Q_1:AdaptivePass, \"Original\", \"ohm\", \"nH\", \"fF\", \"mSie\", 4800000000, Maxwell, 16, False\n",
      "INFO 05:00PM [get_matrix]: Exporting matrix data to (C:\\Users\\user\\AppData\\Local\\Temp\\tmpwst40to2.txt, C, , Tune_Q_1:AdaptivePass, \"Original\", \"ohm\", \"nH\", \"fF\", \"mSie\", 4800000000, Maxwell, 17, False\n",
      "INFO 05:00PM [get_matrix]: Exporting matrix data to (C:\\Users\\user\\AppData\\Local\\Temp\\tmpner98kqy.txt, C, , Tune_Q_1:AdaptivePass, \"Original\", \"ohm\", \"nH\", \"fF\", \"mSie\", 4800000000, Maxwell, 18, False\n",
      "INFO 05:00PM [get_matrix]: Exporting matrix data to (C:\\Users\\user\\AppData\\Local\\Temp\\tmp_gjxxd_c.txt, C, , Tune_Q_1:AdaptivePass, \"Original\", \"ohm\", \"nH\", \"fF\", \"mSie\", 4800000000, Maxwell, 19, False\n",
      "INFO 05:00PM [get_matrix]: Exporting matrix data to (C:\\Users\\user\\AppData\\Local\\Temp\\tmph41edu9f.txt, C, , Tune_Q_1:AdaptivePass, \"Original\", \"ohm\", \"nH\", \"fF\", \"mSie\", 4800000000, Maxwell, 20, False\n",
      "INFO 05:00PM [get_matrix]: Exporting matrix data to (C:\\Users\\user\\AppData\\Local\\Temp\\tmp3fuqrbxx.txt, C, , Tune_Q_1:AdaptivePass, \"Original\", \"ohm\", \"nH\", \"fF\", \"mSie\", 4800000000, Maxwell, 21, False\n",
      "INFO 05:00PM [get_matrix]: Exporting matrix data to (C:\\Users\\user\\AppData\\Local\\Temp\\tmpei0gg1z3.txt, C, , Tune_Q_1:AdaptivePass, \"Original\", \"ohm\", \"nH\", \"fF\", \"mSie\", 4800000000, Maxwell, 22, False\n",
      "INFO 05:00PM [get_matrix]: Exporting matrix data to (C:\\Users\\user\\AppData\\Local\\Temp\\tmphdmnq_ut.txt, C, , Tune_Q_1:AdaptivePass, \"Original\", \"ohm\", \"nH\", \"fF\", \"mSie\", 4800000000, Maxwell, 23, False\n",
      "INFO 05:00PM [get_matrix]: Exporting matrix data to (C:\\Users\\user\\AppData\\Local\\Temp\\tmpce_7x7_w.txt, C, , Tune_Q_1:AdaptivePass, \"Original\", \"ohm\", \"nH\", \"fF\", \"mSie\", 4800000000, Maxwell, 24, False\n",
      "INFO 05:01PM [get_matrix]: Exporting matrix data to (C:\\Users\\user\\AppData\\Local\\Temp\\tmpei66lcl4.txt, C, , Tune_Q_1:AdaptivePass, \"Original\", \"ohm\", \"nH\", \"fF\", \"mSie\", 4800000000, Maxwell, 25, False\n",
      "INFO 05:01PM [get_matrix]: Exporting matrix data to (C:\\Users\\user\\AppData\\Local\\Temp\\tmpajkqvefe.txt, C, , Tune_Q_1:AdaptivePass, \"Original\", \"ohm\", \"nH\", \"fF\", \"mSie\", 4800000000, Maxwell, 26, False\n"
     ]
    },
    {
     "name": "stdout",
     "output_type": "stream",
     "text": [
      "Time Elapsed: 1521.4110193252563\n"
     ]
    }
   ],
   "source": [
    "c1.sim.setup.max_passes = 25\n",
    "c1.sim.setup.percent_error = 0.01\n",
    "start = time.time()\n",
    "print(\"Counting\")\n",
    "c1.sim.run(name=\"Q_1\", components=['Q_1'], open_terminations=[('Q_1', 'readout'), ('Q_1', 'bus_13'),('Q_1', 'bus_14'), ('Q_1', 'Charge_Line')])\n",
    "end = time.time()\n",
    "print(\"Time Elapsed:\", end - start)"
   ]
  },
  {
   "cell_type": "code",
   "execution_count": 82,
   "id": "f63f89b4-9d70-4ecd-aafe-72c151e60e63",
   "metadata": {},
   "outputs": [
    {
     "name": "stdout",
     "output_type": "stream",
     "text": [
      "[4, 5] [6 0 1 2]\n",
      "Predicted Values\n",
      "\n",
      "Transmon Properties\n",
      "f_Q 4.777894 [GHz]\n",
      "EC 295.675073 [MHz]\n",
      "EJ 10.966148 [GHz]\n",
      "alpha -349.886189 [MHz]\n",
      "dispersion 124.488504 [KHz]\n",
      "Lq 14.893992 [nH]\n",
      "Cq 65.511874 [fF]\n",
      "T1 119.231551 [us]\n",
      "\n",
      "**Coupling Properties**\n",
      "\n",
      "tCqbus1 -6.267761 [fF]\n",
      "gbus1_in_MHz -86.231670 [MHz]\n",
      "χ_bus1 -1.124887 [MHz]\n",
      "1/T1bus1 842.381392 [Hz]\n",
      "T1bus1 188.934543 [us]\n",
      "\n",
      "tCqbus2 -6.482536 [fF]\n",
      "gbus2_in_MHz -76.129366 [MHz]\n",
      "χ_bus2 -2.929590 [MHz]\n",
      "1/T1bus2 262.588388 [Hz]\n",
      "T1bus2 606.100461 [us]\n",
      "\n",
      "tCqbus3 7.020239 [fF]\n",
      "gbus3_in_MHz 85.318057 [MHz]\n",
      "χ_bus3 -2.696749 [MHz]\n",
      "1/T1bus3 229.869282 [Hz]\n",
      "T1bus3 692.371514 [us]\n",
      "\n",
      "tCqbus4 -0.009283 [fF]\n",
      "gbus4_in_MHz -0.151027 [MHz]\n",
      "χ_bus4 -0.000001 [MHz]\n",
      "1/T1bus4 0.000098 [Hz]\n",
      "T1bus4 1619152255.658757 [us]\n",
      "Bus-Bus Couplings\n",
      "gbus1_2 7.241843 [MHz]\n",
      "gbus1_3 5.940632 [MHz]\n",
      "gbus1_4 0.719307 [MHz]\n",
      "gbus2_3 5.493294 [MHz]\n",
      "gbus2_4 0.159935 [MHz]\n",
      "gbus3_4 0.145040 [MHz]\n"
     ]
    },
    {
     "data": {
      "text/html": [
       "<div>\n",
       "<style scoped>\n",
       "    .dataframe tbody tr th:only-of-type {\n",
       "        vertical-align: middle;\n",
       "    }\n",
       "\n",
       "    .dataframe tbody tr th {\n",
       "        vertical-align: top;\n",
       "    }\n",
       "\n",
       "    .dataframe thead th {\n",
       "        text-align: right;\n",
       "    }\n",
       "</style>\n",
       "<table border=\"1\" class=\"dataframe\">\n",
       "  <thead>\n",
       "    <tr style=\"text-align: right;\">\n",
       "      <th></th>\n",
       "      <th>fQ</th>\n",
       "      <th>EC</th>\n",
       "      <th>EJ</th>\n",
       "      <th>alpha</th>\n",
       "      <th>dispersion</th>\n",
       "      <th>gbus</th>\n",
       "      <th>chi_in_MHz</th>\n",
       "      <th>χr MHz</th>\n",
       "      <th>gr MHz</th>\n",
       "    </tr>\n",
       "  </thead>\n",
       "  <tbody>\n",
       "    <tr>\n",
       "      <th>1</th>\n",
       "      <td>5.173744</td>\n",
       "      <td>351.229644</td>\n",
       "      <td>10.966148</td>\n",
       "      <td>-424.616752</td>\n",
       "      <td>483.605938</td>\n",
       "      <td>[-76.13990406846295, -71.6845437365883, 65.999...</td>\n",
       "      <td>[-1.5117304868151291, -6.668655038461873, -3.6...</td>\n",
       "      <td>1.511730</td>\n",
       "      <td>76.139904</td>\n",
       "    </tr>\n",
       "    <tr>\n",
       "      <th>2</th>\n",
       "      <td>5.086753</td>\n",
       "      <td>338.535722</td>\n",
       "      <td>10.966148</td>\n",
       "      <td>-407.271164</td>\n",
       "      <td>365.60133</td>\n",
       "      <td>[-80.67980384965823, -69.29027664807386, 76.83...</td>\n",
       "      <td>[-1.4982801687245453, -4.927555542813164, -4.0...</td>\n",
       "      <td>1.498280</td>\n",
       "      <td>80.679804</td>\n",
       "    </tr>\n",
       "    <tr>\n",
       "      <th>3</th>\n",
       "      <td>4.99565</td>\n",
       "      <td>325.537543</td>\n",
       "      <td>10.966148</td>\n",
       "      <td>-389.678323</td>\n",
       "      <td>269.862253</td>\n",
       "      <td>[-81.41294111412391, -70.62964336589336, 78.22...</td>\n",
       "      <td>[-1.3432431929109137, -4.082702798422833, -3.4...</td>\n",
       "      <td>1.343243</td>\n",
       "      <td>81.412941</td>\n",
       "    </tr>\n",
       "    <tr>\n",
       "      <th>4</th>\n",
       "      <td>4.938898</td>\n",
       "      <td>317.591969</td>\n",
       "      <td>10.966148</td>\n",
       "      <td>-379.006488</td>\n",
       "      <td>222.067404</td>\n",
       "      <td>[-82.32384668839275, -71.35671629138895, 79.69...</td>\n",
       "      <td>[-1.2707454542506154, -3.649061024271793, -3.1...</td>\n",
       "      <td>1.270745</td>\n",
       "      <td>82.323847</td>\n",
       "    </tr>\n",
       "    <tr>\n",
       "      <th>5</th>\n",
       "      <td>4.902011</td>\n",
       "      <td>312.489313</td>\n",
       "      <td>10.966148</td>\n",
       "      <td>-372.185518</td>\n",
       "      <td>195.157329</td>\n",
       "      <td>[-82.46919796809468, -71.66530517005322, 80.71...</td>\n",
       "      <td>[-1.2131361479802836, -3.386340028906704, -3.0...</td>\n",
       "      <td>1.213136</td>\n",
       "      <td>82.469198</td>\n",
       "    </tr>\n",
       "    <tr>\n",
       "      <th>6</th>\n",
       "      <td>4.863438</td>\n",
       "      <td>307.205468</td>\n",
       "      <td>10.966148</td>\n",
       "      <td>-365.14887</td>\n",
       "      <td>170.134895</td>\n",
       "      <td>[-83.46562814193177, -73.08047170801872, 81.42...</td>\n",
       "      <td>[-1.179995635632148, -3.234793681033957, -2.87...</td>\n",
       "      <td>1.179996</td>\n",
       "      <td>83.465628</td>\n",
       "    </tr>\n",
       "    <tr>\n",
       "      <th>7</th>\n",
       "      <td>4.846058</td>\n",
       "      <td>304.841909</td>\n",
       "      <td>10.966148</td>\n",
       "      <td>-362.009931</td>\n",
       "      <td>159.818099</td>\n",
       "      <td>[-83.94048319432972, -73.50803303225214, 82.41...</td>\n",
       "      <td>[-1.1661525700154394, -3.152168745281802, -2.8...</td>\n",
       "      <td>1.166153</td>\n",
       "      <td>83.940483</td>\n",
       "    </tr>\n",
       "    <tr>\n",
       "      <th>8</th>\n",
       "      <td>4.827634</td>\n",
       "      <td>302.348092</td>\n",
       "      <td>10.966148</td>\n",
       "      <td>-358.70379</td>\n",
       "      <td>149.488977</td>\n",
       "      <td>[-84.4846818672561, -73.92403540502701, 82.768...</td>\n",
       "      <td>[-1.1528078226248306, -3.0649774610674, -2.781...</td>\n",
       "      <td>1.152808</td>\n",
       "      <td>84.484682</td>\n",
       "    </tr>\n",
       "    <tr>\n",
       "      <th>9</th>\n",
       "      <td>4.814106</td>\n",
       "      <td>300.524556</td>\n",
       "      <td>10.966148</td>\n",
       "      <td>-356.290011</td>\n",
       "      <td>142.284734</td>\n",
       "      <td>[-84.8487874923684, -74.47740615576787, 83.354...</td>\n",
       "      <td>[-1.1421660184738154, -3.023340374710646, -2.7...</td>\n",
       "      <td>1.142166</td>\n",
       "      <td>84.848787</td>\n",
       "    </tr>\n",
       "    <tr>\n",
       "      <th>10</th>\n",
       "      <td>4.807848</td>\n",
       "      <td>299.68321</td>\n",
       "      <td>10.966148</td>\n",
       "      <td>-355.177403</td>\n",
       "      <td>139.057345</td>\n",
       "      <td>[-85.0759413285827, -74.80651585287654, 83.678...</td>\n",
       "      <td>[-1.138855474782897, -3.010286715566972, -2.74...</td>\n",
       "      <td>1.138855</td>\n",
       "      <td>85.075941</td>\n",
       "    </tr>\n",
       "    <tr>\n",
       "      <th>11</th>\n",
       "      <td>4.800524</td>\n",
       "      <td>298.700259</td>\n",
       "      <td>10.966148</td>\n",
       "      <td>-353.878385</td>\n",
       "      <td>135.362406</td>\n",
       "      <td>[-85.39766262804773, -75.00599311865467, 84.04...</td>\n",
       "      <td>[-1.1364757600376003, -2.98034921617103, -2.72...</td>\n",
       "      <td>1.136476</td>\n",
       "      <td>85.397663</td>\n",
       "    </tr>\n",
       "    <tr>\n",
       "      <th>12</th>\n",
       "      <td>4.79474</td>\n",
       "      <td>297.925264</td>\n",
       "      <td>10.966148</td>\n",
       "      <td>-352.854837</td>\n",
       "      <td>132.505827</td>\n",
       "      <td>[-85.59258756231004, -75.3510807104516, 84.353...</td>\n",
       "      <td>[-1.133022794864862, -2.9718035735439168, -2.7...</td>\n",
       "      <td>1.133023</td>\n",
       "      <td>85.592588</td>\n",
       "    </tr>\n",
       "    <tr>\n",
       "      <th>13</th>\n",
       "      <td>4.791472</td>\n",
       "      <td>297.487946</td>\n",
       "      <td>10.966148</td>\n",
       "      <td>-352.277514</td>\n",
       "      <td>130.915673</td>\n",
       "      <td>[-85.70624050925984, -75.52635677399351, 84.53...</td>\n",
       "      <td>[-1.1311695583130403, -2.9654409633207726, -2....</td>\n",
       "      <td>1.131170</td>\n",
       "      <td>85.706241</td>\n",
       "    </tr>\n",
       "    <tr>\n",
       "      <th>14</th>\n",
       "      <td>4.78791</td>\n",
       "      <td>297.011705</td>\n",
       "      <td>10.966148</td>\n",
       "      <td>-351.649014</td>\n",
       "      <td>129.201691</td>\n",
       "      <td>[-85.83806882516417, -75.62975297769344, 84.71...</td>\n",
       "      <td>[-1.1293616953381256, -2.9516845222062265, -2....</td>\n",
       "      <td>1.129362</td>\n",
       "      <td>85.838069</td>\n",
       "    </tr>\n",
       "    <tr>\n",
       "      <th>15</th>\n",
       "      <td>4.784951</td>\n",
       "      <td>296.616428</td>\n",
       "      <td>10.966148</td>\n",
       "      <td>-351.127524</td>\n",
       "      <td>127.793006</td>\n",
       "      <td>[-85.95614475479039, -75.76893801139516, 84.87...</td>\n",
       "      <td>[-1.128086042849567, -2.9444731101456423, -2.7...</td>\n",
       "      <td>1.128086</td>\n",
       "      <td>85.956145</td>\n",
       "    </tr>\n",
       "    <tr>\n",
       "      <th>16</th>\n",
       "      <td>4.78342</td>\n",
       "      <td>296.412121</td>\n",
       "      <td>10.966148</td>\n",
       "      <td>-350.858041</td>\n",
       "      <td>127.069816</td>\n",
       "      <td>[-86.00823512086387, -75.85874313416058, 84.93...</td>\n",
       "      <td>[-1.1271910642768193, -2.942137488110536, -2.6...</td>\n",
       "      <td>1.127191</td>\n",
       "      <td>86.008235</td>\n",
       "    </tr>\n",
       "    <tr>\n",
       "      <th>17</th>\n",
       "      <td>4.780361</td>\n",
       "      <td>296.003957</td>\n",
       "      <td>10.966148</td>\n",
       "      <td>-350.319782</td>\n",
       "      <td>125.635</td>\n",
       "      <td>[-86.04325697078778, -75.90987125405432, 85.02...</td>\n",
       "      <td>[-1.12359834190939, -2.927563211510019, -2.690...</td>\n",
       "      <td>1.123598</td>\n",
       "      <td>86.043257</td>\n",
       "    </tr>\n",
       "    <tr>\n",
       "      <th>18</th>\n",
       "      <td>4.778861</td>\n",
       "      <td>295.803984</td>\n",
       "      <td>10.966148</td>\n",
       "      <td>-350.05613</td>\n",
       "      <td>124.93687</td>\n",
       "      <td>[-86.10208681946585, -75.94090131647663, 85.08...</td>\n",
       "      <td>[-1.1229286790541297, -2.920915145756686, -2.6...</td>\n",
       "      <td>1.122929</td>\n",
       "      <td>86.102087</td>\n",
       "    </tr>\n",
       "    <tr>\n",
       "      <th>19</th>\n",
       "      <td>4.778784</td>\n",
       "      <td>295.793624</td>\n",
       "      <td>10.966148</td>\n",
       "      <td>-350.042472</td>\n",
       "      <td>124.900788</td>\n",
       "      <td>[-86.13006885400549, -75.98907298962818, 85.13...</td>\n",
       "      <td>[-1.1235443916947232, -2.9241538282035973, -2....</td>\n",
       "      <td>1.123544</td>\n",
       "      <td>86.130069</td>\n",
       "    </tr>\n",
       "    <tr>\n",
       "      <th>20</th>\n",
       "      <td>4.77817</td>\n",
       "      <td>295.711797</td>\n",
       "      <td>10.966148</td>\n",
       "      <td>-349.9346</td>\n",
       "      <td>124.616098</td>\n",
       "      <td>[-86.1514243100863, -76.03450823866699, 85.166...</td>\n",
       "      <td>[-1.1231989337289623, -2.923952702970792, -2.6...</td>\n",
       "      <td>1.123199</td>\n",
       "      <td>86.151424</td>\n",
       "    </tr>\n",
       "    <tr>\n",
       "      <th>21</th>\n",
       "      <td>4.777567</td>\n",
       "      <td>295.631398</td>\n",
       "      <td>10.966148</td>\n",
       "      <td>-349.828616</td>\n",
       "      <td>124.336892</td>\n",
       "      <td>[-86.18042826080514, -76.06436777109488, 85.22...</td>\n",
       "      <td>[-1.123068498665603, -2.9226176898611516, -2.6...</td>\n",
       "      <td>1.123068</td>\n",
       "      <td>86.180428</td>\n",
       "    </tr>\n",
       "    <tr>\n",
       "      <th>22</th>\n",
       "      <td>4.779277</td>\n",
       "      <td>295.859412</td>\n",
       "      <td>10.966148</td>\n",
       "      <td>-350.129206</td>\n",
       "      <td>125.130061</td>\n",
       "      <td>[-86.1914330696975, -76.07344057688614, 85.249...</td>\n",
       "      <td>[-1.1258728534738118, -2.9336315106324595, -2....</td>\n",
       "      <td>1.125873</td>\n",
       "      <td>86.191433</td>\n",
       "    </tr>\n",
       "    <tr>\n",
       "      <th>23</th>\n",
       "      <td>4.778656</td>\n",
       "      <td>295.776641</td>\n",
       "      <td>10.966148</td>\n",
       "      <td>-350.020083</td>\n",
       "      <td>124.841658</td>\n",
       "      <td>[-86.20697050179261, -76.09422021868126, 85.27...</td>\n",
       "      <td>[-1.125363960764265, -2.9314824418434244, -2.6...</td>\n",
       "      <td>1.125364</td>\n",
       "      <td>86.206971</td>\n",
       "    </tr>\n",
       "    <tr>\n",
       "      <th>24</th>\n",
       "      <td>4.778256</td>\n",
       "      <td>295.723212</td>\n",
       "      <td>10.966148</td>\n",
       "      <td>-349.949649</td>\n",
       "      <td>124.655783</td>\n",
       "      <td>[-86.2158021018172, -76.11421176454377, 85.289...</td>\n",
       "      <td>[-1.1250042889409984, -2.930602804643854, -2.6...</td>\n",
       "      <td>1.125004</td>\n",
       "      <td>86.215802</td>\n",
       "    </tr>\n",
       "    <tr>\n",
       "      <th>25</th>\n",
       "      <td>4.777894</td>\n",
       "      <td>295.675073</td>\n",
       "      <td>10.966148</td>\n",
       "      <td>-349.886189</td>\n",
       "      <td>124.488504</td>\n",
       "      <td>[-86.23167024650223, -76.12936570276987, 85.31...</td>\n",
       "      <td>[-1.124886677662557, -2.929590402356581, -2.69...</td>\n",
       "      <td>1.124887</td>\n",
       "      <td>86.231670</td>\n",
       "    </tr>\n",
       "  </tbody>\n",
       "</table>\n",
       "</div>"
      ],
      "text/plain": [
       "          fQ          EC         EJ       alpha  dispersion  \\\n",
       "1   5.173744  351.229644  10.966148 -424.616752  483.605938   \n",
       "2   5.086753  338.535722  10.966148 -407.271164   365.60133   \n",
       "3    4.99565  325.537543  10.966148 -389.678323  269.862253   \n",
       "4   4.938898  317.591969  10.966148 -379.006488  222.067404   \n",
       "5   4.902011  312.489313  10.966148 -372.185518  195.157329   \n",
       "6   4.863438  307.205468  10.966148  -365.14887  170.134895   \n",
       "7   4.846058  304.841909  10.966148 -362.009931  159.818099   \n",
       "8   4.827634  302.348092  10.966148  -358.70379  149.488977   \n",
       "9   4.814106  300.524556  10.966148 -356.290011  142.284734   \n",
       "10  4.807848   299.68321  10.966148 -355.177403  139.057345   \n",
       "11  4.800524  298.700259  10.966148 -353.878385  135.362406   \n",
       "12   4.79474  297.925264  10.966148 -352.854837  132.505827   \n",
       "13  4.791472  297.487946  10.966148 -352.277514  130.915673   \n",
       "14   4.78791  297.011705  10.966148 -351.649014  129.201691   \n",
       "15  4.784951  296.616428  10.966148 -351.127524  127.793006   \n",
       "16   4.78342  296.412121  10.966148 -350.858041  127.069816   \n",
       "17  4.780361  296.003957  10.966148 -350.319782     125.635   \n",
       "18  4.778861  295.803984  10.966148  -350.05613   124.93687   \n",
       "19  4.778784  295.793624  10.966148 -350.042472  124.900788   \n",
       "20   4.77817  295.711797  10.966148   -349.9346  124.616098   \n",
       "21  4.777567  295.631398  10.966148 -349.828616  124.336892   \n",
       "22  4.779277  295.859412  10.966148 -350.129206  125.130061   \n",
       "23  4.778656  295.776641  10.966148 -350.020083  124.841658   \n",
       "24  4.778256  295.723212  10.966148 -349.949649  124.655783   \n",
       "25  4.777894  295.675073  10.966148 -349.886189  124.488504   \n",
       "\n",
       "                                                 gbus  \\\n",
       "1   [-76.13990406846295, -71.6845437365883, 65.999...   \n",
       "2   [-80.67980384965823, -69.29027664807386, 76.83...   \n",
       "3   [-81.41294111412391, -70.62964336589336, 78.22...   \n",
       "4   [-82.32384668839275, -71.35671629138895, 79.69...   \n",
       "5   [-82.46919796809468, -71.66530517005322, 80.71...   \n",
       "6   [-83.46562814193177, -73.08047170801872, 81.42...   \n",
       "7   [-83.94048319432972, -73.50803303225214, 82.41...   \n",
       "8   [-84.4846818672561, -73.92403540502701, 82.768...   \n",
       "9   [-84.8487874923684, -74.47740615576787, 83.354...   \n",
       "10  [-85.0759413285827, -74.80651585287654, 83.678...   \n",
       "11  [-85.39766262804773, -75.00599311865467, 84.04...   \n",
       "12  [-85.59258756231004, -75.3510807104516, 84.353...   \n",
       "13  [-85.70624050925984, -75.52635677399351, 84.53...   \n",
       "14  [-85.83806882516417, -75.62975297769344, 84.71...   \n",
       "15  [-85.95614475479039, -75.76893801139516, 84.87...   \n",
       "16  [-86.00823512086387, -75.85874313416058, 84.93...   \n",
       "17  [-86.04325697078778, -75.90987125405432, 85.02...   \n",
       "18  [-86.10208681946585, -75.94090131647663, 85.08...   \n",
       "19  [-86.13006885400549, -75.98907298962818, 85.13...   \n",
       "20  [-86.1514243100863, -76.03450823866699, 85.166...   \n",
       "21  [-86.18042826080514, -76.06436777109488, 85.22...   \n",
       "22  [-86.1914330696975, -76.07344057688614, 85.249...   \n",
       "23  [-86.20697050179261, -76.09422021868126, 85.27...   \n",
       "24  [-86.2158021018172, -76.11421176454377, 85.289...   \n",
       "25  [-86.23167024650223, -76.12936570276987, 85.31...   \n",
       "\n",
       "                                           chi_in_MHz    χr MHz     gr MHz  \n",
       "1   [-1.5117304868151291, -6.668655038461873, -3.6...  1.511730  76.139904  \n",
       "2   [-1.4982801687245453, -4.927555542813164, -4.0...  1.498280  80.679804  \n",
       "3   [-1.3432431929109137, -4.082702798422833, -3.4...  1.343243  81.412941  \n",
       "4   [-1.2707454542506154, -3.649061024271793, -3.1...  1.270745  82.323847  \n",
       "5   [-1.2131361479802836, -3.386340028906704, -3.0...  1.213136  82.469198  \n",
       "6   [-1.179995635632148, -3.234793681033957, -2.87...  1.179996  83.465628  \n",
       "7   [-1.1661525700154394, -3.152168745281802, -2.8...  1.166153  83.940483  \n",
       "8   [-1.1528078226248306, -3.0649774610674, -2.781...  1.152808  84.484682  \n",
       "9   [-1.1421660184738154, -3.023340374710646, -2.7...  1.142166  84.848787  \n",
       "10  [-1.138855474782897, -3.010286715566972, -2.74...  1.138855  85.075941  \n",
       "11  [-1.1364757600376003, -2.98034921617103, -2.72...  1.136476  85.397663  \n",
       "12  [-1.133022794864862, -2.9718035735439168, -2.7...  1.133023  85.592588  \n",
       "13  [-1.1311695583130403, -2.9654409633207726, -2....  1.131170  85.706241  \n",
       "14  [-1.1293616953381256, -2.9516845222062265, -2....  1.129362  85.838069  \n",
       "15  [-1.128086042849567, -2.9444731101456423, -2.7...  1.128086  85.956145  \n",
       "16  [-1.1271910642768193, -2.942137488110536, -2.6...  1.127191  86.008235  \n",
       "17  [-1.12359834190939, -2.927563211510019, -2.690...  1.123598  86.043257  \n",
       "18  [-1.1229286790541297, -2.920915145756686, -2.6...  1.122929  86.102087  \n",
       "19  [-1.1235443916947232, -2.9241538282035973, -2....  1.123544  86.130069  \n",
       "20  [-1.1231989337289623, -2.923952702970792, -2.6...  1.123199  86.151424  \n",
       "21  [-1.123068498665603, -2.9226176898611516, -2.6...  1.123068  86.180428  \n",
       "22  [-1.1258728534738118, -2.9336315106324595, -2....  1.125873  86.191433  \n",
       "23  [-1.125363960764265, -2.9314824418434244, -2.6...  1.125364  86.206971  \n",
       "24  [-1.1250042889409984, -2.930602804643854, -2.6...  1.125004  86.215802  \n",
       "25  [-1.124886677662557, -2.929590402356581, -2.69...  1.124887  86.231670  "
      ]
     },
     "execution_count": 82,
     "metadata": {},
     "output_type": "execute_result"
    }
   ],
   "source": [
    "c1.setup.junctions = Dict({'Lj': 14.9, 'Cj': 2})\n",
    "c1.run_lom()\n",
    "c1.lumped_oscillator_all"
   ]
  },
  {
   "cell_type": "code",
   "execution_count": 83,
   "id": "78ec5dc0-1325-4caf-b896-6665c502d9d5",
   "metadata": {},
   "outputs": [
    {
     "name": "stderr",
     "output_type": "stream",
     "text": [
      "WARNING:py.warnings:C:\\ProgramData\\Anaconda3\\envs\\qmetal\\lib\\site-packages\\pyEPR\\core_distributed_analysis.py:504: FutureWarning: The default dtype for empty Series will be 'object' instead of 'float64' in a future version. Specify a dtype explicitly to silence this warning.\n",
      "  self._hfss_variables[variation] = pd.Series(\n",
      "\n",
      "INFO 05:05PM [hfss_report_full_convergence]: Creating report for variation 0\n"
     ]
    },
    {
     "name": "stdout",
     "output_type": "stream",
     "text": [
      "Design \"Q_1_q3d\" info:\n",
      "\t# eigenmodes    0\n",
      "\t# variations    1\n"
     ]
    }
   ],
   "source": [
    "c1.plot_convergence();\n",
    "c1.plot_convergence_chi()"
   ]
  },
  {
   "cell_type": "code",
   "execution_count": 84,
   "id": "aa5f9762-a4e1-4797-b058-eedd0daea010",
   "metadata": {},
   "outputs": [],
   "source": [
    "c1.sim.renderer.clean_active_design()\n"
   ]
  },
  {
   "cell_type": "markdown",
   "id": "5e43dcfe-170c-465f-b610-d8adcba08cc1",
   "metadata": {},
   "source": [
    "### Tune Q2"
   ]
  },
  {
   "cell_type": "code",
   "execution_count": 38,
   "id": "77afbc5e-7759-4e2e-90a9-b3b3434b3339",
   "metadata": {},
   "outputs": [
    {
     "data": {
      "text/plain": [
       "{'name': 'Tune_Q_2',\n",
       " 'reuse_selected_design': True,\n",
       " 'reuse_setup': True,\n",
       " 'freq_ghz': 5,\n",
       " 'save_fields': False,\n",
       " 'enabled': True,\n",
       " 'max_passes': 16,\n",
       " 'min_passes': 2,\n",
       " 'min_converged_passes': 2,\n",
       " 'percent_error': 0.05,\n",
       " 'percent_refinement': 30,\n",
       " 'auto_increase_solution_order': True,\n",
       " 'solution_order': 'High',\n",
       " 'solver_type': 'Iterative'}"
      ]
     },
     "execution_count": 38,
     "metadata": {},
     "output_type": "execute_result"
    }
   ],
   "source": [
    "c1.sim.setup.name = 'Tune_Q_2'\n",
    "c1.sim.setup.freq_ghz = 5\n",
    "c1.sim.setup.max_passes = 16\n",
    "c1.sim.setup.min_converged_passes = 2\n",
    "c1.sim.setup.percent_error = 0.05\n",
    "c1.sim.setup"
   ]
  },
  {
   "cell_type": "code",
   "execution_count": 39,
   "id": "068c4e63-dc1a-4c48-bda3-2b47c3922d89",
   "metadata": {},
   "outputs": [
    {
     "name": "stderr",
     "output_type": "stream",
     "text": [
      "INFO 07:54PM [connect_project]: Connecting to Ansys Desktop API...\n",
      "INFO 07:54PM [load_ansys_project]: \tOpened Ansys App\n",
      "INFO 07:54PM [load_ansys_project]: \tOpened Ansys Desktop v2024.1.0\n",
      "INFO 07:54PM [load_ansys_project]: \tOpened Ansys Project\n",
      "\tFolder:    C:/Users/user/Documents/Ansoft/\n",
      "\tProject:   Project5\n",
      "INFO 07:54PM [connect_design]: No active design found (or error getting active design).\n",
      "INFO 07:54PM [connect]: \t Connected to project \"Project5\". No design detected\n",
      "INFO 07:54PM [connect_design]: \tOpened active design\n",
      "\tDesign:    Q_2_q3d [Solution type: Q3D]\n",
      "WARNING 07:54PM [connect_setup]: \tNo design setup detected.\n",
      "WARNING 07:54PM [connect_setup]: \tCreating Q3D default setup.\n",
      "INFO 07:54PM [get_setup]: \tOpened setup `Setup`  (<class 'pyEPR.ansys.AnsysQ3DSetup'>)\n",
      "INFO 07:54PM [get_setup]: \tOpened setup `Tune_Q_2`  (<class 'pyEPR.ansys.AnsysQ3DSetup'>)\n",
      "INFO 07:54PM [analyze]: Analyzing setup Tune_Q_2\n",
      "INFO 07:58PM [get_matrix]: Exporting matrix data to (C:\\Users\\user\\AppData\\Local\\Temp\\tmpn0b6dgb4.txt, C, , Tune_Q_2:LastAdaptive, \"Original\", \"ohm\", \"nH\", \"fF\", \"mSie\", 5000000000, Maxwell, 1, False\n",
      "INFO 07:58PM [get_matrix]: Exporting matrix data to (C:\\Users\\user\\AppData\\Local\\Temp\\tmp9ya1w_ed.txt, C, , Tune_Q_2:AdaptivePass, \"Original\", \"ohm\", \"nH\", \"fF\", \"mSie\", 5000000000, Maxwell, 1, False\n",
      "INFO 07:58PM [get_matrix]: Exporting matrix data to (C:\\Users\\user\\AppData\\Local\\Temp\\tmp791kg539.txt, C, , Tune_Q_2:AdaptivePass, \"Original\", \"ohm\", \"nH\", \"fF\", \"mSie\", 5000000000, Maxwell, 2, False\n",
      "INFO 07:58PM [get_matrix]: Exporting matrix data to (C:\\Users\\user\\AppData\\Local\\Temp\\tmpmshxkfqz.txt, C, , Tune_Q_2:AdaptivePass, \"Original\", \"ohm\", \"nH\", \"fF\", \"mSie\", 5000000000, Maxwell, 3, False\n",
      "INFO 07:58PM [get_matrix]: Exporting matrix data to (C:\\Users\\user\\AppData\\Local\\Temp\\tmp137o6alc.txt, C, , Tune_Q_2:AdaptivePass, \"Original\", \"ohm\", \"nH\", \"fF\", \"mSie\", 5000000000, Maxwell, 4, False\n",
      "INFO 07:58PM [get_matrix]: Exporting matrix data to (C:\\Users\\user\\AppData\\Local\\Temp\\tmpc9xtdr4d.txt, C, , Tune_Q_2:AdaptivePass, \"Original\", \"ohm\", \"nH\", \"fF\", \"mSie\", 5000000000, Maxwell, 5, False\n",
      "INFO 07:58PM [get_matrix]: Exporting matrix data to (C:\\Users\\user\\AppData\\Local\\Temp\\tmp1l2k_2am.txt, C, , Tune_Q_2:AdaptivePass, \"Original\", \"ohm\", \"nH\", \"fF\", \"mSie\", 5000000000, Maxwell, 6, False\n",
      "INFO 07:58PM [get_matrix]: Exporting matrix data to (C:\\Users\\user\\AppData\\Local\\Temp\\tmpbdchzlz4.txt, C, , Tune_Q_2:AdaptivePass, \"Original\", \"ohm\", \"nH\", \"fF\", \"mSie\", 5000000000, Maxwell, 7, False\n",
      "INFO 07:58PM [get_matrix]: Exporting matrix data to (C:\\Users\\user\\AppData\\Local\\Temp\\tmpp0v2uymv.txt, C, , Tune_Q_2:AdaptivePass, \"Original\", \"ohm\", \"nH\", \"fF\", \"mSie\", 5000000000, Maxwell, 8, False\n",
      "INFO 07:58PM [get_matrix]: Exporting matrix data to (C:\\Users\\user\\AppData\\Local\\Temp\\tmpt99b_dm6.txt, C, , Tune_Q_2:AdaptivePass, \"Original\", \"ohm\", \"nH\", \"fF\", \"mSie\", 5000000000, Maxwell, 9, False\n",
      "INFO 07:58PM [get_matrix]: Exporting matrix data to (C:\\Users\\user\\AppData\\Local\\Temp\\tmp2kki0pyh.txt, C, , Tune_Q_2:AdaptivePass, \"Original\", \"ohm\", \"nH\", \"fF\", \"mSie\", 5000000000, Maxwell, 10, False\n",
      "INFO 07:58PM [get_matrix]: Exporting matrix data to (C:\\Users\\user\\AppData\\Local\\Temp\\tmp4ia4gtk8.txt, C, , Tune_Q_2:AdaptivePass, \"Original\", \"ohm\", \"nH\", \"fF\", \"mSie\", 5000000000, Maxwell, 11, False\n",
      "INFO 07:58PM [get_matrix]: Exporting matrix data to (C:\\Users\\user\\AppData\\Local\\Temp\\tmpd_uskyxs.txt, C, , Tune_Q_2:AdaptivePass, \"Original\", \"ohm\", \"nH\", \"fF\", \"mSie\", 5000000000, Maxwell, 12, False\n",
      "INFO 07:58PM [get_matrix]: Exporting matrix data to (C:\\Users\\user\\AppData\\Local\\Temp\\tmpsyqccnav.txt, C, , Tune_Q_2:AdaptivePass, \"Original\", \"ohm\", \"nH\", \"fF\", \"mSie\", 5000000000, Maxwell, 13, False\n",
      "INFO 07:58PM [get_matrix]: Exporting matrix data to (C:\\Users\\user\\AppData\\Local\\Temp\\tmpid57c4pw.txt, C, , Tune_Q_2:AdaptivePass, \"Original\", \"ohm\", \"nH\", \"fF\", \"mSie\", 5000000000, Maxwell, 14, False\n",
      "INFO 07:58PM [get_matrix]: Exporting matrix data to (C:\\Users\\user\\AppData\\Local\\Temp\\tmpvahhmyai.txt, C, , Tune_Q_2:AdaptivePass, \"Original\", \"ohm\", \"nH\", \"fF\", \"mSie\", 5000000000, Maxwell, 15, False\n",
      "INFO 07:58PM [get_matrix]: Exporting matrix data to (C:\\Users\\user\\AppData\\Local\\Temp\\tmp4s3njiml.txt, C, , Tune_Q_2:AdaptivePass, \"Original\", \"ohm\", \"nH\", \"fF\", \"mSie\", 5000000000, Maxwell, 16, False\n",
      "INFO 07:58PM [get_matrix]: Exporting matrix data to (C:\\Users\\user\\AppData\\Local\\Temp\\tmpixua49hi.txt, C, , Tune_Q_2:AdaptivePass, \"Original\", \"ohm\", \"nH\", \"fF\", \"mSie\", 5000000000, Maxwell, 17, False\n"
     ]
    }
   ],
   "source": [
    "c1.sim.run(name=\"Q_2\", components=['Q_2'], open_terminations=[('Q_2', 'readout'), ('Q_2', 'bus_23'),('Q_2', 'bus_24'), ('Q_2', 'Charge_Line')])"
   ]
  },
  {
   "cell_type": "code",
   "execution_count": 40,
   "id": "03050bd4-e198-477a-9602-bd6eaee8092d",
   "metadata": {},
   "outputs": [
    {
     "data": {
      "text/html": [
       "<div>\n",
       "<style scoped>\n",
       "    .dataframe tbody tr th:only-of-type {\n",
       "        vertical-align: middle;\n",
       "    }\n",
       "\n",
       "    .dataframe tbody tr th {\n",
       "        vertical-align: top;\n",
       "    }\n",
       "\n",
       "    .dataframe thead th {\n",
       "        text-align: right;\n",
       "    }\n",
       "</style>\n",
       "<table border=\"1\" class=\"dataframe\">\n",
       "  <thead>\n",
       "    <tr style=\"text-align: right;\">\n",
       "      <th></th>\n",
       "      <th>bus_23_connector_pad_Q_2</th>\n",
       "      <th>bus_24_connector_pad_Q_2</th>\n",
       "      <th>cl_metal_Q_2</th>\n",
       "      <th>ground_main_plane</th>\n",
       "      <th>pad_bot_Q_2</th>\n",
       "      <th>pad_top_Q_2</th>\n",
       "      <th>readout_connector_pad_Q_2</th>\n",
       "    </tr>\n",
       "  </thead>\n",
       "  <tbody>\n",
       "    <tr>\n",
       "      <th>bus_23_connector_pad_Q_2</th>\n",
       "      <td>42.53477</td>\n",
       "      <td>-0.21101</td>\n",
       "      <td>-0.00577</td>\n",
       "      <td>-31.13238</td>\n",
       "      <td>-9.33872</td>\n",
       "      <td>-1.13755</td>\n",
       "      <td>-0.07475</td>\n",
       "    </tr>\n",
       "    <tr>\n",
       "      <th>bus_24_connector_pad_Q_2</th>\n",
       "      <td>-0.21101</td>\n",
       "      <td>42.53539</td>\n",
       "      <td>-0.00648</td>\n",
       "      <td>-31.08394</td>\n",
       "      <td>-1.14175</td>\n",
       "      <td>-9.30149</td>\n",
       "      <td>-0.16406</td>\n",
       "    </tr>\n",
       "    <tr>\n",
       "      <th>cl_metal_Q_2</th>\n",
       "      <td>-0.00577</td>\n",
       "      <td>-0.00648</td>\n",
       "      <td>16.52351</td>\n",
       "      <td>-15.97471</td>\n",
       "      <td>-0.14109</td>\n",
       "      <td>-0.20671</td>\n",
       "      <td>-0.11530</td>\n",
       "    </tr>\n",
       "    <tr>\n",
       "      <th>ground_main_plane</th>\n",
       "      <td>-31.13238</td>\n",
       "      <td>-31.08394</td>\n",
       "      <td>-15.97471</td>\n",
       "      <td>249.31232</td>\n",
       "      <td>-40.79630</td>\n",
       "      <td>-37.77295</td>\n",
       "      <td>-34.14596</td>\n",
       "    </tr>\n",
       "    <tr>\n",
       "      <th>pad_bot_Q_2</th>\n",
       "      <td>-9.33872</td>\n",
       "      <td>-1.14175</td>\n",
       "      <td>-0.14109</td>\n",
       "      <td>-40.79630</td>\n",
       "      <td>88.30149</td>\n",
       "      <td>-32.76455</td>\n",
       "      <td>-1.19582</td>\n",
       "    </tr>\n",
       "    <tr>\n",
       "      <th>pad_top_Q_2</th>\n",
       "      <td>-1.13755</td>\n",
       "      <td>-9.30149</td>\n",
       "      <td>-0.20671</td>\n",
       "      <td>-37.77295</td>\n",
       "      <td>-32.76455</td>\n",
       "      <td>90.11592</td>\n",
       "      <td>-6.18278</td>\n",
       "    </tr>\n",
       "    <tr>\n",
       "      <th>readout_connector_pad_Q_2</th>\n",
       "      <td>-0.07475</td>\n",
       "      <td>-0.16406</td>\n",
       "      <td>-0.11530</td>\n",
       "      <td>-34.14596</td>\n",
       "      <td>-1.19582</td>\n",
       "      <td>-6.18278</td>\n",
       "      <td>42.63948</td>\n",
       "    </tr>\n",
       "  </tbody>\n",
       "</table>\n",
       "</div>"
      ],
      "text/plain": [
       "                           bus_23_connector_pad_Q_2  bus_24_connector_pad_Q_2  \\\n",
       "bus_23_connector_pad_Q_2                   42.53477                  -0.21101   \n",
       "bus_24_connector_pad_Q_2                   -0.21101                  42.53539   \n",
       "cl_metal_Q_2                               -0.00577                  -0.00648   \n",
       "ground_main_plane                         -31.13238                 -31.08394   \n",
       "pad_bot_Q_2                                -9.33872                  -1.14175   \n",
       "pad_top_Q_2                                -1.13755                  -9.30149   \n",
       "readout_connector_pad_Q_2                  -0.07475                  -0.16406   \n",
       "\n",
       "                           cl_metal_Q_2  ground_main_plane  pad_bot_Q_2  \\\n",
       "bus_23_connector_pad_Q_2       -0.00577          -31.13238     -9.33872   \n",
       "bus_24_connector_pad_Q_2       -0.00648          -31.08394     -1.14175   \n",
       "cl_metal_Q_2                   16.52351          -15.97471     -0.14109   \n",
       "ground_main_plane             -15.97471          249.31232    -40.79630   \n",
       "pad_bot_Q_2                    -0.14109          -40.79630     88.30149   \n",
       "pad_top_Q_2                    -0.20671          -37.77295    -32.76455   \n",
       "readout_connector_pad_Q_2      -0.11530          -34.14596     -1.19582   \n",
       "\n",
       "                           pad_top_Q_2  readout_connector_pad_Q_2  \n",
       "bus_23_connector_pad_Q_2      -1.13755                   -0.07475  \n",
       "bus_24_connector_pad_Q_2      -9.30149                   -0.16406  \n",
       "cl_metal_Q_2                  -0.20671                   -0.11530  \n",
       "ground_main_plane            -37.77295                  -34.14596  \n",
       "pad_bot_Q_2                  -32.76455                   -1.19582  \n",
       "pad_top_Q_2                   90.11592                   -6.18278  \n",
       "readout_connector_pad_Q_2     -6.18278                   42.63948  "
      ]
     },
     "execution_count": 40,
     "metadata": {},
     "output_type": "execute_result"
    }
   ],
   "source": [
    "c1.sim.capacitance_matrix"
   ]
  },
  {
   "cell_type": "code",
   "execution_count": 41,
   "id": "dbf8c369-7ec6-488e-bcb3-4873d7e1fda4",
   "metadata": {},
   "outputs": [],
   "source": [
    "c1.setup.junctions = Dict({'Lj': 14.9, 'Cj': 2})\n",
    "c1.setup.freq_readout = 7\n",
    "c1.setup.freq_bus = [6.2, 6.4, 8.2]  "
   ]
  },
  {
   "cell_type": "code",
   "execution_count": 42,
   "id": "c2c285d2-b61c-40d9-bb06-78c34e9aa53f",
   "metadata": {},
   "outputs": [
    {
     "name": "stdout",
     "output_type": "stream",
     "text": [
      "[4, 5] [6 0 1 2]\n",
      "Predicted Values\n",
      "\n",
      "Transmon Properties\n",
      "f_Q 4.917750 [GHz]\n",
      "EC 314.660542 [MHz]\n",
      "EJ 10.966148 [GHz]\n",
      "alpha -375.084818 [MHz]\n",
      "dispersion 206.265400 [KHz]\n",
      "Lq 14.893992 [nH]\n",
      "Cq 61.559126 [fF]\n",
      "T1 531.919761 [us]\n",
      "\n",
      "**Coupling Properties**\n",
      "\n",
      "tCqbus1 -2.425079 [fF]\n",
      "gbus1_in_MHz -36.161662 [MHz]\n",
      "χ_bus1 -0.198847 [MHz]\n",
      "1/T1bus1 143.791514 [Hz]\n",
      "T1bus1 1106.845169 [us]\n",
      "\n",
      "tCqbus2 4.197702 [fF]\n",
      "gbus2_in_MHz 55.413595 [MHz]\n",
      "χ_bus2 -1.103236 [MHz]\n",
      "1/T1bus2 90.622865 [Hz]\n",
      "T1bus2 1756.233842 [us]\n",
      "\n",
      "tCqbus3 -3.983060 [fF]\n",
      "gbus3_in_MHz -54.269942 [MHz]\n",
      "χ_bus3 -0.820379 [MHz]\n",
      "1/T1bus3 64.793027 [Hz]\n",
      "T1bus3 2456.359135 [us]\n",
      "\n",
      "tCqbus4 -0.029586 [fF]\n",
      "gbus4_in_MHz -0.518001 [MHz]\n",
      "χ_bus4 -0.000018 [MHz]\n",
      "1/T1bus4 0.001148 [Hz]\n",
      "T1bus4 138616373.026142 [us]\n",
      "Bus-Bus Couplings\n",
      "gbus1_2 2.150552 [MHz]\n",
      "gbus1_3 2.461594 [MHz]\n",
      "gbus1_4 0.503309 [MHz]\n",
      "gbus2_3 3.035520 [MHz]\n",
      "gbus2_4 0.127033 [MHz]\n",
      "gbus3_4 0.133058 [MHz]\n"
     ]
    },
    {
     "data": {
      "text/html": [
       "<div>\n",
       "<style scoped>\n",
       "    .dataframe tbody tr th:only-of-type {\n",
       "        vertical-align: middle;\n",
       "    }\n",
       "\n",
       "    .dataframe tbody tr th {\n",
       "        vertical-align: top;\n",
       "    }\n",
       "\n",
       "    .dataframe thead th {\n",
       "        text-align: right;\n",
       "    }\n",
       "</style>\n",
       "<table border=\"1\" class=\"dataframe\">\n",
       "  <thead>\n",
       "    <tr style=\"text-align: right;\">\n",
       "      <th></th>\n",
       "      <th>fQ</th>\n",
       "      <th>EC</th>\n",
       "      <th>EJ</th>\n",
       "      <th>alpha</th>\n",
       "      <th>dispersion</th>\n",
       "      <th>gbus</th>\n",
       "      <th>chi_in_MHz</th>\n",
       "      <th>χr MHz</th>\n",
       "      <th>gr MHz</th>\n",
       "    </tr>\n",
       "  </thead>\n",
       "  <tbody>\n",
       "    <tr>\n",
       "      <th>1</th>\n",
       "      <td>5.288939</td>\n",
       "      <td>368.469414</td>\n",
       "      <td>10.966148</td>\n",
       "      <td>-448.441049</td>\n",
       "      <td>690.359661</td>\n",
       "      <td>[-32.428522227500785, 41.57745575690928, -49.9...</td>\n",
       "      <td>[-0.2617347771440425, -1.2639912142035055, -1....</td>\n",
       "      <td>0.261735</td>\n",
       "      <td>32.428522</td>\n",
       "    </tr>\n",
       "    <tr>\n",
       "      <th>2</th>\n",
       "      <td>5.223729</td>\n",
       "      <td>358.649637</td>\n",
       "      <td>10.966148</td>\n",
       "      <td>-434.832566</td>\n",
       "      <td>565.489294</td>\n",
       "      <td>[-37.37530029278967, 49.916262616549595, -48.3...</td>\n",
       "      <td>[-0.31774677816789526, -1.590181587309833, -1....</td>\n",
       "      <td>0.317747</td>\n",
       "      <td>37.375300</td>\n",
       "    </tr>\n",
       "    <tr>\n",
       "      <th>3</th>\n",
       "      <td>5.132795</td>\n",
       "      <td>345.21968</td>\n",
       "      <td>10.966148</td>\n",
       "      <td>-416.383947</td>\n",
       "      <td>424.453741</td>\n",
       "      <td>[-34.92973862533348, 51.829153569867294, -50.7...</td>\n",
       "      <td>[-0.24543702557440247, -1.430980712478671, -1....</td>\n",
       "      <td>0.245437</td>\n",
       "      <td>34.929739</td>\n",
       "    </tr>\n",
       "    <tr>\n",
       "      <th>4</th>\n",
       "      <td>5.079645</td>\n",
       "      <td>337.510644</td>\n",
       "      <td>10.966148</td>\n",
       "      <td>-405.877591</td>\n",
       "      <td>357.184249</td>\n",
       "      <td>[-35.283251238224985, 52.74181590554084, -51.7...</td>\n",
       "      <td>[-0.23338450952914858, -1.338971847889744, -0....</td>\n",
       "      <td>0.233385</td>\n",
       "      <td>35.283251</td>\n",
       "    </tr>\n",
       "    <tr>\n",
       "      <th>5</th>\n",
       "      <td>5.031836</td>\n",
       "      <td>330.664394</td>\n",
       "      <td>10.966148</td>\n",
       "      <td>-396.597316</td>\n",
       "      <td>304.861983</td>\n",
       "      <td>[-35.12683684577566, 53.44679947705709, -51.98...</td>\n",
       "      <td>[-0.21727669998069638, -1.2581890906058144, -0...</td>\n",
       "      <td>0.217277</td>\n",
       "      <td>35.126837</td>\n",
       "    </tr>\n",
       "    <tr>\n",
       "      <th>6</th>\n",
       "      <td>4.997821</td>\n",
       "      <td>325.843793</td>\n",
       "      <td>10.966148</td>\n",
       "      <td>-390.090895</td>\n",
       "      <td>271.857689</td>\n",
       "      <td>[-35.235092007342054, 53.15917819184772, -52.1...</td>\n",
       "      <td>[-0.2091794069609295, -1.169989387061245, -0.8...</td>\n",
       "      <td>0.209179</td>\n",
       "      <td>35.235092</td>\n",
       "    </tr>\n",
       "    <tr>\n",
       "      <th>7</th>\n",
       "      <td>4.975345</td>\n",
       "      <td>322.681346</td>\n",
       "      <td>10.966148</td>\n",
       "      <td>-385.834982</td>\n",
       "      <td>251.813302</td>\n",
       "      <td>[-35.55044240249996, 53.88165091102455, -52.64...</td>\n",
       "      <td>[-0.20685899345109007, -1.1544833694414944, -0...</td>\n",
       "      <td>0.206859</td>\n",
       "      <td>35.550442</td>\n",
       "    </tr>\n",
       "    <tr>\n",
       "      <th>8</th>\n",
       "      <td>4.961227</td>\n",
       "      <td>320.704301</td>\n",
       "      <td>10.966148</td>\n",
       "      <td>-383.17934</td>\n",
       "      <td>239.899168</td>\n",
       "      <td>[-35.61325976321389, 54.031312231276495, -52.8...</td>\n",
       "      <td>[-0.20386199977523836, -1.1321060890742465, -0...</td>\n",
       "      <td>0.203862</td>\n",
       "      <td>35.613260</td>\n",
       "    </tr>\n",
       "    <tr>\n",
       "      <th>9</th>\n",
       "      <td>4.94662</td>\n",
       "      <td>318.666293</td>\n",
       "      <td>10.966148</td>\n",
       "      <td>-380.445816</td>\n",
       "      <td>228.097422</td>\n",
       "      <td>[-35.7349827250931, 54.28744080610045, -53.105...</td>\n",
       "      <td>[-0.20145657595859362, -1.1137343214002813, -0...</td>\n",
       "      <td>0.201457</td>\n",
       "      <td>35.734983</td>\n",
       "    </tr>\n",
       "    <tr>\n",
       "      <th>10</th>\n",
       "      <td>4.940233</td>\n",
       "      <td>317.777535</td>\n",
       "      <td>10.966148</td>\n",
       "      <td>-379.25502</td>\n",
       "      <td>223.099662</td>\n",
       "      <td>[-35.88323170244584, 54.5880910210451, -53.460...</td>\n",
       "      <td>[-0.20148165999962486, -1.113522143630656, -0....</td>\n",
       "      <td>0.201482</td>\n",
       "      <td>35.883232</td>\n",
       "    </tr>\n",
       "    <tr>\n",
       "      <th>11</th>\n",
       "      <td>4.935801</td>\n",
       "      <td>317.161633</td>\n",
       "      <td>10.966148</td>\n",
       "      <td>-378.43026</td>\n",
       "      <td>219.688375</td>\n",
       "      <td>[-35.94798227365421, 54.954344093355175, -53.7...</td>\n",
       "      <td>[-0.20106960588588485, -1.119770368626512, -0....</td>\n",
       "      <td>0.201070</td>\n",
       "      <td>35.947982</td>\n",
       "    </tr>\n",
       "    <tr>\n",
       "      <th>12</th>\n",
       "      <td>4.929048</td>\n",
       "      <td>316.224545</td>\n",
       "      <td>10.966148</td>\n",
       "      <td>-377.176104</td>\n",
       "      <td>214.578994</td>\n",
       "      <td>[-36.00751583417801, 55.022651977242994, -53.8...</td>\n",
       "      <td>[-0.20000807136976206, -1.1093629214564638, -0...</td>\n",
       "      <td>0.200008</td>\n",
       "      <td>36.007516</td>\n",
       "    </tr>\n",
       "    <tr>\n",
       "      <th>13</th>\n",
       "      <td>4.925628</td>\n",
       "      <td>315.750687</td>\n",
       "      <td>10.966148</td>\n",
       "      <td>-376.542241</td>\n",
       "      <td>212.032106</td>\n",
       "      <td>[-36.07376180398292, 55.14617644481743, -54.00...</td>\n",
       "      <td>[-0.19987311199181074, -1.1077140023612069, -0...</td>\n",
       "      <td>0.199873</td>\n",
       "      <td>36.073762</td>\n",
       "    </tr>\n",
       "    <tr>\n",
       "      <th>14</th>\n",
       "      <td>4.922901</td>\n",
       "      <td>315.373028</td>\n",
       "      <td>10.966148</td>\n",
       "      <td>-376.037214</td>\n",
       "      <td>210.01979</td>\n",
       "      <td>[-36.10087815655893, 55.289039234235844, -54.1...</td>\n",
       "      <td>[-0.19948064716850106, -1.1081763807464602, -0...</td>\n",
       "      <td>0.199481</td>\n",
       "      <td>36.100878</td>\n",
       "    </tr>\n",
       "    <tr>\n",
       "      <th>15</th>\n",
       "      <td>4.919704</td>\n",
       "      <td>314.93075</td>\n",
       "      <td>10.966148</td>\n",
       "      <td>-375.445953</td>\n",
       "      <td>207.682803</td>\n",
       "      <td>[-36.123115996345895, 55.37222322591254, -54.2...</td>\n",
       "      <td>[-0.19891677788836562, -1.1053416063930541, -0...</td>\n",
       "      <td>0.198917</td>\n",
       "      <td>36.123116</td>\n",
       "    </tr>\n",
       "    <tr>\n",
       "      <th>16</th>\n",
       "      <td>4.91775</td>\n",
       "      <td>314.660542</td>\n",
       "      <td>10.966148</td>\n",
       "      <td>-375.084818</td>\n",
       "      <td>206.2654</td>\n",
       "      <td>[-36.16166179122226, 55.41359506784506, -54.26...</td>\n",
       "      <td>[-0.19884734156359665, -1.1032363284501219, -0...</td>\n",
       "      <td>0.198847</td>\n",
       "      <td>36.161662</td>\n",
       "    </tr>\n",
       "  </tbody>\n",
       "</table>\n",
       "</div>"
      ],
      "text/plain": [
       "          fQ          EC         EJ       alpha  dispersion  \\\n",
       "1   5.288939  368.469414  10.966148 -448.441049  690.359661   \n",
       "2   5.223729  358.649637  10.966148 -434.832566  565.489294   \n",
       "3   5.132795   345.21968  10.966148 -416.383947  424.453741   \n",
       "4   5.079645  337.510644  10.966148 -405.877591  357.184249   \n",
       "5   5.031836  330.664394  10.966148 -396.597316  304.861983   \n",
       "6   4.997821  325.843793  10.966148 -390.090895  271.857689   \n",
       "7   4.975345  322.681346  10.966148 -385.834982  251.813302   \n",
       "8   4.961227  320.704301  10.966148  -383.17934  239.899168   \n",
       "9    4.94662  318.666293  10.966148 -380.445816  228.097422   \n",
       "10  4.940233  317.777535  10.966148  -379.25502  223.099662   \n",
       "11  4.935801  317.161633  10.966148  -378.43026  219.688375   \n",
       "12  4.929048  316.224545  10.966148 -377.176104  214.578994   \n",
       "13  4.925628  315.750687  10.966148 -376.542241  212.032106   \n",
       "14  4.922901  315.373028  10.966148 -376.037214   210.01979   \n",
       "15  4.919704   314.93075  10.966148 -375.445953  207.682803   \n",
       "16   4.91775  314.660542  10.966148 -375.084818    206.2654   \n",
       "\n",
       "                                                 gbus  \\\n",
       "1   [-32.428522227500785, 41.57745575690928, -49.9...   \n",
       "2   [-37.37530029278967, 49.916262616549595, -48.3...   \n",
       "3   [-34.92973862533348, 51.829153569867294, -50.7...   \n",
       "4   [-35.283251238224985, 52.74181590554084, -51.7...   \n",
       "5   [-35.12683684577566, 53.44679947705709, -51.98...   \n",
       "6   [-35.235092007342054, 53.15917819184772, -52.1...   \n",
       "7   [-35.55044240249996, 53.88165091102455, -52.64...   \n",
       "8   [-35.61325976321389, 54.031312231276495, -52.8...   \n",
       "9   [-35.7349827250931, 54.28744080610045, -53.105...   \n",
       "10  [-35.88323170244584, 54.5880910210451, -53.460...   \n",
       "11  [-35.94798227365421, 54.954344093355175, -53.7...   \n",
       "12  [-36.00751583417801, 55.022651977242994, -53.8...   \n",
       "13  [-36.07376180398292, 55.14617644481743, -54.00...   \n",
       "14  [-36.10087815655893, 55.289039234235844, -54.1...   \n",
       "15  [-36.123115996345895, 55.37222322591254, -54.2...   \n",
       "16  [-36.16166179122226, 55.41359506784506, -54.26...   \n",
       "\n",
       "                                           chi_in_MHz    χr MHz     gr MHz  \n",
       "1   [-0.2617347771440425, -1.2639912142035055, -1....  0.261735  32.428522  \n",
       "2   [-0.31774677816789526, -1.590181587309833, -1....  0.317747  37.375300  \n",
       "3   [-0.24543702557440247, -1.430980712478671, -1....  0.245437  34.929739  \n",
       "4   [-0.23338450952914858, -1.338971847889744, -0....  0.233385  35.283251  \n",
       "5   [-0.21727669998069638, -1.2581890906058144, -0...  0.217277  35.126837  \n",
       "6   [-0.2091794069609295, -1.169989387061245, -0.8...  0.209179  35.235092  \n",
       "7   [-0.20685899345109007, -1.1544833694414944, -0...  0.206859  35.550442  \n",
       "8   [-0.20386199977523836, -1.1321060890742465, -0...  0.203862  35.613260  \n",
       "9   [-0.20145657595859362, -1.1137343214002813, -0...  0.201457  35.734983  \n",
       "10  [-0.20148165999962486, -1.113522143630656, -0....  0.201482  35.883232  \n",
       "11  [-0.20106960588588485, -1.119770368626512, -0....  0.201070  35.947982  \n",
       "12  [-0.20000807136976206, -1.1093629214564638, -0...  0.200008  36.007516  \n",
       "13  [-0.19987311199181074, -1.1077140023612069, -0...  0.199873  36.073762  \n",
       "14  [-0.19948064716850106, -1.1081763807464602, -0...  0.199481  36.100878  \n",
       "15  [-0.19891677788836562, -1.1053416063930541, -0...  0.198917  36.123116  \n",
       "16  [-0.19884734156359665, -1.1032363284501219, -0...  0.198847  36.161662  "
      ]
     },
     "execution_count": 42,
     "metadata": {},
     "output_type": "execute_result"
    }
   ],
   "source": [
    "c1.run_lom()\n",
    "c1.lumped_oscillator_all"
   ]
  },
  {
   "cell_type": "code",
   "execution_count": 43,
   "id": "1b3effe6-ad22-46da-97c4-a6a3a13e4604",
   "metadata": {},
   "outputs": [],
   "source": [
    "Q_2.options.pad_gap = '28um'\n",
    "Q_2.options.connection_pads.readout.pad_gap = '15um'\n",
    "Q_2.options.connection_pads.readout.pad_width = '150um'\n",
    "Q_2.options.connection_pads.bus_23.pad_width = '130um'\n",
    "Q_2.options.connection_pads.bus_24.pad_width = '110um'\n",
    "\n",
    "gui.rebuild()"
   ]
  },
  {
   "cell_type": "code",
   "execution_count": 44,
   "id": "7446f202-08ff-4a52-a9f6-4dd31430f764",
   "metadata": {},
   "outputs": [
    {
     "data": {
      "text/plain": [
       "{'pos_x': '3mm',\n",
       " 'pos_y': '1mm',\n",
       " 'orientation': '180',\n",
       " 'chip': 'main',\n",
       " 'layer': '1',\n",
       " 'connection_pads': {'readout': {'pad_gap': '15um',\n",
       "   'pad_width': '150um',\n",
       "   'pad_height': '30um',\n",
       "   'pad_cpw_shift': '5um',\n",
       "   'pad_cpw_extent': '25um',\n",
       "   'cpw_width': 'cpw_width',\n",
       "   'cpw_gap': 'cpw_gap',\n",
       "   'cpw_extend': '100um',\n",
       "   'pocket_extent': '5um',\n",
       "   'pocket_rise': '65um',\n",
       "   'loc_W': -1,\n",
       "   'loc_H': 1},\n",
       "  'bus_23': {'pad_gap': '10um',\n",
       "   'pad_width': '130um',\n",
       "   'pad_height': '30um',\n",
       "   'pad_cpw_shift': '5um',\n",
       "   'pad_cpw_extent': '25um',\n",
       "   'cpw_width': 'cpw_width',\n",
       "   'cpw_gap': 'cpw_gap',\n",
       "   'cpw_extend': '100um',\n",
       "   'pocket_extent': '5um',\n",
       "   'pocket_rise': '65um',\n",
       "   'loc_W': 1,\n",
       "   'loc_H': -1},\n",
       "  'bus_24': {'pad_gap': '10um',\n",
       "   'pad_width': '110um',\n",
       "   'pad_height': '30um',\n",
       "   'pad_cpw_shift': '5um',\n",
       "   'pad_cpw_extent': '25um',\n",
       "   'cpw_width': 'cpw_width',\n",
       "   'cpw_gap': 'cpw_gap',\n",
       "   'cpw_extend': '100um',\n",
       "   'pocket_extent': '5um',\n",
       "   'pocket_rise': '65um',\n",
       "   'loc_W': 1,\n",
       "   'loc_H': 1}},\n",
       " 'pad_gap': '28um',\n",
       " 'inductor_width': '20um',\n",
       " 'pad_width': '425 um',\n",
       " 'pad_height': '90um',\n",
       " 'pocket_width': '650um',\n",
       " 'pocket_height': '650um',\n",
       " 'make_CL': True,\n",
       " 'cl_gap': '6um',\n",
       " 'cl_width': '10um',\n",
       " 'cl_length': '20um',\n",
       " 'cl_ground_gap': '6um',\n",
       " 'cl_pocket_edge': '0',\n",
       " 'cl_off_center': '50um',\n",
       " 'hfss_wire_bonds': False,\n",
       " 'q3d_wire_bonds': False,\n",
       " 'aedt_q3d_wire_bonds': False,\n",
       " 'aedt_hfss_wire_bonds': False,\n",
       " 'hfss_inductance': '14nH',\n",
       " 'hfss_capacitance': 0,\n",
       " 'hfss_resistance': 0,\n",
       " 'hfss_mesh_kw_jj': 7e-06,\n",
       " 'q3d_inductance': '10nH',\n",
       " 'q3d_capacitance': 0,\n",
       " 'q3d_resistance': 0,\n",
       " 'q3d_mesh_kw_jj': 7e-06,\n",
       " 'gds_cell_name': 'FakeJunction_01',\n",
       " 'aedt_q3d_inductance': 1e-08,\n",
       " 'aedt_q3d_capacitance': 0,\n",
       " 'aedt_hfss_inductance': 1e-08,\n",
       " 'aedt_hfss_capacitance': 0}"
      ]
     },
     "execution_count": 44,
     "metadata": {},
     "output_type": "execute_result"
    }
   ],
   "source": [
    "Q_2.options"
   ]
  },
  {
   "cell_type": "code",
   "execution_count": 45,
   "id": "3bdfd861-4f1e-471e-b254-4dbe6c8d5690",
   "metadata": {},
   "outputs": [],
   "source": [
    "c1.sim.renderer.clean_active_design()"
   ]
  },
  {
   "cell_type": "code",
   "execution_count": 46,
   "id": "c0b27641-67c8-416d-8744-8b85a2c8a829",
   "metadata": {},
   "outputs": [
    {
     "name": "stderr",
     "output_type": "stream",
     "text": [
      "INFO 07:59PM [connect_design]: \tOpened active design\n",
      "\tDesign:    Q_2_q3d [Solution type: Q3D]\n",
      "INFO 07:59PM [get_setup]: \tOpened setup `Tune_Q_2`  (<class 'pyEPR.ansys.AnsysQ3DSetup'>)\n",
      "INFO 07:59PM [analyze]: Analyzing setup Tune_Q_2\n",
      "INFO 08:02PM [get_matrix]: Exporting matrix data to (C:\\Users\\user\\AppData\\Local\\Temp\\tmpk_5e6qxi.txt, C, , Tune_Q_2:LastAdaptive, \"Original\", \"ohm\", \"nH\", \"fF\", \"mSie\", 5000000000, Maxwell, 1, False\n",
      "INFO 08:02PM [get_matrix]: Exporting matrix data to (C:\\Users\\user\\AppData\\Local\\Temp\\tmppf8h0o1p.txt, C, , Tune_Q_2:AdaptivePass, \"Original\", \"ohm\", \"nH\", \"fF\", \"mSie\", 5000000000, Maxwell, 1, False\n",
      "INFO 08:02PM [get_matrix]: Exporting matrix data to (C:\\Users\\user\\AppData\\Local\\Temp\\tmpj791jv17.txt, C, , Tune_Q_2:AdaptivePass, \"Original\", \"ohm\", \"nH\", \"fF\", \"mSie\", 5000000000, Maxwell, 2, False\n",
      "INFO 08:02PM [get_matrix]: Exporting matrix data to (C:\\Users\\user\\AppData\\Local\\Temp\\tmp0wdzlbbw.txt, C, , Tune_Q_2:AdaptivePass, \"Original\", \"ohm\", \"nH\", \"fF\", \"mSie\", 5000000000, Maxwell, 3, False\n",
      "INFO 08:02PM [get_matrix]: Exporting matrix data to (C:\\Users\\user\\AppData\\Local\\Temp\\tmpudcoy3fo.txt, C, , Tune_Q_2:AdaptivePass, \"Original\", \"ohm\", \"nH\", \"fF\", \"mSie\", 5000000000, Maxwell, 4, False\n",
      "INFO 08:02PM [get_matrix]: Exporting matrix data to (C:\\Users\\user\\AppData\\Local\\Temp\\tmp74zunfa3.txt, C, , Tune_Q_2:AdaptivePass, \"Original\", \"ohm\", \"nH\", \"fF\", \"mSie\", 5000000000, Maxwell, 5, False\n",
      "INFO 08:02PM [get_matrix]: Exporting matrix data to (C:\\Users\\user\\AppData\\Local\\Temp\\tmptzqpzhg9.txt, C, , Tune_Q_2:AdaptivePass, \"Original\", \"ohm\", \"nH\", \"fF\", \"mSie\", 5000000000, Maxwell, 6, False\n",
      "INFO 08:02PM [get_matrix]: Exporting matrix data to (C:\\Users\\user\\AppData\\Local\\Temp\\tmpw75ymqke.txt, C, , Tune_Q_2:AdaptivePass, \"Original\", \"ohm\", \"nH\", \"fF\", \"mSie\", 5000000000, Maxwell, 7, False\n",
      "INFO 08:02PM [get_matrix]: Exporting matrix data to (C:\\Users\\user\\AppData\\Local\\Temp\\tmpa2olb6zf.txt, C, , Tune_Q_2:AdaptivePass, \"Original\", \"ohm\", \"nH\", \"fF\", \"mSie\", 5000000000, Maxwell, 8, False\n",
      "INFO 08:02PM [get_matrix]: Exporting matrix data to (C:\\Users\\user\\AppData\\Local\\Temp\\tmpp9zsc9pt.txt, C, , Tune_Q_2:AdaptivePass, \"Original\", \"ohm\", \"nH\", \"fF\", \"mSie\", 5000000000, Maxwell, 9, False\n",
      "INFO 08:02PM [get_matrix]: Exporting matrix data to (C:\\Users\\user\\AppData\\Local\\Temp\\tmpe7ky3uan.txt, C, , Tune_Q_2:AdaptivePass, \"Original\", \"ohm\", \"nH\", \"fF\", \"mSie\", 5000000000, Maxwell, 10, False\n",
      "INFO 08:02PM [get_matrix]: Exporting matrix data to (C:\\Users\\user\\AppData\\Local\\Temp\\tmpa63ufklx.txt, C, , Tune_Q_2:AdaptivePass, \"Original\", \"ohm\", \"nH\", \"fF\", \"mSie\", 5000000000, Maxwell, 11, False\n",
      "INFO 08:02PM [get_matrix]: Exporting matrix data to (C:\\Users\\user\\AppData\\Local\\Temp\\tmp4hvvn91h.txt, C, , Tune_Q_2:AdaptivePass, \"Original\", \"ohm\", \"nH\", \"fF\", \"mSie\", 5000000000, Maxwell, 12, False\n",
      "INFO 08:02PM [get_matrix]: Exporting matrix data to (C:\\Users\\user\\AppData\\Local\\Temp\\tmpws6uriww.txt, C, , Tune_Q_2:AdaptivePass, \"Original\", \"ohm\", \"nH\", \"fF\", \"mSie\", 5000000000, Maxwell, 13, False\n",
      "INFO 08:02PM [get_matrix]: Exporting matrix data to (C:\\Users\\user\\AppData\\Local\\Temp\\tmpex8yhklo.txt, C, , Tune_Q_2:AdaptivePass, \"Original\", \"ohm\", \"nH\", \"fF\", \"mSie\", 5000000000, Maxwell, 14, False\n",
      "INFO 08:02PM [get_matrix]: Exporting matrix data to (C:\\Users\\user\\AppData\\Local\\Temp\\tmp4ss8p89o.txt, C, , Tune_Q_2:AdaptivePass, \"Original\", \"ohm\", \"nH\", \"fF\", \"mSie\", 5000000000, Maxwell, 15, False\n",
      "INFO 08:02PM [get_matrix]: Exporting matrix data to (C:\\Users\\user\\AppData\\Local\\Temp\\tmpttbjo0f9.txt, C, , Tune_Q_2:AdaptivePass, \"Original\", \"ohm\", \"nH\", \"fF\", \"mSie\", 5000000000, Maxwell, 16, False\n",
      "INFO 08:02PM [get_matrix]: Exporting matrix data to (C:\\Users\\user\\AppData\\Local\\Temp\\tmpz6zfmz8k.txt, C, , Tune_Q_2:AdaptivePass, \"Original\", \"ohm\", \"nH\", \"fF\", \"mSie\", 5000000000, Maxwell, 17, False\n"
     ]
    }
   ],
   "source": [
    "c1.sim.run(name=\"Q_2\", components=['Q_2'], open_terminations=[('Q_2', 'readout'), ('Q_2', 'bus_23'),('Q_2', 'bus_24'), ('Q_2', 'Charge_Line')])"
   ]
  },
  {
   "cell_type": "code",
   "execution_count": 47,
   "id": "072da127-7047-4c66-82d7-22e8ae0b3335",
   "metadata": {},
   "outputs": [
    {
     "data": {
      "text/html": [
       "<div>\n",
       "<style scoped>\n",
       "    .dataframe tbody tr th:only-of-type {\n",
       "        vertical-align: middle;\n",
       "    }\n",
       "\n",
       "    .dataframe tbody tr th {\n",
       "        vertical-align: top;\n",
       "    }\n",
       "\n",
       "    .dataframe thead th {\n",
       "        text-align: right;\n",
       "    }\n",
       "</style>\n",
       "<table border=\"1\" class=\"dataframe\">\n",
       "  <thead>\n",
       "    <tr style=\"text-align: right;\">\n",
       "      <th></th>\n",
       "      <th>bus_23_connector_pad_Q_2</th>\n",
       "      <th>bus_24_connector_pad_Q_2</th>\n",
       "      <th>cl_metal_Q_2</th>\n",
       "      <th>ground_main_plane</th>\n",
       "      <th>pad_bot_Q_2</th>\n",
       "      <th>pad_top_Q_2</th>\n",
       "      <th>readout_connector_pad_Q_2</th>\n",
       "    </tr>\n",
       "  </thead>\n",
       "  <tbody>\n",
       "    <tr>\n",
       "      <th>bus_23_connector_pad_Q_2</th>\n",
       "      <td>53.31813</td>\n",
       "      <td>-0.33166</td>\n",
       "      <td>-0.00868</td>\n",
       "      <td>-34.27378</td>\n",
       "      <td>-16.10610</td>\n",
       "      <td>-1.59102</td>\n",
       "      <td>-0.15702</td>\n",
       "    </tr>\n",
       "    <tr>\n",
       "      <th>bus_24_connector_pad_Q_2</th>\n",
       "      <td>-0.33166</td>\n",
       "      <td>50.24939</td>\n",
       "      <td>-0.00868</td>\n",
       "      <td>-33.28677</td>\n",
       "      <td>-1.46298</td>\n",
       "      <td>-13.98067</td>\n",
       "      <td>-0.40385</td>\n",
       "    </tr>\n",
       "    <tr>\n",
       "      <th>cl_metal_Q_2</th>\n",
       "      <td>-0.00868</td>\n",
       "      <td>-0.00868</td>\n",
       "      <td>16.52085</td>\n",
       "      <td>-15.94375</td>\n",
       "      <td>-0.13671</td>\n",
       "      <td>-0.18295</td>\n",
       "      <td>-0.16770</td>\n",
       "    </tr>\n",
       "    <tr>\n",
       "      <th>ground_main_plane</th>\n",
       "      <td>-34.27378</td>\n",
       "      <td>-33.28677</td>\n",
       "      <td>-15.94375</td>\n",
       "      <td>249.43262</td>\n",
       "      <td>-38.50030</td>\n",
       "      <td>-33.66085</td>\n",
       "      <td>-35.42825</td>\n",
       "    </tr>\n",
       "    <tr>\n",
       "      <th>pad_bot_Q_2</th>\n",
       "      <td>-16.10610</td>\n",
       "      <td>-1.46298</td>\n",
       "      <td>-0.13671</td>\n",
       "      <td>-38.50030</td>\n",
       "      <td>93.54998</td>\n",
       "      <td>-32.75109</td>\n",
       "      <td>-1.82886</td>\n",
       "    </tr>\n",
       "    <tr>\n",
       "      <th>pad_top_Q_2</th>\n",
       "      <td>-1.59102</td>\n",
       "      <td>-13.98067</td>\n",
       "      <td>-0.18295</td>\n",
       "      <td>-33.66085</td>\n",
       "      <td>-32.75109</td>\n",
       "      <td>100.38419</td>\n",
       "      <td>-15.74488</td>\n",
       "    </tr>\n",
       "    <tr>\n",
       "      <th>readout_connector_pad_Q_2</th>\n",
       "      <td>-0.15702</td>\n",
       "      <td>-0.40385</td>\n",
       "      <td>-0.16770</td>\n",
       "      <td>-35.42825</td>\n",
       "      <td>-1.82886</td>\n",
       "      <td>-15.74488</td>\n",
       "      <td>54.65232</td>\n",
       "    </tr>\n",
       "  </tbody>\n",
       "</table>\n",
       "</div>"
      ],
      "text/plain": [
       "                           bus_23_connector_pad_Q_2  bus_24_connector_pad_Q_2  \\\n",
       "bus_23_connector_pad_Q_2                   53.31813                  -0.33166   \n",
       "bus_24_connector_pad_Q_2                   -0.33166                  50.24939   \n",
       "cl_metal_Q_2                               -0.00868                  -0.00868   \n",
       "ground_main_plane                         -34.27378                 -33.28677   \n",
       "pad_bot_Q_2                               -16.10610                  -1.46298   \n",
       "pad_top_Q_2                                -1.59102                 -13.98067   \n",
       "readout_connector_pad_Q_2                  -0.15702                  -0.40385   \n",
       "\n",
       "                           cl_metal_Q_2  ground_main_plane  pad_bot_Q_2  \\\n",
       "bus_23_connector_pad_Q_2       -0.00868          -34.27378    -16.10610   \n",
       "bus_24_connector_pad_Q_2       -0.00868          -33.28677     -1.46298   \n",
       "cl_metal_Q_2                   16.52085          -15.94375     -0.13671   \n",
       "ground_main_plane             -15.94375          249.43262    -38.50030   \n",
       "pad_bot_Q_2                    -0.13671          -38.50030     93.54998   \n",
       "pad_top_Q_2                    -0.18295          -33.66085    -32.75109   \n",
       "readout_connector_pad_Q_2      -0.16770          -35.42825     -1.82886   \n",
       "\n",
       "                           pad_top_Q_2  readout_connector_pad_Q_2  \n",
       "bus_23_connector_pad_Q_2      -1.59102                   -0.15702  \n",
       "bus_24_connector_pad_Q_2     -13.98067                   -0.40385  \n",
       "cl_metal_Q_2                  -0.18295                   -0.16770  \n",
       "ground_main_plane            -33.66085                  -35.42825  \n",
       "pad_bot_Q_2                  -32.75109                   -1.82886  \n",
       "pad_top_Q_2                  100.38419                  -15.74488  \n",
       "readout_connector_pad_Q_2    -15.74488                   54.65232  "
      ]
     },
     "execution_count": 47,
     "metadata": {},
     "output_type": "execute_result"
    }
   ],
   "source": [
    "c1.sim.capacitance_matrix"
   ]
  },
  {
   "cell_type": "code",
   "execution_count": 48,
   "id": "f7359c1f-9f6d-42e7-bf45-f7eae669d4cc",
   "metadata": {},
   "outputs": [],
   "source": [
    "c1.setup.junctions = Dict({'Lj': 14.9, 'Cj': 2})\n",
    "c1.setup.freq_readout = 7\n",
    "c1.setup.freq_bus = [6.2, 6.4, 8.2]  "
   ]
  },
  {
   "cell_type": "code",
   "execution_count": 49,
   "id": "7770032d-4eeb-4bc5-b64d-b6220d340b05",
   "metadata": {},
   "outputs": [
    {
     "name": "stdout",
     "output_type": "stream",
     "text": [
      "[4, 5] [6 0 1 2]\n",
      "Predicted Values\n",
      "\n",
      "Transmon Properties\n",
      "f_Q 4.780096 [GHz]\n",
      "EC 295.968660 [MHz]\n",
      "EJ 10.966148 [GHz]\n",
      "alpha -350.273243 [MHz]\n",
      "dispersion 125.511544 [KHz]\n",
      "Lq 14.893992 [nH]\n",
      "Cq 65.446889 [fF]\n",
      "T1 144.031557 [us]\n",
      "\n",
      "**Coupling Properties**\n",
      "\n",
      "tCqbus1 -6.449792 [fF]\n",
      "gbus1_in_MHz -91.405670 [MHz]\n",
      "χ_bus1 -1.069326 [MHz]\n",
      "1/T1bus1 781.648922 [Hz]\n",
      "T1bus1 203.614357 [us]\n",
      "\n",
      "tCqbus2 7.769327 [fF]\n",
      "gbus2_in_MHz 97.587047 [MHz]\n",
      "χ_bus2 -2.711434 [MHz]\n",
      "1/T1bus2 222.013498 [Hz]\n",
      "T1bus2 716.870571 [us]\n",
      "\n",
      "tCqbus3 -5.812227 [fF]\n",
      "gbus3_in_MHz -75.381359 [MHz]\n",
      "χ_bus3 -1.280176 [MHz]\n",
      "1/T1bus3 101.337881 [Hz]\n",
      "T1bus3 1570.537514 [us]\n",
      "\n",
      "tCqbus4 -0.013876 [fF]\n",
      "gbus4_in_MHz -0.231570 [MHz]\n",
      "χ_bus4 -0.000003 [MHz]\n",
      "1/T1bus4 0.000204 [Hz]\n",
      "T1bus4 780352197.723191 [us]\n",
      "Bus-Bus Couplings\n",
      "gbus1_2 7.110509 [MHz]\n",
      "gbus1_3 7.143786 [MHz]\n",
      "gbus1_4 0.761945 [MHz]\n",
      "gbus2_3 6.206099 [MHz]\n",
      "gbus2_4 0.173208 [MHz]\n",
      "gbus3_4 0.159830 [MHz]\n"
     ]
    },
    {
     "data": {
      "text/html": [
       "<div>\n",
       "<style scoped>\n",
       "    .dataframe tbody tr th:only-of-type {\n",
       "        vertical-align: middle;\n",
       "    }\n",
       "\n",
       "    .dataframe tbody tr th {\n",
       "        vertical-align: top;\n",
       "    }\n",
       "\n",
       "    .dataframe thead th {\n",
       "        text-align: right;\n",
       "    }\n",
       "</style>\n",
       "<table border=\"1\" class=\"dataframe\">\n",
       "  <thead>\n",
       "    <tr style=\"text-align: right;\">\n",
       "      <th></th>\n",
       "      <th>fQ</th>\n",
       "      <th>EC</th>\n",
       "      <th>EJ</th>\n",
       "      <th>alpha</th>\n",
       "      <th>dispersion</th>\n",
       "      <th>gbus</th>\n",
       "      <th>chi_in_MHz</th>\n",
       "      <th>χr MHz</th>\n",
       "      <th>gr MHz</th>\n",
       "    </tr>\n",
       "  </thead>\n",
       "  <tbody>\n",
       "    <tr>\n",
       "      <th>1</th>\n",
       "      <td>5.155789</td>\n",
       "      <td>348.586816</td>\n",
       "      <td>10.966148</td>\n",
       "      <td>-420.991881</td>\n",
       "      <td>456.835953</td>\n",
       "      <td>[-80.92985927105732, 84.27128181860117, -69.47...</td>\n",
       "      <td>[-1.3587501145075658, -3.956355025084899, -1.9...</td>\n",
       "      <td>1.358750</td>\n",
       "      <td>80.929859</td>\n",
       "    </tr>\n",
       "    <tr>\n",
       "      <th>2</th>\n",
       "      <td>5.081477</td>\n",
       "      <td>337.774634</td>\n",
       "      <td>10.966148</td>\n",
       "      <td>-406.236379</td>\n",
       "      <td>359.336932</td>\n",
       "      <td>[-84.80018129859852, 90.43077957918712, -67.66...</td>\n",
       "      <td>[-1.3513781273364198, -3.9499389906800695, -1....</td>\n",
       "      <td>1.351378</td>\n",
       "      <td>84.800181</td>\n",
       "    </tr>\n",
       "    <tr>\n",
       "      <th>3</th>\n",
       "      <td>4.981869</td>\n",
       "      <td>323.597448</td>\n",
       "      <td>10.966148</td>\n",
       "      <td>-387.066828</td>\n",
       "      <td>257.493115</td>\n",
       "      <td>[-85.54701884161898, 90.84082827451013, -69.22...</td>\n",
       "      <td>[-1.2079259771304773, -3.319971355528233, -1.4...</td>\n",
       "      <td>1.207926</td>\n",
       "      <td>85.547019</td>\n",
       "    </tr>\n",
       "    <tr>\n",
       "      <th>4</th>\n",
       "      <td>4.917111</td>\n",
       "      <td>314.572309</td>\n",
       "      <td>10.966148</td>\n",
       "      <td>-374.966909</td>\n",
       "      <td>205.804261</td>\n",
       "      <td>[-84.98926950989521, 91.3106010812759, -70.400...</td>\n",
       "      <td>[-1.0974865361755932, -2.9922385992466127, -1....</td>\n",
       "      <td>1.097487</td>\n",
       "      <td>84.989270</td>\n",
       "    </tr>\n",
       "    <tr>\n",
       "      <th>5</th>\n",
       "      <td>4.881778</td>\n",
       "      <td>309.711122</td>\n",
       "      <td>10.966148</td>\n",
       "      <td>-368.482371</td>\n",
       "      <td>181.654659</td>\n",
       "      <td>[-86.67937210415278, 91.71042747519529, -71.16...</td>\n",
       "      <td>[-1.0916690924280887, -2.8399769378215796, -1....</td>\n",
       "      <td>1.091669</td>\n",
       "      <td>86.679372</td>\n",
       "    </tr>\n",
       "    <tr>\n",
       "      <th>6</th>\n",
       "      <td>4.848092</td>\n",
       "      <td>305.117988</td>\n",
       "      <td>10.966148</td>\n",
       "      <td>-362.376304</td>\n",
       "      <td>160.996308</td>\n",
       "      <td>[-88.2214103808818, 93.93370842692754, -72.358...</td>\n",
       "      <td>[-1.084007654246007, -2.8134932653993996, -1.3...</td>\n",
       "      <td>1.084008</td>\n",
       "      <td>88.221410</td>\n",
       "    </tr>\n",
       "    <tr>\n",
       "      <th>7</th>\n",
       "      <td>4.835359</td>\n",
       "      <td>303.39219</td>\n",
       "      <td>10.966148</td>\n",
       "      <td>-360.087266</td>\n",
       "      <td>153.745435</td>\n",
       "      <td>[-88.98877711487982, 94.36076979454826, -73.13...</td>\n",
       "      <td>[-1.0855281996892385, -2.7788986933860187, -1....</td>\n",
       "      <td>1.085528</td>\n",
       "      <td>88.988777</td>\n",
       "    </tr>\n",
       "    <tr>\n",
       "      <th>8</th>\n",
       "      <td>4.820476</td>\n",
       "      <td>301.382342</td>\n",
       "      <td>10.966148</td>\n",
       "      <td>-357.425051</td>\n",
       "      <td>145.637592</td>\n",
       "      <td>[-89.7289306676925, 95.0420376239965, -73.4004...</td>\n",
       "      <td>[-1.0833701163292107, -2.74977126132558, -1.29...</td>\n",
       "      <td>1.083370</td>\n",
       "      <td>89.728931</td>\n",
       "    </tr>\n",
       "    <tr>\n",
       "      <th>9</th>\n",
       "      <td>4.808085</td>\n",
       "      <td>299.715056</td>\n",
       "      <td>10.966148</td>\n",
       "      <td>-355.219505</td>\n",
       "      <td>139.178413</td>\n",
       "      <td>[-90.0310966602795, 95.72686186407878, -73.929...</td>\n",
       "      <td>[-1.0740034009413206, -2.7325605858409125, -1....</td>\n",
       "      <td>1.074003</td>\n",
       "      <td>90.031097</td>\n",
       "    </tr>\n",
       "    <tr>\n",
       "      <th>10</th>\n",
       "      <td>4.804472</td>\n",
       "      <td>299.229774</td>\n",
       "      <td>10.966148</td>\n",
       "      <td>-354.578051</td>\n",
       "      <td>137.342811</td>\n",
       "      <td>[-90.4362821889739, 96.23462074039804, -74.336...</td>\n",
       "      <td>[-1.0788407113379956, -2.7451041937392144, -1....</td>\n",
       "      <td>1.078841</td>\n",
       "      <td>90.436282</td>\n",
       "    </tr>\n",
       "    <tr>\n",
       "      <th>11</th>\n",
       "      <td>4.796056</td>\n",
       "      <td>298.101541</td>\n",
       "      <td>10.966148</td>\n",
       "      <td>-353.087599</td>\n",
       "      <td>133.151224</td>\n",
       "      <td>[-90.75519823814297, 96.49741369478527, -74.55...</td>\n",
       "      <td>[-1.0751835518392396, -2.72190842465234, -1.28...</td>\n",
       "      <td>1.075184</td>\n",
       "      <td>90.755198</td>\n",
       "    </tr>\n",
       "    <tr>\n",
       "      <th>12</th>\n",
       "      <td>4.791437</td>\n",
       "      <td>297.483263</td>\n",
       "      <td>10.966148</td>\n",
       "      <td>-352.271332</td>\n",
       "      <td>130.898729</td>\n",
       "      <td>[-90.92519539474453, 96.93132996574579, -74.89...</td>\n",
       "      <td>[-1.0730579317639994, -2.7255591534139265, -1....</td>\n",
       "      <td>1.073058</td>\n",
       "      <td>90.925195</td>\n",
       "    </tr>\n",
       "    <tr>\n",
       "      <th>13</th>\n",
       "      <td>4.788043</td>\n",
       "      <td>297.029572</td>\n",
       "      <td>10.966148</td>\n",
       "      <td>-351.672589</td>\n",
       "      <td>129.265663</td>\n",
       "      <td>[-91.11806931658255, 97.15727232267567, -75.04...</td>\n",
       "      <td>[-1.0730989073646868, -2.7229937832588096, -1....</td>\n",
       "      <td>1.073099</td>\n",
       "      <td>91.118069</td>\n",
       "    </tr>\n",
       "    <tr>\n",
       "      <th>14</th>\n",
       "      <td>4.784337</td>\n",
       "      <td>296.534488</td>\n",
       "      <td>10.966148</td>\n",
       "      <td>-351.01944</td>\n",
       "      <td>127.502561</td>\n",
       "      <td>[-91.2462992588619, 97.31846997831182, -75.166...</td>\n",
       "      <td>[-1.0711995288686076, -2.715405255305138, -1.2...</td>\n",
       "      <td>1.071200</td>\n",
       "      <td>91.246299</td>\n",
       "    </tr>\n",
       "    <tr>\n",
       "      <th>15</th>\n",
       "      <td>4.78155</td>\n",
       "      <td>296.162523</td>\n",
       "      <td>10.966148</td>\n",
       "      <td>-350.52887</td>\n",
       "      <td>126.190831</td>\n",
       "      <td>[-91.3511749837807, 97.44998914524027, -75.283...</td>\n",
       "      <td>[-1.0699709434977287, -2.710291805957427, -1.2...</td>\n",
       "      <td>1.069971</td>\n",
       "      <td>91.351175</td>\n",
       "    </tr>\n",
       "    <tr>\n",
       "      <th>16</th>\n",
       "      <td>4.780096</td>\n",
       "      <td>295.96866</td>\n",
       "      <td>10.966148</td>\n",
       "      <td>-350.273243</td>\n",
       "      <td>125.511544</td>\n",
       "      <td>[-91.40566971403003, 97.58704733541809, -75.38...</td>\n",
       "      <td>[-1.0693258957844778, -2.711434154139663, -1.2...</td>\n",
       "      <td>1.069326</td>\n",
       "      <td>91.405670</td>\n",
       "    </tr>\n",
       "  </tbody>\n",
       "</table>\n",
       "</div>"
      ],
      "text/plain": [
       "          fQ          EC         EJ       alpha  dispersion  \\\n",
       "1   5.155789  348.586816  10.966148 -420.991881  456.835953   \n",
       "2   5.081477  337.774634  10.966148 -406.236379  359.336932   \n",
       "3   4.981869  323.597448  10.966148 -387.066828  257.493115   \n",
       "4   4.917111  314.572309  10.966148 -374.966909  205.804261   \n",
       "5   4.881778  309.711122  10.966148 -368.482371  181.654659   \n",
       "6   4.848092  305.117988  10.966148 -362.376304  160.996308   \n",
       "7   4.835359   303.39219  10.966148 -360.087266  153.745435   \n",
       "8   4.820476  301.382342  10.966148 -357.425051  145.637592   \n",
       "9   4.808085  299.715056  10.966148 -355.219505  139.178413   \n",
       "10  4.804472  299.229774  10.966148 -354.578051  137.342811   \n",
       "11  4.796056  298.101541  10.966148 -353.087599  133.151224   \n",
       "12  4.791437  297.483263  10.966148 -352.271332  130.898729   \n",
       "13  4.788043  297.029572  10.966148 -351.672589  129.265663   \n",
       "14  4.784337  296.534488  10.966148  -351.01944  127.502561   \n",
       "15   4.78155  296.162523  10.966148  -350.52887  126.190831   \n",
       "16  4.780096   295.96866  10.966148 -350.273243  125.511544   \n",
       "\n",
       "                                                 gbus  \\\n",
       "1   [-80.92985927105732, 84.27128181860117, -69.47...   \n",
       "2   [-84.80018129859852, 90.43077957918712, -67.66...   \n",
       "3   [-85.54701884161898, 90.84082827451013, -69.22...   \n",
       "4   [-84.98926950989521, 91.3106010812759, -70.400...   \n",
       "5   [-86.67937210415278, 91.71042747519529, -71.16...   \n",
       "6   [-88.2214103808818, 93.93370842692754, -72.358...   \n",
       "7   [-88.98877711487982, 94.36076979454826, -73.13...   \n",
       "8   [-89.7289306676925, 95.0420376239965, -73.4004...   \n",
       "9   [-90.0310966602795, 95.72686186407878, -73.929...   \n",
       "10  [-90.4362821889739, 96.23462074039804, -74.336...   \n",
       "11  [-90.75519823814297, 96.49741369478527, -74.55...   \n",
       "12  [-90.92519539474453, 96.93132996574579, -74.89...   \n",
       "13  [-91.11806931658255, 97.15727232267567, -75.04...   \n",
       "14  [-91.2462992588619, 97.31846997831182, -75.166...   \n",
       "15  [-91.3511749837807, 97.44998914524027, -75.283...   \n",
       "16  [-91.40566971403003, 97.58704733541809, -75.38...   \n",
       "\n",
       "                                           chi_in_MHz    χr MHz     gr MHz  \n",
       "1   [-1.3587501145075658, -3.956355025084899, -1.9...  1.358750  80.929859  \n",
       "2   [-1.3513781273364198, -3.9499389906800695, -1....  1.351378  84.800181  \n",
       "3   [-1.2079259771304773, -3.319971355528233, -1.4...  1.207926  85.547019  \n",
       "4   [-1.0974865361755932, -2.9922385992466127, -1....  1.097487  84.989270  \n",
       "5   [-1.0916690924280887, -2.8399769378215796, -1....  1.091669  86.679372  \n",
       "6   [-1.084007654246007, -2.8134932653993996, -1.3...  1.084008  88.221410  \n",
       "7   [-1.0855281996892385, -2.7788986933860187, -1....  1.085528  88.988777  \n",
       "8   [-1.0833701163292107, -2.74977126132558, -1.29...  1.083370  89.728931  \n",
       "9   [-1.0740034009413206, -2.7325605858409125, -1....  1.074003  90.031097  \n",
       "10  [-1.0788407113379956, -2.7451041937392144, -1....  1.078841  90.436282  \n",
       "11  [-1.0751835518392396, -2.72190842465234, -1.28...  1.075184  90.755198  \n",
       "12  [-1.0730579317639994, -2.7255591534139265, -1....  1.073058  90.925195  \n",
       "13  [-1.0730989073646868, -2.7229937832588096, -1....  1.073099  91.118069  \n",
       "14  [-1.0711995288686076, -2.715405255305138, -1.2...  1.071200  91.246299  \n",
       "15  [-1.0699709434977287, -2.710291805957427, -1.2...  1.069971  91.351175  \n",
       "16  [-1.0693258957844778, -2.711434154139663, -1.2...  1.069326  91.405670  "
      ]
     },
     "execution_count": 49,
     "metadata": {},
     "output_type": "execute_result"
    }
   ],
   "source": [
    "c1.run_lom()\n",
    "c1.lumped_oscillator_all"
   ]
  },
  {
   "cell_type": "markdown",
   "id": "e3cce65a-22b2-4c3e-9998-2b8724e52e50",
   "metadata": {},
   "source": [
    "### Changing Lj = 13 for same qubit structure"
   ]
  },
  {
   "cell_type": "code",
   "execution_count": 51,
   "id": "f1cb3a11-db06-4052-a5ca-34383651a79e",
   "metadata": {},
   "outputs": [
    {
     "name": "stdout",
     "output_type": "stream",
     "text": [
      "[4, 5] [6 0 1 2]\n",
      "Predicted Values\n",
      "\n",
      "Transmon Properties\n",
      "f_Q 5.141466 [GHz]\n",
      "EC 295.968660 [MHz]\n",
      "EJ 12.568892 [GHz]\n",
      "alpha -345.189996 [MHz]\n",
      "dispersion 44.813236 [KHz]\n",
      "Lq 12.994758 [nH]\n",
      "Cq 65.446889 [fF]\n",
      "T1 81.239045 [us]\n",
      "\n",
      "**Coupling Properties**\n",
      "\n",
      "tCqbus1 -6.449792 [fF]\n",
      "gbus1_in_MHz -94.576636 [MHz]\n",
      "χ_bus1 -1.550863 [MHz]\n",
      "1/T1bus1 1300.219511 [Hz]\n",
      "T1bus1 122.406210 [us]\n",
      "\n",
      "tCqbus2 7.769327 [fF]\n",
      "gbus2_in_MHz 100.972453 [MHz]\n",
      "χ_bus2 -4.793487 [MHz]\n",
      "1/T1bus2 463.749909 [Hz]\n",
      "T1bus2 343.191320 [us]\n",
      "\n",
      "tCqbus3 -5.812227 [fF]\n",
      "gbus3_in_MHz -77.996424 [MHz]\n",
      "χ_bus3 -2.113363 [MHz]\n",
      "1/T1bus3 195.124493 [Hz]\n",
      "T1bus3 815.658457 [us]\n",
      "\n",
      "tCqbus4 -0.013876 [fF]\n",
      "gbus4_in_MHz -0.239604 [MHz]\n",
      "χ_bus4 -0.000004 [MHz]\n",
      "1/T1bus4 0.000299 [Hz]\n",
      "T1bus4 532376153.572707 [us]\n",
      "Bus-Bus Couplings\n",
      "gbus1_2 7.110509 [MHz]\n",
      "gbus1_3 7.143786 [MHz]\n",
      "gbus1_4 0.761945 [MHz]\n",
      "gbus2_3 6.206099 [MHz]\n",
      "gbus2_4 0.173208 [MHz]\n",
      "gbus3_4 0.159830 [MHz]\n"
     ]
    },
    {
     "data": {
      "text/html": [
       "<div>\n",
       "<style scoped>\n",
       "    .dataframe tbody tr th:only-of-type {\n",
       "        vertical-align: middle;\n",
       "    }\n",
       "\n",
       "    .dataframe tbody tr th {\n",
       "        vertical-align: top;\n",
       "    }\n",
       "\n",
       "    .dataframe thead th {\n",
       "        text-align: right;\n",
       "    }\n",
       "</style>\n",
       "<table border=\"1\" class=\"dataframe\">\n",
       "  <thead>\n",
       "    <tr style=\"text-align: right;\">\n",
       "      <th></th>\n",
       "      <th>fQ</th>\n",
       "      <th>EC</th>\n",
       "      <th>EJ</th>\n",
       "      <th>alpha</th>\n",
       "      <th>dispersion</th>\n",
       "      <th>gbus</th>\n",
       "      <th>chi_in_MHz</th>\n",
       "      <th>χr MHz</th>\n",
       "      <th>gr MHz</th>\n",
       "    </tr>\n",
       "  </thead>\n",
       "  <tbody>\n",
       "    <tr>\n",
       "      <th>1</th>\n",
       "      <td>5.548362</td>\n",
       "      <td>348.586816</td>\n",
       "      <td>12.568892</td>\n",
       "      <td>-413.845983</td>\n",
       "      <td>179.760385</td>\n",
       "      <td>[-83.73740811046005, 87.19474840554243, -71.88...</td>\n",
       "      <td>[-2.1812927554728616, -9.110770012585332, -3.9...</td>\n",
       "      <td>2.181293</td>\n",
       "      <td>83.737408</td>\n",
       "    </tr>\n",
       "    <tr>\n",
       "      <th>2</th>\n",
       "      <td>5.467832</td>\n",
       "      <td>337.774634</td>\n",
       "      <td>12.568892</td>\n",
       "      <td>-399.554765</td>\n",
       "      <td>138.854841</td>\n",
       "      <td>[-87.74199600988597, 93.5679261470995, -70.008...</td>\n",
       "      <td>[-2.1194838226776556, -8.496464319720612, -3.1...</td>\n",
       "      <td>2.119484</td>\n",
       "      <td>87.741996</td>\n",
       "    </tr>\n",
       "    <tr>\n",
       "      <th>3</th>\n",
       "      <td>5.359926</td>\n",
       "      <td>323.597448</td>\n",
       "      <td>12.568892</td>\n",
       "      <td>-380.961133</td>\n",
       "      <td>97.032606</td>\n",
       "      <td>[-88.51474219646538, 93.99219989790909, -71.62...</td>\n",
       "      <td>[-1.8412810119760943, -6.614276036859506, -2.6...</td>\n",
       "      <td>1.841281</td>\n",
       "      <td>88.514742</td>\n",
       "    </tr>\n",
       "    <tr>\n",
       "      <th>4</th>\n",
       "      <td>5.289795</td>\n",
       "      <td>314.572309</td>\n",
       "      <td>12.568892</td>\n",
       "      <td>-369.209276</td>\n",
       "      <td>76.258522</td>\n",
       "      <td>[-87.93764390623532, 94.47826965749672, -72.84...</td>\n",
       "      <td>[-1.6446726808617043, -5.71158371760558, -2.41...</td>\n",
       "      <td>1.644673</td>\n",
       "      <td>87.937644</td>\n",
       "    </tr>\n",
       "    <tr>\n",
       "      <th>5</th>\n",
       "      <td>5.251537</td>\n",
       "      <td>309.711122</td>\n",
       "      <td>12.568892</td>\n",
       "      <td>-362.906451</td>\n",
       "      <td>66.682062</td>\n",
       "      <td>[-89.68637808121865, 94.89196648364376, -73.63...</td>\n",
       "      <td>[-1.6215380454486412, -5.306049952180128, -2.2...</td>\n",
       "      <td>1.621538</td>\n",
       "      <td>89.686378</td>\n",
       "    </tr>\n",
       "    <tr>\n",
       "      <th>6</th>\n",
       "      <td>5.215068</td>\n",
       "      <td>305.117988</td>\n",
       "      <td>12.568892</td>\n",
       "      <td>-356.968462</td>\n",
       "      <td>58.565741</td>\n",
       "      <td>[-91.28191141914193, 97.19237557957297, -74.86...</td>\n",
       "      <td>[-1.5970645929408, -5.156098299797978, -2.2209...</td>\n",
       "      <td>1.597065</td>\n",
       "      <td>91.281911</td>\n",
       "    </tr>\n",
       "    <tr>\n",
       "      <th>7</th>\n",
       "      <td>5.201283</td>\n",
       "      <td>303.39219</td>\n",
       "      <td>12.568892</td>\n",
       "      <td>-354.741682</td>\n",
       "      <td>55.735106</td>\n",
       "      <td>[-92.0758989776766, 97.63425219162659, -75.671...</td>\n",
       "      <td>[-1.5944828367976973, -5.057030779320462, -2.2...</td>\n",
       "      <td>1.594483</td>\n",
       "      <td>92.075899</td>\n",
       "    </tr>\n",
       "    <tr>\n",
       "      <th>8</th>\n",
       "      <td>5.185172</td>\n",
       "      <td>301.382342</td>\n",
       "      <td>12.568892</td>\n",
       "      <td>-352.151364</td>\n",
       "      <td>52.581854</td>\n",
       "      <td>[-92.84172929882791, 98.33915397671393, -75.94...</td>\n",
       "      <td>[-1.5857782025754512, -4.963959772781273, -2.1...</td>\n",
       "      <td>1.585778</td>\n",
       "      <td>92.841729</td>\n",
       "    </tr>\n",
       "    <tr>\n",
       "      <th>9</th>\n",
       "      <td>5.171761</td>\n",
       "      <td>299.715056</td>\n",
       "      <td>12.568892</td>\n",
       "      <td>-350.004967</td>\n",
       "      <td>50.079218</td>\n",
       "      <td>[-93.15437777327556, 99.047735548364, -76.4946...</td>\n",
       "      <td>[-1.5675714259458415, -4.90067413690842, -2.14...</td>\n",
       "      <td>1.567571</td>\n",
       "      <td>93.154378</td>\n",
       "    </tr>\n",
       "    <tr>\n",
       "      <th>10</th>\n",
       "      <td>5.167849</td>\n",
       "      <td>299.229774</td>\n",
       "      <td>12.568892</td>\n",
       "      <td>-349.380645</td>\n",
       "      <td>49.369585</td>\n",
       "      <td>[-93.57361964867656, 99.57310915744998, -76.91...</td>\n",
       "      <td>[-1.573326518199323, -4.913885291178383, -2.15...</td>\n",
       "      <td>1.573327</td>\n",
       "      <td>93.573620</td>\n",
       "    </tr>\n",
       "    <tr>\n",
       "      <th>11</th>\n",
       "      <td>5.15874</td>\n",
       "      <td>298.101541</td>\n",
       "      <td>12.568892</td>\n",
       "      <td>-347.929879</td>\n",
       "      <td>47.751837</td>\n",
       "      <td>[-93.90359925821475, 99.8450186982336, -77.137...</td>\n",
       "      <td>[-1.5649848617201874, -4.851187420498802, -2.1...</td>\n",
       "      <td>1.564985</td>\n",
       "      <td>93.903599</td>\n",
       "    </tr>\n",
       "    <tr>\n",
       "      <th>12</th>\n",
       "      <td>5.15374</td>\n",
       "      <td>297.483263</td>\n",
       "      <td>12.568892</td>\n",
       "      <td>-347.135275</td>\n",
       "      <td>46.88406</td>\n",
       "      <td>[-94.07949380947409, 100.29398801801821, -77.4...</td>\n",
       "      <td>[-1.560255058819043, -4.846207222876237, -2.13...</td>\n",
       "      <td>1.560255</td>\n",
       "      <td>94.079494</td>\n",
       "    </tr>\n",
       "    <tr>\n",
       "      <th>13</th>\n",
       "      <td>5.150068</td>\n",
       "      <td>297.029572</td>\n",
       "      <td>12.568892</td>\n",
       "      <td>-346.552389</td>\n",
       "      <td>46.255622</td>\n",
       "      <td>[-94.27905874696793, 100.5277685722177, -77.64...</td>\n",
       "      <td>[-1.5591184215789753, -4.833283973868201, -2.1...</td>\n",
       "      <td>1.559118</td>\n",
       "      <td>94.279059</td>\n",
       "    </tr>\n",
       "    <tr>\n",
       "      <th>14</th>\n",
       "      <td>5.146056</td>\n",
       "      <td>296.534488</td>\n",
       "      <td>12.568892</td>\n",
       "      <td>-345.916507</td>\n",
       "      <td>45.577814</td>\n",
       "      <td>[-94.4117371317488, 100.69455835781764, -77.77...</td>\n",
       "      <td>[-1.5550597842569027, -4.81077145460035, -2.11...</td>\n",
       "      <td>1.555060</td>\n",
       "      <td>94.411737</td>\n",
       "    </tr>\n",
       "    <tr>\n",
       "      <th>15</th>\n",
       "      <td>5.143039</td>\n",
       "      <td>296.162523</td>\n",
       "      <td>12.568892</td>\n",
       "      <td>-345.438884</td>\n",
       "      <td>45.07399</td>\n",
       "      <td>[-94.52025111481397, 100.8306400741907, -77.89...</td>\n",
       "      <td>[-1.5523041564800029, -4.794969120096107, -2.1...</td>\n",
       "      <td>1.552304</td>\n",
       "      <td>94.520251</td>\n",
       "    </tr>\n",
       "    <tr>\n",
       "      <th>16</th>\n",
       "      <td>5.141466</td>\n",
       "      <td>295.96866</td>\n",
       "      <td>12.568892</td>\n",
       "      <td>-345.189996</td>\n",
       "      <td>44.813236</td>\n",
       "      <td>[-94.57663632921884, 100.9724529688278, -77.99...</td>\n",
       "      <td>[-1.550862925783744, -4.793487204731223, -2.11...</td>\n",
       "      <td>1.550863</td>\n",
       "      <td>94.576636</td>\n",
       "    </tr>\n",
       "  </tbody>\n",
       "</table>\n",
       "</div>"
      ],
      "text/plain": [
       "          fQ          EC         EJ       alpha  dispersion  \\\n",
       "1   5.548362  348.586816  12.568892 -413.845983  179.760385   \n",
       "2   5.467832  337.774634  12.568892 -399.554765  138.854841   \n",
       "3   5.359926  323.597448  12.568892 -380.961133   97.032606   \n",
       "4   5.289795  314.572309  12.568892 -369.209276   76.258522   \n",
       "5   5.251537  309.711122  12.568892 -362.906451   66.682062   \n",
       "6   5.215068  305.117988  12.568892 -356.968462   58.565741   \n",
       "7   5.201283   303.39219  12.568892 -354.741682   55.735106   \n",
       "8   5.185172  301.382342  12.568892 -352.151364   52.581854   \n",
       "9   5.171761  299.715056  12.568892 -350.004967   50.079218   \n",
       "10  5.167849  299.229774  12.568892 -349.380645   49.369585   \n",
       "11   5.15874  298.101541  12.568892 -347.929879   47.751837   \n",
       "12   5.15374  297.483263  12.568892 -347.135275    46.88406   \n",
       "13  5.150068  297.029572  12.568892 -346.552389   46.255622   \n",
       "14  5.146056  296.534488  12.568892 -345.916507   45.577814   \n",
       "15  5.143039  296.162523  12.568892 -345.438884    45.07399   \n",
       "16  5.141466   295.96866  12.568892 -345.189996   44.813236   \n",
       "\n",
       "                                                 gbus  \\\n",
       "1   [-83.73740811046005, 87.19474840554243, -71.88...   \n",
       "2   [-87.74199600988597, 93.5679261470995, -70.008...   \n",
       "3   [-88.51474219646538, 93.99219989790909, -71.62...   \n",
       "4   [-87.93764390623532, 94.47826965749672, -72.84...   \n",
       "5   [-89.68637808121865, 94.89196648364376, -73.63...   \n",
       "6   [-91.28191141914193, 97.19237557957297, -74.86...   \n",
       "7   [-92.0758989776766, 97.63425219162659, -75.671...   \n",
       "8   [-92.84172929882791, 98.33915397671393, -75.94...   \n",
       "9   [-93.15437777327556, 99.047735548364, -76.4946...   \n",
       "10  [-93.57361964867656, 99.57310915744998, -76.91...   \n",
       "11  [-93.90359925821475, 99.8450186982336, -77.137...   \n",
       "12  [-94.07949380947409, 100.29398801801821, -77.4...   \n",
       "13  [-94.27905874696793, 100.5277685722177, -77.64...   \n",
       "14  [-94.4117371317488, 100.69455835781764, -77.77...   \n",
       "15  [-94.52025111481397, 100.8306400741907, -77.89...   \n",
       "16  [-94.57663632921884, 100.9724529688278, -77.99...   \n",
       "\n",
       "                                           chi_in_MHz    χr MHz     gr MHz  \n",
       "1   [-2.1812927554728616, -9.110770012585332, -3.9...  2.181293  83.737408  \n",
       "2   [-2.1194838226776556, -8.496464319720612, -3.1...  2.119484  87.741996  \n",
       "3   [-1.8412810119760943, -6.614276036859506, -2.6...  1.841281  88.514742  \n",
       "4   [-1.6446726808617043, -5.71158371760558, -2.41...  1.644673  87.937644  \n",
       "5   [-1.6215380454486412, -5.306049952180128, -2.2...  1.621538  89.686378  \n",
       "6   [-1.5970645929408, -5.156098299797978, -2.2209...  1.597065  91.281911  \n",
       "7   [-1.5944828367976973, -5.057030779320462, -2.2...  1.594483  92.075899  \n",
       "8   [-1.5857782025754512, -4.963959772781273, -2.1...  1.585778  92.841729  \n",
       "9   [-1.5675714259458415, -4.90067413690842, -2.14...  1.567571  93.154378  \n",
       "10  [-1.573326518199323, -4.913885291178383, -2.15...  1.573327  93.573620  \n",
       "11  [-1.5649848617201874, -4.851187420498802, -2.1...  1.564985  93.903599  \n",
       "12  [-1.560255058819043, -4.846207222876237, -2.13...  1.560255  94.079494  \n",
       "13  [-1.5591184215789753, -4.833283973868201, -2.1...  1.559118  94.279059  \n",
       "14  [-1.5550597842569027, -4.81077145460035, -2.11...  1.555060  94.411737  \n",
       "15  [-1.5523041564800029, -4.794969120096107, -2.1...  1.552304  94.520251  \n",
       "16  [-1.550862925783744, -4.793487204731223, -2.11...  1.550863  94.576636  "
      ]
     },
     "execution_count": 51,
     "metadata": {},
     "output_type": "execute_result"
    }
   ],
   "source": [
    "c1.setup.junctions = Dict({'Lj': 13, 'Cj': 2})\n",
    "c1.run_lom()\n",
    "c1.lumped_oscillator_all"
   ]
  },
  {
   "cell_type": "code",
   "execution_count": 53,
   "id": "d6a66670-bf27-4e20-924a-2f55aa599ed5",
   "metadata": {},
   "outputs": [
    {
     "name": "stdout",
     "output_type": "stream",
     "text": [
      "[4, 5] [6 0 1 2]\n",
      "Predicted Values\n",
      "\n",
      "Transmon Properties\n",
      "f_Q 5.069624 [GHz]\n",
      "EC 287.192312 [MHz]\n",
      "EJ 12.568892 [GHz]\n",
      "alpha -333.953520 [MHz]\n",
      "dispersion 34.247566 [KHz]\n",
      "Lq 12.994758 [nH]\n",
      "Cq 67.446889 [fF]\n",
      "T1 89.172466 [us]\n",
      "\n",
      "**Coupling Properties**\n",
      "\n",
      "tCqbus1 -6.449792 [fF]\n",
      "gbus1_in_MHz -95.291046 [MHz]\n",
      "χ_bus1 -1.430335 [MHz]\n",
      "1/T1bus1 1203.766422 [Hz]\n",
      "T1bus1 132.214141 [us]\n",
      "\n",
      "tCqbus2 7.769327 [fF]\n",
      "gbus2_in_MHz 101.735175 [MHz]\n",
      "χ_bus2 -4.232437 [MHz]\n",
      "1/T1bus2 406.518620 [Hz]\n",
      "T1bus2 391.507142 [us]\n",
      "\n",
      "tCqbus3 -5.812227 [fF]\n",
      "gbus3_in_MHz -78.585590 [MHz]\n",
      "χ_bus3 -1.895188 [MHz]\n",
      "1/T1bus3 174.513842 [Hz]\n",
      "T1bus3 911.990367 [us]\n",
      "\n",
      "tCqbus4 -0.013876 [fF]\n",
      "gbus4_in_MHz -0.241414 [MHz]\n",
      "χ_bus4 -0.000004 [MHz]\n",
      "1/T1bus4 0.000285 [Hz]\n",
      "T1bus4 558960858.213203 [us]\n",
      "Bus-Bus Couplings\n",
      "gbus1_2 7.110509 [MHz]\n",
      "gbus1_3 7.143786 [MHz]\n",
      "gbus1_4 0.761945 [MHz]\n",
      "gbus2_3 6.206099 [MHz]\n",
      "gbus2_4 0.173208 [MHz]\n",
      "gbus3_4 0.159830 [MHz]\n"
     ]
    },
    {
     "data": {
      "text/html": [
       "<div>\n",
       "<style scoped>\n",
       "    .dataframe tbody tr th:only-of-type {\n",
       "        vertical-align: middle;\n",
       "    }\n",
       "\n",
       "    .dataframe tbody tr th {\n",
       "        vertical-align: top;\n",
       "    }\n",
       "\n",
       "    .dataframe thead th {\n",
       "        text-align: right;\n",
       "    }\n",
       "</style>\n",
       "<table border=\"1\" class=\"dataframe\">\n",
       "  <thead>\n",
       "    <tr style=\"text-align: right;\">\n",
       "      <th></th>\n",
       "      <th>fQ</th>\n",
       "      <th>EC</th>\n",
       "      <th>EJ</th>\n",
       "      <th>alpha</th>\n",
       "      <th>dispersion</th>\n",
       "      <th>gbus</th>\n",
       "      <th>chi_in_MHz</th>\n",
       "      <th>χr MHz</th>\n",
       "      <th>gr MHz</th>\n",
       "    </tr>\n",
       "  </thead>\n",
       "  <tbody>\n",
       "    <tr>\n",
       "      <th>1</th>\n",
       "      <td>5.458062</td>\n",
       "      <td>336.476352</td>\n",
       "      <td>12.568892</td>\n",
       "      <td>-397.84522</td>\n",
       "      <td>134.501344</td>\n",
       "      <td>[-84.48091650511608, 87.96895468768484, -72.52...</td>\n",
       "      <td>[-1.9364304346205932, -7.3282731668864844, -3....</td>\n",
       "      <td>1.936430</td>\n",
       "      <td>84.480917</td>\n",
       "    </tr>\n",
       "    <tr>\n",
       "      <th>2</th>\n",
       "      <td>5.381407</td>\n",
       "      <td>326.391518</td>\n",
       "      <td>12.568892</td>\n",
       "      <td>-384.612672</td>\n",
       "      <td>104.330001</td>\n",
       "      <td>[-88.49720440842185, 94.37327919208737, -70.61...</td>\n",
       "      <td>[-1.8985742394586136, -7.008578861418115, -2.7...</td>\n",
       "      <td>1.898574</td>\n",
       "      <td>88.497204</td>\n",
       "    </tr>\n",
       "    <tr>\n",
       "      <th>3</th>\n",
       "      <td>5.27852</td>\n",
       "      <td>313.135032</td>\n",
       "      <td>12.568892</td>\n",
       "      <td>-367.343793</td>\n",
       "      <td>73.316444</td>\n",
       "      <td>[-89.24501496303753, 94.76766330832382, -72.21...</td>\n",
       "      <td>[-1.667306480917276, -5.6074910984161646, -2.3...</td>\n",
       "      <td>1.667306</td>\n",
       "      <td>89.245015</td>\n",
       "    </tr>\n",
       "    <tr>\n",
       "      <th>4</th>\n",
       "      <td>5.211545</td>\n",
       "      <td>304.676425</td>\n",
       "      <td>12.568892</td>\n",
       "      <td>-356.398493</td>\n",
       "      <td>57.830453</td>\n",
       "      <td>[-88.64316115908431, 95.23626186995304, -73.42...</td>\n",
       "      <td>[-1.4987819996849736, -4.91463269274441, -2.12...</td>\n",
       "      <td>1.498782</td>\n",
       "      <td>88.643161</td>\n",
       "    </tr>\n",
       "    <tr>\n",
       "      <th>5</th>\n",
       "      <td>5.174974</td>\n",
       "      <td>300.114058</td>\n",
       "      <td>12.568892</td>\n",
       "      <td>-350.518426</td>\n",
       "      <td>50.668977</td>\n",
       "      <td>[-90.39493594862995, 95.64165055880204, -74.21...</td>\n",
       "      <td>[-1.4825439701336511, -4.599189935679172, -2.0...</td>\n",
       "      <td>1.482544</td>\n",
       "      <td>90.394936</td>\n",
       "    </tr>\n",
       "    <tr>\n",
       "      <th>6</th>\n",
       "      <td>5.140091</td>\n",
       "      <td>295.799187</td>\n",
       "      <td>12.568892</td>\n",
       "      <td>-344.972446</td>\n",
       "      <td>44.586312</td>\n",
       "      <td>[-91.99250277708647, 97.94897741964422, -75.45...</td>\n",
       "      <td>[-1.4645530774775266, -4.498437091641224, -1.9...</td>\n",
       "      <td>1.464553</td>\n",
       "      <td>91.992503</td>\n",
       "    </tr>\n",
       "    <tr>\n",
       "      <th>7</th>\n",
       "      <td>5.1269</td>\n",
       "      <td>294.176916</td>\n",
       "      <td>12.568892</td>\n",
       "      <td>-342.891101</td>\n",
       "      <td>42.461817</td>\n",
       "      <td>[-92.78866348750267, 98.39004421405878, -76.25...</td>\n",
       "      <td>[-1.46380027337959, -4.422417478251738, -1.969...</td>\n",
       "      <td>1.463800</td>\n",
       "      <td>92.788663</td>\n",
       "    </tr>\n",
       "    <tr>\n",
       "      <th>8</th>\n",
       "      <td>5.111479</td>\n",
       "      <td>292.286928</td>\n",
       "      <td>12.568892</td>\n",
       "      <td>-340.468881</td>\n",
       "      <td>40.093147</td>\n",
       "      <td>[-93.55571532052399, 99.0954171555136, -76.530...</td>\n",
       "      <td>[-1.457659117850714, -4.352697537920724, -1.93...</td>\n",
       "      <td>1.457659</td>\n",
       "      <td>93.555715</td>\n",
       "    </tr>\n",
       "    <tr>\n",
       "      <th>9</th>\n",
       "      <td>5.098639</td>\n",
       "      <td>290.718496</td>\n",
       "      <td>12.568892</td>\n",
       "      <td>-338.460895</td>\n",
       "      <td>38.211605</td>\n",
       "      <td>[-93.86684990290598, 99.8052818147667, -77.079...</td>\n",
       "      <td>[-1.4424243348775574, -4.306582640413967, -1.9...</td>\n",
       "      <td>1.442424</td>\n",
       "      <td>93.866850</td>\n",
       "    </tr>\n",
       "    <tr>\n",
       "      <th>10</th>\n",
       "      <td>5.094893</td>\n",
       "      <td>290.261888</td>\n",
       "      <td>12.568892</td>\n",
       "      <td>-337.876684</td>\n",
       "      <td>37.677818</td>\n",
       "      <td>[-94.28815258114004, 100.33345449781305, -77.5...</td>\n",
       "      <td>[-1.4481557397752216, -4.320898849039375, -1.9...</td>\n",
       "      <td>1.448156</td>\n",
       "      <td>94.288153</td>\n",
       "    </tr>\n",
       "    <tr>\n",
       "      <th>11</th>\n",
       "      <td>5.08617</td>\n",
       "      <td>289.200148</td>\n",
       "      <td>12.568892</td>\n",
       "      <td>-336.518863</td>\n",
       "      <td>36.46049</td>\n",
       "      <td>[-94.61797878191783, 100.604598069687, -77.724...</td>\n",
       "      <td>[-1.4414807969132915, -4.271928160512258, -1.9...</td>\n",
       "      <td>1.441481</td>\n",
       "      <td>94.617979</td>\n",
       "    </tr>\n",
       "    <tr>\n",
       "      <th>12</th>\n",
       "      <td>5.081381</td>\n",
       "      <td>288.618206</td>\n",
       "      <td>12.568892</td>\n",
       "      <td>-335.775011</td>\n",
       "      <td>35.807236</td>\n",
       "      <td>[-94.79374372173318, 101.05541826430603, -78.0...</td>\n",
       "      <td>[-1.4376695283047451, -4.270885473842183, -1.9...</td>\n",
       "      <td>1.437670</td>\n",
       "      <td>94.793744</td>\n",
       "    </tr>\n",
       "    <tr>\n",
       "      <th>13</th>\n",
       "      <td>5.077863</td>\n",
       "      <td>288.191133</td>\n",
       "      <td>12.568892</td>\n",
       "      <td>-335.229286</td>\n",
       "      <td>35.334035</td>\n",
       "      <td>[-94.99374440011688, 101.28982278549176, -78.2...</td>\n",
       "      <td>[-1.4370207876792271, -4.261929521375008, -1.9...</td>\n",
       "      <td>1.437021</td>\n",
       "      <td>94.993744</td>\n",
       "    </tr>\n",
       "    <tr>\n",
       "      <th>14</th>\n",
       "      <td>5.07402</td>\n",
       "      <td>287.725052</td>\n",
       "      <td>12.568892</td>\n",
       "      <td>-334.633875</td>\n",
       "      <td>34.823548</td>\n",
       "      <td>[-95.12624902842097, 101.45661890306967, -78.3...</td>\n",
       "      <td>[-1.4337126348456188, -4.244708278169896, -1.8...</td>\n",
       "      <td>1.433713</td>\n",
       "      <td>95.126249</td>\n",
       "    </tr>\n",
       "    <tr>\n",
       "      <th>15</th>\n",
       "      <td>5.071131</td>\n",
       "      <td>287.374845</td>\n",
       "      <td>12.568892</td>\n",
       "      <td>-334.186606</td>\n",
       "      <td>34.444018</td>\n",
       "      <td>[-95.23469700042811, 101.59278400731823, -78.4...</td>\n",
       "      <td>[-1.431495708164629, -4.232726185239432, -1.89...</td>\n",
       "      <td>1.431496</td>\n",
       "      <td>95.234697</td>\n",
       "    </tr>\n",
       "    <tr>\n",
       "      <th>16</th>\n",
       "      <td>5.069624</td>\n",
       "      <td>287.192312</td>\n",
       "      <td>12.568892</td>\n",
       "      <td>-333.95352</td>\n",
       "      <td>34.247566</td>\n",
       "      <td>[-95.29104570327247, 101.7351748177104, -78.58...</td>\n",
       "      <td>[-1.4303349028246033, -4.232436763469763, -1.8...</td>\n",
       "      <td>1.430335</td>\n",
       "      <td>95.291046</td>\n",
       "    </tr>\n",
       "  </tbody>\n",
       "</table>\n",
       "</div>"
      ],
      "text/plain": [
       "          fQ          EC         EJ       alpha  dispersion  \\\n",
       "1   5.458062  336.476352  12.568892  -397.84522  134.501344   \n",
       "2   5.381407  326.391518  12.568892 -384.612672  104.330001   \n",
       "3    5.27852  313.135032  12.568892 -367.343793   73.316444   \n",
       "4   5.211545  304.676425  12.568892 -356.398493   57.830453   \n",
       "5   5.174974  300.114058  12.568892 -350.518426   50.668977   \n",
       "6   5.140091  295.799187  12.568892 -344.972446   44.586312   \n",
       "7     5.1269  294.176916  12.568892 -342.891101   42.461817   \n",
       "8   5.111479  292.286928  12.568892 -340.468881   40.093147   \n",
       "9   5.098639  290.718496  12.568892 -338.460895   38.211605   \n",
       "10  5.094893  290.261888  12.568892 -337.876684   37.677818   \n",
       "11   5.08617  289.200148  12.568892 -336.518863    36.46049   \n",
       "12  5.081381  288.618206  12.568892 -335.775011   35.807236   \n",
       "13  5.077863  288.191133  12.568892 -335.229286   35.334035   \n",
       "14   5.07402  287.725052  12.568892 -334.633875   34.823548   \n",
       "15  5.071131  287.374845  12.568892 -334.186606   34.444018   \n",
       "16  5.069624  287.192312  12.568892  -333.95352   34.247566   \n",
       "\n",
       "                                                 gbus  \\\n",
       "1   [-84.48091650511608, 87.96895468768484, -72.52...   \n",
       "2   [-88.49720440842185, 94.37327919208737, -70.61...   \n",
       "3   [-89.24501496303753, 94.76766330832382, -72.21...   \n",
       "4   [-88.64316115908431, 95.23626186995304, -73.42...   \n",
       "5   [-90.39493594862995, 95.64165055880204, -74.21...   \n",
       "6   [-91.99250277708647, 97.94897741964422, -75.45...   \n",
       "7   [-92.78866348750267, 98.39004421405878, -76.25...   \n",
       "8   [-93.55571532052399, 99.0954171555136, -76.530...   \n",
       "9   [-93.86684990290598, 99.8052818147667, -77.079...   \n",
       "10  [-94.28815258114004, 100.33345449781305, -77.5...   \n",
       "11  [-94.61797878191783, 100.604598069687, -77.724...   \n",
       "12  [-94.79374372173318, 101.05541826430603, -78.0...   \n",
       "13  [-94.99374440011688, 101.28982278549176, -78.2...   \n",
       "14  [-95.12624902842097, 101.45661890306967, -78.3...   \n",
       "15  [-95.23469700042811, 101.59278400731823, -78.4...   \n",
       "16  [-95.29104570327247, 101.7351748177104, -78.58...   \n",
       "\n",
       "                                           chi_in_MHz    χr MHz     gr MHz  \n",
       "1   [-1.9364304346205932, -7.3282731668864844, -3....  1.936430  84.480917  \n",
       "2   [-1.8985742394586136, -7.008578861418115, -2.7...  1.898574  88.497204  \n",
       "3   [-1.667306480917276, -5.6074910984161646, -2.3...  1.667306  89.245015  \n",
       "4   [-1.4987819996849736, -4.91463269274441, -2.12...  1.498782  88.643161  \n",
       "5   [-1.4825439701336511, -4.599189935679172, -2.0...  1.482544  90.394936  \n",
       "6   [-1.4645530774775266, -4.498437091641224, -1.9...  1.464553  91.992503  \n",
       "7   [-1.46380027337959, -4.422417478251738, -1.969...  1.463800  92.788663  \n",
       "8   [-1.457659117850714, -4.352697537920724, -1.93...  1.457659  93.555715  \n",
       "9   [-1.4424243348775574, -4.306582640413967, -1.9...  1.442424  93.866850  \n",
       "10  [-1.4481557397752216, -4.320898849039375, -1.9...  1.448156  94.288153  \n",
       "11  [-1.4414807969132915, -4.271928160512258, -1.9...  1.441481  94.617979  \n",
       "12  [-1.4376695283047451, -4.270885473842183, -1.9...  1.437670  94.793744  \n",
       "13  [-1.4370207876792271, -4.261929521375008, -1.9...  1.437021  94.993744  \n",
       "14  [-1.4337126348456188, -4.244708278169896, -1.8...  1.433713  95.126249  \n",
       "15  [-1.431495708164629, -4.232726185239432, -1.89...  1.431496  95.234697  \n",
       "16  [-1.4303349028246033, -4.232436763469763, -1.8...  1.430335  95.291046  "
      ]
     },
     "execution_count": 53,
     "metadata": {},
     "output_type": "execute_result"
    }
   ],
   "source": [
    "c1.setup.junctions = Dict({'Lj': 13, 'Cj': 4})\n",
    "c1.run_lom()\n",
    "c1.lumped_oscillator_all"
   ]
  },
  {
   "cell_type": "code",
   "execution_count": 54,
   "id": "7b099d68-82cb-4054-9abf-c3be56785b9c",
   "metadata": {},
   "outputs": [],
   "source": [
    "Q_2.options.pad_gap = '28um'\n",
    "Q_2.options.connection_pads.readout.pad_gap = '15um'\n",
    "Q_2.options.connection_pads.readout.pad_width = '150um'\n",
    "Q_2.options.connection_pads.bus_23.pad_width = '110um'\n",
    "Q_2.options.connection_pads.bus_24.pad_width = '100um'\n",
    "\n",
    "gui.rebuild()"
   ]
  },
  {
   "cell_type": "code",
   "execution_count": 55,
   "id": "ab460ad0-48f7-45e3-8fdb-799f2d4a96ca",
   "metadata": {},
   "outputs": [],
   "source": [
    "c1.sim.renderer.clean_active_design()"
   ]
  },
  {
   "cell_type": "code",
   "execution_count": 56,
   "id": "5e97798f-decc-46b5-bede-c7bb2aa37abe",
   "metadata": {},
   "outputs": [
    {
     "name": "stderr",
     "output_type": "stream",
     "text": [
      "INFO 08:15PM [connect_design]: \tOpened active design\n",
      "\tDesign:    Q_2_q3d [Solution type: Q3D]\n",
      "INFO 08:15PM [get_setup]: \tOpened setup `Tune_Q_2`  (<class 'pyEPR.ansys.AnsysQ3DSetup'>)\n",
      "INFO 08:15PM [analyze]: Analyzing setup Tune_Q_2\n",
      "INFO 08:19PM [get_matrix]: Exporting matrix data to (C:\\Users\\user\\AppData\\Local\\Temp\\tmpoaiel590.txt, C, , Tune_Q_2:LastAdaptive, \"Original\", \"ohm\", \"nH\", \"fF\", \"mSie\", 5000000000, Maxwell, 1, False\n",
      "INFO 08:19PM [get_matrix]: Exporting matrix data to (C:\\Users\\user\\AppData\\Local\\Temp\\tmp43rp1njz.txt, C, , Tune_Q_2:AdaptivePass, \"Original\", \"ohm\", \"nH\", \"fF\", \"mSie\", 5000000000, Maxwell, 1, False\n",
      "INFO 08:19PM [get_matrix]: Exporting matrix data to (C:\\Users\\user\\AppData\\Local\\Temp\\tmpypu21dz0.txt, C, , Tune_Q_2:AdaptivePass, \"Original\", \"ohm\", \"nH\", \"fF\", \"mSie\", 5000000000, Maxwell, 2, False\n",
      "INFO 08:19PM [get_matrix]: Exporting matrix data to (C:\\Users\\user\\AppData\\Local\\Temp\\tmp812ax9h_.txt, C, , Tune_Q_2:AdaptivePass, \"Original\", \"ohm\", \"nH\", \"fF\", \"mSie\", 5000000000, Maxwell, 3, False\n",
      "INFO 08:19PM [get_matrix]: Exporting matrix data to (C:\\Users\\user\\AppData\\Local\\Temp\\tmpu1oez67e.txt, C, , Tune_Q_2:AdaptivePass, \"Original\", \"ohm\", \"nH\", \"fF\", \"mSie\", 5000000000, Maxwell, 4, False\n",
      "INFO 08:19PM [get_matrix]: Exporting matrix data to (C:\\Users\\user\\AppData\\Local\\Temp\\tmpprd6mvjr.txt, C, , Tune_Q_2:AdaptivePass, \"Original\", \"ohm\", \"nH\", \"fF\", \"mSie\", 5000000000, Maxwell, 5, False\n",
      "INFO 08:19PM [get_matrix]: Exporting matrix data to (C:\\Users\\user\\AppData\\Local\\Temp\\tmpaokf9pyd.txt, C, , Tune_Q_2:AdaptivePass, \"Original\", \"ohm\", \"nH\", \"fF\", \"mSie\", 5000000000, Maxwell, 6, False\n",
      "INFO 08:19PM [get_matrix]: Exporting matrix data to (C:\\Users\\user\\AppData\\Local\\Temp\\tmpoelfk55m.txt, C, , Tune_Q_2:AdaptivePass, \"Original\", \"ohm\", \"nH\", \"fF\", \"mSie\", 5000000000, Maxwell, 7, False\n",
      "INFO 08:19PM [get_matrix]: Exporting matrix data to (C:\\Users\\user\\AppData\\Local\\Temp\\tmpvnv6undj.txt, C, , Tune_Q_2:AdaptivePass, \"Original\", \"ohm\", \"nH\", \"fF\", \"mSie\", 5000000000, Maxwell, 8, False\n",
      "INFO 08:19PM [get_matrix]: Exporting matrix data to (C:\\Users\\user\\AppData\\Local\\Temp\\tmpelvjp3uu.txt, C, , Tune_Q_2:AdaptivePass, \"Original\", \"ohm\", \"nH\", \"fF\", \"mSie\", 5000000000, Maxwell, 9, False\n",
      "INFO 08:19PM [get_matrix]: Exporting matrix data to (C:\\Users\\user\\AppData\\Local\\Temp\\tmpwyanjmfq.txt, C, , Tune_Q_2:AdaptivePass, \"Original\", \"ohm\", \"nH\", \"fF\", \"mSie\", 5000000000, Maxwell, 10, False\n",
      "INFO 08:19PM [get_matrix]: Exporting matrix data to (C:\\Users\\user\\AppData\\Local\\Temp\\tmp47v4rvgh.txt, C, , Tune_Q_2:AdaptivePass, \"Original\", \"ohm\", \"nH\", \"fF\", \"mSie\", 5000000000, Maxwell, 11, False\n",
      "INFO 08:19PM [get_matrix]: Exporting matrix data to (C:\\Users\\user\\AppData\\Local\\Temp\\tmp9i5o_g_r.txt, C, , Tune_Q_2:AdaptivePass, \"Original\", \"ohm\", \"nH\", \"fF\", \"mSie\", 5000000000, Maxwell, 12, False\n",
      "INFO 08:19PM [get_matrix]: Exporting matrix data to (C:\\Users\\user\\AppData\\Local\\Temp\\tmpzhvqw1cx.txt, C, , Tune_Q_2:AdaptivePass, \"Original\", \"ohm\", \"nH\", \"fF\", \"mSie\", 5000000000, Maxwell, 13, False\n",
      "INFO 08:19PM [get_matrix]: Exporting matrix data to (C:\\Users\\user\\AppData\\Local\\Temp\\tmp00z6b_bk.txt, C, , Tune_Q_2:AdaptivePass, \"Original\", \"ohm\", \"nH\", \"fF\", \"mSie\", 5000000000, Maxwell, 14, False\n",
      "INFO 08:19PM [get_matrix]: Exporting matrix data to (C:\\Users\\user\\AppData\\Local\\Temp\\tmplu8szn89.txt, C, , Tune_Q_2:AdaptivePass, \"Original\", \"ohm\", \"nH\", \"fF\", \"mSie\", 5000000000, Maxwell, 15, False\n",
      "INFO 08:19PM [get_matrix]: Exporting matrix data to (C:\\Users\\user\\AppData\\Local\\Temp\\tmp31m5_yif.txt, C, , Tune_Q_2:AdaptivePass, \"Original\", \"ohm\", \"nH\", \"fF\", \"mSie\", 5000000000, Maxwell, 16, False\n",
      "INFO 08:19PM [get_matrix]: Exporting matrix data to (C:\\Users\\user\\AppData\\Local\\Temp\\tmpj5gl5cnp.txt, C, , Tune_Q_2:AdaptivePass, \"Original\", \"ohm\", \"nH\", \"fF\", \"mSie\", 5000000000, Maxwell, 17, False\n"
     ]
    }
   ],
   "source": [
    "c1.sim.run(name=\"Q_2\", components=['Q_2'], open_terminations=[('Q_2', 'readout'), ('Q_2', 'bus_23'),('Q_2', 'bus_24'), ('Q_2', 'Charge_Line')])"
   ]
  },
  {
   "cell_type": "code",
   "execution_count": 57,
   "id": "132dd085-818b-41dc-8736-cd21ddc5a26a",
   "metadata": {},
   "outputs": [
    {
     "data": {
      "text/html": [
       "<div>\n",
       "<style scoped>\n",
       "    .dataframe tbody tr th:only-of-type {\n",
       "        vertical-align: middle;\n",
       "    }\n",
       "\n",
       "    .dataframe tbody tr th {\n",
       "        vertical-align: top;\n",
       "    }\n",
       "\n",
       "    .dataframe thead th {\n",
       "        text-align: right;\n",
       "    }\n",
       "</style>\n",
       "<table border=\"1\" class=\"dataframe\">\n",
       "  <thead>\n",
       "    <tr style=\"text-align: right;\">\n",
       "      <th></th>\n",
       "      <th>bus_23_connector_pad_Q_2</th>\n",
       "      <th>bus_24_connector_pad_Q_2</th>\n",
       "      <th>cl_metal_Q_2</th>\n",
       "      <th>ground_main_plane</th>\n",
       "      <th>pad_bot_Q_2</th>\n",
       "      <th>pad_top_Q_2</th>\n",
       "      <th>readout_connector_pad_Q_2</th>\n",
       "    </tr>\n",
       "  </thead>\n",
       "  <tbody>\n",
       "    <tr>\n",
       "      <th>bus_23_connector_pad_Q_2</th>\n",
       "      <td>50.24490</td>\n",
       "      <td>-0.30155</td>\n",
       "      <td>-0.00776</td>\n",
       "      <td>-33.39814</td>\n",
       "      <td>-14.15565</td>\n",
       "      <td>-1.45288</td>\n",
       "      <td>-0.14121</td>\n",
       "    </tr>\n",
       "    <tr>\n",
       "      <th>bus_24_connector_pad_Q_2</th>\n",
       "      <td>-0.30155</td>\n",
       "      <td>48.70433</td>\n",
       "      <td>-0.00818</td>\n",
       "      <td>-32.85737</td>\n",
       "      <td>-1.40257</td>\n",
       "      <td>-13.02157</td>\n",
       "      <td>-0.36775</td>\n",
       "    </tr>\n",
       "    <tr>\n",
       "      <th>cl_metal_Q_2</th>\n",
       "      <td>-0.00776</td>\n",
       "      <td>-0.00818</td>\n",
       "      <td>16.52035</td>\n",
       "      <td>-15.94385</td>\n",
       "      <td>-0.13730</td>\n",
       "      <td>-0.18323</td>\n",
       "      <td>-0.16772</td>\n",
       "    </tr>\n",
       "    <tr>\n",
       "      <th>ground_main_plane</th>\n",
       "      <td>-33.39814</td>\n",
       "      <td>-32.85737</td>\n",
       "      <td>-15.94385</td>\n",
       "      <td>249.01009</td>\n",
       "      <td>-39.03885</td>\n",
       "      <td>-33.95590</td>\n",
       "      <td>-35.44376</td>\n",
       "    </tr>\n",
       "    <tr>\n",
       "      <th>pad_bot_Q_2</th>\n",
       "      <td>-14.15565</td>\n",
       "      <td>-1.40257</td>\n",
       "      <td>-0.13730</td>\n",
       "      <td>-39.03885</td>\n",
       "      <td>92.26308</td>\n",
       "      <td>-32.88377</td>\n",
       "      <td>-1.84022</td>\n",
       "    </tr>\n",
       "    <tr>\n",
       "      <th>pad_top_Q_2</th>\n",
       "      <td>-1.45288</td>\n",
       "      <td>-13.02157</td>\n",
       "      <td>-0.18323</td>\n",
       "      <td>-33.95590</td>\n",
       "      <td>-32.88377</td>\n",
       "      <td>99.75772</td>\n",
       "      <td>-15.76908</td>\n",
       "    </tr>\n",
       "    <tr>\n",
       "      <th>readout_connector_pad_Q_2</th>\n",
       "      <td>-0.14121</td>\n",
       "      <td>-0.36775</td>\n",
       "      <td>-0.16772</td>\n",
       "      <td>-35.44376</td>\n",
       "      <td>-1.84022</td>\n",
       "      <td>-15.76908</td>\n",
       "      <td>54.65248</td>\n",
       "    </tr>\n",
       "  </tbody>\n",
       "</table>\n",
       "</div>"
      ],
      "text/plain": [
       "                           bus_23_connector_pad_Q_2  bus_24_connector_pad_Q_2  \\\n",
       "bus_23_connector_pad_Q_2                   50.24490                  -0.30155   \n",
       "bus_24_connector_pad_Q_2                   -0.30155                  48.70433   \n",
       "cl_metal_Q_2                               -0.00776                  -0.00818   \n",
       "ground_main_plane                         -33.39814                 -32.85737   \n",
       "pad_bot_Q_2                               -14.15565                  -1.40257   \n",
       "pad_top_Q_2                                -1.45288                 -13.02157   \n",
       "readout_connector_pad_Q_2                  -0.14121                  -0.36775   \n",
       "\n",
       "                           cl_metal_Q_2  ground_main_plane  pad_bot_Q_2  \\\n",
       "bus_23_connector_pad_Q_2       -0.00776          -33.39814    -14.15565   \n",
       "bus_24_connector_pad_Q_2       -0.00818          -32.85737     -1.40257   \n",
       "cl_metal_Q_2                   16.52035          -15.94385     -0.13730   \n",
       "ground_main_plane             -15.94385          249.01009    -39.03885   \n",
       "pad_bot_Q_2                    -0.13730          -39.03885     92.26308   \n",
       "pad_top_Q_2                    -0.18323          -33.95590    -32.88377   \n",
       "readout_connector_pad_Q_2      -0.16772          -35.44376     -1.84022   \n",
       "\n",
       "                           pad_top_Q_2  readout_connector_pad_Q_2  \n",
       "bus_23_connector_pad_Q_2      -1.45288                   -0.14121  \n",
       "bus_24_connector_pad_Q_2     -13.02157                   -0.36775  \n",
       "cl_metal_Q_2                  -0.18323                   -0.16772  \n",
       "ground_main_plane            -33.95590                  -35.44376  \n",
       "pad_bot_Q_2                  -32.88377                   -1.84022  \n",
       "pad_top_Q_2                   99.75772                  -15.76908  \n",
       "readout_connector_pad_Q_2    -15.76908                   54.65248  "
      ]
     },
     "execution_count": 57,
     "metadata": {},
     "output_type": "execute_result"
    }
   ],
   "source": [
    "c1.sim.capacitance_matrix"
   ]
  },
  {
   "cell_type": "code",
   "execution_count": 59,
   "id": "8bb740e0-5125-449b-be29-2dda9a9a5b78",
   "metadata": {},
   "outputs": [
    {
     "name": "stdout",
     "output_type": "stream",
     "text": [
      "[4, 5] [6 0 1 2]\n",
      "Predicted Values\n",
      "\n",
      "Transmon Properties\n",
      "f_Q 5.085515 [GHz]\n",
      "EC 289.120503 [MHz]\n",
      "EJ 12.568892 [GHz]\n",
      "alpha -336.417043 [MHz]\n",
      "dispersion 36.370505 [KHz]\n",
      "Lq 12.994758 [nH]\n",
      "Cq 66.997075 [fF]\n",
      "T1 93.337020 [us]\n",
      "\n",
      "**Coupling Properties**\n",
      "\n",
      "tCqbus1 -6.396069 [fF]\n",
      "gbus1_in_MHz -95.015374 [MHz]\n",
      "χ_bus1 -1.452350 [MHz]\n",
      "1/T1bus1 1221.184558 [Hz]\n",
      "T1bus1 130.328329 [us]\n",
      "\n",
      "tCqbus2 6.855168 [fF]\n",
      "gbus2_in_MHz 90.298763 [MHz]\n",
      "χ_bus2 -3.437206 [MHz]\n",
      "1/T1bus2 330.593087 [Hz]\n",
      "T1bus2 481.422478 [us]\n",
      "\n",
      "tCqbus3 -5.343944 [fF]\n",
      "gbus3_in_MHz -72.668223 [MHz]\n",
      "χ_bus3 -1.665015 [MHz]\n",
      "1/T1bus3 153.386296 [Hz]\n",
      "T1bus3 1037.608623 [us]\n",
      "\n",
      "tCqbus4 -0.012620 [fF]\n",
      "gbus4_in_MHz -0.220757 [MHz]\n",
      "χ_bus4 -0.000003 [MHz]\n",
      "1/T1bus4 0.000241 [Hz]\n",
      "T1bus4 659140660.880306 [us]\n",
      "Bus-Bus Couplings\n",
      "gbus1_2 6.413144 [MHz]\n",
      "gbus1_3 6.770356 [MHz]\n",
      "gbus1_4 0.765896 [MHz]\n",
      "gbus2_3 5.279674 [MHz]\n",
      "gbus2_4 0.156136 [MHz]\n",
      "gbus3_4 0.152296 [MHz]\n"
     ]
    },
    {
     "data": {
      "text/html": [
       "<div>\n",
       "<style scoped>\n",
       "    .dataframe tbody tr th:only-of-type {\n",
       "        vertical-align: middle;\n",
       "    }\n",
       "\n",
       "    .dataframe tbody tr th {\n",
       "        vertical-align: top;\n",
       "    }\n",
       "\n",
       "    .dataframe thead th {\n",
       "        text-align: right;\n",
       "    }\n",
       "</style>\n",
       "<table border=\"1\" class=\"dataframe\">\n",
       "  <thead>\n",
       "    <tr style=\"text-align: right;\">\n",
       "      <th></th>\n",
       "      <th>fQ</th>\n",
       "      <th>EC</th>\n",
       "      <th>EJ</th>\n",
       "      <th>alpha</th>\n",
       "      <th>dispersion</th>\n",
       "      <th>gbus</th>\n",
       "      <th>chi_in_MHz</th>\n",
       "      <th>χr MHz</th>\n",
       "      <th>gr MHz</th>\n",
       "    </tr>\n",
       "  </thead>\n",
       "  <tbody>\n",
       "    <tr>\n",
       "      <th>1</th>\n",
       "      <td>5.490353</td>\n",
       "      <td>340.778313</td>\n",
       "      <td>12.568892</td>\n",
       "      <td>-403.515249</td>\n",
       "      <td>149.368207</td>\n",
       "      <td>[-83.32499734328606, 70.20803991275632, -68.73...</td>\n",
       "      <td>[-1.9771678089865536, -5.065885507553866, -3.2...</td>\n",
       "      <td>1.977168</td>\n",
       "      <td>83.324997</td>\n",
       "    </tr>\n",
       "    <tr>\n",
       "      <th>2</th>\n",
       "      <td>5.400636</td>\n",
       "      <td>328.904592</td>\n",
       "      <td>12.568892</td>\n",
       "      <td>-387.902386</td>\n",
       "      <td>111.271344</td>\n",
       "      <td>[-88.87994105579673, 83.10205323226624, -65.24...</td>\n",
       "      <td>[-1.969361763592383, -5.68644445226323, -2.406...</td>\n",
       "      <td>1.969362</td>\n",
       "      <td>88.879941</td>\n",
       "    </tr>\n",
       "    <tr>\n",
       "      <th>3</th>\n",
       "      <td>5.302422</td>\n",
       "      <td>316.18627</td>\n",
       "      <td>12.568892</td>\n",
       "      <td>-371.30605</td>\n",
       "      <td>79.677209</td>\n",
       "      <td>[-89.08117339158345, 83.65676045758448, -66.95...</td>\n",
       "      <td>[-1.7180546087460529, -4.603793422131981, -2.0...</td>\n",
       "      <td>1.718055</td>\n",
       "      <td>89.081173</td>\n",
       "    </tr>\n",
       "    <tr>\n",
       "      <th>4</th>\n",
       "      <td>5.24514</td>\n",
       "      <td>308.902543</td>\n",
       "      <td>12.568892</td>\n",
       "      <td>-361.859906</td>\n",
       "      <td>65.189763</td>\n",
       "      <td>[-88.9586552084577, 84.9078366140514, -68.7209...</td>\n",
       "      <td>[-1.5812048583377842, -4.190984550221186, -1.9...</td>\n",
       "      <td>1.581205</td>\n",
       "      <td>88.958655</td>\n",
       "    </tr>\n",
       "    <tr>\n",
       "      <th>5</th>\n",
       "      <td>5.191217</td>\n",
       "      <td>302.135565</td>\n",
       "      <td>12.568892</td>\n",
       "      <td>-353.121753</td>\n",
       "      <td>53.745851</td>\n",
       "      <td>[-90.38830308852756, 85.28878940100674, -69.37...</td>\n",
       "      <td>[-1.5155380776331309, -3.7801913932243565, -1....</td>\n",
       "      <td>1.515538</td>\n",
       "      <td>90.388303</td>\n",
       "    </tr>\n",
       "    <tr>\n",
       "      <th>6</th>\n",
       "      <td>5.164648</td>\n",
       "      <td>298.833047</td>\n",
       "      <td>12.568892</td>\n",
       "      <td>-348.87039</td>\n",
       "      <td>48.795642</td>\n",
       "      <td>[-92.12496863783473, 86.47841254896922, -69.86...</td>\n",
       "      <td>[-1.5183765856019555, -3.6826402727643437, -1....</td>\n",
       "      <td>1.518377</td>\n",
       "      <td>92.124969</td>\n",
       "    </tr>\n",
       "    <tr>\n",
       "      <th>7</th>\n",
       "      <td>5.143348</td>\n",
       "      <td>296.200609</td>\n",
       "      <td>12.568892</td>\n",
       "      <td>-345.487783</td>\n",
       "      <td>45.125364</td>\n",
       "      <td>[-92.59869137173482, 87.5898576162329, -70.642...</td>\n",
       "      <td>[-1.4904513563834696, -3.6205512237123236, -1....</td>\n",
       "      <td>1.490451</td>\n",
       "      <td>92.598691</td>\n",
       "    </tr>\n",
       "    <tr>\n",
       "      <th>8</th>\n",
       "      <td>5.129881</td>\n",
       "      <td>294.543151</td>\n",
       "      <td>12.568892</td>\n",
       "      <td>-343.360793</td>\n",
       "      <td>42.933948</td>\n",
       "      <td>[-93.32157562653495, 88.15246375216117, -71.06...</td>\n",
       "      <td>[-1.4866064663937781, -3.5708686342571245, -1....</td>\n",
       "      <td>1.486606</td>\n",
       "      <td>93.321576</td>\n",
       "    </tr>\n",
       "    <tr>\n",
       "      <th>9</th>\n",
       "      <td>5.115452</td>\n",
       "      <td>292.773213</td>\n",
       "      <td>12.568892</td>\n",
       "      <td>-341.091839</td>\n",
       "      <td>40.691864</td>\n",
       "      <td>[-93.65252828909544, 88.57707977500864, -71.19...</td>\n",
       "      <td>[-1.468465132173961, -3.5047717861333125, -1.6...</td>\n",
       "      <td>1.468465</td>\n",
       "      <td>93.652528</td>\n",
       "    </tr>\n",
       "    <tr>\n",
       "      <th>10</th>\n",
       "      <td>5.110521</td>\n",
       "      <td>292.169751</td>\n",
       "      <td>12.568892</td>\n",
       "      <td>-340.318799</td>\n",
       "      <td>39.949975</td>\n",
       "      <td>[-94.03798858451445, 89.06508357312549, -71.65...</td>\n",
       "      <td>[-1.4708404494581946, -3.509586590227957, -1.6...</td>\n",
       "      <td>1.470840</td>\n",
       "      <td>94.037989</td>\n",
       "    </tr>\n",
       "    <tr>\n",
       "      <th>11</th>\n",
       "      <td>5.103776</td>\n",
       "      <td>291.345407</td>\n",
       "      <td>12.568892</td>\n",
       "      <td>-339.263268</td>\n",
       "      <td>38.954683</td>\n",
       "      <td>[-94.31997645034726, 89.39403032805646, -72.04...</td>\n",
       "      <td>[-1.4663990647441927, -3.4895097215980737, -1....</td>\n",
       "      <td>1.466399</td>\n",
       "      <td>94.319976</td>\n",
       "    </tr>\n",
       "    <tr>\n",
       "      <th>12</th>\n",
       "      <td>5.09691</td>\n",
       "      <td>290.507739</td>\n",
       "      <td>12.568892</td>\n",
       "      <td>-338.191221</td>\n",
       "      <td>37.964451</td>\n",
       "      <td>[-94.50516823123691, 89.6846178309436, -72.180...</td>\n",
       "      <td>[-1.4587443340951345, -3.46585509183502, -1.67...</td>\n",
       "      <td>1.458744</td>\n",
       "      <td>94.505168</td>\n",
       "    </tr>\n",
       "    <tr>\n",
       "      <th>13</th>\n",
       "      <td>5.093687</td>\n",
       "      <td>290.11503</td>\n",
       "      <td>12.568892</td>\n",
       "      <td>-337.688821</td>\n",
       "      <td>37.507459</td>\n",
       "      <td>[-94.70697708976574, 89.89977877122854, -72.34...</td>\n",
       "      <td>[-1.4587063207782973, -3.460905073153348, -1.6...</td>\n",
       "      <td>1.458706</td>\n",
       "      <td>94.706977</td>\n",
       "    </tr>\n",
       "    <tr>\n",
       "      <th>14</th>\n",
       "      <td>5.090804</td>\n",
       "      <td>289.763866</td>\n",
       "      <td>12.568892</td>\n",
       "      <td>-337.239672</td>\n",
       "      <td>37.102685</td>\n",
       "      <td>[-94.84780251391585, 90.09608624404034, -72.56...</td>\n",
       "      <td>[-1.4574431576879492, -3.4567697140411533, -1....</td>\n",
       "      <td>1.457443</td>\n",
       "      <td>94.847803</td>\n",
       "    </tr>\n",
       "    <tr>\n",
       "      <th>15</th>\n",
       "      <td>5.086667</td>\n",
       "      <td>289.260542</td>\n",
       "      <td>12.568892</td>\n",
       "      <td>-336.596074</td>\n",
       "      <td>36.528847</td>\n",
       "      <td>[-94.93658424821119, 90.20475524702321, -72.58...</td>\n",
       "      <td>[-1.4521629946676848, -3.4376489201138005, -1....</td>\n",
       "      <td>1.452163</td>\n",
       "      <td>94.936584</td>\n",
       "    </tr>\n",
       "    <tr>\n",
       "      <th>16</th>\n",
       "      <td>5.085515</td>\n",
       "      <td>289.120503</td>\n",
       "      <td>12.568892</td>\n",
       "      <td>-336.417043</td>\n",
       "      <td>36.370505</td>\n",
       "      <td>[-95.01537409019762, 90.29876326563902, -72.66...</td>\n",
       "      <td>[-1.4523500231435869, -3.4372056635779265, -1....</td>\n",
       "      <td>1.452350</td>\n",
       "      <td>95.015374</td>\n",
       "    </tr>\n",
       "  </tbody>\n",
       "</table>\n",
       "</div>"
      ],
      "text/plain": [
       "          fQ          EC         EJ       alpha  dispersion  \\\n",
       "1   5.490353  340.778313  12.568892 -403.515249  149.368207   \n",
       "2   5.400636  328.904592  12.568892 -387.902386  111.271344   \n",
       "3   5.302422   316.18627  12.568892  -371.30605   79.677209   \n",
       "4    5.24514  308.902543  12.568892 -361.859906   65.189763   \n",
       "5   5.191217  302.135565  12.568892 -353.121753   53.745851   \n",
       "6   5.164648  298.833047  12.568892  -348.87039   48.795642   \n",
       "7   5.143348  296.200609  12.568892 -345.487783   45.125364   \n",
       "8   5.129881  294.543151  12.568892 -343.360793   42.933948   \n",
       "9   5.115452  292.773213  12.568892 -341.091839   40.691864   \n",
       "10  5.110521  292.169751  12.568892 -340.318799   39.949975   \n",
       "11  5.103776  291.345407  12.568892 -339.263268   38.954683   \n",
       "12   5.09691  290.507739  12.568892 -338.191221   37.964451   \n",
       "13  5.093687   290.11503  12.568892 -337.688821   37.507459   \n",
       "14  5.090804  289.763866  12.568892 -337.239672   37.102685   \n",
       "15  5.086667  289.260542  12.568892 -336.596074   36.528847   \n",
       "16  5.085515  289.120503  12.568892 -336.417043   36.370505   \n",
       "\n",
       "                                                 gbus  \\\n",
       "1   [-83.32499734328606, 70.20803991275632, -68.73...   \n",
       "2   [-88.87994105579673, 83.10205323226624, -65.24...   \n",
       "3   [-89.08117339158345, 83.65676045758448, -66.95...   \n",
       "4   [-88.9586552084577, 84.9078366140514, -68.7209...   \n",
       "5   [-90.38830308852756, 85.28878940100674, -69.37...   \n",
       "6   [-92.12496863783473, 86.47841254896922, -69.86...   \n",
       "7   [-92.59869137173482, 87.5898576162329, -70.642...   \n",
       "8   [-93.32157562653495, 88.15246375216117, -71.06...   \n",
       "9   [-93.65252828909544, 88.57707977500864, -71.19...   \n",
       "10  [-94.03798858451445, 89.06508357312549, -71.65...   \n",
       "11  [-94.31997645034726, 89.39403032805646, -72.04...   \n",
       "12  [-94.50516823123691, 89.6846178309436, -72.180...   \n",
       "13  [-94.70697708976574, 89.89977877122854, -72.34...   \n",
       "14  [-94.84780251391585, 90.09608624404034, -72.56...   \n",
       "15  [-94.93658424821119, 90.20475524702321, -72.58...   \n",
       "16  [-95.01537409019762, 90.29876326563902, -72.66...   \n",
       "\n",
       "                                           chi_in_MHz    χr MHz     gr MHz  \n",
       "1   [-1.9771678089865536, -5.065885507553866, -3.2...  1.977168  83.324997  \n",
       "2   [-1.969361763592383, -5.68644445226323, -2.406...  1.969362  88.879941  \n",
       "3   [-1.7180546087460529, -4.603793422131981, -2.0...  1.718055  89.081173  \n",
       "4   [-1.5812048583377842, -4.190984550221186, -1.9...  1.581205  88.958655  \n",
       "5   [-1.5155380776331309, -3.7801913932243565, -1....  1.515538  90.388303  \n",
       "6   [-1.5183765856019555, -3.6826402727643437, -1....  1.518377  92.124969  \n",
       "7   [-1.4904513563834696, -3.6205512237123236, -1....  1.490451  92.598691  \n",
       "8   [-1.4866064663937781, -3.5708686342571245, -1....  1.486606  93.321576  \n",
       "9   [-1.468465132173961, -3.5047717861333125, -1.6...  1.468465  93.652528  \n",
       "10  [-1.4708404494581946, -3.509586590227957, -1.6...  1.470840  94.037989  \n",
       "11  [-1.4663990647441927, -3.4895097215980737, -1....  1.466399  94.319976  \n",
       "12  [-1.4587443340951345, -3.46585509183502, -1.67...  1.458744  94.505168  \n",
       "13  [-1.4587063207782973, -3.460905073153348, -1.6...  1.458706  94.706977  \n",
       "14  [-1.4574431576879492, -3.4567697140411533, -1....  1.457443  94.847803  \n",
       "15  [-1.4521629946676848, -3.4376489201138005, -1....  1.452163  94.936584  \n",
       "16  [-1.4523500231435869, -3.4372056635779265, -1....  1.452350  95.015374  "
      ]
     },
     "execution_count": 59,
     "metadata": {},
     "output_type": "execute_result"
    }
   ],
   "source": [
    "c1.setup.junctions = Dict({'Lj': 13, 'Cj': 4})\n",
    "c1.setup.freq_readout = 7\n",
    "c1.setup.freq_bus = [6.2, 6.4, 8.2]  \n",
    "\n",
    "c1.run_lom()\n",
    "c1.lumped_oscillator_all"
   ]
  },
  {
   "cell_type": "code",
   "execution_count": 60,
   "id": "aafffc22-1719-458e-b50b-94f22f02c5c2",
   "metadata": {},
   "outputs": [],
   "source": [
    "Q_2.options.pad_gap = '28um'\n",
    "Q_2.options.connection_pads.readout.pad_gap = '15um'\n",
    "Q_2.options.connection_pads.readout.pad_width = '130um'\n",
    "Q_2.options.connection_pads.bus_23.pad_width = '100um'\n",
    "Q_2.options.connection_pads.bus_24.pad_width = '110um'\n",
    "\n",
    "gui.rebuild()"
   ]
  },
  {
   "cell_type": "code",
   "execution_count": 61,
   "id": "157a4a3f-30e7-431e-a399-d2b6cfda639f",
   "metadata": {},
   "outputs": [],
   "source": [
    "c1.sim.renderer.clean_active_design()"
   ]
  },
  {
   "cell_type": "code",
   "execution_count": 62,
   "id": "b45b614f-6b12-4f84-8eea-851486c6523e",
   "metadata": {},
   "outputs": [
    {
     "name": "stderr",
     "output_type": "stream",
     "text": [
      "INFO 08:29PM [connect_design]: \tOpened active design\n",
      "\tDesign:    Q_2_q3d [Solution type: Q3D]\n",
      "INFO 08:29PM [get_setup]: \tOpened setup `Tune_Q_2`  (<class 'pyEPR.ansys.AnsysQ3DSetup'>)\n",
      "INFO 08:29PM [analyze]: Analyzing setup Tune_Q_2\n",
      "INFO 08:32PM [get_matrix]: Exporting matrix data to (C:\\Users\\user\\AppData\\Local\\Temp\\tmpogio_wik.txt, C, , Tune_Q_2:LastAdaptive, \"Original\", \"ohm\", \"nH\", \"fF\", \"mSie\", 5000000000, Maxwell, 1, False\n",
      "INFO 08:32PM [get_matrix]: Exporting matrix data to (C:\\Users\\user\\AppData\\Local\\Temp\\tmpexhkejco.txt, C, , Tune_Q_2:AdaptivePass, \"Original\", \"ohm\", \"nH\", \"fF\", \"mSie\", 5000000000, Maxwell, 1, False\n",
      "INFO 08:32PM [get_matrix]: Exporting matrix data to (C:\\Users\\user\\AppData\\Local\\Temp\\tmpzr65wi26.txt, C, , Tune_Q_2:AdaptivePass, \"Original\", \"ohm\", \"nH\", \"fF\", \"mSie\", 5000000000, Maxwell, 2, False\n",
      "INFO 08:32PM [get_matrix]: Exporting matrix data to (C:\\Users\\user\\AppData\\Local\\Temp\\tmpnmg55vzw.txt, C, , Tune_Q_2:AdaptivePass, \"Original\", \"ohm\", \"nH\", \"fF\", \"mSie\", 5000000000, Maxwell, 3, False\n",
      "INFO 08:32PM [get_matrix]: Exporting matrix data to (C:\\Users\\user\\AppData\\Local\\Temp\\tmpmg4sptm4.txt, C, , Tune_Q_2:AdaptivePass, \"Original\", \"ohm\", \"nH\", \"fF\", \"mSie\", 5000000000, Maxwell, 4, False\n",
      "INFO 08:32PM [get_matrix]: Exporting matrix data to (C:\\Users\\user\\AppData\\Local\\Temp\\tmpm9egywhg.txt, C, , Tune_Q_2:AdaptivePass, \"Original\", \"ohm\", \"nH\", \"fF\", \"mSie\", 5000000000, Maxwell, 5, False\n",
      "INFO 08:32PM [get_matrix]: Exporting matrix data to (C:\\Users\\user\\AppData\\Local\\Temp\\tmpl39thgoq.txt, C, , Tune_Q_2:AdaptivePass, \"Original\", \"ohm\", \"nH\", \"fF\", \"mSie\", 5000000000, Maxwell, 6, False\n",
      "INFO 08:32PM [get_matrix]: Exporting matrix data to (C:\\Users\\user\\AppData\\Local\\Temp\\tmp9bjqo29m.txt, C, , Tune_Q_2:AdaptivePass, \"Original\", \"ohm\", \"nH\", \"fF\", \"mSie\", 5000000000, Maxwell, 7, False\n",
      "INFO 08:32PM [get_matrix]: Exporting matrix data to (C:\\Users\\user\\AppData\\Local\\Temp\\tmprcu7k8uy.txt, C, , Tune_Q_2:AdaptivePass, \"Original\", \"ohm\", \"nH\", \"fF\", \"mSie\", 5000000000, Maxwell, 8, False\n",
      "INFO 08:32PM [get_matrix]: Exporting matrix data to (C:\\Users\\user\\AppData\\Local\\Temp\\tmp26d9al7v.txt, C, , Tune_Q_2:AdaptivePass, \"Original\", \"ohm\", \"nH\", \"fF\", \"mSie\", 5000000000, Maxwell, 9, False\n",
      "INFO 08:32PM [get_matrix]: Exporting matrix data to (C:\\Users\\user\\AppData\\Local\\Temp\\tmpkpyfh1oa.txt, C, , Tune_Q_2:AdaptivePass, \"Original\", \"ohm\", \"nH\", \"fF\", \"mSie\", 5000000000, Maxwell, 10, False\n",
      "INFO 08:32PM [get_matrix]: Exporting matrix data to (C:\\Users\\user\\AppData\\Local\\Temp\\tmptqa797_p.txt, C, , Tune_Q_2:AdaptivePass, \"Original\", \"ohm\", \"nH\", \"fF\", \"mSie\", 5000000000, Maxwell, 11, False\n",
      "INFO 08:32PM [get_matrix]: Exporting matrix data to (C:\\Users\\user\\AppData\\Local\\Temp\\tmp627sz7rf.txt, C, , Tune_Q_2:AdaptivePass, \"Original\", \"ohm\", \"nH\", \"fF\", \"mSie\", 5000000000, Maxwell, 12, False\n",
      "INFO 08:32PM [get_matrix]: Exporting matrix data to (C:\\Users\\user\\AppData\\Local\\Temp\\tmpc_qnhn3b.txt, C, , Tune_Q_2:AdaptivePass, \"Original\", \"ohm\", \"nH\", \"fF\", \"mSie\", 5000000000, Maxwell, 13, False\n",
      "INFO 08:32PM [get_matrix]: Exporting matrix data to (C:\\Users\\user\\AppData\\Local\\Temp\\tmpdlaakw24.txt, C, , Tune_Q_2:AdaptivePass, \"Original\", \"ohm\", \"nH\", \"fF\", \"mSie\", 5000000000, Maxwell, 14, False\n",
      "INFO 08:32PM [get_matrix]: Exporting matrix data to (C:\\Users\\user\\AppData\\Local\\Temp\\tmphlaq9no2.txt, C, , Tune_Q_2:AdaptivePass, \"Original\", \"ohm\", \"nH\", \"fF\", \"mSie\", 5000000000, Maxwell, 15, False\n",
      "INFO 08:32PM [get_matrix]: Exporting matrix data to (C:\\Users\\user\\AppData\\Local\\Temp\\tmp43z6x57l.txt, C, , Tune_Q_2:AdaptivePass, \"Original\", \"ohm\", \"nH\", \"fF\", \"mSie\", 5000000000, Maxwell, 16, False\n",
      "INFO 08:32PM [get_matrix]: Exporting matrix data to (C:\\Users\\user\\AppData\\Local\\Temp\\tmp0_yu2iob.txt, C, , Tune_Q_2:AdaptivePass, \"Original\", \"ohm\", \"nH\", \"fF\", \"mSie\", 5000000000, Maxwell, 17, False\n"
     ]
    }
   ],
   "source": [
    "c1.sim.run(name=\"Q_2\", components=['Q_2'], open_terminations=[('Q_2', 'readout'), ('Q_2', 'bus_23'),('Q_2', 'bus_24'), ('Q_2', 'Charge_Line')])\n"
   ]
  },
  {
   "cell_type": "code",
   "execution_count": 63,
   "id": "0144f05b-5a07-4968-a630-7027119a2fe7",
   "metadata": {},
   "outputs": [
    {
     "data": {
      "text/html": [
       "<div>\n",
       "<style scoped>\n",
       "    .dataframe tbody tr th:only-of-type {\n",
       "        vertical-align: middle;\n",
       "    }\n",
       "\n",
       "    .dataframe tbody tr th {\n",
       "        vertical-align: top;\n",
       "    }\n",
       "\n",
       "    .dataframe thead th {\n",
       "        text-align: right;\n",
       "    }\n",
       "</style>\n",
       "<table border=\"1\" class=\"dataframe\">\n",
       "  <thead>\n",
       "    <tr style=\"text-align: right;\">\n",
       "      <th></th>\n",
       "      <th>bus_23_connector_pad_Q_2</th>\n",
       "      <th>bus_24_connector_pad_Q_2</th>\n",
       "      <th>cl_metal_Q_2</th>\n",
       "      <th>ground_main_plane</th>\n",
       "      <th>pad_bot_Q_2</th>\n",
       "      <th>pad_top_Q_2</th>\n",
       "      <th>readout_connector_pad_Q_2</th>\n",
       "    </tr>\n",
       "  </thead>\n",
       "  <tbody>\n",
       "    <tr>\n",
       "      <th>bus_23_connector_pad_Q_2</th>\n",
       "      <td>48.71723</td>\n",
       "      <td>-0.30187</td>\n",
       "      <td>-0.00733</td>\n",
       "      <td>-32.95609</td>\n",
       "      <td>-13.18842</td>\n",
       "      <td>-1.38282</td>\n",
       "      <td>-0.12054</td>\n",
       "    </tr>\n",
       "    <tr>\n",
       "      <th>bus_24_connector_pad_Q_2</th>\n",
       "      <td>-0.30187</td>\n",
       "      <td>50.24805</td>\n",
       "      <td>-0.00875</td>\n",
       "      <td>-33.31854</td>\n",
       "      <td>-1.48481</td>\n",
       "      <td>-14.01941</td>\n",
       "      <td>-0.33811</td>\n",
       "    </tr>\n",
       "    <tr>\n",
       "      <th>cl_metal_Q_2</th>\n",
       "      <td>-0.00733</td>\n",
       "      <td>-0.00875</td>\n",
       "      <td>16.52084</td>\n",
       "      <td>-15.94498</td>\n",
       "      <td>-0.13764</td>\n",
       "      <td>-0.18436</td>\n",
       "      <td>-0.16529</td>\n",
       "    </tr>\n",
       "    <tr>\n",
       "      <th>ground_main_plane</th>\n",
       "      <td>-32.95609</td>\n",
       "      <td>-33.31854</td>\n",
       "      <td>-15.94498</td>\n",
       "      <td>248.70603</td>\n",
       "      <td>-39.32829</td>\n",
       "      <td>-34.21389</td>\n",
       "      <td>-34.55853</td>\n",
       "    </tr>\n",
       "    <tr>\n",
       "      <th>pad_bot_Q_2</th>\n",
       "      <td>-13.18842</td>\n",
       "      <td>-1.48481</td>\n",
       "      <td>-0.13764</td>\n",
       "      <td>-39.32829</td>\n",
       "      <td>91.62291</td>\n",
       "      <td>-32.96730</td>\n",
       "      <td>-1.69337</td>\n",
       "    </tr>\n",
       "    <tr>\n",
       "      <th>pad_top_Q_2</th>\n",
       "      <td>-1.38282</td>\n",
       "      <td>-14.01941</td>\n",
       "      <td>-0.18436</td>\n",
       "      <td>-34.21389</td>\n",
       "      <td>-32.96730</td>\n",
       "      <td>99.36449</td>\n",
       "      <td>-14.08727</td>\n",
       "    </tr>\n",
       "    <tr>\n",
       "      <th>readout_connector_pad_Q_2</th>\n",
       "      <td>-0.12054</td>\n",
       "      <td>-0.33811</td>\n",
       "      <td>-0.16529</td>\n",
       "      <td>-34.55853</td>\n",
       "      <td>-1.69337</td>\n",
       "      <td>-14.08727</td>\n",
       "      <td>51.82529</td>\n",
       "    </tr>\n",
       "  </tbody>\n",
       "</table>\n",
       "</div>"
      ],
      "text/plain": [
       "                           bus_23_connector_pad_Q_2  bus_24_connector_pad_Q_2  \\\n",
       "bus_23_connector_pad_Q_2                   48.71723                  -0.30187   \n",
       "bus_24_connector_pad_Q_2                   -0.30187                  50.24805   \n",
       "cl_metal_Q_2                               -0.00733                  -0.00875   \n",
       "ground_main_plane                         -32.95609                 -33.31854   \n",
       "pad_bot_Q_2                               -13.18842                  -1.48481   \n",
       "pad_top_Q_2                                -1.38282                 -14.01941   \n",
       "readout_connector_pad_Q_2                  -0.12054                  -0.33811   \n",
       "\n",
       "                           cl_metal_Q_2  ground_main_plane  pad_bot_Q_2  \\\n",
       "bus_23_connector_pad_Q_2       -0.00733          -32.95609    -13.18842   \n",
       "bus_24_connector_pad_Q_2       -0.00875          -33.31854     -1.48481   \n",
       "cl_metal_Q_2                   16.52084          -15.94498     -0.13764   \n",
       "ground_main_plane             -15.94498          248.70603    -39.32829   \n",
       "pad_bot_Q_2                    -0.13764          -39.32829     91.62291   \n",
       "pad_top_Q_2                    -0.18436          -34.21389    -32.96730   \n",
       "readout_connector_pad_Q_2      -0.16529          -34.55853     -1.69337   \n",
       "\n",
       "                           pad_top_Q_2  readout_connector_pad_Q_2  \n",
       "bus_23_connector_pad_Q_2      -1.38282                   -0.12054  \n",
       "bus_24_connector_pad_Q_2     -14.01941                   -0.33811  \n",
       "cl_metal_Q_2                  -0.18436                   -0.16529  \n",
       "ground_main_plane            -34.21389                  -34.55853  \n",
       "pad_bot_Q_2                  -32.96730                   -1.69337  \n",
       "pad_top_Q_2                   99.36449                  -14.08727  \n",
       "readout_connector_pad_Q_2    -14.08727                   51.82529  "
      ]
     },
     "execution_count": 63,
     "metadata": {},
     "output_type": "execute_result"
    }
   ],
   "source": [
    "\n",
    "c1.sim.capacitance_matrix"
   ]
  },
  {
   "cell_type": "code",
   "execution_count": 65,
   "id": "10640aa9-b9f5-467a-9615-653b6fbae834",
   "metadata": {},
   "outputs": [
    {
     "name": "stdout",
     "output_type": "stream",
     "text": [
      "[4, 5] [6 0 1 2]\n",
      "Predicted Values\n",
      "\n",
      "Transmon Properties\n",
      "f_Q 5.032357 [GHz]\n",
      "EC 290.139072 [MHz]\n",
      "EJ 12.285383 [GHz]\n",
      "alpha -338.490609 [MHz]\n",
      "dispersion 44.950370 [KHz]\n",
      "Lq 13.294637 [nH]\n",
      "Cq 66.761874 [fF]\n",
      "T1 121.445551 [us]\n",
      "\n",
      "**Coupling Properties**\n",
      "\n",
      "tCqbus1 -5.666060 [fF]\n",
      "gbus1_in_MHz -83.972211 [MHz]\n",
      "χ_bus1 -1.085929 [MHz]\n",
      "1/T1bus1 892.026897 [Hz]\n",
      "T1bus1 178.419444 [us]\n",
      "\n",
      "tCqbus2 6.393003 [fF]\n",
      "gbus2_in_MHz 83.992867 [MHz]\n",
      "χ_bus2 -2.754768 [MHz]\n",
      "1/T1bus2 257.583026 [Hz]\n",
      "T1bus2 617.878226 [us]\n",
      "\n",
      "tCqbus3 -5.745710 [fF]\n",
      "gbus3_in_MHz -77.891058 [MHz]\n",
      "χ_bus3 -1.792600 [MHz]\n",
      "1/T1bus3 160.894371 [Hz]\n",
      "T1bus3 989.189006 [us]\n",
      "\n",
      "tCqbus4 -0.012527 [fF]\n",
      "gbus4_in_MHz -0.218522 [MHz]\n",
      "χ_bus4 -0.000003 [MHz]\n",
      "1/T1bus4 0.000226 [Hz]\n",
      "T1bus4 704953097.546426 [us]\n",
      "Bus-Bus Couplings\n",
      "gbus1_2 5.439629 [MHz]\n",
      "gbus1_3 6.540941 [MHz]\n",
      "gbus1_4 0.743563 [MHz]\n",
      "gbus2_3 5.343419 [MHz]\n",
      "gbus2_4 0.148016 [MHz]\n",
      "gbus3_4 0.165419 [MHz]\n"
     ]
    },
    {
     "data": {
      "text/html": [
       "<div>\n",
       "<style scoped>\n",
       "    .dataframe tbody tr th:only-of-type {\n",
       "        vertical-align: middle;\n",
       "    }\n",
       "\n",
       "    .dataframe tbody tr th {\n",
       "        vertical-align: top;\n",
       "    }\n",
       "\n",
       "    .dataframe thead th {\n",
       "        text-align: right;\n",
       "    }\n",
       "</style>\n",
       "<table border=\"1\" class=\"dataframe\">\n",
       "  <thead>\n",
       "    <tr style=\"text-align: right;\">\n",
       "      <th></th>\n",
       "      <th>fQ</th>\n",
       "      <th>EC</th>\n",
       "      <th>EJ</th>\n",
       "      <th>alpha</th>\n",
       "      <th>dispersion</th>\n",
       "      <th>gbus</th>\n",
       "      <th>chi_in_MHz</th>\n",
       "      <th>χr MHz</th>\n",
       "      <th>gr MHz</th>\n",
       "    </tr>\n",
       "  </thead>\n",
       "  <tbody>\n",
       "    <tr>\n",
       "      <th>1</th>\n",
       "      <td>5.415706</td>\n",
       "      <td>339.707899</td>\n",
       "      <td>12.285383</td>\n",
       "      <td>-403.164005</td>\n",
       "      <td>171.489552</td>\n",
       "      <td>[-73.30493312429466, 72.14171373969488, -72.02...</td>\n",
       "      <td>[-1.405134539704024, -4.538185617657307, -3.09...</td>\n",
       "      <td>1.405135</td>\n",
       "      <td>73.304933</td>\n",
       "    </tr>\n",
       "    <tr>\n",
       "      <th>2</th>\n",
       "      <td>5.336938</td>\n",
       "      <td>329.150844</td>\n",
       "      <td>12.285383</td>\n",
       "      <td>-389.219027</td>\n",
       "      <td>132.344276</td>\n",
       "      <td>[-78.28461738765378, 78.11095464729816, -70.07...</td>\n",
       "      <td>[-1.4301219104688785, -4.431371647857883, -2.5...</td>\n",
       "      <td>1.430122</td>\n",
       "      <td>78.284617</td>\n",
       "    </tr>\n",
       "    <tr>\n",
       "      <th>3</th>\n",
       "      <td>5.2392</td>\n",
       "      <td>316.320899</td>\n",
       "      <td>12.285383</td>\n",
       "      <td>-372.397589</td>\n",
       "      <td>94.901306</td>\n",
       "      <td>[-78.86174685353404, 77.83935684668597, -71.54...</td>\n",
       "      <td>[-1.2650779242769212, -3.5586074435701534, -2....</td>\n",
       "      <td>1.265078</td>\n",
       "      <td>78.861747</td>\n",
       "    </tr>\n",
       "    <tr>\n",
       "      <th>4</th>\n",
       "      <td>5.173558</td>\n",
       "      <td>307.870069</td>\n",
       "      <td>12.285383</td>\n",
       "      <td>-361.392109</td>\n",
       "      <td>75.360411</td>\n",
       "      <td>[-78.55421573799254, 78.86543151139279, -72.81...</td>\n",
       "      <td>[-1.147178882930613, -3.1916948603245356, -1.9...</td>\n",
       "      <td>1.147179</td>\n",
       "      <td>78.554216</td>\n",
       "    </tr>\n",
       "    <tr>\n",
       "      <th>5</th>\n",
       "      <td>5.135046</td>\n",
       "      <td>302.973726</td>\n",
       "      <td>12.285383</td>\n",
       "      <td>-355.042419</td>\n",
       "      <td>65.642351</td>\n",
       "      <td>[-79.85719011347021, 79.07417837386996, -73.59...</td>\n",
       "      <td>[-1.125427041763564, -2.9717108622060593, -1.9...</td>\n",
       "      <td>1.125427</td>\n",
       "      <td>79.857190</td>\n",
       "    </tr>\n",
       "    <tr>\n",
       "      <th>6</th>\n",
       "      <td>5.103785</td>\n",
       "      <td>299.032644</td>\n",
       "      <td>12.285383</td>\n",
       "      <td>-349.945726</td>\n",
       "      <td>58.591706</td>\n",
       "      <td>[-81.27405744321086, 80.70448707194682, -74.79...</td>\n",
       "      <td>[-1.1179376584933118, -2.912320715319737, -1.8...</td>\n",
       "      <td>1.117938</td>\n",
       "      <td>81.274057</td>\n",
       "    </tr>\n",
       "    <tr>\n",
       "      <th>7</th>\n",
       "      <td>5.088708</td>\n",
       "      <td>297.142482</td>\n",
       "      <td>12.285383</td>\n",
       "      <td>-347.505803</td>\n",
       "      <td>55.438868</td>\n",
       "      <td>[-81.86257478132656, 81.00408197937823, -75.60...</td>\n",
       "      <td>[-1.111658721013479, -2.8500076670306322, -1.8...</td>\n",
       "      <td>1.111659</td>\n",
       "      <td>81.862575</td>\n",
       "    </tr>\n",
       "    <tr>\n",
       "      <th>8</th>\n",
       "      <td>5.074005</td>\n",
       "      <td>295.305863</td>\n",
       "      <td>12.285383</td>\n",
       "      <td>-345.137769</td>\n",
       "      <td>52.510755</td>\n",
       "      <td>[-82.33324463793606, 81.72764601519978, -76.00...</td>\n",
       "      <td>[-1.1027747565658461, -2.820798477883993, -1.8...</td>\n",
       "      <td>1.102775</td>\n",
       "      <td>82.333245</td>\n",
       "    </tr>\n",
       "    <tr>\n",
       "      <th>9</th>\n",
       "      <td>5.060948</td>\n",
       "      <td>293.680408</td>\n",
       "      <td>12.285383</td>\n",
       "      <td>-343.044273</td>\n",
       "      <td>50.026953</td>\n",
       "      <td>[-82.72059318469961, 82.28796438379236, -76.40...</td>\n",
       "      <td>[-1.0941419388267883, -2.7896892966918965, -1....</td>\n",
       "      <td>1.094142</td>\n",
       "      <td>82.720593</td>\n",
       "    </tr>\n",
       "    <tr>\n",
       "      <th>10</th>\n",
       "      <td>5.05725</td>\n",
       "      <td>293.220942</td>\n",
       "      <td>12.285383</td>\n",
       "      <td>-342.452894</td>\n",
       "      <td>49.342735</td>\n",
       "      <td>[-83.1431851060255, 82.67953046408131, -76.812...</td>\n",
       "      <td>[-1.0999746391132437, -2.7967117621336786, -1....</td>\n",
       "      <td>1.099975</td>\n",
       "      <td>83.143185</td>\n",
       "    </tr>\n",
       "    <tr>\n",
       "      <th>11</th>\n",
       "      <td>5.048775</td>\n",
       "      <td>292.169629</td>\n",
       "      <td>12.285383</td>\n",
       "      <td>-341.100386</td>\n",
       "      <td>47.806209</td>\n",
       "      <td>[-83.32300087886433, 82.92422315943176, -77.04...</td>\n",
       "      <td>[-1.0924846319628305, -2.7687913130200794, -1....</td>\n",
       "      <td>1.092485</td>\n",
       "      <td>83.323001</td>\n",
       "    </tr>\n",
       "    <tr>\n",
       "      <th>12</th>\n",
       "      <td>5.0439</td>\n",
       "      <td>291.565827</td>\n",
       "      <td>12.285383</td>\n",
       "      <td>-340.324001</td>\n",
       "      <td>46.941765</td>\n",
       "      <td>[-83.53943354101887, 83.38608225752876, -77.38...</td>\n",
       "      <td>[-1.0911556724376483, -2.774247602093932, -1.8...</td>\n",
       "      <td>1.091156</td>\n",
       "      <td>83.539434</td>\n",
       "    </tr>\n",
       "    <tr>\n",
       "      <th>13</th>\n",
       "      <td>5.040468</td>\n",
       "      <td>291.141212</td>\n",
       "      <td>12.285383</td>\n",
       "      <td>-339.778196</td>\n",
       "      <td>46.341632</td>\n",
       "      <td>[-83.71385850218041, 83.57260631351059, -77.54...</td>\n",
       "      <td>[-1.0907924139200247, -2.7688400111700924, -1....</td>\n",
       "      <td>1.090792</td>\n",
       "      <td>83.713859</td>\n",
       "    </tr>\n",
       "    <tr>\n",
       "      <th>14</th>\n",
       "      <td>5.036699</td>\n",
       "      <td>290.67525</td>\n",
       "      <td>12.285383</td>\n",
       "      <td>-339.17941</td>\n",
       "      <td>45.690376</td>\n",
       "      <td>[-83.81073964685334, 83.6980469736379, -77.665...</td>\n",
       "      <td>[-1.0879275762345866, -2.7576812389807785, -1....</td>\n",
       "      <td>1.087928</td>\n",
       "      <td>83.810740</td>\n",
       "    </tr>\n",
       "    <tr>\n",
       "      <th>15</th>\n",
       "      <td>5.033875</td>\n",
       "      <td>290.326539</td>\n",
       "      <td>12.285383</td>\n",
       "      <td>-338.731412</td>\n",
       "      <td>45.207966</td>\n",
       "      <td>[-83.87757102553839, 83.84098341115315, -77.79...</td>\n",
       "      <td>[-1.0856398648423677, -2.7525853875260684, -1....</td>\n",
       "      <td>1.085640</td>\n",
       "      <td>83.877571</td>\n",
       "    </tr>\n",
       "    <tr>\n",
       "      <th>16</th>\n",
       "      <td>5.032357</td>\n",
       "      <td>290.139072</td>\n",
       "      <td>12.285383</td>\n",
       "      <td>-338.490609</td>\n",
       "      <td>44.95037</td>\n",
       "      <td>[-83.9722107609437, 83.99286654815504, -77.891...</td>\n",
       "      <td>[-1.0859293966088661, -2.7547678873047894, -1....</td>\n",
       "      <td>1.085929</td>\n",
       "      <td>83.972211</td>\n",
       "    </tr>\n",
       "  </tbody>\n",
       "</table>\n",
       "</div>"
      ],
      "text/plain": [
       "          fQ          EC         EJ       alpha  dispersion  \\\n",
       "1   5.415706  339.707899  12.285383 -403.164005  171.489552   \n",
       "2   5.336938  329.150844  12.285383 -389.219027  132.344276   \n",
       "3     5.2392  316.320899  12.285383 -372.397589   94.901306   \n",
       "4   5.173558  307.870069  12.285383 -361.392109   75.360411   \n",
       "5   5.135046  302.973726  12.285383 -355.042419   65.642351   \n",
       "6   5.103785  299.032644  12.285383 -349.945726   58.591706   \n",
       "7   5.088708  297.142482  12.285383 -347.505803   55.438868   \n",
       "8   5.074005  295.305863  12.285383 -345.137769   52.510755   \n",
       "9   5.060948  293.680408  12.285383 -343.044273   50.026953   \n",
       "10   5.05725  293.220942  12.285383 -342.452894   49.342735   \n",
       "11  5.048775  292.169629  12.285383 -341.100386   47.806209   \n",
       "12    5.0439  291.565827  12.285383 -340.324001   46.941765   \n",
       "13  5.040468  291.141212  12.285383 -339.778196   46.341632   \n",
       "14  5.036699   290.67525  12.285383  -339.17941   45.690376   \n",
       "15  5.033875  290.326539  12.285383 -338.731412   45.207966   \n",
       "16  5.032357  290.139072  12.285383 -338.490609    44.95037   \n",
       "\n",
       "                                                 gbus  \\\n",
       "1   [-73.30493312429466, 72.14171373969488, -72.02...   \n",
       "2   [-78.28461738765378, 78.11095464729816, -70.07...   \n",
       "3   [-78.86174685353404, 77.83935684668597, -71.54...   \n",
       "4   [-78.55421573799254, 78.86543151139279, -72.81...   \n",
       "5   [-79.85719011347021, 79.07417837386996, -73.59...   \n",
       "6   [-81.27405744321086, 80.70448707194682, -74.79...   \n",
       "7   [-81.86257478132656, 81.00408197937823, -75.60...   \n",
       "8   [-82.33324463793606, 81.72764601519978, -76.00...   \n",
       "9   [-82.72059318469961, 82.28796438379236, -76.40...   \n",
       "10  [-83.1431851060255, 82.67953046408131, -76.812...   \n",
       "11  [-83.32300087886433, 82.92422315943176, -77.04...   \n",
       "12  [-83.53943354101887, 83.38608225752876, -77.38...   \n",
       "13  [-83.71385850218041, 83.57260631351059, -77.54...   \n",
       "14  [-83.81073964685334, 83.6980469736379, -77.665...   \n",
       "15  [-83.87757102553839, 83.84098341115315, -77.79...   \n",
       "16  [-83.9722107609437, 83.99286654815504, -77.891...   \n",
       "\n",
       "                                           chi_in_MHz    χr MHz     gr MHz  \n",
       "1   [-1.405134539704024, -4.538185617657307, -3.09...  1.405135  73.304933  \n",
       "2   [-1.4301219104688785, -4.431371647857883, -2.5...  1.430122  78.284617  \n",
       "3   [-1.2650779242769212, -3.5586074435701534, -2....  1.265078  78.861747  \n",
       "4   [-1.147178882930613, -3.1916948603245356, -1.9...  1.147179  78.554216  \n",
       "5   [-1.125427041763564, -2.9717108622060593, -1.9...  1.125427  79.857190  \n",
       "6   [-1.1179376584933118, -2.912320715319737, -1.8...  1.117938  81.274057  \n",
       "7   [-1.111658721013479, -2.8500076670306322, -1.8...  1.111659  81.862575  \n",
       "8   [-1.1027747565658461, -2.820798477883993, -1.8...  1.102775  82.333245  \n",
       "9   [-1.0941419388267883, -2.7896892966918965, -1....  1.094142  82.720593  \n",
       "10  [-1.0999746391132437, -2.7967117621336786, -1....  1.099975  83.143185  \n",
       "11  [-1.0924846319628305, -2.7687913130200794, -1....  1.092485  83.323001  \n",
       "12  [-1.0911556724376483, -2.774247602093932, -1.8...  1.091156  83.539434  \n",
       "13  [-1.0907924139200247, -2.7688400111700924, -1....  1.090792  83.713859  \n",
       "14  [-1.0879275762345866, -2.7576812389807785, -1....  1.087928  83.810740  \n",
       "15  [-1.0856398648423677, -2.7525853875260684, -1....  1.085640  83.877571  \n",
       "16  [-1.0859293966088661, -2.7547678873047894, -1....  1.085929  83.972211  "
      ]
     },
     "execution_count": 65,
     "metadata": {},
     "output_type": "execute_result"
    }
   ],
   "source": [
    "c1.setup.junctions = Dict({'Lj': 13.3, 'Cj': 4})\n",
    "c1.setup.freq_readout = 7\n",
    "c1.setup.freq_bus = [6.2, 6.4, 8.2]  \n",
    "\n",
    "c1.run_lom()\n",
    "c1.lumped_oscillator_all"
   ]
  },
  {
   "cell_type": "code",
   "execution_count": 66,
   "id": "2d2ff4ef-e601-47a8-9635-35d518f11f42",
   "metadata": {},
   "outputs": [
    {
     "name": "stderr",
     "output_type": "stream",
     "text": [
      "WARNING:py.warnings:C:\\ProgramData\\Anaconda3\\envs\\qmetal\\lib\\site-packages\\pyEPR\\core_distributed_analysis.py:504: FutureWarning: The default dtype for empty Series will be 'object' instead of 'float64' in a future version. Specify a dtype explicitly to silence this warning.\n",
      "  self._hfss_variables[variation] = pd.Series(\n",
      "\n",
      "INFO 08:39PM [hfss_report_full_convergence]: Creating report for variation 0\n"
     ]
    },
    {
     "name": "stdout",
     "output_type": "stream",
     "text": [
      "Design \"Q_2_q3d\" info:\n",
      "\t# eigenmodes    0\n",
      "\t# variations    1\n"
     ]
    }
   ],
   "source": [
    "c1.plot_convergence();\n",
    "c1.plot_convergence_chi()"
   ]
  },
  {
   "cell_type": "code",
   "execution_count": 67,
   "id": "7ba3ae12-2f79-4ddd-934d-3d44e99b5415",
   "metadata": {},
   "outputs": [],
   "source": [
    "c1.sim.renderer.clean_active_design()"
   ]
  },
  {
   "cell_type": "markdown",
   "id": "bd85f02d-5dfe-4cf1-9e25-a5858b5cf65b",
   "metadata": {},
   "source": [
    "### Tune Q3"
   ]
  },
  {
   "cell_type": "code",
   "execution_count": 38,
   "id": "b847347e-67eb-4799-bf9b-6edb0de830ea",
   "metadata": {},
   "outputs": [
    {
     "data": {
      "text/plain": [
       "{'name': 'Tune_Q_3',\n",
       " 'reuse_selected_design': True,\n",
       " 'reuse_setup': True,\n",
       " 'freq_ghz': 5.2,\n",
       " 'save_fields': False,\n",
       " 'enabled': True,\n",
       " 'max_passes': 16,\n",
       " 'min_passes': 2,\n",
       " 'min_converged_passes': 2,\n",
       " 'percent_error': 0.05,\n",
       " 'percent_refinement': 30,\n",
       " 'auto_increase_solution_order': True,\n",
       " 'solution_order': 'High',\n",
       " 'solver_type': 'Iterative'}"
      ]
     },
     "execution_count": 38,
     "metadata": {},
     "output_type": "execute_result"
    }
   ],
   "source": [
    "c1.sim.setup.name = 'Tune_Q_3'\n",
    "c1.sim.setup.freq_ghz = 5.2\n",
    "c1.sim.setup.max_passes = 16\n",
    "c1.sim.setup.min_converged_passes = 2\n",
    "c1.sim.setup.percent_error = 0.05\n",
    "c1.sim.setup"
   ]
  },
  {
   "cell_type": "code",
   "execution_count": 50,
   "id": "665184e5-3f25-48c2-8887-86c894eee290",
   "metadata": {},
   "outputs": [
    {
     "data": {
      "text/plain": [
       "dict_keys(['bus_13', 'bus_23', 'readout', 'flux_line'])"
      ]
     },
     "execution_count": 50,
     "metadata": {},
     "output_type": "execute_result"
    }
   ],
   "source": [
    "Q_3.pins.keys()"
   ]
  },
  {
   "cell_type": "code",
   "execution_count": 54,
   "id": "efc068a8-4a89-485a-bbfa-1532acbeacb8",
   "metadata": {},
   "outputs": [
    {
     "name": "stderr",
     "output_type": "stream",
     "text": [
      "INFO 04:17AM [connect_design]: \tOpened active design\n",
      "\tDesign:    Q_3_q3d [Solution type: Q3D]\n",
      "INFO 04:17AM [get_setup]: \tOpened setup `Tune_Q_3`  (<class 'pyEPR.ansys.AnsysQ3DSetup'>)\n",
      "INFO 04:17AM [analyze]: Analyzing setup Tune_Q_3\n",
      "INFO 04:21AM [get_matrix]: Exporting matrix data to (C:\\Users\\user\\AppData\\Local\\Temp\\tmp45pb32mi.txt, C, , Tune_Q_3:LastAdaptive, \"Original\", \"ohm\", \"nH\", \"fF\", \"mSie\", 5200000000, Maxwell, 1, False\n",
      "INFO 04:21AM [get_matrix]: Exporting matrix data to (C:\\Users\\user\\AppData\\Local\\Temp\\tmp14gmk84j.txt, C, , Tune_Q_3:AdaptivePass, \"Original\", \"ohm\", \"nH\", \"fF\", \"mSie\", 5200000000, Maxwell, 1, False\n",
      "INFO 04:21AM [get_matrix]: Exporting matrix data to (C:\\Users\\user\\AppData\\Local\\Temp\\tmp_iurwdbo.txt, C, , Tune_Q_3:AdaptivePass, \"Original\", \"ohm\", \"nH\", \"fF\", \"mSie\", 5200000000, Maxwell, 2, False\n",
      "INFO 04:21AM [get_matrix]: Exporting matrix data to (C:\\Users\\user\\AppData\\Local\\Temp\\tmpj4hcb0f8.txt, C, , Tune_Q_3:AdaptivePass, \"Original\", \"ohm\", \"nH\", \"fF\", \"mSie\", 5200000000, Maxwell, 3, False\n",
      "INFO 04:21AM [get_matrix]: Exporting matrix data to (C:\\Users\\user\\AppData\\Local\\Temp\\tmph1ci7hni.txt, C, , Tune_Q_3:AdaptivePass, \"Original\", \"ohm\", \"nH\", \"fF\", \"mSie\", 5200000000, Maxwell, 4, False\n",
      "INFO 04:21AM [get_matrix]: Exporting matrix data to (C:\\Users\\user\\AppData\\Local\\Temp\\tmps6c0hr9b.txt, C, , Tune_Q_3:AdaptivePass, \"Original\", \"ohm\", \"nH\", \"fF\", \"mSie\", 5200000000, Maxwell, 5, False\n",
      "INFO 04:21AM [get_matrix]: Exporting matrix data to (C:\\Users\\user\\AppData\\Local\\Temp\\tmpde56hdsk.txt, C, , Tune_Q_3:AdaptivePass, \"Original\", \"ohm\", \"nH\", \"fF\", \"mSie\", 5200000000, Maxwell, 6, False\n",
      "INFO 04:21AM [get_matrix]: Exporting matrix data to (C:\\Users\\user\\AppData\\Local\\Temp\\tmph9puz6cc.txt, C, , Tune_Q_3:AdaptivePass, \"Original\", \"ohm\", \"nH\", \"fF\", \"mSie\", 5200000000, Maxwell, 7, False\n",
      "INFO 04:21AM [get_matrix]: Exporting matrix data to (C:\\Users\\user\\AppData\\Local\\Temp\\tmp5z2jhs4j.txt, C, , Tune_Q_3:AdaptivePass, \"Original\", \"ohm\", \"nH\", \"fF\", \"mSie\", 5200000000, Maxwell, 8, False\n",
      "INFO 04:21AM [get_matrix]: Exporting matrix data to (C:\\Users\\user\\AppData\\Local\\Temp\\tmp278m1k41.txt, C, , Tune_Q_3:AdaptivePass, \"Original\", \"ohm\", \"nH\", \"fF\", \"mSie\", 5200000000, Maxwell, 9, False\n",
      "INFO 04:21AM [get_matrix]: Exporting matrix data to (C:\\Users\\user\\AppData\\Local\\Temp\\tmpm6dto5tn.txt, C, , Tune_Q_3:AdaptivePass, \"Original\", \"ohm\", \"nH\", \"fF\", \"mSie\", 5200000000, Maxwell, 10, False\n",
      "INFO 04:21AM [get_matrix]: Exporting matrix data to (C:\\Users\\user\\AppData\\Local\\Temp\\tmp85phmqf_.txt, C, , Tune_Q_3:AdaptivePass, \"Original\", \"ohm\", \"nH\", \"fF\", \"mSie\", 5200000000, Maxwell, 11, False\n",
      "INFO 04:21AM [get_matrix]: Exporting matrix data to (C:\\Users\\user\\AppData\\Local\\Temp\\tmpcf0nj8m1.txt, C, , Tune_Q_3:AdaptivePass, \"Original\", \"ohm\", \"nH\", \"fF\", \"mSie\", 5200000000, Maxwell, 12, False\n",
      "INFO 04:21AM [get_matrix]: Exporting matrix data to (C:\\Users\\user\\AppData\\Local\\Temp\\tmpp3wjjlvr.txt, C, , Tune_Q_3:AdaptivePass, \"Original\", \"ohm\", \"nH\", \"fF\", \"mSie\", 5200000000, Maxwell, 13, False\n",
      "INFO 04:21AM [get_matrix]: Exporting matrix data to (C:\\Users\\user\\AppData\\Local\\Temp\\tmp1r5cx6os.txt, C, , Tune_Q_3:AdaptivePass, \"Original\", \"ohm\", \"nH\", \"fF\", \"mSie\", 5200000000, Maxwell, 14, False\n",
      "INFO 04:21AM [get_matrix]: Exporting matrix data to (C:\\Users\\user\\AppData\\Local\\Temp\\tmpnv25n_0_.txt, C, , Tune_Q_3:AdaptivePass, \"Original\", \"ohm\", \"nH\", \"fF\", \"mSie\", 5200000000, Maxwell, 15, False\n",
      "INFO 04:21AM [get_matrix]: Exporting matrix data to (C:\\Users\\user\\AppData\\Local\\Temp\\tmplmfkghts.txt, C, , Tune_Q_3:AdaptivePass, \"Original\", \"ohm\", \"nH\", \"fF\", \"mSie\", 5200000000, Maxwell, 16, False\n",
      "INFO 04:21AM [get_matrix]: Exporting matrix data to (C:\\Users\\user\\AppData\\Local\\Temp\\tmpbw8stqrg.txt, C, , Tune_Q_3:AdaptivePass, \"Original\", \"ohm\", \"nH\", \"fF\", \"mSie\", 5200000000, Maxwell, 17, False\n"
     ]
    }
   ],
   "source": [
    "c1.sim.run(name=\"Q_3\", components=['Q_3','Flux_Line_Q_3'], open_terminations=[('Q_3', 'bus_13'),('Q_3', 'bus_23'), ('Q_3', 'readout')])\n"
   ]
  },
  {
   "cell_type": "code",
   "execution_count": 55,
   "id": "54b11847-8890-42d9-9fe0-53db8a2071eb",
   "metadata": {},
   "outputs": [
    {
     "data": {
      "text/html": [
       "<div>\n",
       "<style scoped>\n",
       "    .dataframe tbody tr th:only-of-type {\n",
       "        vertical-align: middle;\n",
       "    }\n",
       "\n",
       "    .dataframe tbody tr th {\n",
       "        vertical-align: top;\n",
       "    }\n",
       "\n",
       "    .dataframe thead th {\n",
       "        text-align: right;\n",
       "    }\n",
       "</style>\n",
       "<table border=\"1\" class=\"dataframe\">\n",
       "  <thead>\n",
       "    <tr style=\"text-align: right;\">\n",
       "      <th></th>\n",
       "      <th>bus_13_connector_arm_Q_3</th>\n",
       "      <th>bus_23_connector_arm_Q_3</th>\n",
       "      <th>cross_Q_3</th>\n",
       "      <th>g_wb</th>\n",
       "      <th>readout_connector_arm_Q_3</th>\n",
       "    </tr>\n",
       "  </thead>\n",
       "  <tbody>\n",
       "    <tr>\n",
       "      <th>bus_13_connector_arm_Q_3</th>\n",
       "      <td>54.55226</td>\n",
       "      <td>-0.03200</td>\n",
       "      <td>-2.58407</td>\n",
       "      <td>-51.73968</td>\n",
       "      <td>-0.00588</td>\n",
       "    </tr>\n",
       "    <tr>\n",
       "      <th>bus_23_connector_arm_Q_3</th>\n",
       "      <td>-0.03200</td>\n",
       "      <td>54.54221</td>\n",
       "      <td>-2.58618</td>\n",
       "      <td>-51.70293</td>\n",
       "      <td>-0.01515</td>\n",
       "    </tr>\n",
       "    <tr>\n",
       "      <th>cross_Q_3</th>\n",
       "      <td>-2.58407</td>\n",
       "      <td>-2.58618</td>\n",
       "      <td>110.13289</td>\n",
       "      <td>-103.10997</td>\n",
       "      <td>-0.95962</td>\n",
       "    </tr>\n",
       "    <tr>\n",
       "      <th>g_wb</th>\n",
       "      <td>-51.73968</td>\n",
       "      <td>-51.70293</td>\n",
       "      <td>-103.10997</td>\n",
       "      <td>310.47792</td>\n",
       "      <td>-32.19476</td>\n",
       "    </tr>\n",
       "    <tr>\n",
       "      <th>readout_connector_arm_Q_3</th>\n",
       "      <td>-0.00588</td>\n",
       "      <td>-0.01515</td>\n",
       "      <td>-0.95962</td>\n",
       "      <td>-32.19476</td>\n",
       "      <td>33.28561</td>\n",
       "    </tr>\n",
       "  </tbody>\n",
       "</table>\n",
       "</div>"
      ],
      "text/plain": [
       "                           bus_13_connector_arm_Q_3  bus_23_connector_arm_Q_3  \\\n",
       "bus_13_connector_arm_Q_3                   54.55226                  -0.03200   \n",
       "bus_23_connector_arm_Q_3                   -0.03200                  54.54221   \n",
       "cross_Q_3                                  -2.58407                  -2.58618   \n",
       "g_wb                                      -51.73968                 -51.70293   \n",
       "readout_connector_arm_Q_3                  -0.00588                  -0.01515   \n",
       "\n",
       "                           cross_Q_3       g_wb  readout_connector_arm_Q_3  \n",
       "bus_13_connector_arm_Q_3    -2.58407  -51.73968                   -0.00588  \n",
       "bus_23_connector_arm_Q_3    -2.58618  -51.70293                   -0.01515  \n",
       "cross_Q_3                  110.13289 -103.10997                   -0.95962  \n",
       "g_wb                      -103.10997  310.47792                  -32.19476  \n",
       "readout_connector_arm_Q_3   -0.95962  -32.19476                   33.28561  "
      ]
     },
     "execution_count": 55,
     "metadata": {},
     "output_type": "execute_result"
    }
   ],
   "source": [
    "c1.sim.capacitance_matrix\n"
   ]
  },
  {
   "cell_type": "code",
   "execution_count": 56,
   "id": "8066e221-69af-414f-bed9-bfe6f1187629",
   "metadata": {},
   "outputs": [],
   "source": [
    "c1.setup.junctions = Dict({'Lj': 8, 'Cj': 3})  # Qubit parameters\n",
    "c1.setup.freq_readout = 7.2  # Readout frequency\n",
    "c1.setup.freq_bus = [5.8, 6.2]  # Bus frequencies\n"
   ]
  },
  {
   "cell_type": "code",
   "execution_count": 57,
   "id": "d46c744a-fe67-438f-98db-213fbe7a7c9b",
   "metadata": {},
   "outputs": [
    {
     "ename": "ValueError",
     "evalue": "Capacitance matrix is not the right size",
     "output_type": "error",
     "traceback": [
      "\u001b[1;31m---------------------------------------------------------------------------\u001b[0m",
      "\u001b[1;31mValueError\u001b[0m                                Traceback (most recent call last)",
      "Cell \u001b[1;32mIn[57], line 1\u001b[0m\n\u001b[1;32m----> 1\u001b[0m \u001b[43mc1\u001b[49m\u001b[38;5;241;43m.\u001b[39;49m\u001b[43mrun_lom\u001b[49m\u001b[43m(\u001b[49m\u001b[43m)\u001b[49m\n\u001b[0;32m      2\u001b[0m c1\u001b[38;5;241m.\u001b[39mlumped_oscillator_all\n",
      "File \u001b[1;32mC:\\ProgramData\\Anaconda3\\envs\\qmetal\\lib\\site-packages\\qiskit_metal\\analyses\\quantization\\lumped_oscillator_model.py:171\u001b[0m, in \u001b[0;36mLOManalysis.run_lom\u001b[1;34m(self)\u001b[0m\n\u001b[0;32m    169\u001b[0m all_res \u001b[38;5;241m=\u001b[39m {}\n\u001b[0;32m    170\u001b[0m \u001b[38;5;28;01mfor\u001b[39;00m idx_cmat, df_cmat \u001b[38;5;129;01min\u001b[39;00m \u001b[38;5;28mself\u001b[39m\u001b[38;5;241m.\u001b[39msim\u001b[38;5;241m.\u001b[39mcapacitance_all_passes\u001b[38;5;241m.\u001b[39mitems():\n\u001b[1;32m--> 171\u001b[0m     res \u001b[38;5;241m=\u001b[39m \u001b[43mextract_transmon_coupled_Noscillator\u001b[49m\u001b[43m(\u001b[49m\n\u001b[0;32m    172\u001b[0m \u001b[43m        \u001b[49m\u001b[43mdf_cmat\u001b[49m\u001b[43m,\u001b[49m\n\u001b[0;32m    173\u001b[0m \u001b[43m        \u001b[49m\u001b[43mic_amps\u001b[49m\u001b[43m,\u001b[49m\n\u001b[0;32m    174\u001b[0m \u001b[43m        \u001b[49m\u001b[43mcj\u001b[49m\u001b[43m,\u001b[49m\n\u001b[0;32m    175\u001b[0m \u001b[43m        \u001b[49m\u001b[43mnum_cpads\u001b[49m\u001b[43m,\u001b[49m\n\u001b[0;32m    176\u001b[0m \u001b[43m        \u001b[49m\u001b[43mfbus\u001b[49m\u001b[43m,\u001b[49m\n\u001b[0;32m    177\u001b[0m \u001b[43m        \u001b[49m\u001b[43mfread\u001b[49m\u001b[43m,\u001b[49m\n\u001b[0;32m    178\u001b[0m \u001b[43m        \u001b[49m\u001b[43mg_scale\u001b[49m\u001b[38;5;241;43m=\u001b[39;49m\u001b[38;5;241;43m1\u001b[39;49m\u001b[43m,\u001b[49m\n\u001b[0;32m    179\u001b[0m \u001b[43m        \u001b[49m\u001b[43mprint_info\u001b[49m\u001b[38;5;241;43m=\u001b[39;49m\u001b[38;5;28;43mbool\u001b[39;49m\u001b[43m(\u001b[49m\n\u001b[0;32m    180\u001b[0m \u001b[43m            \u001b[49m\u001b[43midx_cmat\u001b[49m\u001b[43m \u001b[49m\u001b[38;5;241;43m==\u001b[39;49m\u001b[43m \u001b[49m\u001b[38;5;28;43mlen\u001b[39;49m\u001b[43m(\u001b[49m\u001b[38;5;28;43mself\u001b[39;49m\u001b[38;5;241;43m.\u001b[39;49m\u001b[43msim\u001b[49m\u001b[38;5;241;43m.\u001b[39;49m\u001b[43mcapacitance_all_passes\u001b[49m\u001b[43m)\u001b[49m\u001b[43m)\u001b[49m\u001b[43m)\u001b[49m\n\u001b[0;32m    181\u001b[0m     all_res[idx_cmat] \u001b[38;5;241m=\u001b[39m res\n\u001b[0;32m    182\u001b[0m \u001b[38;5;28mself\u001b[39m\u001b[38;5;241m.\u001b[39mlumped_oscillator \u001b[38;5;241m=\u001b[39m all_res[\u001b[38;5;28mlen\u001b[39m(\u001b[38;5;28mself\u001b[39m\u001b[38;5;241m.\u001b[39msim\u001b[38;5;241m.\u001b[39mcapacitance_all_passes)]\n",
      "File \u001b[1;32mC:\\ProgramData\\Anaconda3\\envs\\qmetal\\lib\\site-packages\\qiskit_metal\\analyses\\quantization\\lumped_capacitive.py:198\u001b[0m, in \u001b[0;36mextract_transmon_coupled_Noscillator\u001b[1;34m(capMatrix, Ic, CJ, N, fb, fr, res_L4_corr, g_scale, print_info)\u001b[0m\n\u001b[0;32m    196\u001b[0m     \u001b[38;5;28;01mraise\u001b[39;00m \u001b[38;5;167;01mValueError\u001b[39;00m(\u001b[38;5;124m'\u001b[39m\u001b[38;5;124mN must positive\u001b[39m\u001b[38;5;124m'\u001b[39m)\n\u001b[0;32m    197\u001b[0m \u001b[38;5;28;01mif\u001b[39;00m \u001b[38;5;28mlen\u001b[39m(capMatrix) \u001b[38;5;241m!=\u001b[39m (N \u001b[38;5;241m+\u001b[39m \u001b[38;5;241m3\u001b[39m):\n\u001b[1;32m--> 198\u001b[0m     \u001b[38;5;28;01mraise\u001b[39;00m \u001b[38;5;167;01mValueError\u001b[39;00m(\u001b[38;5;124m'\u001b[39m\u001b[38;5;124mCapacitance matrix is not the right size\u001b[39m\u001b[38;5;124m'\u001b[39m)\n\u001b[0;32m    200\u001b[0m \u001b[38;5;66;03m# make list of angular frequencies of resonators\u001b[39;00m\n\u001b[0;32m    201\u001b[0m wr \u001b[38;5;241m=\u001b[39m np\u001b[38;5;241m.\u001b[39mzeros(N)  \u001b[38;5;66;03m# angular freq of resonators (GHz-rad)\u001b[39;00m\n",
      "\u001b[1;31mValueError\u001b[0m: Capacitance matrix is not the right size"
     ]
    }
   ],
   "source": [
    "c1.run_lom()\n",
    "c1.lumped_oscillator_all"
   ]
  },
  {
   "cell_type": "code",
   "execution_count": 115,
   "id": "1165eb0d-8a59-4363-a20e-2371d650d8bf",
   "metadata": {},
   "outputs": [
    {
     "name": "stderr",
     "output_type": "stream",
     "text": [
      "WARNING:py.warnings:C:\\ProgramData\\Anaconda3\\envs\\qmetal\\lib\\site-packages\\pyEPR\\core_distributed_analysis.py:504: FutureWarning: The default dtype for empty Series will be 'object' instead of 'float64' in a future version. Specify a dtype explicitly to silence this warning.\n",
      "  self._hfss_variables[variation] = pd.Series(\n",
      "\n",
      "INFO 02:01AM [hfss_report_full_convergence]: Creating report for variation 0\n"
     ]
    },
    {
     "name": "stdout",
     "output_type": "stream",
     "text": [
      "Design \"Q_3_q3d\" info:\n",
      "\t# eigenmodes    0\n",
      "\t# variations    1\n"
     ]
    }
   ],
   "source": [
    "c1.plot_convergence();\n",
    "c1.plot_convergence_chi()"
   ]
  },
  {
   "cell_type": "code",
   "execution_count": 124,
   "id": "0e868a6a-216a-4cd5-8db7-cfa12e60f13c",
   "metadata": {},
   "outputs": [],
   "source": [
    "c1.sim.renderer.clean_active_design()"
   ]
  },
  {
   "cell_type": "code",
   "execution_count": 125,
   "id": "bfeeb41c-8ab2-407e-bd7a-76b8ced00c46",
   "metadata": {},
   "outputs": [
    {
     "data": {
      "text/plain": [
       "{'pos_x': '0mm',\n",
       " 'pos_y': '3mm',\n",
       " 'orientation': '180',\n",
       " 'chip': 'main',\n",
       " 'layer': '1',\n",
       " 'connection_pads': {'bus_13': {'connector_type': '0',\n",
       "   'claw_length': '95um',\n",
       "   'ground_spacing': '5um',\n",
       "   'claw_width': '10um',\n",
       "   'claw_gap': '6um',\n",
       "   'claw_cpw_length': '40um',\n",
       "   'claw_cpw_width': '10um',\n",
       "   'connector_location': '180'},\n",
       "  'bus_23': {'connector_type': '0',\n",
       "   'claw_length': '95um',\n",
       "   'ground_spacing': '5um',\n",
       "   'claw_width': '10um',\n",
       "   'claw_gap': '6um',\n",
       "   'claw_cpw_length': '40um',\n",
       "   'claw_cpw_width': '10um',\n",
       "   'connector_location': '90'},\n",
       "  'readout': {'connector_type': '0',\n",
       "   'claw_length': '30um',\n",
       "   'ground_spacing': '5um',\n",
       "   'claw_width': '10um',\n",
       "   'claw_gap': '6um',\n",
       "   'claw_cpw_length': '40um',\n",
       "   'claw_cpw_width': '10um',\n",
       "   'connector_location': '-90'}},\n",
       " 'cross_width': '20um',\n",
       " 'cross_length': '200um',\n",
       " 'cross_gap': '20um',\n",
       " 'make_fl': True,\n",
       " 'fl_options': {'t_top': '15um',\n",
       "  't_offset': '0um',\n",
       "  't_inductive_gap': '3um',\n",
       "  't_width': '5um',\n",
       "  't_gap': '3um'},\n",
       " 'hfss_wire_bonds': False,\n",
       " 'q3d_wire_bonds': False,\n",
       " 'aedt_q3d_wire_bonds': False,\n",
       " 'aedt_hfss_wire_bonds': False,\n",
       " 'hfss_inductance': '10nH',\n",
       " 'hfss_capacitance': 0,\n",
       " 'hfss_resistance': 0,\n",
       " 'hfss_mesh_kw_jj': 7e-06,\n",
       " 'q3d_inductance': '10nH',\n",
       " 'q3d_capacitance': 0,\n",
       " 'q3d_resistance': 0,\n",
       " 'q3d_mesh_kw_jj': 7e-06,\n",
       " 'gds_cell_name': 'my_other_junction',\n",
       " 'aedt_q3d_inductance': 1e-08,\n",
       " 'aedt_q3d_capacitance': 0,\n",
       " 'aedt_hfss_inductance': 1e-08,\n",
       " 'aedt_hfss_capacitance': 0}"
      ]
     },
     "execution_count": 125,
     "metadata": {},
     "output_type": "execute_result"
    }
   ],
   "source": [
    "Q_3.options"
   ]
  },
  {
   "cell_type": "code",
   "execution_count": 126,
   "id": "c3f60358-9dfa-489d-9999-d4b1dd22b23e",
   "metadata": {},
   "outputs": [],
   "source": [
    "Q_3.options.cross_width = '18um'\n",
    "Q_3.options.connection_pads.bus_13.claw_width = '20um'\n",
    "Q_3.options.connection_pads.bus_13.claw_length = '120um'\n",
    "Q_3.options.connection_pads.bus_23.claw_width = '20um'\n",
    "Q_3.options.connection_pads.bus_23.claw_length = '120um'\n",
    "\n",
    "gui.rebuild()"
   ]
  },
  {
   "cell_type": "code",
   "execution_count": 127,
   "id": "c44ad756-c658-4d50-9e1c-71d553fba75f",
   "metadata": {},
   "outputs": [
    {
     "name": "stderr",
     "output_type": "stream",
     "text": [
      "INFO 02:26AM [connect_design]: \tOpened active design\n",
      "\tDesign:    Q_3_q3d [Solution type: Q3D]\n",
      "INFO 02:26AM [get_setup]: \tOpened setup `Tune_Q_3`  (<class 'pyEPR.ansys.AnsysQ3DSetup'>)\n",
      "INFO 02:26AM [analyze]: Analyzing setup Tune_Q_3\n",
      "INFO 02:29AM [get_matrix]: Exporting matrix data to (C:\\Users\\user\\AppData\\Local\\Temp\\tmpt4jxm4fp.txt, C, , Tune_Q_3:LastAdaptive, \"Original\", \"ohm\", \"nH\", \"fF\", \"mSie\", 5200000000, Maxwell, 1, False\n",
      "INFO 02:29AM [get_matrix]: Exporting matrix data to (C:\\Users\\user\\AppData\\Local\\Temp\\tmpdd8_x42e.txt, C, , Tune_Q_3:AdaptivePass, \"Original\", \"ohm\", \"nH\", \"fF\", \"mSie\", 5200000000, Maxwell, 1, False\n",
      "INFO 02:29AM [get_matrix]: Exporting matrix data to (C:\\Users\\user\\AppData\\Local\\Temp\\tmpo603m15x.txt, C, , Tune_Q_3:AdaptivePass, \"Original\", \"ohm\", \"nH\", \"fF\", \"mSie\", 5200000000, Maxwell, 2, False\n",
      "INFO 02:29AM [get_matrix]: Exporting matrix data to (C:\\Users\\user\\AppData\\Local\\Temp\\tmpsjq8rl9x.txt, C, , Tune_Q_3:AdaptivePass, \"Original\", \"ohm\", \"nH\", \"fF\", \"mSie\", 5200000000, Maxwell, 3, False\n",
      "INFO 02:29AM [get_matrix]: Exporting matrix data to (C:\\Users\\user\\AppData\\Local\\Temp\\tmpabrxoqkj.txt, C, , Tune_Q_3:AdaptivePass, \"Original\", \"ohm\", \"nH\", \"fF\", \"mSie\", 5200000000, Maxwell, 4, False\n",
      "INFO 02:29AM [get_matrix]: Exporting matrix data to (C:\\Users\\user\\AppData\\Local\\Temp\\tmph0_q3mat.txt, C, , Tune_Q_3:AdaptivePass, \"Original\", \"ohm\", \"nH\", \"fF\", \"mSie\", 5200000000, Maxwell, 5, False\n",
      "INFO 02:29AM [get_matrix]: Exporting matrix data to (C:\\Users\\user\\AppData\\Local\\Temp\\tmpu8ymkxq2.txt, C, , Tune_Q_3:AdaptivePass, \"Original\", \"ohm\", \"nH\", \"fF\", \"mSie\", 5200000000, Maxwell, 6, False\n",
      "INFO 02:29AM [get_matrix]: Exporting matrix data to (C:\\Users\\user\\AppData\\Local\\Temp\\tmpclzqg57k.txt, C, , Tune_Q_3:AdaptivePass, \"Original\", \"ohm\", \"nH\", \"fF\", \"mSie\", 5200000000, Maxwell, 7, False\n",
      "INFO 02:29AM [get_matrix]: Exporting matrix data to (C:\\Users\\user\\AppData\\Local\\Temp\\tmp58oe8s3g.txt, C, , Tune_Q_3:AdaptivePass, \"Original\", \"ohm\", \"nH\", \"fF\", \"mSie\", 5200000000, Maxwell, 8, False\n",
      "INFO 02:29AM [get_matrix]: Exporting matrix data to (C:\\Users\\user\\AppData\\Local\\Temp\\tmpc3h9j15v.txt, C, , Tune_Q_3:AdaptivePass, \"Original\", \"ohm\", \"nH\", \"fF\", \"mSie\", 5200000000, Maxwell, 9, False\n",
      "INFO 02:29AM [get_matrix]: Exporting matrix data to (C:\\Users\\user\\AppData\\Local\\Temp\\tmpo2l7rdd0.txt, C, , Tune_Q_3:AdaptivePass, \"Original\", \"ohm\", \"nH\", \"fF\", \"mSie\", 5200000000, Maxwell, 10, False\n",
      "INFO 02:29AM [get_matrix]: Exporting matrix data to (C:\\Users\\user\\AppData\\Local\\Temp\\tmpmkpe0q3a.txt, C, , Tune_Q_3:AdaptivePass, \"Original\", \"ohm\", \"nH\", \"fF\", \"mSie\", 5200000000, Maxwell, 11, False\n",
      "INFO 02:29AM [get_matrix]: Exporting matrix data to (C:\\Users\\user\\AppData\\Local\\Temp\\tmpkln_xy6x.txt, C, , Tune_Q_3:AdaptivePass, \"Original\", \"ohm\", \"nH\", \"fF\", \"mSie\", 5200000000, Maxwell, 12, False\n",
      "INFO 02:29AM [get_matrix]: Exporting matrix data to (C:\\Users\\user\\AppData\\Local\\Temp\\tmpr65qw3zy.txt, C, , Tune_Q_3:AdaptivePass, \"Original\", \"ohm\", \"nH\", \"fF\", \"mSie\", 5200000000, Maxwell, 13, False\n",
      "INFO 02:29AM [get_matrix]: Exporting matrix data to (C:\\Users\\user\\AppData\\Local\\Temp\\tmpj58303w2.txt, C, , Tune_Q_3:AdaptivePass, \"Original\", \"ohm\", \"nH\", \"fF\", \"mSie\", 5200000000, Maxwell, 14, False\n",
      "INFO 02:29AM [get_matrix]: Exporting matrix data to (C:\\Users\\user\\AppData\\Local\\Temp\\tmprdthm8pf.txt, C, , Tune_Q_3:AdaptivePass, \"Original\", \"ohm\", \"nH\", \"fF\", \"mSie\", 5200000000, Maxwell, 15, False\n",
      "INFO 02:29AM [get_matrix]: Exporting matrix data to (C:\\Users\\user\\AppData\\Local\\Temp\\tmpnxhrgwy9.txt, C, , Tune_Q_3:AdaptivePass, \"Original\", \"ohm\", \"nH\", \"fF\", \"mSie\", 5200000000, Maxwell, 16, False\n",
      "INFO 02:29AM [get_matrix]: Exporting matrix data to (C:\\Users\\user\\AppData\\Local\\Temp\\tmpdfm0dofp.txt, C, , Tune_Q_3:AdaptivePass, \"Original\", \"ohm\", \"nH\", \"fF\", \"mSie\", 5200000000, Maxwell, 17, False\n"
     ]
    }
   ],
   "source": [
    "c1.sim.run(name=\"Q_3\", components=['Q_3'], open_terminations=[('Q_3', 'bus_13'),('Q_3', 'bus_23'), ('Q_3', 'readout')])"
   ]
  },
  {
   "cell_type": "code",
   "execution_count": 128,
   "id": "0ae1efd8-f007-47ef-9a61-531ba81ed08a",
   "metadata": {},
   "outputs": [
    {
     "data": {
      "text/html": [
       "<div>\n",
       "<style scoped>\n",
       "    .dataframe tbody tr th:only-of-type {\n",
       "        vertical-align: middle;\n",
       "    }\n",
       "\n",
       "    .dataframe tbody tr th {\n",
       "        vertical-align: top;\n",
       "    }\n",
       "\n",
       "    .dataframe thead th {\n",
       "        text-align: right;\n",
       "    }\n",
       "</style>\n",
       "<table border=\"1\" class=\"dataframe\">\n",
       "  <thead>\n",
       "    <tr style=\"text-align: right;\">\n",
       "      <th></th>\n",
       "      <th>bus_13_connector_arm_Q_3</th>\n",
       "      <th>bus_23_connector_arm_Q_3</th>\n",
       "      <th>cross_Q_3</th>\n",
       "      <th>ground_main_plane</th>\n",
       "      <th>readout_connector_arm_Q_3</th>\n",
       "    </tr>\n",
       "  </thead>\n",
       "  <tbody>\n",
       "    <tr>\n",
       "      <th>bus_13_connector_arm_Q_3</th>\n",
       "      <td>79.34133</td>\n",
       "      <td>-0.15252</td>\n",
       "      <td>-4.36469</td>\n",
       "      <td>-74.33177</td>\n",
       "      <td>-0.01292</td>\n",
       "    </tr>\n",
       "    <tr>\n",
       "      <th>bus_23_connector_arm_Q_3</th>\n",
       "      <td>-0.15252</td>\n",
       "      <td>79.34755</td>\n",
       "      <td>-4.36423</td>\n",
       "      <td>-74.32486</td>\n",
       "      <td>-0.02991</td>\n",
       "    </tr>\n",
       "    <tr>\n",
       "      <th>cross_Q_3</th>\n",
       "      <td>-4.36469</td>\n",
       "      <td>-4.36423</td>\n",
       "      <td>106.97200</td>\n",
       "      <td>-95.95358</td>\n",
       "      <td>-0.90498</td>\n",
       "    </tr>\n",
       "    <tr>\n",
       "      <th>ground_main_plane</th>\n",
       "      <td>-74.33177</td>\n",
       "      <td>-74.32486</td>\n",
       "      <td>-95.95358</td>\n",
       "      <td>331.57699</td>\n",
       "      <td>-31.81382</td>\n",
       "    </tr>\n",
       "    <tr>\n",
       "      <th>readout_connector_arm_Q_3</th>\n",
       "      <td>-0.01292</td>\n",
       "      <td>-0.02991</td>\n",
       "      <td>-0.90498</td>\n",
       "      <td>-31.81382</td>\n",
       "      <td>32.93666</td>\n",
       "    </tr>\n",
       "  </tbody>\n",
       "</table>\n",
       "</div>"
      ],
      "text/plain": [
       "                           bus_13_connector_arm_Q_3  bus_23_connector_arm_Q_3  \\\n",
       "bus_13_connector_arm_Q_3                   79.34133                  -0.15252   \n",
       "bus_23_connector_arm_Q_3                   -0.15252                  79.34755   \n",
       "cross_Q_3                                  -4.36469                  -4.36423   \n",
       "ground_main_plane                         -74.33177                 -74.32486   \n",
       "readout_connector_arm_Q_3                  -0.01292                  -0.02991   \n",
       "\n",
       "                           cross_Q_3  ground_main_plane  \\\n",
       "bus_13_connector_arm_Q_3    -4.36469          -74.33177   \n",
       "bus_23_connector_arm_Q_3    -4.36423          -74.32486   \n",
       "cross_Q_3                  106.97200          -95.95358   \n",
       "ground_main_plane          -95.95358          331.57699   \n",
       "readout_connector_arm_Q_3   -0.90498          -31.81382   \n",
       "\n",
       "                           readout_connector_arm_Q_3  \n",
       "bus_13_connector_arm_Q_3                    -0.01292  \n",
       "bus_23_connector_arm_Q_3                    -0.02991  \n",
       "cross_Q_3                                   -0.90498  \n",
       "ground_main_plane                          -31.81382  \n",
       "readout_connector_arm_Q_3                   32.93666  "
      ]
     },
     "execution_count": 128,
     "metadata": {},
     "output_type": "execute_result"
    }
   ],
   "source": [
    "c1.sim.capacitance_matrix"
   ]
  },
  {
   "cell_type": "code",
   "execution_count": 140,
   "id": "db5e7ed3-c5d7-4af4-9104-417c4f1257c0",
   "metadata": {},
   "outputs": [
    {
     "name": "stdout",
     "output_type": "stream",
     "text": [
      "[2, 3] [4 0]\n",
      "Predicted Values\n",
      "\n",
      "Transmon Properties\n",
      "f_Q 5.404084 [GHz]\n",
      "EC 179.189269 [MHz]\n",
      "EJ 21.786080 [GHz]\n",
      "alpha -194.405353 [MHz]\n",
      "dispersion 0.000316 [KHz]\n",
      "Lq 7.496976 [nH]\n",
      "Cq 108.099264 [fF]\n",
      "T1 10331.161232 [us]\n",
      "\n",
      "**Coupling Properties**\n",
      "\n",
      "tCqbus1 -0.753108 [fF]\n",
      "gbus1_in_MHz -9.127431 [MHz]\n",
      "χ_bus1 -0.007610 [MHz]\n",
      "1/T1bus1 11.026854 [Hz]\n",
      "T1bus1 14433.395246 [us]\n",
      "\n",
      "tCqbus2 0.376597 [fF]\n",
      "gbus2_in_MHz 3.565943 [MHz]\n",
      "χ_bus2 -0.021194 [MHz]\n",
      "1/T1bus2 4.378475 [Hz]\n",
      "T1bus2 36349.397161 [us]\n",
      "Bus-Bus Couplings\n",
      "gbus1_2 33.806157 [MHz]\n"
     ]
    },
    {
     "data": {
      "text/html": [
       "<div>\n",
       "<style scoped>\n",
       "    .dataframe tbody tr th:only-of-type {\n",
       "        vertical-align: middle;\n",
       "    }\n",
       "\n",
       "    .dataframe tbody tr th {\n",
       "        vertical-align: top;\n",
       "    }\n",
       "\n",
       "    .dataframe thead th {\n",
       "        text-align: right;\n",
       "    }\n",
       "</style>\n",
       "<table border=\"1\" class=\"dataframe\">\n",
       "  <thead>\n",
       "    <tr style=\"text-align: right;\">\n",
       "      <th></th>\n",
       "      <th>fQ</th>\n",
       "      <th>EC</th>\n",
       "      <th>EJ</th>\n",
       "      <th>alpha</th>\n",
       "      <th>dispersion</th>\n",
       "      <th>gbus</th>\n",
       "      <th>chi_in_MHz</th>\n",
       "      <th>χr MHz</th>\n",
       "      <th>gr MHz</th>\n",
       "    </tr>\n",
       "  </thead>\n",
       "  <tbody>\n",
       "    <tr>\n",
       "      <th>1</th>\n",
       "      <td>5.709271</td>\n",
       "      <td>200.840036</td>\n",
       "      <td>21.78608</td>\n",
       "      <td>-219.096019</td>\n",
       "      <td>0.001719</td>\n",
       "      <td>[-10.960261507700448, 3.2644464667762603]</td>\n",
       "      <td>[-0.016613434877299237, -0.16615660948662228]</td>\n",
       "      <td>0.016613</td>\n",
       "      <td>10.960262</td>\n",
       "    </tr>\n",
       "    <tr>\n",
       "      <th>2</th>\n",
       "      <td>5.626439</td>\n",
       "      <td>194.831771</td>\n",
       "      <td>21.78608</td>\n",
       "      <td>-212.222074</td>\n",
       "      <td>0.001105</td>\n",
       "      <td>[-10.097964893820052, 4.190936206584745]</td>\n",
       "      <td>[-0.012548102517338674, -0.11139700757365799]</td>\n",
       "      <td>0.012548</td>\n",
       "      <td>10.097965</td>\n",
       "    </tr>\n",
       "    <tr>\n",
       "      <th>3</th>\n",
       "      <td>5.587964</td>\n",
       "      <td>192.07449</td>\n",
       "      <td>21.78608</td>\n",
       "      <td>-209.073172</td>\n",
       "      <td>0.000896</td>\n",
       "      <td>[-9.518207575128853, 3.651083579255042]</td>\n",
       "      <td>[-0.010572088142306015, -0.06246988705915724]</td>\n",
       "      <td>0.010572</td>\n",
       "      <td>9.518208</td>\n",
       "    </tr>\n",
       "    <tr>\n",
       "      <th>4</th>\n",
       "      <td>5.563926</td>\n",
       "      <td>190.362616</td>\n",
       "      <td>21.78608</td>\n",
       "      <td>-207.119954</td>\n",
       "      <td>0.000785</td>\n",
       "      <td>[-9.30283195207913, 3.697669857949722]</td>\n",
       "      <td>[-0.0097729098458712, -0.05417809183613804]</td>\n",
       "      <td>0.009773</td>\n",
       "      <td>9.302832</td>\n",
       "    </tr>\n",
       "    <tr>\n",
       "      <th>5</th>\n",
       "      <td>5.526264</td>\n",
       "      <td>187.697104</td>\n",
       "      <td>21.78608</td>\n",
       "      <td>-204.081397</td>\n",
       "      <td>0.000637</td>\n",
       "      <td>[-9.152240302273318, 3.524671308325322]</td>\n",
       "      <td>[-0.008989472271251487, -0.03880847239466872]</td>\n",
       "      <td>0.008989</td>\n",
       "      <td>9.152240</td>\n",
       "    </tr>\n",
       "    <tr>\n",
       "      <th>6</th>\n",
       "      <td>5.506487</td>\n",
       "      <td>186.305577</td>\n",
       "      <td>21.78608</td>\n",
       "      <td>-202.496454</td>\n",
       "      <td>0.00057</td>\n",
       "      <td>[-9.067625458133158, 3.5143634664935504]</td>\n",
       "      <td>[-0.008593307048347569, -0.03439758422514225]</td>\n",
       "      <td>0.008593</td>\n",
       "      <td>9.067625</td>\n",
       "    </tr>\n",
       "    <tr>\n",
       "      <th>7</th>\n",
       "      <td>5.480561</td>\n",
       "      <td>184.489715</td>\n",
       "      <td>21.78608</td>\n",
       "      <td>-200.429571</td>\n",
       "      <td>0.000492</td>\n",
       "      <td>[-9.197372140175847, 3.5941311145104926]</td>\n",
       "      <td>[-0.008541277970133812, -0.031222943972716077]</td>\n",
       "      <td>0.008541</td>\n",
       "      <td>9.197372</td>\n",
       "    </tr>\n",
       "    <tr>\n",
       "      <th>8</th>\n",
       "      <td>5.458946</td>\n",
       "      <td>182.983234</td>\n",
       "      <td>21.78608</td>\n",
       "      <td>-198.716024</td>\n",
       "      <td>0.000434</td>\n",
       "      <td>[-9.141359937034924, 3.5841665644979557]</td>\n",
       "      <td>[-0.00820013580952089, -0.027774727940941216]</td>\n",
       "      <td>0.008200</td>\n",
       "      <td>9.141360</td>\n",
       "    </tr>\n",
       "    <tr>\n",
       "      <th>9</th>\n",
       "      <td>5.449735</td>\n",
       "      <td>182.343216</td>\n",
       "      <td>21.78608</td>\n",
       "      <td>-197.988361</td>\n",
       "      <td>0.000412</td>\n",
       "      <td>[-9.163988395329545, 3.5673087877284826]</td>\n",
       "      <td>[-0.008141604650858954, -0.026281061917993932]</td>\n",
       "      <td>0.008142</td>\n",
       "      <td>9.163988</td>\n",
       "    </tr>\n",
       "    <tr>\n",
       "      <th>10</th>\n",
       "      <td>5.43736</td>\n",
       "      <td>181.485292</td>\n",
       "      <td>21.78608</td>\n",
       "      <td>-197.013257</td>\n",
       "      <td>0.000383</td>\n",
       "      <td>[-9.14382627428721, 3.573643460362546]</td>\n",
       "      <td>[-0.007975448024096124, -0.02483488072214122]</td>\n",
       "      <td>0.007975</td>\n",
       "      <td>9.143826</td>\n",
       "    </tr>\n",
       "    <tr>\n",
       "      <th>11</th>\n",
       "      <td>5.428215</td>\n",
       "      <td>180.852734</td>\n",
       "      <td>21.78608</td>\n",
       "      <td>-196.294525</td>\n",
       "      <td>0.000364</td>\n",
       "      <td>[-9.163909936091436, 3.578487917350119]</td>\n",
       "      <td>[-0.007915417026950205, -0.0238438258529645]</td>\n",
       "      <td>0.007915</td>\n",
       "      <td>9.163910</td>\n",
       "    </tr>\n",
       "    <tr>\n",
       "      <th>12</th>\n",
       "      <td>5.421811</td>\n",
       "      <td>180.410502</td>\n",
       "      <td>21.78608</td>\n",
       "      <td>-195.79216</td>\n",
       "      <td>0.00035</td>\n",
       "      <td>[-9.12948907297534, 3.5605188104927215]</td>\n",
       "      <td>[-0.007790786014862172, -0.022909071909911854]</td>\n",
       "      <td>0.007791</td>\n",
       "      <td>9.129489</td>\n",
       "    </tr>\n",
       "    <tr>\n",
       "      <th>13</th>\n",
       "      <td>5.415591</td>\n",
       "      <td>179.981451</td>\n",
       "      <td>21.78608</td>\n",
       "      <td>-195.304858</td>\n",
       "      <td>0.000338</td>\n",
       "      <td>[-9.107683316593192, 3.5624272778717745]</td>\n",
       "      <td>[-0.0076911313319012525, -0.02228485690861296]</td>\n",
       "      <td>0.007691</td>\n",
       "      <td>9.107683</td>\n",
       "    </tr>\n",
       "    <tr>\n",
       "      <th>14</th>\n",
       "      <td>5.410499</td>\n",
       "      <td>179.630683</td>\n",
       "      <td>21.78608</td>\n",
       "      <td>-194.906531</td>\n",
       "      <td>0.000328</td>\n",
       "      <td>[-9.142950135484492, 3.5713449819440033]</td>\n",
       "      <td>[-0.007699732558610814, -0.021882446757289394]</td>\n",
       "      <td>0.007700</td>\n",
       "      <td>9.142950</td>\n",
       "    </tr>\n",
       "    <tr>\n",
       "      <th>15</th>\n",
       "      <td>5.407163</td>\n",
       "      <td>179.401062</td>\n",
       "      <td>21.78608</td>\n",
       "      <td>-194.64581</td>\n",
       "      <td>0.000322</td>\n",
       "      <td>[-9.133542258182922, 3.565334480247655]</td>\n",
       "      <td>[-0.007650721025087126, -0.021482259266765412]</td>\n",
       "      <td>0.007651</td>\n",
       "      <td>9.133542</td>\n",
       "    </tr>\n",
       "    <tr>\n",
       "      <th>16</th>\n",
       "      <td>5.404084</td>\n",
       "      <td>179.189269</td>\n",
       "      <td>21.78608</td>\n",
       "      <td>-194.405353</td>\n",
       "      <td>0.000316</td>\n",
       "      <td>[-9.127431078575453, 3.5659433911724228]</td>\n",
       "      <td>[-0.007610063642739856, -0.02119425645217038]</td>\n",
       "      <td>0.007610</td>\n",
       "      <td>9.127431</td>\n",
       "    </tr>\n",
       "  </tbody>\n",
       "</table>\n",
       "</div>"
      ],
      "text/plain": [
       "          fQ          EC        EJ       alpha dispersion  \\\n",
       "1   5.709271  200.840036  21.78608 -219.096019   0.001719   \n",
       "2   5.626439  194.831771  21.78608 -212.222074   0.001105   \n",
       "3   5.587964   192.07449  21.78608 -209.073172   0.000896   \n",
       "4   5.563926  190.362616  21.78608 -207.119954   0.000785   \n",
       "5   5.526264  187.697104  21.78608 -204.081397   0.000637   \n",
       "6   5.506487  186.305577  21.78608 -202.496454    0.00057   \n",
       "7   5.480561  184.489715  21.78608 -200.429571   0.000492   \n",
       "8   5.458946  182.983234  21.78608 -198.716024   0.000434   \n",
       "9   5.449735  182.343216  21.78608 -197.988361   0.000412   \n",
       "10   5.43736  181.485292  21.78608 -197.013257   0.000383   \n",
       "11  5.428215  180.852734  21.78608 -196.294525   0.000364   \n",
       "12  5.421811  180.410502  21.78608  -195.79216    0.00035   \n",
       "13  5.415591  179.981451  21.78608 -195.304858   0.000338   \n",
       "14  5.410499  179.630683  21.78608 -194.906531   0.000328   \n",
       "15  5.407163  179.401062  21.78608  -194.64581   0.000322   \n",
       "16  5.404084  179.189269  21.78608 -194.405353   0.000316   \n",
       "\n",
       "                                         gbus  \\\n",
       "1   [-10.960261507700448, 3.2644464667762603]   \n",
       "2    [-10.097964893820052, 4.190936206584745]   \n",
       "3     [-9.518207575128853, 3.651083579255042]   \n",
       "4      [-9.30283195207913, 3.697669857949722]   \n",
       "5     [-9.152240302273318, 3.524671308325322]   \n",
       "6    [-9.067625458133158, 3.5143634664935504]   \n",
       "7    [-9.197372140175847, 3.5941311145104926]   \n",
       "8    [-9.141359937034924, 3.5841665644979557]   \n",
       "9    [-9.163988395329545, 3.5673087877284826]   \n",
       "10     [-9.14382627428721, 3.573643460362546]   \n",
       "11    [-9.163909936091436, 3.578487917350119]   \n",
       "12    [-9.12948907297534, 3.5605188104927215]   \n",
       "13   [-9.107683316593192, 3.5624272778717745]   \n",
       "14   [-9.142950135484492, 3.5713449819440033]   \n",
       "15    [-9.133542258182922, 3.565334480247655]   \n",
       "16   [-9.127431078575453, 3.5659433911724228]   \n",
       "\n",
       "                                        chi_in_MHz    χr MHz     gr MHz  \n",
       "1    [-0.016613434877299237, -0.16615660948662228]  0.016613  10.960262  \n",
       "2    [-0.012548102517338674, -0.11139700757365799]  0.012548  10.097965  \n",
       "3    [-0.010572088142306015, -0.06246988705915724]  0.010572   9.518208  \n",
       "4      [-0.0097729098458712, -0.05417809183613804]  0.009773   9.302832  \n",
       "5    [-0.008989472271251487, -0.03880847239466872]  0.008989   9.152240  \n",
       "6    [-0.008593307048347569, -0.03439758422514225]  0.008593   9.067625  \n",
       "7   [-0.008541277970133812, -0.031222943972716077]  0.008541   9.197372  \n",
       "8    [-0.00820013580952089, -0.027774727940941216]  0.008200   9.141360  \n",
       "9   [-0.008141604650858954, -0.026281061917993932]  0.008142   9.163988  \n",
       "10   [-0.007975448024096124, -0.02483488072214122]  0.007975   9.143826  \n",
       "11    [-0.007915417026950205, -0.0238438258529645]  0.007915   9.163910  \n",
       "12  [-0.007790786014862172, -0.022909071909911854]  0.007791   9.129489  \n",
       "13  [-0.0076911313319012525, -0.02228485690861296]  0.007691   9.107683  \n",
       "14  [-0.007699732558610814, -0.021882446757289394]  0.007700   9.142950  \n",
       "15  [-0.007650721025087126, -0.021482259266765412]  0.007651   9.133542  \n",
       "16   [-0.007610063642739856, -0.02119425645217038]  0.007610   9.127431  "
      ]
     },
     "execution_count": 140,
     "metadata": {},
     "output_type": "execute_result"
    }
   ],
   "source": [
    "\n",
    "c1.setup.junctions = Dict({'Lj': 7.5, 'Cj': 3})\n",
    "c1.setup.freq_readout = 7.4\n",
    "c1.setup.freq_bus = [5.8]  \n",
    "\n",
    "c1.run_lom()\n",
    "c1.lumped_oscillator_all"
   ]
  },
  {
   "cell_type": "code",
   "execution_count": 141,
   "id": "179750c5-dd8a-4144-b25f-f39b3b2b394b",
   "metadata": {},
   "outputs": [
    {
     "ename": "AttributeError",
     "evalue": "'NoneType' object has no attribute 'GetNominalVariation'",
     "output_type": "error",
     "traceback": [
      "\u001b[1;31m---------------------------------------------------------------------------\u001b[0m",
      "\u001b[1;31mAttributeError\u001b[0m                            Traceback (most recent call last)",
      "Cell \u001b[1;32mIn[141], line 1\u001b[0m\n\u001b[1;32m----> 1\u001b[0m \u001b[43mc1\u001b[49m\u001b[38;5;241;43m.\u001b[39;49m\u001b[43mplot_convergence\u001b[49m\u001b[43m(\u001b[49m\u001b[43m)\u001b[49m;\n\u001b[0;32m      2\u001b[0m c1\u001b[38;5;241m.\u001b[39mplot_convergence_chi()\n",
      "File \u001b[1;32mC:\\ProgramData\\Anaconda3\\envs\\qmetal\\lib\\site-packages\\qiskit_metal\\analyses\\quantization\\lumped_oscillator_model.py:198\u001b[0m, in \u001b[0;36mLOManalysis.plot_convergence\u001b[1;34m(self, *args, **kwargs)\u001b[0m\n\u001b[0;32m    196\u001b[0m     \u001b[38;5;28mself\u001b[39m\u001b[38;5;241m.\u001b[39mrun_lom(\u001b[38;5;241m*\u001b[39margs, \u001b[38;5;241m*\u001b[39m\u001b[38;5;241m*\u001b[39mkwargs)\n\u001b[0;32m    197\u001b[0m \u001b[38;5;66;03m# TODO: copy plot_convergence_main() from pyEPR and move it here\u001b[39;00m\n\u001b[1;32m--> 198\u001b[0m \u001b[38;5;28;43mself\u001b[39;49m\u001b[38;5;241;43m.\u001b[39;49m\u001b[43msim\u001b[49m\u001b[38;5;241;43m.\u001b[39;49m\u001b[43mrenderer\u001b[49m\u001b[38;5;241;43m.\u001b[39;49m\u001b[43mplot_convergence_main\u001b[49m\u001b[43m(\u001b[49m\u001b[38;5;28;43mself\u001b[39;49m\u001b[38;5;241;43m.\u001b[39;49m\u001b[43mlumped_oscillator_all\u001b[49m\u001b[43m)\u001b[49m\n",
      "File \u001b[1;32mC:\\ProgramData\\Anaconda3\\envs\\qmetal\\lib\\site-packages\\qiskit_metal\\renderers\\renderer_ansys\\q3d_renderer.py:606\u001b[0m, in \u001b[0;36mQQ3DRenderer.plot_convergence_main\u001b[1;34m(self, RES)\u001b[0m\n\u001b[0;32m    599\u001b[0m \u001b[38;5;250m\u001b[39m\u001b[38;5;124;03m\"\"\"Plot alpha and frequency versus pass number, as well as convergence\u001b[39;00m\n\u001b[0;32m    600\u001b[0m \u001b[38;5;124;03mof delta (in %).\u001b[39;00m\n\u001b[0;32m    601\u001b[0m \n\u001b[0;32m    602\u001b[0m \u001b[38;5;124;03mArgs:\u001b[39;00m\n\u001b[0;32m    603\u001b[0m \u001b[38;5;124;03m    RES (pd.DataFrame): Dictionary of capacitance matrices versus pass number, organized as pandas table.\u001b[39;00m\n\u001b[0;32m    604\u001b[0m \u001b[38;5;124;03m\"\"\"\u001b[39;00m\n\u001b[0;32m    605\u001b[0m \u001b[38;5;28;01mif\u001b[39;00m \u001b[38;5;28mself\u001b[39m\u001b[38;5;241m.\u001b[39m_pinfo:\n\u001b[1;32m--> 606\u001b[0m     eprd \u001b[38;5;241m=\u001b[39m \u001b[43mepr\u001b[49m\u001b[38;5;241;43m.\u001b[39;49m\u001b[43mDistributedAnalysis\u001b[49m\u001b[43m(\u001b[49m\u001b[38;5;28;43mself\u001b[39;49m\u001b[38;5;241;43m.\u001b[39;49m\u001b[43m_pinfo\u001b[49m\u001b[43m)\u001b[49m\n\u001b[0;32m    607\u001b[0m     epr\u001b[38;5;241m.\u001b[39mtoolbox\u001b[38;5;241m.\u001b[39mplotting\u001b[38;5;241m.\u001b[39mmpl_dpi(\u001b[38;5;241m110\u001b[39m)\n\u001b[0;32m    608\u001b[0m     \u001b[38;5;28;01mreturn\u001b[39;00m _plot_q3d_convergence_main(eprd, RES)\n",
      "File \u001b[1;32mC:\\ProgramData\\Anaconda3\\envs\\qmetal\\lib\\site-packages\\pyEPR\\core_distributed_analysis.py:166\u001b[0m, in \u001b[0;36mDistributedAnalysis.__init__\u001b[1;34m(self, *args, **kwargs)\u001b[0m\n\u001b[0;32m    162\u001b[0m \u001b[38;5;28mself\u001b[39m\u001b[38;5;241m.\u001b[39m_hfss_variables \u001b[38;5;241m=\u001b[39m Dict()\n\u001b[0;32m    164\u001b[0m \u001b[38;5;28mself\u001b[39m\u001b[38;5;241m.\u001b[39m_previously_analyzed \u001b[38;5;241m=\u001b[39m \u001b[38;5;28mset\u001b[39m()  \u001b[38;5;66;03m# previously analyzed variations\u001b[39;00m\n\u001b[1;32m--> 166\u001b[0m \u001b[38;5;28;43mself\u001b[39;49m\u001b[38;5;241;43m.\u001b[39;49m\u001b[43mupdate_ansys_info\u001b[49m\u001b[43m(\u001b[49m\u001b[43m)\u001b[49m\n\u001b[0;32m    168\u001b[0m \u001b[38;5;28mprint\u001b[39m(\u001b[38;5;124m'\u001b[39m\u001b[38;5;124mDesign \u001b[39m\u001b[38;5;130;01m\\\"\u001b[39;00m\u001b[38;5;132;01m%s\u001b[39;00m\u001b[38;5;130;01m\\\"\u001b[39;00m\u001b[38;5;124m info:\u001b[39m\u001b[38;5;124m'\u001b[39m \u001b[38;5;241m%\u001b[39m \u001b[38;5;28mself\u001b[39m\u001b[38;5;241m.\u001b[39mdesign\u001b[38;5;241m.\u001b[39mname)\n\u001b[0;32m    169\u001b[0m \u001b[38;5;28mprint\u001b[39m(\u001b[38;5;124m'\u001b[39m\u001b[38;5;130;01m\\t\u001b[39;00m\u001b[38;5;132;01m%-15s\u001b[39;00m\u001b[38;5;124m \u001b[39m\u001b[38;5;132;01m%d\u001b[39;00m\u001b[38;5;130;01m\\n\u001b[39;00m\u001b[38;5;130;01m\\t\u001b[39;00m\u001b[38;5;132;01m%-15s\u001b[39;00m\u001b[38;5;124m \u001b[39m\u001b[38;5;132;01m%d\u001b[39;00m\u001b[38;5;124m'\u001b[39m \u001b[38;5;241m%\u001b[39m (\u001b[38;5;124m'\u001b[39m\u001b[38;5;124m# eigenmodes\u001b[39m\u001b[38;5;124m'\u001b[39m, \u001b[38;5;28mself\u001b[39m\u001b[38;5;241m.\u001b[39mn_modes,\n\u001b[0;32m    170\u001b[0m                                   \u001b[38;5;124m'\u001b[39m\u001b[38;5;124m# variations\u001b[39m\u001b[38;5;124m'\u001b[39m, \u001b[38;5;28mself\u001b[39m\u001b[38;5;241m.\u001b[39mn_variations))\n",
      "File \u001b[1;32mC:\\ProgramData\\Anaconda3\\envs\\qmetal\\lib\\site-packages\\pyEPR\\core_distributed_analysis.py:481\u001b[0m, in \u001b[0;36mDistributedAnalysis.update_ansys_info\u001b[1;34m(self)\u001b[0m\n\u001b[0;32m    471\u001b[0m \u001b[38;5;250m\u001b[39m\u001b[38;5;124;03m''''\u001b[39;00m\n\u001b[0;32m    472\u001b[0m \u001b[38;5;124;03mUpdates all information about the Ansys solved variations and variables.\u001b[39;00m\n\u001b[0;32m    473\u001b[0m \n\u001b[1;32m   (...)\u001b[0m\n\u001b[0;32m    478\u001b[0m \n\u001b[0;32m    479\u001b[0m \u001b[38;5;124;03m'''\u001b[39;00m\n\u001b[0;32m    480\u001b[0m \u001b[38;5;66;03m# from oDesign\u001b[39;00m\n\u001b[1;32m--> 481\u001b[0m \u001b[38;5;28mself\u001b[39m\u001b[38;5;241m.\u001b[39m_nominal_variation \u001b[38;5;241m=\u001b[39m \u001b[38;5;28;43mself\u001b[39;49m\u001b[38;5;241;43m.\u001b[39;49m\u001b[43mdesign\u001b[49m\u001b[38;5;241;43m.\u001b[39;49m\u001b[43mget_nominal_variation\u001b[49m\u001b[43m(\u001b[49m\u001b[43m)\u001b[49m\n\u001b[0;32m    483\u001b[0m \u001b[38;5;28;01mif\u001b[39;00m \u001b[38;5;28mself\u001b[39m\u001b[38;5;241m.\u001b[39msetup:\n\u001b[0;32m    484\u001b[0m     \u001b[38;5;66;03m# from oSetup -- only for the solved variations!\u001b[39;00m\n\u001b[0;32m    485\u001b[0m     \u001b[38;5;28mself\u001b[39m\u001b[38;5;241m.\u001b[39m_list_variations \u001b[38;5;241m=\u001b[39m \u001b[38;5;28mself\u001b[39m\u001b[38;5;241m.\u001b[39msolutions\u001b[38;5;241m.\u001b[39mlist_variations()\n",
      "File \u001b[1;32mC:\\ProgramData\\Anaconda3\\envs\\qmetal\\lib\\site-packages\\pyEPR\\ansys.py:842\u001b[0m, in \u001b[0;36mHfssDesign.get_nominal_variation\u001b[1;34m(self)\u001b[0m\n\u001b[0;32m    836\u001b[0m \u001b[38;5;28;01mdef\u001b[39;00m \u001b[38;5;21mget_nominal_variation\u001b[39m(\u001b[38;5;28mself\u001b[39m):\n\u001b[0;32m    837\u001b[0m \u001b[38;5;250m    \u001b[39m\u001b[38;5;124;03m\"\"\"\u001b[39;00m\n\u001b[0;32m    838\u001b[0m \u001b[38;5;124;03m    Use: Gets the nominal variation string\u001b[39;00m\n\u001b[0;32m    839\u001b[0m \u001b[38;5;124;03m    Return Value: Returns a string representing the nominal variation\u001b[39;00m\n\u001b[0;32m    840\u001b[0m \u001b[38;5;124;03m    Returns string such as \"Height='0.06mm' Lj='13.5nH'\"\u001b[39;00m\n\u001b[0;32m    841\u001b[0m \u001b[38;5;124;03m    \"\"\"\u001b[39;00m\n\u001b[1;32m--> 842\u001b[0m     \u001b[38;5;28;01mreturn\u001b[39;00m \u001b[38;5;28;43mself\u001b[39;49m\u001b[38;5;241;43m.\u001b[39;49m\u001b[43m_design\u001b[49m\u001b[38;5;241;43m.\u001b[39;49m\u001b[43mGetNominalVariation\u001b[49m()\n",
      "\u001b[1;31mAttributeError\u001b[0m: 'NoneType' object has no attribute 'GetNominalVariation'"
     ]
    }
   ],
   "source": [
    "c1.plot_convergence();\n",
    "c1.plot_convergence_chi()"
   ]
  },
  {
   "cell_type": "code",
   "execution_count": 142,
   "id": "97c21005-0105-4e9c-a06e-8be17a912f38",
   "metadata": {},
   "outputs": [],
   "source": [
    "c1.sim.renderer.clean_active_design()"
   ]
  },
  {
   "cell_type": "code",
   "execution_count": 143,
   "id": "ff11d4e3-6ada-4961-be5c-320ab2579632",
   "metadata": {},
   "outputs": [],
   "source": [
    "c1.sim.close()"
   ]
  },
  {
   "cell_type": "markdown",
   "id": "61d398b8-4e67-4b36-b56b-def50e6626be",
   "metadata": {
    "jp-MarkdownHeadingCollapsed": true
   },
   "source": [
    "## Tuning the resonators"
   ]
  },
  {
   "cell_type": "markdown",
   "id": "73be5386-dbf3-40db-9531-2971e529f908",
   "metadata": {
    "jp-MarkdownHeadingCollapsed": true
   },
   "source": [
    "### Initializing the updated Parameters"
   ]
  },
  {
   "cell_type": "code",
   "execution_count": 34,
   "id": "f5eea01d-fbb1-4ae6-9fff-7994c3a70f3e",
   "metadata": {},
   "outputs": [],
   "source": [
    "Q_1.options.pad_gap = '28um'\n",
    "Q_1.options.connection_pads.readout.pad_gap = '15um'\n",
    "Q_1.options.connection_pads.readout.pad_width = '150um'\n",
    "Q_1.options.connection_pads.bus_13.pad_width = '130um'\n",
    "Q_1.options.connection_pads.bus_14.pad_width = '110um'\n",
    "Q_1.options.hfss_inductance = '14.9nH'\n",
    "\n",
    "Q_2.options.pad_gap = '28um'\n",
    "Q_2.options.connection_pads.readout.pad_gap = '15um'\n",
    "Q_2.options.connection_pads.readout.pad_width = '130um'\n",
    "Q_2.options.connection_pads.bus_23.pad_width = '100um'\n",
    "Q_2.options.connection_pads.bus_24.pad_width = '110um'\n",
    "Q_2.options.hfss_inductance = '13.3nH'\n",
    "\n",
    "Q_3.options.cross_width = '18um'\n",
    "Q_3.options.connection_pads.bus_13.claw_width = '20um'\n",
    "Q_3.options.connection_pads.bus_13.claw_length = '120um'\n",
    "Q_3.options.connection_pads.bus_23.claw_width = '20um'\n",
    "Q_3.options.connection_pads.bus_23.claw_length = '120um'\n",
    "Q_3.options.hfss_inductance = '8nH'\n",
    "\n",
    "Q_4.options.cross_width = '18um'\n",
    "Q_4.options.connection_pads.bus_14.claw_width = '20um'\n",
    "Q_4.options.connection_pads.bus_14.claw_length = '120um'\n",
    "Q_4.options.connection_pads.bus_24.claw_width = '20um'\n",
    "Q_4.options.connection_pads.bus_24.claw_length = '120um'\n",
    "Q_4.options.hfss_inductance = '7.5nH'\n"
   ]
  },
  {
   "cell_type": "code",
   "execution_count": 35,
   "id": "477f8a4e-5de0-4b3c-9b18-85b383638e06",
   "metadata": {},
   "outputs": [],
   "source": [
    "from qiskit_metal.analyses.quantization import EPRanalysis\n",
    "eig_res = EPRanalysis(design, \"hfss\")"
   ]
  },
  {
   "cell_type": "markdown",
   "id": "9be0ff58-2be4-4286-8e55-2b6af1e4d32f",
   "metadata": {},
   "source": [
    "### bus_13"
   ]
  },
  {
   "cell_type": "code",
   "execution_count": 36,
   "id": "6cdea68b-ac36-4806-b929-2fa263407a7a",
   "metadata": {},
   "outputs": [
    {
     "name": "stderr",
     "output_type": "stream",
     "text": [
      "INFO 02:20PM [connect_project]: Connecting to Ansys Desktop API...\n",
      "INFO 02:20PM [load_ansys_project]: \tOpened Ansys App\n",
      "INFO 02:20PM [load_ansys_project]: \tOpened Ansys Desktop v2024.1.0\n",
      "INFO 02:20PM [load_ansys_project]: \tOpened Ansys Project\n",
      "\tFolder:    C:/Users/user/Documents/Ansoft/\n",
      "\tProject:   Project5\n",
      "INFO 02:20PM [connect_design]: No active design found (or error getting active design).\n",
      "INFO 02:20PM [connect]: \t Connected to project \"Project5\". No design detected\n"
     ]
    },
    {
     "data": {
      "text/plain": [
       "True"
      ]
     },
     "execution_count": 36,
     "metadata": {},
     "output_type": "execute_result"
    }
   ],
   "source": [
    "bus_13_hfss = eig_res.sim.renderer\n",
    "bus_13_hfss.start()"
   ]
  },
  {
   "cell_type": "code",
   "execution_count": 93,
   "id": "2a0ffd26-cb1e-4f3a-bba4-ea21d0857f42",
   "metadata": {},
   "outputs": [
    {
     "name": "stderr",
     "output_type": "stream",
     "text": [
      "INFO 03:42PM [connect_design]: \tOpened active design\n",
      "\tDesign:    Resonator_tuning [Solution type: Eigenmode]\n"
     ]
    }
   ],
   "source": [
    "bus_13_hfss.activate_ansys_design(\"Resonator_tuning\", 'eigenmode')  # use new_ansys_design() to force creation of a blank design"
   ]
  },
  {
   "cell_type": "code",
   "execution_count": 148,
   "id": "10bf6958-1fcc-478c-acc4-cbf5144e1735",
   "metadata": {},
   "outputs": [
    {
     "data": {
      "text/plain": [
       "\u001b[1;31mSignature:\u001b[0m\n",
       " \u001b[0mbus_13_hfss\u001b[0m\u001b[1;33m.\u001b[0m\u001b[0mrender_design\u001b[0m\u001b[1;33m(\u001b[0m\u001b[1;33m\n",
       "\u001b[0m    \u001b[0mselection\u001b[0m\u001b[1;33m:\u001b[0m \u001b[0mtyping\u001b[0m\u001b[1;33m.\u001b[0m\u001b[0mOptional\u001b[0m\u001b[1;33m[\u001b[0m\u001b[0mlist\u001b[0m\u001b[1;33m]\u001b[0m \u001b[1;33m=\u001b[0m \u001b[1;32mNone\u001b[0m\u001b[1;33m,\u001b[0m\u001b[1;33m\n",
       "\u001b[0m    \u001b[0mopen_pins\u001b[0m\u001b[1;33m:\u001b[0m \u001b[0mtyping\u001b[0m\u001b[1;33m.\u001b[0m\u001b[0mOptional\u001b[0m\u001b[1;33m[\u001b[0m\u001b[0mlist\u001b[0m\u001b[1;33m]\u001b[0m \u001b[1;33m=\u001b[0m \u001b[1;32mNone\u001b[0m\u001b[1;33m,\u001b[0m\u001b[1;33m\n",
       "\u001b[0m    \u001b[0mport_list\u001b[0m\u001b[1;33m:\u001b[0m \u001b[0mtyping\u001b[0m\u001b[1;33m.\u001b[0m\u001b[0mOptional\u001b[0m\u001b[1;33m[\u001b[0m\u001b[0mlist\u001b[0m\u001b[1;33m]\u001b[0m \u001b[1;33m=\u001b[0m \u001b[1;32mNone\u001b[0m\u001b[1;33m,\u001b[0m\u001b[1;33m\n",
       "\u001b[0m    \u001b[0mjj_to_port\u001b[0m\u001b[1;33m:\u001b[0m \u001b[0mtyping\u001b[0m\u001b[1;33m.\u001b[0m\u001b[0mOptional\u001b[0m\u001b[1;33m[\u001b[0m\u001b[0mlist\u001b[0m\u001b[1;33m]\u001b[0m \u001b[1;33m=\u001b[0m \u001b[1;32mNone\u001b[0m\u001b[1;33m,\u001b[0m\u001b[1;33m\n",
       "\u001b[0m    \u001b[0mignored_jjs\u001b[0m\u001b[1;33m:\u001b[0m \u001b[0mtyping\u001b[0m\u001b[1;33m.\u001b[0m\u001b[0mOptional\u001b[0m\u001b[1;33m[\u001b[0m\u001b[0mlist\u001b[0m\u001b[1;33m]\u001b[0m \u001b[1;33m=\u001b[0m \u001b[1;32mNone\u001b[0m\u001b[1;33m,\u001b[0m\u001b[1;33m\n",
       "\u001b[0m    \u001b[0mbox_plus_buffer\u001b[0m\u001b[1;33m:\u001b[0m \u001b[0mbool\u001b[0m \u001b[1;33m=\u001b[0m \u001b[1;32mTrue\u001b[0m\u001b[1;33m,\u001b[0m\u001b[1;33m\n",
       "\u001b[0m\u001b[1;33m)\u001b[0m\u001b[1;33m\u001b[0m\u001b[1;33m\u001b[0m\u001b[0m\n",
       "\u001b[1;31mDocstring:\u001b[0m\n",
       "Initiate rendering of components in design contained in selection,\n",
       "assuming they're valid. Components are rendered before the chips they\n",
       "reside on, and subtraction of negative shapes is performed at the very\n",
       "end. Add the metalize() method here to turn objects in\n",
       "self.assign_perfE (see init in QAnsysRenderer class) into perfect\n",
       "electrical conductors. Create lumped ports as needed.\n",
       "\n",
       "First obtain a list of IDs of components to render and a corresponding\n",
       "case, denoted by self.qcomp_ids and self.case, respectively. If\n",
       "self.case == 1, all components in QDesign are to be rendered.  If\n",
       "self.case == 0, a strict subset of components in QDesign are to be\n",
       "rendered. Otherwise, if self.case == 2, one or more component names in\n",
       "selection cannot be found in QDesign.\n",
       "\n",
       "Among the components selected for export, there may or may not be\n",
       "unused (unconnected) pins. The second parameter, open_pins, contains\n",
       "tuples of the form (component_name, pin_name) that specify exactly\n",
       "which pins should be open rather than shorted during the simulation.\n",
       "Both the component and pin name must be specified because the latter\n",
       "could be shared by multiple components. All pins in this list are\n",
       "rendered with an additional endcap in the form of a rectangular\n",
       "cutout, to be subtracted from its respective plane.\n",
       "\n",
       "In driven modal solutions, the Ansys design must include one or more\n",
       "ports. This is done by adding all port designations and their\n",
       "respective impedances in Ohms as (qcomp, pin, impedance) to port_list.\n",
       "Note that an open endcap must separate the two sides of each pin before\n",
       "inserting a lumped port in between, so behind the scenes all pins in\n",
       "port_list are also added to open_pins. Practically, however, port_list\n",
       "and open_pins are inputted as mutually exclusive lists.\n",
       "\n",
       "Also in driven modal solutions, one may want to render junctions as\n",
       "lumped ports and/or inductors, or omit them altogether. To do so,\n",
       "tuples of the form (component_name, element_name, impedance, draw_ind)\n",
       "are added to the list jj_to_port. For example,\n",
       "('Q1', 'rect_jj', 70, True) indicates that rect_jj of component Q1 is\n",
       "to be rendered as both a lumped port with an impedance of 70 Ohms as\n",
       "well as an inductor whose properties are given in default_options.\n",
       "Replacing the last entry of this 4-element tuple with False would\n",
       "indicate that only the port is to be drawn, not the inductor.\n",
       "Alternatively for driven modal solutions, one may want to disregard\n",
       "select junctions in the Metal design altogether to simulate the\n",
       "capacitive effect while keeping the qubit in an \"off\" state. Such\n",
       "junctions are specified in the form (component_name, element_name)\n",
       "in the list ignored_jjs.\n",
       "\n",
       "The final parameter, box_plus_buffer, determines how the chip is drawn.\n",
       "When set to True, it takes the minimum rectangular bounding box of all\n",
       "rendered components and adds a buffer of x_buffer_width_mm and\n",
       "y_buffer_width_mm horizontally and vertically, respectively, to the\n",
       "chip size. The center of the chip lies at the midpoint x/y coordinates\n",
       "of the minimum rectangular bounding box and may change depending on\n",
       "which components are rendered and how they're positioned. If\n",
       "box_plus_buffer is False, however, the chip position and dimensions\n",
       "are taken from the chip info dictionary found in self.design,\n",
       "irrespective of what's being rendered. While this latter option is\n",
       "faster because it doesn't require calculating a bounding box, it runs\n",
       "the risk of rendered components being too close to the edge of the chip\n",
       "or even falling outside its boundaries.\n",
       "\n",
       "Args:\n",
       "    selection (Union[list, None], optional): List of components to\n",
       "                                render. Defaults to None.\n",
       "    open_pins (Union[list, None], optional): List of tuples of pins\n",
       "                                that are open. Defaults to None.\n",
       "    port_list (Union[list, None], optional): List of tuples of pins to\n",
       "                                be rendered as ports. Defaults to None.\n",
       "    jj_to_port (Union[list, None], optional): List of tuples of jj's to\n",
       "                                be rendered as ports. Defaults to None.\n",
       "    ignored_jjs (Union[list, None], optional): List of tuples of jj's\n",
       "                                that shouldn't be rendered.\n",
       "                                Defaults to None.\n",
       "    box_plus_buffer (bool): Either calculate a bounding box based on\n",
       "                                the location of rendered geometries\n",
       "                                or use chip size from design class.\n",
       "\u001b[1;31mFile:\u001b[0m      c:\\programdata\\anaconda3\\envs\\qmetal\\lib\\site-packages\\qiskit_metal\\renderers\\renderer_ansys\\hfss_renderer.py\n",
       "\u001b[1;31mType:\u001b[0m      method"
      ]
     },
     "metadata": {},
     "output_type": "display_data"
    }
   ],
   "source": [
    "? bus_13_hfss.render_design"
   ]
  },
  {
   "cell_type": "code",
   "execution_count": 94,
   "id": "82b74383-9532-406d-aef8-053894aaa171",
   "metadata": {},
   "outputs": [],
   "source": [
    "bus_13_hfss.render_design(selection = ['Bus_13', 'Q_1', 'Q_3'], ignored_jjs = [('Q_1', 'rect_jj'), ('Q_3', 'rect_jj')], box_plus_buffer = False)"
   ]
  },
  {
   "cell_type": "code",
   "execution_count": 95,
   "id": "1747133a-4766-4e09-88d4-5796b6be4267",
   "metadata": {},
   "outputs": [],
   "source": [
    "bus_13_setup = bus_13_hfss.pinfo.setup"
   ]
  },
  {
   "cell_type": "code",
   "execution_count": 96,
   "id": "fd11280c-34a3-46a9-83af-4fe128f7056a",
   "metadata": {},
   "outputs": [
    {
     "name": "stderr",
     "output_type": "stream",
     "text": [
      "INFO 03:42PM [analyze]: Analyzing setup Setup\n"
     ]
    },
    {
     "name": "stdout",
     "output_type": "stream",
     "text": [
      "\n",
      "Number of eigenmodes to find             = 2\n",
      "Number of simulation passes              = 12\n",
      "Convergence freq max delta percent diff  = 0.1\n",
      "\n"
     ]
    }
   ],
   "source": [
    "bus_13_setup.passes = 12\n",
    "bus_13_setup.n_modes = 2\n",
    "\n",
    "print(f\"\"\"\n",
    "Number of eigenmodes to find             = {bus_13_setup.n_modes}\n",
    "Number of simulation passes              = {bus_13_setup.passes}\n",
    "Convergence freq max delta percent diff  = {bus_13_setup.delta_f}\n",
    "\"\"\")\n",
    "\n",
    "# Next 2 lines are counterinuitive, since there is no junction in this resonator.\n",
    "# However, these are necessary to make pyEPR work correctly. Please do note delete\n",
    "bus_13_hfss.pinfo.design.set_variable('Lj', '10 nH')\n",
    "bus_13_hfss.pinfo.design.set_variable('Cj', '0 fF')\n",
    "\n",
    "bus_13_setup.analyze()"
   ]
  },
  {
   "cell_type": "code",
   "execution_count": 97,
   "id": "784ac979-e883-4a1b-891b-ffbc90bb9eae",
   "metadata": {},
   "outputs": [
    {
     "data": {
      "text/plain": [
       "([5.17715691573, 7.97535104279], None)"
      ]
     },
     "execution_count": 97,
     "metadata": {},
     "output_type": "execute_result"
    }
   ],
   "source": [
    "bus_13_setup.get_solutions().eigenmodes()"
   ]
  },
  {
   "cell_type": "code",
   "execution_count": 156,
   "id": "8d7a650f-44a5-449f-ae59-b010774ba344",
   "metadata": {},
   "outputs": [
    {
     "name": "stderr",
     "output_type": "stream",
     "text": [
      "03:44AM 40s INFO [get_f_convergence]: Saved convergences to C:\\Users\\user\\Qiskit Metal\\hfss_eig_f_convergence.csv\n"
     ]
    }
   ],
   "source": [
    "eig_res.sim.convergence_t, eig_res.sim.convergence_f, _ = bus_13_hfss.get_convergences()\n",
    "eig_res.sim.plot_convergences()"
   ]
  },
  {
   "cell_type": "code",
   "execution_count": 158,
   "id": "d003f8a9-cfba-48f9-b456-fe505aca5cd3",
   "metadata": {},
   "outputs": [],
   "source": [
    "bus_13_hfss.modeler._modeler.ShowWindow()\n",
    "bus_13_hfss.plot_fields('main')"
   ]
  },
  {
   "cell_type": "code",
   "execution_count": 160,
   "id": "eb02f0ee-7f7e-47a8-bdc2-0a9e3c00016f",
   "metadata": {},
   "outputs": [
    {
     "data": {
      "text/plain": [
       "'10.65mm'"
      ]
     },
     "execution_count": 160,
     "metadata": {},
     "output_type": "execute_result"
    }
   ],
   "source": [
    "bus_13.options.total_length"
   ]
  },
  {
   "cell_type": "code",
   "execution_count": 163,
   "id": "de4b8267-0e0c-4cf2-9e40-def8fdde79d6",
   "metadata": {},
   "outputs": [],
   "source": [
    "bus_13.options.total_length = '10.5mm'\n",
    "gui.rebuild()"
   ]
  },
  {
   "cell_type": "code",
   "execution_count": 165,
   "id": "217c1557-c3a4-4e32-b99f-4f35f922754e",
   "metadata": {},
   "outputs": [],
   "source": [
    "bus_13_hfss.clean_active_design()"
   ]
  },
  {
   "cell_type": "code",
   "execution_count": 166,
   "id": "e6f8a876-054e-4de7-bfd3-752f1c4fa23d",
   "metadata": {},
   "outputs": [],
   "source": [
    "bus_13_hfss.render_design(selection = ['Bus_13', 'Q_1', 'Q_3'])"
   ]
  },
  {
   "cell_type": "code",
   "execution_count": 167,
   "id": "0d4c9602-fbb2-465b-8d95-96fcc3eb00f8",
   "metadata": {},
   "outputs": [
    {
     "name": "stderr",
     "output_type": "stream",
     "text": [
      "INFO 04:13AM [analyze]: Analyzing setup Setup\n"
     ]
    }
   ],
   "source": [
    "bus_13_setup = bus_13_hfss.pinfo.setup\n",
    "bus_13_setup.passes = 12\n",
    "bus_13_setup.n_modes = 3\n",
    "\n",
    "bus_13_setup.analyze()"
   ]
  },
  {
   "cell_type": "code",
   "execution_count": 168,
   "id": "0caac978-b677-4175-a4af-984be1dc40e1",
   "metadata": {},
   "outputs": [
    {
     "data": {
      "text/plain": [
       "([4.87002105132, 5.02360621414, 5.26632588727], None)"
      ]
     },
     "execution_count": 168,
     "metadata": {},
     "output_type": "execute_result"
    }
   ],
   "source": [
    "bus_13_setup.get_solutions().eigenmodes()"
   ]
  },
  {
   "cell_type": "code",
   "execution_count": 169,
   "id": "ef357d0b-41b6-4ece-93e1-6fbbeca9865f",
   "metadata": {},
   "outputs": [
    {
     "name": "stderr",
     "output_type": "stream",
     "text": [
      "04:20AM 48s INFO [get_f_convergence]: Saved convergences to C:\\Users\\user\\Qiskit Metal\\hfss_eig_f_convergence.csv\n"
     ]
    }
   ],
   "source": [
    "eig_res.sim.convergence_t, eig_res.sim.convergence_f, _ = bus_13_hfss.get_convergences()\n",
    "eig_res.sim.plot_convergences()"
   ]
  },
  {
   "cell_type": "code",
   "execution_count": 170,
   "id": "d1b969c6-ae48-487e-a089-cb205eb40225",
   "metadata": {},
   "outputs": [],
   "source": [
    "bus_13_hfss.modeler._modeler.ShowWindow()\n",
    "bus_13_hfss.plot_fields('main')"
   ]
  },
  {
   "cell_type": "code",
   "execution_count": 171,
   "id": "abdc87e9-c856-478e-9b82-4af69d72f9e2",
   "metadata": {},
   "outputs": [],
   "source": [
    "bus_13.options.total_length = '10mm'\n",
    "gui.rebuild()"
   ]
  },
  {
   "cell_type": "code",
   "execution_count": 172,
   "id": "b7059bb6-37b0-4c45-b9d9-011a23112e02",
   "metadata": {},
   "outputs": [],
   "source": [
    "bus_13_hfss.clean_active_design()"
   ]
  },
  {
   "cell_type": "code",
   "execution_count": 173,
   "id": "552de59a-5e87-43f1-8a59-6d68d7f3373b",
   "metadata": {},
   "outputs": [],
   "source": [
    "bus_13_hfss.render_design(selection = ['Bus_13', 'Q_1', 'Q_3'])"
   ]
  },
  {
   "cell_type": "code",
   "execution_count": 174,
   "id": "7065bf83-6fd7-46f3-873b-3715b60fbbc4",
   "metadata": {},
   "outputs": [
    {
     "name": "stderr",
     "output_type": "stream",
     "text": [
      "INFO 04:23AM [analyze]: Analyzing setup Setup\n"
     ]
    }
   ],
   "source": [
    "bus_13_setup = bus_13_hfss.pinfo.setup\n",
    "bus_13_setup.passes = 12\n",
    "bus_13_setup.n_modes = 3\n",
    "\n",
    "bus_13_setup.analyze()"
   ]
  },
  {
   "cell_type": "code",
   "execution_count": 175,
   "id": "e1bd9e98-8895-48a0-a61a-780bb0aa4f60",
   "metadata": {},
   "outputs": [
    {
     "data": {
      "text/plain": [
       "([4.92478438543, 5.08098059913, 5.53067308034], None)"
      ]
     },
     "execution_count": 175,
     "metadata": {},
     "output_type": "execute_result"
    }
   ],
   "source": [
    "bus_13_setup.get_solutions().eigenmodes()"
   ]
  },
  {
   "cell_type": "code",
   "execution_count": 102,
   "id": "059e931b-6ce6-45ab-9712-076a7697afd0",
   "metadata": {},
   "outputs": [],
   "source": [
    "import time"
   ]
  },
  {
   "cell_type": "code",
   "execution_count": 98,
   "id": "8eeeb0b7-caae-43ee-83c9-f217b2570c32",
   "metadata": {},
   "outputs": [
    {
     "name": "stderr",
     "output_type": "stream",
     "text": [
      "03:47PM 21s WARNING [check_lengths]: For path table, component=Bus_13, key=trace has short segments that could cause issues with fillet. Values in (2-3)  are index(es) in shapely geometry.\n",
      "03:47PM 21s WARNING [check_lengths]: For path table, component=Bus_13, key=cut has short segments that could cause issues with fillet. Values in (2-3)  are index(es) in shapely geometry.\n",
      "INFO 03:47PM [__del__]: Disconnected from Ansys HFSS\n"
     ]
    }
   ],
   "source": [
    "bus_13.options.total_length = '9.5mm'\n",
    "gui.rebuild()"
   ]
  },
  {
   "cell_type": "code",
   "execution_count": 99,
   "id": "7087ec50-7f31-4f44-93c8-3597c2b0a84a",
   "metadata": {},
   "outputs": [],
   "source": [
    "bus_13.options.fillet = '50um'\n",
    "bus_13.options.total_length = '9.5mm'\n",
    "gui.rebuild()"
   ]
  },
  {
   "cell_type": "code",
   "execution_count": 100,
   "id": "14362b5a-91e5-4ccb-a08d-ed5c3a5119c9",
   "metadata": {},
   "outputs": [],
   "source": [
    "bus_13_hfss.clean_active_design()\n",
    "bus_13_hfss.render_design(selection = ['Bus_13', 'Q_1', 'Q_3'])"
   ]
  },
  {
   "cell_type": "code",
   "execution_count": 103,
   "id": "591d7511-60ce-4fa8-93da-8198fb220942",
   "metadata": {},
   "outputs": [
    {
     "name": "stderr",
     "output_type": "stream",
     "text": [
      "INFO 03:48PM [analyze]: Analyzing setup Setup\n"
     ]
    },
    {
     "name": "stdout",
     "output_type": "stream",
     "text": [
      "Counting\n",
      "Time Elapsed: 204.36242771148682\n"
     ]
    }
   ],
   "source": [
    "start = time.time()\n",
    "print(\"Counting\")\n",
    "bus_13_setup = bus_13_hfss.pinfo.setup\n",
    "bus_13_setup.passes = 12\n",
    "bus_13_setup.n_modes = 3\n",
    "\n",
    "bus_13_setup.analyze()\n",
    "\n",
    "end = time.time()\n",
    "print(\"Time Elapsed:\", end - start)"
   ]
  },
  {
   "cell_type": "code",
   "execution_count": 104,
   "id": "369f1000-83bf-42c1-bb2d-abbf183b42d2",
   "metadata": {},
   "outputs": [
    {
     "data": {
      "text/plain": [
       "([4.91463735, 5.05852000464, 5.8083603074], None)"
      ]
     },
     "execution_count": 104,
     "metadata": {},
     "output_type": "execute_result"
    }
   ],
   "source": [
    "bus_13_setup.get_solutions().eigenmodes()"
   ]
  },
  {
   "cell_type": "code",
   "execution_count": 105,
   "id": "8f827e55-7103-46a9-b836-76d94c8f1551",
   "metadata": {},
   "outputs": [
    {
     "name": "stderr",
     "output_type": "stream",
     "text": [
      "03:54PM 39s INFO [get_f_convergence]: Saved convergences to C:\\Users\\user\\Qiskit Metal\\hfss_eig_f_convergence.csv\n"
     ]
    }
   ],
   "source": [
    "eig_res.sim.convergence_t, eig_res.sim.convergence_f, _ = bus_13_hfss.get_convergences()\n",
    "eig_res.sim.plot_convergences()"
   ]
  },
  {
   "cell_type": "code",
   "execution_count": 106,
   "id": "6e97b1d1-c1f7-4a5a-9186-24844c1fbbc6",
   "metadata": {},
   "outputs": [],
   "source": [
    "bus_13_hfss.modeler._modeler.ShowWindow()\n",
    "bus_13_hfss.plot_fields('main')"
   ]
  },
  {
   "cell_type": "code",
   "execution_count": 107,
   "id": "9b42caf4-bd8b-4485-a123-366292111708",
   "metadata": {},
   "outputs": [
    {
     "name": "stdout",
     "output_type": "stream",
     "text": [
      "Warning! 3 COM references still alive\n",
      "Ansys will likely refuse to shut down\n"
     ]
    }
   ],
   "source": [
    "eig_res.sim.close()"
   ]
  },
  {
   "cell_type": "markdown",
   "id": "eea5faf0-d481-4eb9-9618-e37f26b94605",
   "metadata": {},
   "source": [
    "### Bus_23"
   ]
  },
  {
   "cell_type": "code",
   "execution_count": 108,
   "id": "461dcf7b-14e7-44c7-82d5-1d56e38978d5",
   "metadata": {},
   "outputs": [
    {
     "name": "stderr",
     "output_type": "stream",
     "text": [
      "INFO 03:57PM [connect_project]: Connecting to Ansys Desktop API...\n",
      "INFO 03:57PM [load_ansys_project]: \tOpened Ansys App\n",
      "INFO 03:57PM [load_ansys_project]: \tOpened Ansys Desktop v2024.1.0\n",
      "INFO 03:57PM [load_ansys_project]: \tOpened Ansys Project\n",
      "\tFolder:    C:/Users/user/Documents/Ansoft/\n",
      "\tProject:   Project5\n",
      "INFO 03:57PM [connect_design]: \tOpened active design\n",
      "\tDesign:    Resonator_tuning [Solution type: Eigenmode]\n",
      "INFO 03:57PM [get_setup]: \tOpened setup `Setup`  (<class 'pyEPR.ansys.HfssEMSetup'>)\n",
      "INFO 03:57PM [connect]: \tConnected to project \"Project5\" and design \"Resonator_tuning\" 😀 \n",
      "\n"
     ]
    },
    {
     "data": {
      "text/plain": [
       "True"
      ]
     },
     "execution_count": 108,
     "metadata": {},
     "output_type": "execute_result"
    }
   ],
   "source": [
    "bus_23_hfss = eig_res.sim.renderer\n",
    "bus_23_hfss.start()"
   ]
  },
  {
   "cell_type": "code",
   "execution_count": 109,
   "id": "ba91bfbf-824e-42fb-a446-ca786bcfbf65",
   "metadata": {},
   "outputs": [
    {
     "name": "stderr",
     "output_type": "stream",
     "text": [
      "INFO 03:57PM [connect_design]: \tOpened active design\n",
      "\tDesign:    Resonator_tuning [Solution type: Eigenmode]\n"
     ]
    }
   ],
   "source": [
    "bus_23_hfss.activate_ansys_design(\"Resonator_tuning\", 'eigenmode')"
   ]
  },
  {
   "cell_type": "code",
   "execution_count": 41,
   "id": "b0b0d3a8-7a91-496b-9df8-0dcb13bda48c",
   "metadata": {},
   "outputs": [],
   "source": [
    "bus_23_hfss.render_design(selection = ['Bus_23', 'Q_2', 'Q_3'], ignored_jjs = [('Q_2', 'rect_jj'), ('Q_3', 'rect_jj')], box_plus_buffer = False)\n"
   ]
  },
  {
   "cell_type": "code",
   "execution_count": 44,
   "id": "4cbe436a-d0c6-4e0e-9e85-8f2f7df05dbd",
   "metadata": {},
   "outputs": [],
   "source": [
    "bus_23_setup = bus_23_hfss.pinfo.setup"
   ]
  },
  {
   "cell_type": "code",
   "execution_count": 45,
   "id": "7f5c3851-3278-4aca-bc26-56eadab6f25e",
   "metadata": {},
   "outputs": [
    {
     "name": "stderr",
     "output_type": "stream",
     "text": [
      "INFO 02:29PM [analyze]: Analyzing setup Setup\n"
     ]
    },
    {
     "name": "stdout",
     "output_type": "stream",
     "text": [
      "\n",
      "Number of eigenmodes to find             = 2\n",
      "Number of simulation passes              = 12\n",
      "Convergence freq max delta percent diff  = 0.1\n",
      "\n"
     ]
    }
   ],
   "source": [
    "bus_23_setup.passes = 12\n",
    "bus_23_setup.n_modes = 2\n",
    "\n",
    "print(f\"\"\"\n",
    "Number of eigenmodes to find             = {bus_23_setup.n_modes}\n",
    "Number of simulation passes              = {bus_23_setup.passes}\n",
    "Convergence freq max delta percent diff  = {bus_23_setup.delta_f}\n",
    "\"\"\")\n",
    "\n",
    "# Next 2 lines are counterinuitive, since there is no junction in this resonator.\n",
    "# However, these are necessary to make pyEPR work correctly. Please do note delete\n",
    "bus_23_hfss.pinfo.design.set_variable('Lj', '10 nH')\n",
    "bus_23_hfss.pinfo.design.set_variable('Cj', '0 fF')\n",
    "\n",
    "bus_23_setup.analyze()\n"
   ]
  },
  {
   "cell_type": "code",
   "execution_count": 46,
   "id": "73bd427c-f442-40f1-a643-ef9c14acf040",
   "metadata": {},
   "outputs": [
    {
     "data": {
      "text/plain": [
       "([5.43256189392, 10.8775361562], None)"
      ]
     },
     "execution_count": 46,
     "metadata": {},
     "output_type": "execute_result"
    }
   ],
   "source": [
    "bus_23_setup.get_solutions().eigenmodes()"
   ]
  },
  {
   "cell_type": "code",
   "execution_count": 47,
   "id": "e7f50f10-97b4-4739-b49c-f302c6758efb",
   "metadata": {},
   "outputs": [
    {
     "name": "stderr",
     "output_type": "stream",
     "text": [
      "02:35PM 14s INFO [get_f_convergence]: Saved convergences to C:\\Users\\user\\Qiskit Metal\\hfss_eig_f_convergence.csv\n"
     ]
    }
   ],
   "source": [
    "eig_res.sim.convergence_t, eig_res.sim.convergence_f, _ = bus_23_hfss.get_convergences()\n",
    "eig_res.sim.plot_convergences()"
   ]
  },
  {
   "cell_type": "code",
   "execution_count": 49,
   "id": "a52e00a0-bf07-4e32-a9d8-38c6c989133d",
   "metadata": {},
   "outputs": [],
   "source": [
    "bus_23_hfss.modeler._modeler.ShowWindow()\n",
    "bus_23_hfss.plot_fields('main')"
   ]
  },
  {
   "cell_type": "code",
   "execution_count": 50,
   "id": "4544fa29-7849-406f-a179-f5137748e8e9",
   "metadata": {},
   "outputs": [],
   "source": [
    "bus_23.options.total_length = '10mm'\n",
    "gui.rebuild()\n",
    "\n",
    "bus_23_hfss.clean_active_design()"
   ]
  },
  {
   "cell_type": "code",
   "execution_count": 51,
   "id": "f94aef3a-8348-4c85-9db8-69da9ba92e1f",
   "metadata": {},
   "outputs": [],
   "source": [
    "bus_23_hfss.render_design(selection = ['Bus_23', 'Q_2', 'Q_3'])"
   ]
  },
  {
   "cell_type": "code",
   "execution_count": 52,
   "id": "551fa1f4-e10d-40df-81da-a3d1b3c94e81",
   "metadata": {},
   "outputs": [
    {
     "name": "stderr",
     "output_type": "stream",
     "text": [
      "INFO 02:40PM [analyze]: Analyzing setup Setup\n"
     ]
    }
   ],
   "source": [
    "bus_23_setup = bus_23_hfss.pinfo.setup\n",
    "bus_23_setup.passes = 12\n",
    "bus_23_setup.n_modes = 3\n",
    "\n",
    "bus_23_setup.analyze()"
   ]
  },
  {
   "cell_type": "code",
   "execution_count": 53,
   "id": "cd101772-d7de-4ab4-bce3-6f3681942232",
   "metadata": {},
   "outputs": [
    {
     "data": {
      "text/plain": [
       "([5.10417948496, 5.21882905035, 5.56356639014], None)"
      ]
     },
     "execution_count": 53,
     "metadata": {},
     "output_type": "execute_result"
    }
   ],
   "source": [
    "bus_23_setup.get_solutions().eigenmodes()"
   ]
  },
  {
   "cell_type": "code",
   "execution_count": 54,
   "id": "057efbab-8f1c-4c03-83b8-aa0dd2446427",
   "metadata": {},
   "outputs": [],
   "source": [
    "bus_23_hfss.modeler._modeler.ShowWindow()\n",
    "bus_23_hfss.plot_fields('main')"
   ]
  },
  {
   "cell_type": "code",
   "execution_count": 110,
   "id": "fd4a90ce-a965-44b6-bc7a-e47fd63d2468",
   "metadata": {},
   "outputs": [],
   "source": [
    "bus_23.options.total_length = '9.2mm'\n",
    "gui.rebuild()\n",
    "\n",
    "bus_23_hfss.clean_active_design()"
   ]
  },
  {
   "cell_type": "code",
   "execution_count": 111,
   "id": "44bba953-23d2-4a88-af8b-4f48bf4d25e8",
   "metadata": {},
   "outputs": [],
   "source": [
    "bus_23_hfss.render_design(selection = ['Bus_23', 'Q_2', 'Q_3'])"
   ]
  },
  {
   "cell_type": "code",
   "execution_count": 112,
   "id": "5089218f-9fea-4c48-99de-e58a32919e0f",
   "metadata": {},
   "outputs": [
    {
     "name": "stderr",
     "output_type": "stream",
     "text": [
      "INFO 03:58PM [analyze]: Analyzing setup Setup\n"
     ]
    }
   ],
   "source": [
    "bus_23_setup = bus_23_hfss.pinfo.setup\n",
    "bus_23_setup.passes = 12\n",
    "bus_23_setup.n_modes = 3\n",
    "\n",
    "bus_23_setup.analyze()"
   ]
  },
  {
   "cell_type": "code",
   "execution_count": 113,
   "id": "4bda8d59-86b1-493d-8cb9-af15dbfdb0ef",
   "metadata": {},
   "outputs": [
    {
     "data": {
      "text/plain": [
       "([5.13691012325, 5.2469916777, 5.9615528347], None)"
      ]
     },
     "execution_count": 113,
     "metadata": {},
     "output_type": "execute_result"
    }
   ],
   "source": [
    "bus_23_setup.get_solutions().eigenmodes()"
   ]
  },
  {
   "cell_type": "code",
   "execution_count": 114,
   "id": "94cdd665-a001-4a05-b513-d14aa2ac6af6",
   "metadata": {},
   "outputs": [
    {
     "name": "stderr",
     "output_type": "stream",
     "text": [
      "04:02PM 43s INFO [get_f_convergence]: Saved convergences to C:\\Users\\user\\Qiskit Metal\\hfss_eig_f_convergence.csv\n"
     ]
    }
   ],
   "source": [
    "eig_res.sim.convergence_t, eig_res.sim.convergence_f, _ = bus_23_hfss.get_convergences()\n",
    "eig_res.sim.plot_convergences()"
   ]
  },
  {
   "cell_type": "code",
   "execution_count": 63,
   "id": "69c29db0-581c-44af-b789-51f94b027db7",
   "metadata": {},
   "outputs": [],
   "source": [
    "bus_23_hfss.modeler._modeler.ShowWindow()\n",
    "bus_23_hfss.plot_fields('main')"
   ]
  },
  {
   "cell_type": "code",
   "execution_count": 115,
   "id": "bd8bcae1-5596-4674-95b9-27785f38d61c",
   "metadata": {},
   "outputs": [],
   "source": [
    "bus_23_hfss.clean_active_design()"
   ]
  },
  {
   "cell_type": "markdown",
   "id": "9b6c6650-2343-4fd4-bc83-d2f1bbed4835",
   "metadata": {},
   "source": [
    "### Bus_24"
   ]
  },
  {
   "cell_type": "code",
   "execution_count": 65,
   "id": "5ae00c62-2272-4929-a44b-ae8c35334736",
   "metadata": {},
   "outputs": [
    {
     "name": "stderr",
     "output_type": "stream",
     "text": [
      "INFO 03:18PM [connect_project]: Connecting to Ansys Desktop API...\n",
      "INFO 03:18PM [load_ansys_project]: \tOpened Ansys App\n",
      "INFO 03:18PM [load_ansys_project]: \tOpened Ansys Desktop v2024.1.0\n",
      "INFO 03:18PM [load_ansys_project]: \tOpened Ansys Project\n",
      "\tFolder:    C:/Users/user/Documents/Ansoft/\n",
      "\tProject:   Project5\n",
      "INFO 03:18PM [connect_design]: \tOpened active design\n",
      "\tDesign:    Resonator_tuning [Solution type: Eigenmode]\n",
      "INFO 03:18PM [get_setup]: \tOpened setup `Setup`  (<class 'pyEPR.ansys.HfssEMSetup'>)\n",
      "INFO 03:18PM [connect]: \tConnected to project \"Project5\" and design \"Resonator_tuning\" 😀 \n",
      "\n"
     ]
    },
    {
     "data": {
      "text/plain": [
       "True"
      ]
     },
     "execution_count": 65,
     "metadata": {},
     "output_type": "execute_result"
    }
   ],
   "source": [
    "bus_24_hfss = eig_res.sim.renderer\n",
    "bus_24_hfss.start()"
   ]
  },
  {
   "cell_type": "code",
   "execution_count": 66,
   "id": "a8b0a7c3-587a-430f-a013-790aa0e12a9e",
   "metadata": {},
   "outputs": [
    {
     "name": "stderr",
     "output_type": "stream",
     "text": [
      "INFO 03:18PM [connect_design]: \tOpened active design\n",
      "\tDesign:    Resonator_tuning [Solution type: Eigenmode]\n"
     ]
    }
   ],
   "source": [
    "bus_24_hfss.activate_ansys_design(\"Resonator_tuning\", 'eigenmode')  # use new_ansys_design() to force creation of a blank design"
   ]
  },
  {
   "cell_type": "code",
   "execution_count": 67,
   "id": "fcc8eb95-8c79-4fe1-8fb7-126f6ba23b26",
   "metadata": {},
   "outputs": [],
   "source": [
    "bus_24_hfss.render_design(selection = ['Bus_24', 'Q_2', 'Q_4'], ignored_jjs = [('Q_2', 'rect_jj'), ('Q_4', 'rect_jj')], box_plus_buffer = False)"
   ]
  },
  {
   "cell_type": "code",
   "execution_count": 68,
   "id": "7ae80ed5-4a81-4c71-93d7-406f68e6d986",
   "metadata": {},
   "outputs": [
    {
     "name": "stderr",
     "output_type": "stream",
     "text": [
      "INFO 03:19PM [analyze]: Analyzing setup Setup\n"
     ]
    },
    {
     "name": "stdout",
     "output_type": "stream",
     "text": [
      "\n",
      "Number of eigenmodes to find             = 2\n",
      "Number of simulation passes              = 12\n",
      "Convergence freq max delta percent diff  = 0.1\n",
      "\n"
     ]
    }
   ],
   "source": [
    "bus_24_setup = bus_24_hfss.pinfo.setup\n",
    "\n",
    "bus_24_setup.passes = 12\n",
    "bus_24_setup.n_modes = 2\n",
    "\n",
    "print(f\"\"\"\n",
    "Number of eigenmodes to find             = {bus_24_setup.n_modes}\n",
    "Number of simulation passes              = {bus_24_setup.passes}\n",
    "Convergence freq max delta percent diff  = {bus_24_setup.delta_f}\n",
    "\"\"\")\n",
    "\n",
    "# Next 2 lines are counterinuitive, since there is no junction in this resonator.\n",
    "# However, these are necessary to make pyEPR work correctly. Please do note delete\n",
    "bus_24_hfss.pinfo.design.set_variable('Lj', '10 nH')\n",
    "bus_24_hfss.pinfo.design.set_variable('Cj', '0 fF')\n",
    "\n",
    "bus_24_setup.analyze()"
   ]
  },
  {
   "cell_type": "code",
   "execution_count": 69,
   "id": "0aa84c89-c8eb-433a-9a0e-344e0350d7ad",
   "metadata": {},
   "outputs": [
    {
     "data": {
      "text/plain": [
       "([5.5138308914, 8.34401898119], None)"
      ]
     },
     "execution_count": 69,
     "metadata": {},
     "output_type": "execute_result"
    }
   ],
   "source": [
    "bus_24_setup.get_solutions().eigenmodes()"
   ]
  },
  {
   "cell_type": "code",
   "execution_count": 70,
   "id": "c81b997b-47c7-4caa-96e6-19c1967a52b9",
   "metadata": {},
   "outputs": [],
   "source": [
    "bus_24_hfss.modeler._modeler.ShowWindow()\n",
    "bus_24_hfss.plot_fields('main')"
   ]
  },
  {
   "cell_type": "code",
   "execution_count": 82,
   "id": "771f39e2-8a27-490f-820a-b8dd1a3c1213",
   "metadata": {},
   "outputs": [
    {
     "name": "stderr",
     "output_type": "stream",
     "text": [
      "03:31PM 23s WARNING [check_lengths]: For path table, component=Bus_24, key=trace has short segments that could cause issues with fillet. Values in (2-3)  are index(es) in shapely geometry.\n",
      "03:31PM 23s WARNING [check_lengths]: For path table, component=Bus_24, key=cut has short segments that could cause issues with fillet. Values in (2-3)  are index(es) in shapely geometry.\n"
     ]
    }
   ],
   "source": [
    "bus_24.options.total_length = '9mm'\n",
    "gui.rebuild()"
   ]
  },
  {
   "cell_type": "code",
   "execution_count": 83,
   "id": "8ed71d64-1def-4f38-aa18-c5ab2765e835",
   "metadata": {},
   "outputs": [
    {
     "data": {
      "text/plain": [
       "{'chip': 'main',\n",
       " 'layer': '1',\n",
       " 'pin_inputs': {'start_pin': {'component': 'Q_2', 'pin': 'bus_24'},\n",
       "  'end_pin': {'component': 'Q_4', 'pin': 'bus_24'}},\n",
       " 'fillet': '99um',\n",
       " 'lead': {'start_straight': '125um',\n",
       "  'end_straight': '225um',\n",
       "  'start_jogged_extension': '',\n",
       "  'end_jogged_extension': ''},\n",
       " 'total_length': '9mm',\n",
       " 'trace_width': 'cpw_width',\n",
       " 'meander': {'spacing': '200um', 'asymmetry': '50um'},\n",
       " 'snap': 'true',\n",
       " 'prevent_short_edges': 'true',\n",
       " 'hfss_wire_bonds': True,\n",
       " 'q3d_wire_bonds': False,\n",
       " 'aedt_q3d_wire_bonds': False,\n",
       " 'aedt_hfss_wire_bonds': False,\n",
       " 'trace_gap': 'cpw_gap',\n",
       " '_actual_length': '9.00000000000001 mm'}"
      ]
     },
     "execution_count": 83,
     "metadata": {},
     "output_type": "execute_result"
    }
   ],
   "source": [
    "bus_24.options"
   ]
  },
  {
   "cell_type": "code",
   "execution_count": 86,
   "id": "f98c72ba-1abc-4721-a2be-85170eecd687",
   "metadata": {},
   "outputs": [],
   "source": [
    "bus_24.options.fillet = '20um'"
   ]
  },
  {
   "cell_type": "code",
   "execution_count": 87,
   "id": "4e1acb97-1878-492b-8636-5ffbed1818eb",
   "metadata": {},
   "outputs": [],
   "source": [
    "bus_24.options.total_length = '9mm'\n",
    "gui.rebuild()"
   ]
  },
  {
   "cell_type": "code",
   "execution_count": 88,
   "id": "4373bbaf-067a-41a9-ac9f-c83da3d18e8b",
   "metadata": {},
   "outputs": [],
   "source": [
    "bus_24_hfss.clean_active_design()"
   ]
  },
  {
   "cell_type": "code",
   "execution_count": 89,
   "id": "e490a001-0424-4804-8118-c28673edb997",
   "metadata": {},
   "outputs": [],
   "source": [
    "bus_24_hfss.render_design(selection = ['Bus_24', 'Q_2', 'Q_4'])"
   ]
  },
  {
   "cell_type": "code",
   "execution_count": 90,
   "id": "e3250c4e-29ea-48ad-8058-bb6531b1edca",
   "metadata": {},
   "outputs": [
    {
     "name": "stderr",
     "output_type": "stream",
     "text": [
      "INFO 03:34PM [analyze]: Analyzing setup Setup\n"
     ]
    }
   ],
   "source": [
    "bus_24_setup = bus_24_hfss.pinfo.setup\n",
    "bus_24_setup.passes = 12\n",
    "bus_24_setup.n_modes = 3\n",
    "\n",
    "bus_24_setup.analyze()"
   ]
  },
  {
   "cell_type": "code",
   "execution_count": 91,
   "id": "b1682b2e-a247-4c69-822f-d080b6e92810",
   "metadata": {},
   "outputs": [
    {
     "data": {
      "text/plain": [
       "([5.26222664643, 5.33140545218, 6.13373000089], None)"
      ]
     },
     "execution_count": 91,
     "metadata": {},
     "output_type": "execute_result"
    }
   ],
   "source": [
    "bus_24_setup.get_solutions().eigenmodes()"
   ]
  },
  {
   "cell_type": "code",
   "execution_count": 92,
   "id": "120f242b-ffa8-423e-a9cf-6f53358511d3",
   "metadata": {},
   "outputs": [],
   "source": [
    "bus_24_hfss.clean_active_design()"
   ]
  },
  {
   "cell_type": "markdown",
   "id": "978e0fd3-aca6-49a3-83c4-555f6c0118e7",
   "metadata": {},
   "source": [
    "### Bus_14"
   ]
  },
  {
   "cell_type": "code",
   "execution_count": 116,
   "id": "eda58706-e7f9-4626-82d3-bb0cf075caa8",
   "metadata": {},
   "outputs": [
    {
     "name": "stderr",
     "output_type": "stream",
     "text": [
      "INFO 04:04PM [connect_project]: Connecting to Ansys Desktop API...\n",
      "INFO 04:04PM [load_ansys_project]: \tOpened Ansys App\n",
      "INFO 04:04PM [load_ansys_project]: \tOpened Ansys Desktop v2024.1.0\n",
      "INFO 04:04PM [load_ansys_project]: \tOpened Ansys Project\n",
      "\tFolder:    C:/Users/user/Documents/Ansoft/\n",
      "\tProject:   Project5\n",
      "INFO 04:04PM [connect_design]: \tOpened active design\n",
      "\tDesign:    Resonator_tuning [Solution type: Eigenmode]\n",
      "INFO 04:04PM [get_setup]: \tOpened setup `Setup`  (<class 'pyEPR.ansys.HfssEMSetup'>)\n",
      "INFO 04:04PM [connect]: \tConnected to project \"Project5\" and design \"Resonator_tuning\" 😀 \n",
      "\n"
     ]
    },
    {
     "data": {
      "text/plain": [
       "True"
      ]
     },
     "execution_count": 116,
     "metadata": {},
     "output_type": "execute_result"
    }
   ],
   "source": [
    "bus_14_hfss = eig_res.sim.renderer\n",
    "bus_14_hfss.start()"
   ]
  },
  {
   "cell_type": "code",
   "execution_count": 117,
   "id": "defd7ec5-3d77-4aa4-a95e-66124e35b732",
   "metadata": {},
   "outputs": [
    {
     "name": "stderr",
     "output_type": "stream",
     "text": [
      "INFO 04:04PM [connect_design]: \tOpened active design\n",
      "\tDesign:    Resonator_tuning [Solution type: Eigenmode]\n"
     ]
    }
   ],
   "source": [
    "bus_14_hfss.activate_ansys_design(\"Resonator_tuning\", 'eigenmode')  # use new_ansys_design() to force creation of a blank design"
   ]
  },
  {
   "cell_type": "code",
   "execution_count": 118,
   "id": "f02ddfd2-efe3-4f2f-acd0-734e7e378c12",
   "metadata": {},
   "outputs": [],
   "source": [
    "bus_14_hfss.render_design(selection = ['Bus_14', 'Q_1', 'Q_4'], ignored_jjs = [('Q_1', 'rect_jj'), ('Q_4', 'rect_jj')], box_plus_buffer = False)"
   ]
  },
  {
   "cell_type": "code",
   "execution_count": 119,
   "id": "b3f0cb08-e543-4c16-91ee-3d9b03af2182",
   "metadata": {},
   "outputs": [
    {
     "name": "stderr",
     "output_type": "stream",
     "text": [
      "INFO 04:06PM [analyze]: Analyzing setup Setup\n"
     ]
    },
    {
     "name": "stdout",
     "output_type": "stream",
     "text": [
      "\n",
      "Number of eigenmodes to find             = 2\n",
      "Number of simulation passes              = 12\n",
      "Convergence freq max delta percent diff  = 0.1\n",
      "\n"
     ]
    }
   ],
   "source": [
    "bus_14_setup = bus_14_hfss.pinfo.setup\n",
    "\n",
    "bus_14_setup.passes = 12\n",
    "bus_14_setup.n_modes = 2\n",
    "\n",
    "print(f\"\"\"\n",
    "Number of eigenmodes to find             = {bus_14_setup.n_modes}\n",
    "Number of simulation passes              = {bus_14_setup.passes}\n",
    "Convergence freq max delta percent diff  = {bus_14_setup.delta_f}\n",
    "\"\"\")\n",
    "\n",
    "# Next 2 lines are counterinuitive, since there is no junction in this resonator.\n",
    "# However, these are necessary to make pyEPR work correctly. Please do note delete\n",
    "bus_14_hfss.pinfo.design.set_variable('Lj', '10 nH')\n",
    "bus_14_hfss.pinfo.design.set_variable('Cj', '0 fF')\n",
    "\n",
    "bus_14_setup.analyze()"
   ]
  },
  {
   "cell_type": "code",
   "execution_count": 120,
   "id": "59d44cc6-21ca-4b13-a390-455ff6a4cfc8",
   "metadata": {},
   "outputs": [
    {
     "data": {
      "text/plain": [
       "([5.70401919935, 11.4197898685], None)"
      ]
     },
     "execution_count": 120,
     "metadata": {},
     "output_type": "execute_result"
    }
   ],
   "source": [
    "bus_14_setup.get_solutions().eigenmodes()"
   ]
  },
  {
   "cell_type": "code",
   "execution_count": 122,
   "id": "bfc59187-1cf9-4f92-8627-507ac0d222b6",
   "metadata": {},
   "outputs": [],
   "source": [
    "bus_14_hfss.modeler._modeler.ShowWindow()\n",
    "bus_14_hfss.plot_fields('main')"
   ]
  },
  {
   "cell_type": "code",
   "execution_count": 123,
   "id": "c5f9bacd-8bd7-4dd6-a8e0-e5937c2a6b62",
   "metadata": {},
   "outputs": [],
   "source": [
    "bus_14.options.total_length = '8.5mm'\n",
    "gui.rebuild()"
   ]
  },
  {
   "cell_type": "code",
   "execution_count": 124,
   "id": "27f91e0a-8bb9-4bea-8e1f-1a2b95b12e22",
   "metadata": {},
   "outputs": [],
   "source": [
    "bus_14_hfss.clean_active_design()"
   ]
  },
  {
   "cell_type": "code",
   "execution_count": 125,
   "id": "7dd9adae-bf6f-4b0d-8b7c-045d4226ba20",
   "metadata": {},
   "outputs": [],
   "source": [
    "bus_14_hfss.render_design(selection = ['Bus_14', 'Q_1', 'Q_4'])"
   ]
  },
  {
   "cell_type": "code",
   "execution_count": 126,
   "id": "1f0a810e-6e27-46fe-87f5-bfadc790d3fc",
   "metadata": {},
   "outputs": [
    {
     "name": "stderr",
     "output_type": "stream",
     "text": [
      "INFO 04:13PM [analyze]: Analyzing setup Setup\n"
     ]
    }
   ],
   "source": [
    "bus_14_setup = bus_14_hfss.pinfo.setup\n",
    "bus_14_setup.passes = 12\n",
    "bus_14_setup.n_modes = 3\n",
    "\n",
    "bus_14_setup.analyze()"
   ]
  },
  {
   "cell_type": "code",
   "execution_count": 128,
   "id": "a703a91e-d114-42c6-a806-8fe2e2ed99f9",
   "metadata": {},
   "outputs": [
    {
     "data": {
      "text/plain": [
       "([4.92222317744, 5.2965753885, 6.41756857749], None)"
      ]
     },
     "execution_count": 128,
     "metadata": {},
     "output_type": "execute_result"
    }
   ],
   "source": [
    "bus_14_setup.get_solutions().eigenmodes()"
   ]
  },
  {
   "cell_type": "code",
   "execution_count": 129,
   "id": "8fa66f50-9647-49af-b2a6-96525cb288e4",
   "metadata": {},
   "outputs": [
    {
     "name": "stderr",
     "output_type": "stream",
     "text": [
      "04:18PM 39s INFO [get_f_convergence]: Saved convergences to C:\\Users\\user\\Qiskit Metal\\hfss_eig_f_convergence.csv\n",
      "INFO 04:18PM [__del__]: Disconnected from Ansys HFSS\n",
      "INFO 04:18PM [__del__]: Disconnected from Ansys HFSS\n"
     ]
    }
   ],
   "source": [
    "eig_res.sim.convergence_t, eig_res.sim.convergence_f, _ = bus_13_hfss.get_convergences()\n",
    "eig_res.sim.plot_convergences()"
   ]
  },
  {
   "cell_type": "code",
   "execution_count": 130,
   "id": "0e764af4-456a-4628-8b44-d96e22654120",
   "metadata": {},
   "outputs": [],
   "source": [
    "bus_14_hfss.modeler._modeler.ShowWindow()\n",
    "bus_14_hfss.plot_fields('main')"
   ]
  },
  {
   "cell_type": "code",
   "execution_count": 131,
   "id": "86035335-f4cd-412d-93f1-2b5e34f30da6",
   "metadata": {},
   "outputs": [],
   "source": [
    "bus_14_hfss.clean_active_design()"
   ]
  },
  {
   "cell_type": "code",
   "execution_count": 132,
   "id": "9818b5ab-63ea-4b90-9a8b-6e39fa14c3bb",
   "metadata": {},
   "outputs": [],
   "source": [
    "eig_res.sim.close()"
   ]
  },
  {
   "cell_type": "markdown",
   "id": "e5bb9afc-d5d3-497a-b6b9-617cc877cc8d",
   "metadata": {
    "jp-MarkdownHeadingCollapsed": true
   },
   "source": [
    "## Tuning Readout Resonators"
   ]
  },
  {
   "cell_type": "markdown",
   "id": "41036429-da58-45e7-9ab5-ed3bb86cac73",
   "metadata": {},
   "source": [
    "### Initializing Qubit and Coupling Resonator Parameters"
   ]
  },
  {
   "cell_type": "code",
   "execution_count": 134,
   "id": "ca61d172-56bb-4924-85e2-46903dc5ac8e",
   "metadata": {},
   "outputs": [],
   "source": [
    "Q_1.options.pad_gap = '28um'\n",
    "Q_1.options.connection_pads.readout.pad_gap = '15um'\n",
    "Q_1.options.connection_pads.readout.pad_width = '150um'\n",
    "Q_1.options.connection_pads.bus_13.pad_width = '130um'\n",
    "Q_1.options.connection_pads.bus_14.pad_width = '110um'\n",
    "Q_1.options.hfss_inductance = '14.9nH'\n",
    "\n",
    "Q_2.options.pad_gap = '28um'\n",
    "Q_2.options.connection_pads.readout.pad_gap = '15um'\n",
    "Q_2.options.connection_pads.readout.pad_width = '130um'\n",
    "Q_2.options.connection_pads.bus_23.pad_width = '100um'\n",
    "Q_2.options.connection_pads.bus_24.pad_width = '110um'\n",
    "Q_2.options.hfss_inductance = '13.3nH'\n",
    "\n",
    "Q_3.options.cross_width = '18um'\n",
    "Q_3.options.connection_pads.bus_13.claw_width = '20um'\n",
    "Q_3.options.connection_pads.bus_13.claw_length = '120um'\n",
    "Q_3.options.connection_pads.bus_23.claw_width = '20um'\n",
    "Q_3.options.connection_pads.bus_23.claw_length = '120um'\n",
    "Q_3.options.hfss_inductance = '8nH'\n",
    "\n",
    "Q_4.options.cross_width = '18um'\n",
    "Q_4.options.connection_pads.bus_14.claw_width = '20um'\n",
    "Q_4.options.connection_pads.bus_14.claw_length = '120um'\n",
    "Q_4.options.connection_pads.bus_24.claw_width = '20um'\n",
    "Q_4.options.connection_pads.bus_24.claw_length = '120um'\n",
    "Q_4.options.hfss_inductance = '7.5nH'\n",
    "\n",
    "\n",
    "bus_13.options.total_length = '9.5mm'\n",
    "bus_23.options.total_length = '9.2mm'\n",
    "bus_24.options.total_length = '9mm'\n",
    "bus_14.options.total_length = '8.5mm'\n",
    "\n",
    "bus_13.options.fillet = '50um'\n",
    "bus_24.options.fillet = '50um'\n",
    "\n",
    "gui.rebuild()"
   ]
  },
  {
   "cell_type": "code",
   "execution_count": 135,
   "id": "2c487beb-e996-4711-a15b-d0b9b3e94446",
   "metadata": {},
   "outputs": [],
   "source": [
    "from qiskit_metal.analyses.quantization import EPRanalysis\n",
    "eig_res = EPRanalysis(design, \"hfss\")"
   ]
  },
  {
   "cell_type": "markdown",
   "id": "fd018fb2-e449-4bdd-8a08-832eda6c04cb",
   "metadata": {},
   "source": [
    "### Readout 1"
   ]
  },
  {
   "cell_type": "code",
   "execution_count": 136,
   "id": "b0b9cd37-5c07-4b86-9c71-4c688c77fe45",
   "metadata": {},
   "outputs": [
    {
     "name": "stderr",
     "output_type": "stream",
     "text": [
      "INFO 04:27PM [connect_project]: Connecting to Ansys Desktop API...\n",
      "INFO 04:27PM [load_ansys_project]: \tOpened Ansys App\n",
      "INFO 04:27PM [load_ansys_project]: \tOpened Ansys Desktop v2024.1.0\n",
      "INFO 04:27PM [load_ansys_project]: \tOpened Ansys Project\n",
      "\tFolder:    C:/Users/user/Documents/Ansoft/\n",
      "\tProject:   Project5\n",
      "INFO 04:27PM [connect_design]: \tOpened active design\n",
      "\tDesign:    Resonator_tuning [Solution type: Eigenmode]\n",
      "INFO 04:27PM [get_setup]: \tOpened setup `Setup`  (<class 'pyEPR.ansys.HfssEMSetup'>)\n",
      "INFO 04:27PM [connect]: \tConnected to project \"Project5\" and design \"Resonator_tuning\" 😀 \n",
      "\n"
     ]
    },
    {
     "data": {
      "text/plain": [
       "True"
      ]
     },
     "execution_count": 136,
     "metadata": {},
     "output_type": "execute_result"
    }
   ],
   "source": [
    "readout_1_hfss = eig_res.sim.renderer\n",
    "readout_1_hfss.start()"
   ]
  },
  {
   "cell_type": "code",
   "execution_count": 137,
   "id": "56aad8cb-9772-4968-82fd-bf53c11e3b5e",
   "metadata": {},
   "outputs": [
    {
     "name": "stderr",
     "output_type": "stream",
     "text": [
      "04:27PM 46s WARNING [activate_ansys_design]: The design_name=Readout Resonator_tuning was not in active project.  Designs in active project are: \n",
      "['Resonator_tuning'].  A new design will be added to the project.  \n",
      "INFO 04:27PM [connect_design]: \tOpened active design\n",
      "\tDesign:    Readout Resonator_tuning [Solution type: Eigenmode]\n",
      "WARNING 04:27PM [connect_setup]: \tNo design setup detected.\n",
      "WARNING 04:27PM [connect_setup]: \tCreating eigenmode default setup.\n",
      "INFO 04:27PM [get_setup]: \tOpened setup `Setup`  (<class 'pyEPR.ansys.HfssEMSetup'>)\n"
     ]
    }
   ],
   "source": [
    "readout_1_hfss.activate_ansys_design(\"Readout Resonator_tuning\", 'eigenmode')  # use new_ansys_design() to force creation of a blank design"
   ]
  },
  {
   "cell_type": "code",
   "execution_count": 138,
   "id": "4db558d4-82a6-41b4-987b-3359e3e8ff7f",
   "metadata": {},
   "outputs": [],
   "source": [
    "readout_1_hfss.render_design(selection = ['Readout_1', 'Q_1', 'Cap_Readout_Q_1'], box_plus_buffer = False)"
   ]
  },
  {
   "cell_type": "code",
   "execution_count": 139,
   "id": "dc1a8bd8-6264-42f0-895b-eeb2c3e73d0c",
   "metadata": {},
   "outputs": [
    {
     "name": "stderr",
     "output_type": "stream",
     "text": [
      "INFO 04:31PM [analyze]: Analyzing setup Setup\n"
     ]
    },
    {
     "name": "stdout",
     "output_type": "stream",
     "text": [
      "\n",
      "Number of eigenmodes to find             = 2\n",
      "Number of simulation passes              = 12\n",
      "Convergence freq max delta percent diff  = 0.1\n",
      "\n"
     ]
    }
   ],
   "source": [
    "readout_1_setup = readout_1_hfss.pinfo.setup\n",
    "\n",
    "readout_1_setup.passes = 12\n",
    "readout_1_setup.n_modes = 2\n",
    "\n",
    "print(f\"\"\"\n",
    "Number of eigenmodes to find             = {readout_1_setup.n_modes}\n",
    "Number of simulation passes              = {readout_1_setup.passes}\n",
    "Convergence freq max delta percent diff  = {readout_1_setup.delta_f}\n",
    "\"\"\")\n",
    "\n",
    "# Next 2 lines are counterinuitive, since there is no junction in this resonator.\n",
    "# However, these are necessary to make pyEPR work correctly. Please do note delete\n",
    "readout_1_hfss.pinfo.design.set_variable('Lj', '10 nH')\n",
    "readout_1_hfss.pinfo.design.set_variable('Cj', '0 fF')\n",
    "\n",
    "readout_1_setup.analyze()\n"
   ]
  },
  {
   "cell_type": "code",
   "execution_count": 140,
   "id": "dfb32ff6-c20c-4b58-b4d5-bd1b379804cb",
   "metadata": {},
   "outputs": [
    {
     "data": {
      "text/plain": [
       "([4.88861768616, 6.33335726672], None)"
      ]
     },
     "execution_count": 140,
     "metadata": {},
     "output_type": "execute_result"
    }
   ],
   "source": [
    "readout_1_setup.get_solutions().eigenmodes()"
   ]
  },
  {
   "cell_type": "code",
   "execution_count": 141,
   "id": "a72315ed-6351-48e9-af3a-65206ec4f09c",
   "metadata": {},
   "outputs": [],
   "source": [
    "readout_1.options.total_length = '8mm'\n",
    "gui.rebuild()"
   ]
  },
  {
   "cell_type": "code",
   "execution_count": 142,
   "id": "55df4400-6138-4eb0-ac8a-98794873a805",
   "metadata": {},
   "outputs": [],
   "source": [
    "readout_1_hfss.clean_active_design()"
   ]
  },
  {
   "cell_type": "code",
   "execution_count": 143,
   "id": "da6da7c1-86f1-41eb-a541-8eb4de8cff20",
   "metadata": {},
   "outputs": [],
   "source": [
    "readout_1_hfss.render_design(selection = ['Readout_1', 'Q_1', 'Cap_Readout_Q_1'], box_plus_buffer = False)"
   ]
  },
  {
   "cell_type": "code",
   "execution_count": 144,
   "id": "32cc3745-a930-4472-be69-8ac0b96631bc",
   "metadata": {},
   "outputs": [
    {
     "name": "stdout",
     "output_type": "stream",
     "text": [
      "\n",
      "Number of eigenmodes to find             = 2\n",
      "Number of simulation passes              = 12\n",
      "Convergence freq max delta percent diff  = 0.1\n",
      "\n"
     ]
    },
    {
     "name": "stderr",
     "output_type": "stream",
     "text": [
      "INFO 04:39PM [analyze]: Analyzing setup Setup\n"
     ]
    }
   ],
   "source": [
    "readout_1_setup = readout_1_hfss.pinfo.setup\n",
    "\n",
    "readout_1_setup.passes = 12\n",
    "readout_1_setup.n_modes = 2\n",
    "\n",
    "print(f\"\"\"\n",
    "Number of eigenmodes to find             = {readout_1_setup.n_modes}\n",
    "Number of simulation passes              = {readout_1_setup.passes}\n",
    "Convergence freq max delta percent diff  = {readout_1_setup.delta_f}\n",
    "\"\"\")\n",
    "\n",
    "# Next 2 lines are counterinuitive, since there is no junction in this resonator.\n",
    "# However, these are necessary to make pyEPR work correctly. Please do note delete\n",
    "readout_1_hfss.pinfo.design.set_variable('Lj', '10 nH')\n",
    "readout_1_hfss.pinfo.design.set_variable('Cj', '0 fF')\n",
    "\n",
    "readout_1_setup.analyze()"
   ]
  },
  {
   "cell_type": "code",
   "execution_count": 145,
   "id": "3257d834-c81b-485f-bf4b-c6f48f64d62b",
   "metadata": {},
   "outputs": [
    {
     "data": {
      "text/plain": [
       "([4.90376689902, 7.05982929468], None)"
      ]
     },
     "execution_count": 145,
     "metadata": {},
     "output_type": "execute_result"
    }
   ],
   "source": [
    "readout_1_setup.get_solutions().eigenmodes()"
   ]
  },
  {
   "cell_type": "code",
   "execution_count": 146,
   "id": "b56e5903-41b2-49f8-b4db-fb5c89e31526",
   "metadata": {},
   "outputs": [],
   "source": [
    "readout_1.options.total_length = '8.3mm'\n",
    "gui.rebuild()"
   ]
  },
  {
   "cell_type": "code",
   "execution_count": 147,
   "id": "49636525-e3a4-4526-ba8a-f690b91358fb",
   "metadata": {},
   "outputs": [],
   "source": [
    "readout_1_hfss.clean_active_design()"
   ]
  },
  {
   "cell_type": "code",
   "execution_count": 148,
   "id": "2d6ccede-8516-4fc0-8033-f750c3694e72",
   "metadata": {},
   "outputs": [],
   "source": [
    "readout_1_hfss.render_design(selection = ['Readout_1', 'Q_1', 'Cap_Readout_Q_1'], box_plus_buffer = False)"
   ]
  },
  {
   "cell_type": "code",
   "execution_count": 149,
   "id": "69f3c619-345e-4216-b9dd-9822bc067c79",
   "metadata": {},
   "outputs": [
    {
     "name": "stderr",
     "output_type": "stream",
     "text": [
      "INFO 04:45PM [analyze]: Analyzing setup Setup\n"
     ]
    },
    {
     "name": "stdout",
     "output_type": "stream",
     "text": [
      "\n",
      "Number of eigenmodes to find             = 2\n",
      "Number of simulation passes              = 12\n",
      "Convergence freq max delta percent diff  = 0.1\n",
      "\n"
     ]
    }
   ],
   "source": [
    "readout_1_setup = readout_1_hfss.pinfo.setup\n",
    "\n",
    "readout_1_setup.passes = 12\n",
    "readout_1_setup.n_modes = 2\n",
    "\n",
    "print(f\"\"\"\n",
    "Number of eigenmodes to find             = {readout_1_setup.n_modes}\n",
    "Number of simulation passes              = {readout_1_setup.passes}\n",
    "Convergence freq max delta percent diff  = {readout_1_setup.delta_f}\n",
    "\"\"\")\n",
    "\n",
    "# Next 2 lines are counterinuitive, since there is no junction in this resonator.\n",
    "# However, these are necessary to make pyEPR work correctly. Please do note delete\n",
    "readout_1_hfss.pinfo.design.set_variable('Lj', '10 nH')\n",
    "readout_1_hfss.pinfo.design.set_variable('Cj', '0 fF')\n",
    "\n",
    "readout_1_setup.analyze()"
   ]
  },
  {
   "cell_type": "code",
   "execution_count": 150,
   "id": "5a6cb9ab-c32d-49ad-a413-f2f24582aaaf",
   "metadata": {},
   "outputs": [
    {
     "data": {
      "text/plain": [
       "([4.9020766167, 6.8082061906], None)"
      ]
     },
     "execution_count": 150,
     "metadata": {},
     "output_type": "execute_result"
    }
   ],
   "source": [
    "readout_1_setup.get_solutions().eigenmodes()"
   ]
  },
  {
   "cell_type": "code",
   "execution_count": 151,
   "id": "a1b6701a-08da-4666-9219-a0837e30860a",
   "metadata": {},
   "outputs": [
    {
     "name": "stderr",
     "output_type": "stream",
     "text": [
      "04:48PM 56s INFO [get_f_convergence]: Saved convergences to C:\\Users\\user\\Qiskit Metal\\hfss_eig_f_convergence.csv\n"
     ]
    }
   ],
   "source": [
    "eig_res.sim.convergence_t, eig_res.sim.convergence_f, _ = readout_1_hfss.get_convergences()\n",
    "eig_res.sim.plot_convergences()"
   ]
  },
  {
   "cell_type": "code",
   "execution_count": 152,
   "id": "bdb43ad4-8e5e-43ae-a4b8-adec6815ac4f",
   "metadata": {},
   "outputs": [],
   "source": [
    "readout_1_hfss.modeler._modeler.ShowWindow()\n",
    "readout_1_hfss.plot_fields('main')\n"
   ]
  },
  {
   "cell_type": "code",
   "execution_count": 153,
   "id": "14a02ade-cd39-4ca1-823a-b48ee8faa170",
   "metadata": {},
   "outputs": [],
   "source": [
    "readout_1_hfss.clean_active_design()"
   ]
  },
  {
   "cell_type": "markdown",
   "id": "a03abb02-e643-48cc-8722-1a492931d976",
   "metadata": {},
   "source": [
    "### Readout 2"
   ]
  },
  {
   "cell_type": "code",
   "execution_count": 154,
   "id": "f685c794-aa75-4170-9af9-2c4b49289856",
   "metadata": {},
   "outputs": [
    {
     "name": "stderr",
     "output_type": "stream",
     "text": [
      "INFO 04:53PM [connect_project]: Connecting to Ansys Desktop API...\n",
      "INFO 04:53PM [load_ansys_project]: \tOpened Ansys App\n",
      "INFO 04:53PM [load_ansys_project]: \tOpened Ansys Desktop v2024.1.0\n",
      "INFO 04:53PM [load_ansys_project]: \tOpened Ansys Project\n",
      "\tFolder:    C:/Users/user/Documents/Ansoft/\n",
      "\tProject:   Project5\n",
      "INFO 04:53PM [connect_design]: \tOpened active design\n",
      "\tDesign:    Readout Resonator_tuning [Solution type: Eigenmode]\n",
      "INFO 04:53PM [get_setup]: \tOpened setup `Setup`  (<class 'pyEPR.ansys.HfssEMSetup'>)\n",
      "INFO 04:53PM [connect]: \tConnected to project \"Project5\" and design \"Readout Resonator_tuning\" 😀 \n",
      "\n"
     ]
    },
    {
     "data": {
      "text/plain": [
       "True"
      ]
     },
     "execution_count": 154,
     "metadata": {},
     "output_type": "execute_result"
    }
   ],
   "source": [
    "readout_2_hfss = eig_res.sim.renderer\n",
    "readout_2_hfss.start()"
   ]
  },
  {
   "cell_type": "code",
   "execution_count": 164,
   "id": "9ffa8e20-4929-418e-b9cc-c49609dd604e",
   "metadata": {},
   "outputs": [
    {
     "name": "stderr",
     "output_type": "stream",
     "text": [
      "INFO 04:57PM [connect_design]: \tOpened active design\n",
      "\tDesign:    Readout Resonator_tuning [Solution type: Eigenmode]\n"
     ]
    }
   ],
   "source": [
    "readout_2_hfss.activate_ansys_design(\"Readout Resonator_tuning\", 'eigenmode')  # use new_ansys_design() to force creation of a blank design\n"
   ]
  },
  {
   "cell_type": "code",
   "execution_count": 165,
   "id": "df8519c4-d304-46a6-85af-cfde3e52e8e3",
   "metadata": {},
   "outputs": [],
   "source": [
    "readout_2_hfss.render_design(selection = ['Readout_2', 'Q_2', 'Cap_Readout_Q_2'], box_plus_buffer = False)"
   ]
  },
  {
   "cell_type": "code",
   "execution_count": 166,
   "id": "d5f216c5-1b24-4738-ba6e-c93b6d616733",
   "metadata": {},
   "outputs": [
    {
     "name": "stderr",
     "output_type": "stream",
     "text": [
      "INFO 04:58PM [analyze]: Analyzing setup Setup\n"
     ]
    },
    {
     "name": "stdout",
     "output_type": "stream",
     "text": [
      "\n",
      "Number of eigenmodes to find             = 2\n",
      "Number of simulation passes              = 12\n",
      "Convergence freq max delta percent diff  = 0.1\n",
      "\n"
     ]
    }
   ],
   "source": [
    "readout_2_setup = readout_2_hfss.pinfo.setup\n",
    "\n",
    "readout_2_setup.passes = 12\n",
    "readout_2_setup.n_modes = 2\n",
    "\n",
    "print(f\"\"\"\n",
    "Number of eigenmodes to find             = {readout_2_setup.n_modes}\n",
    "Number of simulation passes              = {readout_2_setup.passes}\n",
    "Convergence freq max delta percent diff  = {readout_2_setup.delta_f}\n",
    "\"\"\")\n",
    "\n",
    "# Next 2 lines are counterinuitive, since there is no junction in this resonator.\n",
    "# However, these are necessary to make pyEPR work correctly. Please do note delete\n",
    "readout_2_hfss.pinfo.design.set_variable('Lj', '10 nH')\n",
    "readout_2_hfss.pinfo.design.set_variable('Cj', '0 fF')\n",
    "\n",
    "readout_2_setup.analyze()"
   ]
  },
  {
   "cell_type": "code",
   "execution_count": 168,
   "id": "9ad55bbb-5e9c-4099-8c95-75b164b09c2f",
   "metadata": {},
   "outputs": [
    {
     "data": {
      "text/plain": [
       "([5.22363664917, 6.47855360589], None)"
      ]
     },
     "execution_count": 168,
     "metadata": {},
     "output_type": "execute_result"
    }
   ],
   "source": [
    "readout_2_setup.get_solutions().eigenmodes()"
   ]
  },
  {
   "cell_type": "code",
   "execution_count": 169,
   "id": "32bf1a16-bc42-4822-a201-0d1c6ba3aa98",
   "metadata": {},
   "outputs": [],
   "source": [
    "readout_2.options.total_length = '8mm'\n",
    "gui.rebuild()"
   ]
  },
  {
   "cell_type": "code",
   "execution_count": 170,
   "id": "d229c55f-1341-453c-81bf-f3fee0acd0bb",
   "metadata": {},
   "outputs": [],
   "source": [
    "readout_2_hfss.clean_active_design()"
   ]
  },
  {
   "cell_type": "code",
   "execution_count": 171,
   "id": "2e364245-f626-47c2-8043-3291d692f70e",
   "metadata": {},
   "outputs": [],
   "source": [
    "readout_2_hfss.render_design(selection = ['Readout_2', 'Q_2', 'Cap_Readout_Q_2'], box_plus_buffer = False)"
   ]
  },
  {
   "cell_type": "code",
   "execution_count": 172,
   "id": "e77afcf7-a7e3-4bef-bafb-31d3930463a6",
   "metadata": {},
   "outputs": [
    {
     "name": "stderr",
     "output_type": "stream",
     "text": [
      "INFO 05:06PM [analyze]: Analyzing setup Setup\n"
     ]
    },
    {
     "name": "stdout",
     "output_type": "stream",
     "text": [
      "\n",
      "Number of eigenmodes to find             = 2\n",
      "Number of simulation passes              = 12\n",
      "Convergence freq max delta percent diff  = 0.1\n",
      "\n"
     ]
    }
   ],
   "source": [
    "readout_2_setup = readout_2_hfss.pinfo.setup\n",
    "\n",
    "readout_2_setup.passes = 12\n",
    "readout_2_setup.n_modes = 2\n",
    "\n",
    "print(f\"\"\"\n",
    "Number of eigenmodes to find             = {readout_2_setup.n_modes}\n",
    "Number of simulation passes              = {readout_2_setup.passes}\n",
    "Convergence freq max delta percent diff  = {readout_2_setup.delta_f}\n",
    "\"\"\")\n",
    "\n",
    "# Next 2 lines are counterinuitive, since there is no junction in this resonator.\n",
    "# However, these are necessary to make pyEPR work correctly. Please do note delete\n",
    "readout_2_hfss.pinfo.design.set_variable('Lj', '10 nH')\n",
    "readout_2_hfss.pinfo.design.set_variable('Cj', '0 fF')\n",
    "\n",
    "readout_2_setup.analyze()"
   ]
  },
  {
   "cell_type": "code",
   "execution_count": 173,
   "id": "ceaec938-617a-4b4d-bb2f-350c0f812c56",
   "metadata": {},
   "outputs": [
    {
     "data": {
      "text/plain": [
       "([5.24086419848, 7.02243876251], None)"
      ]
     },
     "execution_count": 173,
     "metadata": {},
     "output_type": "execute_result"
    }
   ],
   "source": [
    "readout_2_setup.get_solutions().eigenmodes()"
   ]
  },
  {
   "cell_type": "code",
   "execution_count": 174,
   "id": "eefbc9df-79fa-4f6f-92b7-21aa77919212",
   "metadata": {},
   "outputs": [
    {
     "name": "stderr",
     "output_type": "stream",
     "text": [
      "05:11PM 09s INFO [get_f_convergence]: Saved convergences to C:\\Users\\user\\Qiskit Metal\\hfss_eig_f_convergence.csv\n"
     ]
    }
   ],
   "source": [
    "eig_res.sim.convergence_t, eig_res.sim.convergence_f, _ = readout_2_hfss.get_convergences()\n",
    "eig_res.sim.plot_convergences()"
   ]
  },
  {
   "cell_type": "code",
   "execution_count": 175,
   "id": "5afd4b77-f298-4aec-9fc8-810fb5d1fb8c",
   "metadata": {},
   "outputs": [],
   "source": [
    "readout_2_hfss.clean_active_design()"
   ]
  },
  {
   "cell_type": "markdown",
   "id": "3e43f544-90b3-49b5-aa9e-8b6dd330ffca",
   "metadata": {},
   "source": [
    "### Readout 3"
   ]
  },
  {
   "cell_type": "code",
   "execution_count": 176,
   "id": "8b499f58-a480-4e21-8dc5-0a9384bf05fd",
   "metadata": {},
   "outputs": [
    {
     "name": "stderr",
     "output_type": "stream",
     "text": [
      "INFO 05:13PM [connect_project]: Connecting to Ansys Desktop API...\n",
      "INFO 05:13PM [load_ansys_project]: \tOpened Ansys App\n",
      "INFO 05:13PM [load_ansys_project]: \tOpened Ansys Desktop v2024.1.0\n",
      "INFO 05:13PM [load_ansys_project]: \tOpened Ansys Project\n",
      "\tFolder:    C:/Users/user/Documents/Ansoft/\n",
      "\tProject:   Project5\n",
      "INFO 05:13PM [connect_design]: \tOpened active design\n",
      "\tDesign:    Readout Resonator_tuning [Solution type: Eigenmode]\n",
      "INFO 05:13PM [get_setup]: \tOpened setup `Setup`  (<class 'pyEPR.ansys.HfssEMSetup'>)\n",
      "INFO 05:13PM [connect]: \tConnected to project \"Project5\" and design \"Readout Resonator_tuning\" 😀 \n",
      "\n"
     ]
    },
    {
     "data": {
      "text/plain": [
       "True"
      ]
     },
     "execution_count": 176,
     "metadata": {},
     "output_type": "execute_result"
    }
   ],
   "source": [
    "readout_3_hfss = eig_res.sim.renderer\n",
    "readout_3_hfss.start()"
   ]
  },
  {
   "cell_type": "code",
   "execution_count": 177,
   "id": "2b7b7442-1545-46d6-96cc-43e40094615c",
   "metadata": {},
   "outputs": [
    {
     "name": "stderr",
     "output_type": "stream",
     "text": [
      "INFO 05:13PM [connect_design]: \tOpened active design\n",
      "\tDesign:    Readout Resonator_tuning [Solution type: Eigenmode]\n"
     ]
    }
   ],
   "source": [
    "readout_3_hfss.activate_ansys_design(\"Readout Resonator_tuning\", 'eigenmode')  # use new_ansys_design() to force creation of a blank design"
   ]
  },
  {
   "cell_type": "code",
   "execution_count": 178,
   "id": "4af5dc81-1086-41aa-88ed-bdb61fe90b2b",
   "metadata": {},
   "outputs": [],
   "source": [
    "readout_3_hfss.render_design(selection = ['Readout_3', 'Q_3', 'Cap_Readout_Q_3'], box_plus_buffer = False)"
   ]
  },
  {
   "cell_type": "code",
   "execution_count": 179,
   "id": "0d64a1bd-b327-4b20-8efb-a9b52a86de42",
   "metadata": {},
   "outputs": [
    {
     "name": "stderr",
     "output_type": "stream",
     "text": [
      "INFO 05:14PM [analyze]: Analyzing setup Setup\n"
     ]
    },
    {
     "name": "stdout",
     "output_type": "stream",
     "text": [
      "\n",
      "Number of eigenmodes to find             = 2\n",
      "Number of simulation passes              = 12\n",
      "Convergence freq max delta percent diff  = 0.1\n",
      "\n"
     ]
    }
   ],
   "source": [
    "readout_3_setup = readout_3_hfss.pinfo.setup\n",
    "\n",
    "readout_3_setup.passes = 12\n",
    "readout_3_setup.n_modes = 2\n",
    "\n",
    "print(f\"\"\"\n",
    "Number of eigenmodes to find             = {readout_3_setup.n_modes}\n",
    "Number of simulation passes              = {readout_3_setup.passes}\n",
    "Convergence freq max delta percent diff  = {readout_3_setup.delta_f}\n",
    "\"\"\")\n",
    "\n",
    "# Next 2 lines are counterinuitive, since there is no junction in this resonator.\n",
    "# However, these are necessary to make pyEPR work correctly. Please do note delete\n",
    "readout_3_hfss.pinfo.design.set_variable('Lj', '10 nH')\n",
    "readout_3_hfss.pinfo.design.set_variable('Cj', '0 fF')\n",
    "\n",
    "readout_3_setup.analyze()\n"
   ]
  },
  {
   "cell_type": "code",
   "execution_count": 180,
   "id": "aca8faae-86b2-4a7e-bfe2-3e9d8b55ccd2",
   "metadata": {},
   "outputs": [
    {
     "data": {
      "text/plain": [
       "([5.04078169682, 6.77886731274], None)"
      ]
     },
     "execution_count": 180,
     "metadata": {},
     "output_type": "execute_result"
    }
   ],
   "source": [
    "readout_3_setup.get_solutions().eigenmodes()"
   ]
  },
  {
   "cell_type": "code",
   "execution_count": 186,
   "id": "7d907786-204b-4627-b601-2a07851340f8",
   "metadata": {},
   "outputs": [],
   "source": [
    "readout_3.options.total_length = '7.9mm'\n",
    "gui.rebuild()"
   ]
  },
  {
   "cell_type": "code",
   "execution_count": 187,
   "id": "50343aa4-0159-4ccd-8fb9-b789044f74cf",
   "metadata": {},
   "outputs": [],
   "source": [
    "readout_3_hfss.clean_active_design()"
   ]
  },
  {
   "cell_type": "code",
   "execution_count": 188,
   "id": "460b44f1-31f2-4e9a-accf-e1206a2e9499",
   "metadata": {},
   "outputs": [],
   "source": [
    "readout_3_hfss.render_design(selection = ['Readout_3', 'Q_3', 'Cap_Readout_Q_3'], box_plus_buffer = False)"
   ]
  },
  {
   "cell_type": "code",
   "execution_count": 189,
   "id": "b91403c6-243a-4cf4-bcc9-80a19c4bc650",
   "metadata": {},
   "outputs": [
    {
     "name": "stderr",
     "output_type": "stream",
     "text": [
      "INFO 05:22PM [analyze]: Analyzing setup Setup\n"
     ]
    },
    {
     "name": "stdout",
     "output_type": "stream",
     "text": [
      "\n",
      "Number of eigenmodes to find             = 2\n",
      "Number of simulation passes              = 12\n",
      "Convergence freq max delta percent diff  = 0.1\n",
      "\n"
     ]
    }
   ],
   "source": [
    "readout_3_setup = readout_3_hfss.pinfo.setup\n",
    "\n",
    "readout_3_setup.passes = 12\n",
    "readout_3_setup.n_modes = 2\n",
    "\n",
    "print(f\"\"\"\n",
    "Number of eigenmodes to find             = {readout_3_setup.n_modes}\n",
    "Number of simulation passes              = {readout_3_setup.passes}\n",
    "Convergence freq max delta percent diff  = {readout_3_setup.delta_f}\n",
    "\"\"\")\n",
    "\n",
    "# Next 2 lines are counterinuitive, since there is no junction in this resonator.\n",
    "# However, these are necessary to make pyEPR work correctly. Please do note delete\n",
    "readout_3_hfss.pinfo.design.set_variable('Lj', '10 nH')\n",
    "readout_3_hfss.pinfo.design.set_variable('Cj', '0 fF')\n",
    "\n",
    "readout_3_setup.analyze()"
   ]
  },
  {
   "cell_type": "code",
   "execution_count": 190,
   "id": "56d0ebd2-c11a-44a9-b0aa-f021d43f710f",
   "metadata": {},
   "outputs": [
    {
     "data": {
      "text/plain": [
       "([5.07806831672, 7.23269433115], None)"
      ]
     },
     "execution_count": 190,
     "metadata": {},
     "output_type": "execute_result"
    }
   ],
   "source": [
    "readout_3_setup.get_solutions().eigenmodes()"
   ]
  },
  {
   "cell_type": "code",
   "execution_count": 191,
   "id": "f5e0c6e8-bf50-487e-9bb5-2f38b0aecc46",
   "metadata": {},
   "outputs": [
    {
     "name": "stderr",
     "output_type": "stream",
     "text": [
      "05:25PM 18s INFO [get_f_convergence]: Saved convergences to C:\\Users\\user\\Qiskit Metal\\hfss_eig_f_convergence.csv\n",
      "INFO 05:25PM [__del__]: Disconnected from Ansys HFSS\n",
      "INFO 05:25PM [__del__]: Disconnected from Ansys HFSS\n",
      "INFO 05:25PM [__del__]: Disconnected from Ansys HFSS\n"
     ]
    }
   ],
   "source": [
    "eig_res.sim.convergence_t, eig_res.sim.convergence_f, _ = readout_3_hfss.get_convergences()\n",
    "eig_res.sim.plot_convergences()"
   ]
  },
  {
   "cell_type": "code",
   "execution_count": 192,
   "id": "e67797b0-b380-4462-ad19-89930511ef1c",
   "metadata": {},
   "outputs": [],
   "source": [
    "readout_3_hfss.clean_active_design()"
   ]
  },
  {
   "cell_type": "markdown",
   "id": "ca5ddb61-7184-45e2-92d8-621876cc3140",
   "metadata": {},
   "source": [
    "### Readout 4"
   ]
  },
  {
   "cell_type": "code",
   "execution_count": 200,
   "id": "0cf6e3a3-1df1-4f05-92e0-f714e884d148",
   "metadata": {},
   "outputs": [
    {
     "name": "stderr",
     "output_type": "stream",
     "text": [
      "INFO 05:28PM [connect_project]: Connecting to Ansys Desktop API...\n",
      "INFO 05:28PM [load_ansys_project]: \tOpened Ansys App\n",
      "INFO 05:28PM [load_ansys_project]: \tOpened Ansys Desktop v2024.1.0\n",
      "INFO 05:28PM [load_ansys_project]: \tOpened Ansys Project\n",
      "\tFolder:    C:/Users/user/Documents/Ansoft/\n",
      "\tProject:   Project5\n",
      "INFO 05:28PM [connect_design]: \tOpened active design\n",
      "\tDesign:    Readout Resonator_tuning [Solution type: Eigenmode]\n",
      "INFO 05:28PM [get_setup]: \tOpened setup `Setup`  (<class 'pyEPR.ansys.HfssEMSetup'>)\n",
      "INFO 05:28PM [connect]: \tConnected to project \"Project5\" and design \"Readout Resonator_tuning\" 😀 \n",
      "\n"
     ]
    },
    {
     "data": {
      "text/plain": [
       "True"
      ]
     },
     "execution_count": 200,
     "metadata": {},
     "output_type": "execute_result"
    }
   ],
   "source": [
    "readout_4_hfss = eig_res.sim.renderer\n",
    "readout_4_hfss.start()\n"
   ]
  },
  {
   "cell_type": "code",
   "execution_count": 201,
   "id": "17c0bf5c-459c-4748-a3c8-253f401d8319",
   "metadata": {},
   "outputs": [
    {
     "name": "stderr",
     "output_type": "stream",
     "text": [
      "INFO 05:28PM [connect_design]: \tOpened active design\n",
      "\tDesign:    Readout Resonator_tuning [Solution type: Eigenmode]\n"
     ]
    }
   ],
   "source": [
    "readout_4_hfss.activate_ansys_design(\"Readout Resonator_tuning\", 'eigenmode')  # use new_ansys_design() to force creation of a blank design\n"
   ]
  },
  {
   "cell_type": "code",
   "execution_count": 202,
   "id": "09fc592f-a6dc-4dcd-ad8c-485b1a8e225a",
   "metadata": {},
   "outputs": [],
   "source": [
    "readout_4_hfss.render_design(selection = ['Readout_4', 'Q_4', 'Cap_Readout_Q_4'], box_plus_buffer = False)\n"
   ]
  },
  {
   "cell_type": "code",
   "execution_count": 203,
   "id": "fa4bf03c-1af8-44ee-88a7-46f9856accd4",
   "metadata": {},
   "outputs": [
    {
     "name": "stderr",
     "output_type": "stream",
     "text": [
      "INFO 05:28PM [analyze]: Analyzing setup Setup\n"
     ]
    },
    {
     "name": "stdout",
     "output_type": "stream",
     "text": [
      "\n",
      "Number of eigenmodes to find             = 2\n",
      "Number of simulation passes              = 12\n",
      "Convergence freq max delta percent diff  = 0.1\n",
      "\n"
     ]
    }
   ],
   "source": [
    "readout_4_setup = readout_4_hfss.pinfo.setup\n",
    "\n",
    "readout_4_setup.passes = 12\n",
    "readout_4_setup.n_modes = 2\n",
    "\n",
    "print(f\"\"\"\n",
    "Number of eigenmodes to find             = {readout_4_setup.n_modes}\n",
    "Number of simulation passes              = {readout_4_setup.passes}\n",
    "Convergence freq max delta percent diff  = {readout_4_setup.delta_f}\n",
    "\"\"\")\n",
    "\n",
    "# Next 2 lines are counterinuitive, since there is no junction in this resonator.\n",
    "# However, these are necessary to make pyEPR work correctly. Please do note delete\n",
    "readout_4_hfss.pinfo.design.set_variable('Lj', '10 nH')\n",
    "readout_4_hfss.pinfo.design.set_variable('Cj', '0 fF')\n",
    "\n",
    "readout_4_setup.analyze()"
   ]
  },
  {
   "cell_type": "code",
   "execution_count": 204,
   "id": "db182688-d669-4145-bebe-f94a4bd89b88",
   "metadata": {},
   "outputs": [
    {
     "data": {
      "text/plain": [
       "([5.21119577982, 6.99995326584], None)"
      ]
     },
     "execution_count": 204,
     "metadata": {},
     "output_type": "execute_result"
    }
   ],
   "source": [
    "readout_4_setup.get_solutions().eigenmodes()"
   ]
  },
  {
   "cell_type": "code",
   "execution_count": 205,
   "id": "2831f687-043e-42dc-a405-cd753dcc2a52",
   "metadata": {},
   "outputs": [],
   "source": [
    "readout_4.options.total_length = '7.7mm'\n",
    "gui.rebuild()"
   ]
  },
  {
   "cell_type": "code",
   "execution_count": 206,
   "id": "9e07b040-9c1e-44fd-9702-343abbdaee5f",
   "metadata": {},
   "outputs": [],
   "source": [
    "readout_4_hfss.clean_active_design()"
   ]
  },
  {
   "cell_type": "code",
   "execution_count": 207,
   "id": "5fe6ab83-cc02-4676-ae1b-bd01a1ed9790",
   "metadata": {},
   "outputs": [],
   "source": [
    "readout_4_hfss.render_design(selection = ['Readout_4', 'Q_4', 'Cap_Readout_Q_4'], box_plus_buffer = False)"
   ]
  },
  {
   "cell_type": "code",
   "execution_count": 208,
   "id": "7bed4e4a-9c3e-4248-ab77-7a2a48e0e63c",
   "metadata": {},
   "outputs": [
    {
     "name": "stdout",
     "output_type": "stream",
     "text": [
      "\n",
      "Number of eigenmodes to find             = 2\n",
      "Number of simulation passes              = 12\n",
      "Convergence freq max delta percent diff  = 0.1\n",
      "\n"
     ]
    },
    {
     "name": "stderr",
     "output_type": "stream",
     "text": [
      "INFO 05:32PM [analyze]: Analyzing setup Setup\n"
     ]
    }
   ],
   "source": [
    "readout_4_setup = readout_4_hfss.pinfo.setup\n",
    "\n",
    "readout_4_setup.passes = 12\n",
    "readout_4_setup.n_modes = 2\n",
    "\n",
    "print(f\"\"\"\n",
    "Number of eigenmodes to find             = {readout_4_setup.n_modes}\n",
    "Number of simulation passes              = {readout_4_setup.passes}\n",
    "Convergence freq max delta percent diff  = {readout_4_setup.delta_f}\n",
    "\"\"\")\n",
    "\n",
    "# Next 2 lines are counterinuitive, since there is no junction in this resonator.\n",
    "# However, these are necessary to make pyEPR work correctly. Please do note delete\n",
    "readout_4_hfss.pinfo.design.set_variable('Lj', '10 nH')\n",
    "readout_4_hfss.pinfo.design.set_variable('Cj', '0 fF')\n",
    "\n",
    "readout_4_setup.analyze()"
   ]
  },
  {
   "cell_type": "code",
   "execution_count": 209,
   "id": "5bd6126e-d118-4bd3-b648-d6fdd6feef3e",
   "metadata": {},
   "outputs": [
    {
     "data": {
      "text/plain": [
       "([5.23833403434, 7.4241694037], None)"
      ]
     },
     "execution_count": 209,
     "metadata": {},
     "output_type": "execute_result"
    }
   ],
   "source": [
    "readout_4_setup.get_solutions().eigenmodes()"
   ]
  },
  {
   "cell_type": "code",
   "execution_count": 210,
   "id": "6419b0d3-309b-403b-8150-4e09b5cb2bf8",
   "metadata": {},
   "outputs": [
    {
     "name": "stderr",
     "output_type": "stream",
     "text": [
      "05:35PM 00s INFO [get_f_convergence]: Saved convergences to C:\\Users\\user\\Qiskit Metal\\hfss_eig_f_convergence.csv\n"
     ]
    }
   ],
   "source": [
    "eig_res.sim.convergence_t, eig_res.sim.convergence_f, _ = readout_4_hfss.get_convergences()\n",
    "eig_res.sim.plot_convergences()"
   ]
  },
  {
   "cell_type": "code",
   "execution_count": 211,
   "id": "9837e126-1449-4a90-9ae4-367d39ccf949",
   "metadata": {},
   "outputs": [],
   "source": [
    "readout_4_hfss.clean_active_design()"
   ]
  },
  {
   "cell_type": "code",
   "execution_count": 212,
   "id": "114f3368-4550-4203-9158-77ff59b9d649",
   "metadata": {},
   "outputs": [
    {
     "name": "stdout",
     "output_type": "stream",
     "text": [
      "Warning! 6 COM references still alive\n",
      "Ansys will likely refuse to shut down\n"
     ]
    }
   ],
   "source": [
    "eig_res.sim.close()"
   ]
  },
  {
   "cell_type": "markdown",
   "id": "20b09416-6478-4a77-9d58-2b6de1e6640c",
   "metadata": {},
   "source": [
    "## Updated Parameters\n"
   ]
  },
  {
   "cell_type": "code",
   "execution_count": 34,
   "id": "dea2e224-ef8f-4c97-97da-dd4c52cf8cd5",
   "metadata": {},
   "outputs": [],
   "source": [
    "Q_1.options.pad_gap = '28um'\n",
    "Q_1.options.connection_pads.readout.pad_gap = '15um'\n",
    "Q_1.options.connection_pads.readout.pad_width = '150um'\n",
    "Q_1.options.connection_pads.bus_13.pad_width = '130um'\n",
    "Q_1.options.connection_pads.bus_14.pad_width = '110um'\n",
    "Q_1.options.hfss_inductance = '14.9nH'\n",
    "Q_1.options.hfss_capacitance = '2fF'\n",
    "\n",
    "Q_2.options.pad_gap = '28um'\n",
    "Q_2.options.connection_pads.readout.pad_gap = '15um'\n",
    "Q_2.options.connection_pads.readout.pad_width = '130um'\n",
    "Q_2.options.connection_pads.bus_23.pad_width = '100um'\n",
    "Q_2.options.connection_pads.bus_24.pad_width = '110um'\n",
    "Q_2.options.hfss_inductance = '13.3nH'\n",
    "Q_2.options.hfss_capacitance = '4fF'\n",
    "\n",
    "Q_3.options.cross_width = '18um'\n",
    "Q_3.options.connection_pads.bus_13.claw_width = '20um'\n",
    "Q_3.options.connection_pads.bus_13.claw_length = '120um'\n",
    "Q_3.options.connection_pads.bus_23.claw_width = '20um'\n",
    "Q_3.options.connection_pads.bus_23.claw_length = '120um'\n",
    "Q_3.options.hfss_inductance = '8nH'\n",
    "Q_3.options.hfss_capacitance = '3fF'\n",
    "\n",
    "Q_4.options.cross_width = '18um'\n",
    "Q_4.options.connection_pads.bus_14.claw_width = '20um'\n",
    "Q_4.options.connection_pads.bus_14.claw_length = '120um'\n",
    "Q_4.options.connection_pads.bus_24.claw_width = '20um'\n",
    "Q_4.options.connection_pads.bus_24.claw_length = '120um'\n",
    "Q_4.options.hfss_inductance = '7.5nH'\n",
    "Q_4.options.hfss_capacitance = '3fF'\n",
    "\n",
    "bus_13.options.total_length = '9.5mm'\n",
    "bus_23.options.total_length = '9.2mm'\n",
    "bus_24.options.total_length = '9mm'\n",
    "bus_14.options.total_length = '8.5mm'\n",
    "\n",
    "bus_13.options.fillet = '50um'\n",
    "bus_24.options.fillet = '50um'\n",
    "\n",
    "readout_1.options.total_length = '8.3mm'\n",
    "readout_2.options.total_length = '8mm'\n",
    "readout_3.options.total_length = '7.9mm'\n",
    "readout_4.options.total_length = '7.7mm'\n",
    "\n",
    "\n",
    "gui.rebuild()"
   ]
  },
  {
   "cell_type": "code",
   "execution_count": 35,
   "id": "a3fe1ccc-f83d-4405-b9a0-a9dc63c7ea3f",
   "metadata": {},
   "outputs": [],
   "source": [
    "import pyEPR as epr\n",
    "from qiskit_metal.analyses.quantization import EPRanalysis"
   ]
  },
  {
   "cell_type": "code",
   "execution_count": 36,
   "id": "2f024283-82c1-40ca-8f04-788592379c57",
   "metadata": {},
   "outputs": [
    {
     "data": {
      "text/html": [
       "<div>\n",
       "<style scoped>\n",
       "    .dataframe tbody tr th:only-of-type {\n",
       "        vertical-align: middle;\n",
       "    }\n",
       "\n",
       "    .dataframe tbody tr th {\n",
       "        vertical-align: top;\n",
       "    }\n",
       "\n",
       "    .dataframe thead th {\n",
       "        text-align: right;\n",
       "    }\n",
       "</style>\n",
       "<table border=\"1\" class=\"dataframe\">\n",
       "  <thead>\n",
       "    <tr style=\"text-align: right;\">\n",
       "      <th></th>\n",
       "      <th>component</th>\n",
       "      <th>name</th>\n",
       "      <th>geometry</th>\n",
       "      <th>layer</th>\n",
       "      <th>subtract</th>\n",
       "      <th>helper</th>\n",
       "      <th>chip</th>\n",
       "      <th>width</th>\n",
       "      <th>hfss_inductance</th>\n",
       "      <th>hfss_capacitance</th>\n",
       "      <th>...</th>\n",
       "      <th>hfss_mesh_kw_jj</th>\n",
       "      <th>q3d_inductance</th>\n",
       "      <th>q3d_capacitance</th>\n",
       "      <th>q3d_resistance</th>\n",
       "      <th>q3d_mesh_kw_jj</th>\n",
       "      <th>gds_cell_name</th>\n",
       "      <th>aedt_q3d_inductance</th>\n",
       "      <th>aedt_q3d_capacitance</th>\n",
       "      <th>aedt_hfss_inductance</th>\n",
       "      <th>aedt_hfss_capacitance</th>\n",
       "    </tr>\n",
       "  </thead>\n",
       "  <tbody>\n",
       "    <tr>\n",
       "      <th>0</th>\n",
       "      <td>1</td>\n",
       "      <td>rect_jj</td>\n",
       "      <td>LINESTRING (-3.00000 -1.01400, -3.00000 -0.98600)</td>\n",
       "      <td>1</td>\n",
       "      <td>False</td>\n",
       "      <td>False</td>\n",
       "      <td>main</td>\n",
       "      <td>0.020</td>\n",
       "      <td>14.9nH</td>\n",
       "      <td>2fF</td>\n",
       "      <td>...</td>\n",
       "      <td>0.000007</td>\n",
       "      <td>10nH</td>\n",
       "      <td>0</td>\n",
       "      <td>0</td>\n",
       "      <td>0.000007</td>\n",
       "      <td>FakeJunction_01</td>\n",
       "      <td>1.000000e-08</td>\n",
       "      <td>0</td>\n",
       "      <td>1.000000e-08</td>\n",
       "      <td>0</td>\n",
       "    </tr>\n",
       "    <tr>\n",
       "      <th>1</th>\n",
       "      <td>2</td>\n",
       "      <td>rect_jj</td>\n",
       "      <td>LINESTRING (3.00000 1.01400, 3.00000 0.98600)</td>\n",
       "      <td>1</td>\n",
       "      <td>False</td>\n",
       "      <td>False</td>\n",
       "      <td>main</td>\n",
       "      <td>0.020</td>\n",
       "      <td>13.3nH</td>\n",
       "      <td>4fF</td>\n",
       "      <td>...</td>\n",
       "      <td>0.000007</td>\n",
       "      <td>10nH</td>\n",
       "      <td>0</td>\n",
       "      <td>0</td>\n",
       "      <td>0.000007</td>\n",
       "      <td>FakeJunction_01</td>\n",
       "      <td>1.000000e-08</td>\n",
       "      <td>0</td>\n",
       "      <td>1.000000e-08</td>\n",
       "      <td>0</td>\n",
       "    </tr>\n",
       "    <tr>\n",
       "      <th>2</th>\n",
       "      <td>3</td>\n",
       "      <td>rect_jj</td>\n",
       "      <td>LINESTRING (0.00000 3.20000, 0.00000 3.22000)</td>\n",
       "      <td>1</td>\n",
       "      <td>False</td>\n",
       "      <td>False</td>\n",
       "      <td>main</td>\n",
       "      <td>0.018</td>\n",
       "      <td>8nH</td>\n",
       "      <td>3fF</td>\n",
       "      <td>...</td>\n",
       "      <td>0.000007</td>\n",
       "      <td>10nH</td>\n",
       "      <td>0</td>\n",
       "      <td>0</td>\n",
       "      <td>0.000007</td>\n",
       "      <td>my_other_junction</td>\n",
       "      <td>1.000000e-08</td>\n",
       "      <td>0</td>\n",
       "      <td>1.000000e-08</td>\n",
       "      <td>0</td>\n",
       "    </tr>\n",
       "    <tr>\n",
       "      <th>3</th>\n",
       "      <td>4</td>\n",
       "      <td>rect_jj</td>\n",
       "      <td>LINESTRING (0.00000 -3.20000, 0.00000 -3.22000)</td>\n",
       "      <td>1</td>\n",
       "      <td>False</td>\n",
       "      <td>False</td>\n",
       "      <td>main</td>\n",
       "      <td>0.018</td>\n",
       "      <td>7.5nH</td>\n",
       "      <td>3fF</td>\n",
       "      <td>...</td>\n",
       "      <td>0.000007</td>\n",
       "      <td>10nH</td>\n",
       "      <td>0</td>\n",
       "      <td>0</td>\n",
       "      <td>0.000007</td>\n",
       "      <td>my_other_junction</td>\n",
       "      <td>1.000000e-08</td>\n",
       "      <td>0</td>\n",
       "      <td>1.000000e-08</td>\n",
       "      <td>0</td>\n",
       "    </tr>\n",
       "  </tbody>\n",
       "</table>\n",
       "<p>4 rows × 21 columns</p>\n",
       "</div>"
      ],
      "text/plain": [
       "  component     name                                           geometry  \\\n",
       "0         1  rect_jj  LINESTRING (-3.00000 -1.01400, -3.00000 -0.98600)   \n",
       "1         2  rect_jj      LINESTRING (3.00000 1.01400, 3.00000 0.98600)   \n",
       "2         3  rect_jj      LINESTRING (0.00000 3.20000, 0.00000 3.22000)   \n",
       "3         4  rect_jj    LINESTRING (0.00000 -3.20000, 0.00000 -3.22000)   \n",
       "\n",
       "   layer  subtract  helper  chip  width hfss_inductance hfss_capacitance  ...  \\\n",
       "0      1     False   False  main  0.020          14.9nH              2fF  ...   \n",
       "1      1     False   False  main  0.020          13.3nH              4fF  ...   \n",
       "2      1     False   False  main  0.018             8nH              3fF  ...   \n",
       "3      1     False   False  main  0.018           7.5nH              3fF  ...   \n",
       "\n",
       "   hfss_mesh_kw_jj  q3d_inductance q3d_capacitance  q3d_resistance  \\\n",
       "0         0.000007            10nH               0               0   \n",
       "1         0.000007            10nH               0               0   \n",
       "2         0.000007            10nH               0               0   \n",
       "3         0.000007            10nH               0               0   \n",
       "\n",
       "   q3d_mesh_kw_jj      gds_cell_name aedt_q3d_inductance  \\\n",
       "0        0.000007    FakeJunction_01        1.000000e-08   \n",
       "1        0.000007    FakeJunction_01        1.000000e-08   \n",
       "2        0.000007  my_other_junction        1.000000e-08   \n",
       "3        0.000007  my_other_junction        1.000000e-08   \n",
       "\n",
       "   aedt_q3d_capacitance  aedt_hfss_inductance  aedt_hfss_capacitance  \n",
       "0                     0          1.000000e-08                      0  \n",
       "1                     0          1.000000e-08                      0  \n",
       "2                     0          1.000000e-08                      0  \n",
       "3                     0          1.000000e-08                      0  \n",
       "\n",
       "[4 rows x 21 columns]"
      ]
     },
     "execution_count": 36,
     "metadata": {},
     "output_type": "execute_result"
    }
   ],
   "source": [
    "design.qgeometry.tables['junction']"
   ]
  },
  {
   "cell_type": "markdown",
   "id": "9fc81b3b-bf41-4daf-9e8c-ec89b77ef9ff",
   "metadata": {},
   "source": [
    "## Rendering the whole chip"
   ]
  },
  {
   "cell_type": "code",
   "execution_count": 37,
   "id": "96b7c8a2-44c0-4973-a237-cc4be03a3ea3",
   "metadata": {},
   "outputs": [],
   "source": [
    "# TODO: fold this inside either an analysis class method, or inside the analysis class setup\n",
    "qcomps = design.components  # short handle (alias)\n",
    "qcomps['Q_1'].options['hfss_inductance'] = 'Lj1'\n",
    "qcomps['Q_1'].options['hfss_capacitance'] = 'Cj1'\n",
    "qcomps['Q_2'].options['hfss_inductance'] = 'Lj2'\n",
    "qcomps['Q_2'].options['hfss_capacitance'] = 'Cj2'\n",
    "qcomps['Q_3'].options['hfss_inductance'] = 'Lj3'\n",
    "qcomps['Q_3'].options['hfss_capacitance'] = 'Cj3'\n",
    "qcomps['Q_4'].options['hfss_inductance'] = 'Lj4'\n",
    "qcomps['Q_4'].options['hfss_capacitance'] = 'Cj4'\n",
    "\n",
    "\n",
    "gui.rebuild()  # line needed to propagate the updates from the qubit instance into the junction design table\n",
    "gui.autoscale()"
   ]
  },
  {
   "cell_type": "code",
   "execution_count": 38,
   "id": "0ab1f7e9-d980-4b81-89cf-06d2c60cbc40",
   "metadata": {},
   "outputs": [],
   "source": [
    "eig_2qb = EPRanalysis(design, \"hfss\")"
   ]
  },
  {
   "cell_type": "code",
   "execution_count": 39,
   "id": "634b2a62-9cb2-4415-9aa9-fc08c1a52829",
   "metadata": {},
   "outputs": [
    {
     "data": {
      "text/plain": [
       "{'name': 'Setup',\n",
       " 'reuse_selected_design': True,\n",
       " 'reuse_setup': True,\n",
       " 'min_freq_ghz': 1,\n",
       " 'n_modes': 12,\n",
       " 'max_delta_f': 0.05,\n",
       " 'max_passes': 10,\n",
       " 'min_passes': 1,\n",
       " 'min_converged': 1,\n",
       " 'pct_refinement': 30,\n",
       " 'basis_order': 1,\n",
       " 'vars': {'Lj1': '14.9 nH',\n",
       "  'Cj1': '2 fF',\n",
       "  'Lj2': '13.3 nH',\n",
       "  'Cj2': '4 fF',\n",
       "  'Lj3': '7.5 nH',\n",
       "  'Cj3': '3 fF',\n",
       "  'Lj4': '7.5 nH',\n",
       "  'Cj4': '3 fF'}}"
      ]
     },
     "execution_count": 39,
     "metadata": {},
     "output_type": "execute_result"
    }
   ],
   "source": [
    "eig_2qb.sim.setup.max_passes = 10\n",
    "eig_2qb.sim.setup.max_delta_f = 0.05\n",
    "eig_2qb.sim.setup.n_modes = 12\n",
    "eig_2qb.sim.setup.vars = Dict(Lj1= '14.9 nH', Cj1= '2 fF',\n",
    "                            Lj2= '13.3 nH', Cj2= '4 fF',\n",
    "                            Lj3= '7.5 nH', Cj3= '3 fF',\n",
    "                            Lj4= '7.5 nH', Cj4= '3 fF')\n",
    "eig_2qb.sim.setup"
   ]
  },
  {
   "cell_type": "code",
   "execution_count": 40,
   "id": "2336f417-06a6-43dc-80c1-85b251e6f88e",
   "metadata": {},
   "outputs": [
    {
     "data": {
      "text/plain": [
       "{'Lj': '10nH',\n",
       " 'Cj': 0,\n",
       " '_Rj': 0,\n",
       " 'max_mesh_length_jj': '7um',\n",
       " 'max_mesh_length_port': '7um',\n",
       " 'project_path': None,\n",
       " 'project_name': None,\n",
       " 'design_name': None,\n",
       " 'x_buffer_width_mm': 0.5,\n",
       " 'y_buffer_width_mm': 0.5,\n",
       " 'wb_threshold': '400um',\n",
       " 'wb_offset': '0um',\n",
       " 'wb_size': 5,\n",
       " 'plot_ansys_fields_options': {'name': 'NAME:Mag_E1',\n",
       "  'UserSpecifyName': '0',\n",
       "  'UserSpecifyFolder': '0',\n",
       "  'QuantityName': 'Mag_E',\n",
       "  'PlotFolder': 'E Field',\n",
       "  'StreamlinePlot': 'False',\n",
       "  'AdjacentSidePlot': 'False',\n",
       "  'FullModelPlot': 'False',\n",
       "  'IntrinsicVar': \"Phase='0deg'\",\n",
       "  'PlotGeomInfo_0': '1',\n",
       "  'PlotGeomInfo_1': 'Surface',\n",
       "  'PlotGeomInfo_2': 'FacesList',\n",
       "  'PlotGeomInfo_3': '1'}}"
      ]
     },
     "execution_count": 40,
     "metadata": {},
     "output_type": "execute_result"
    }
   ],
   "source": [
    "# TODO: fold this inside either an analysis class method, or inside the analysis class setup\n",
    "\n",
    "eig_2qb.sim.renderer.options['x_buffer_width_mm'] = 0.5\n",
    "eig_2qb.sim.renderer.options['y_buffer_width_mm'] = 0.5\n",
    "eig_2qb.sim.renderer.options"
   ]
  },
  {
   "cell_type": "code",
   "execution_count": 41,
   "id": "c722c4f5-fab4-48c9-b2e0-eff399640ab0",
   "metadata": {},
   "outputs": [
    {
     "name": "stdout",
     "output_type": "stream",
     "text": [
      "Counting\n"
     ]
    },
    {
     "name": "stderr",
     "output_type": "stream",
     "text": [
      "INFO 05:01PM [connect_project]: Connecting to Ansys Desktop API...\n",
      "INFO 05:01PM [load_ansys_project]: \tOpened Ansys App\n",
      "INFO 05:01PM [load_ansys_project]: \tOpened Ansys Desktop v2024.1.0\n",
      "INFO 05:01PM [load_ansys_project]: \tOpened Ansys Project\n",
      "\tFolder:    C:/Users/user/Documents/Ansoft/\n",
      "\tProject:   Project5\n",
      "INFO 05:01PM [connect_design]: No active design found (or error getting active design).\n",
      "INFO 05:01PM [connect]: \t Connected to project \"Project5\". No design detected\n",
      "INFO 05:01PM [connect_design]: \tOpened active design\n",
      "\tDesign:    ChipWithoutReadout_hfss [Solution type: Eigenmode]\n",
      "WARNING 05:01PM [connect_setup]: \tNo design setup detected.\n",
      "WARNING 05:01PM [connect_setup]: \tCreating eigenmode default setup.\n",
      "INFO 05:01PM [get_setup]: \tOpened setup `Setup`  (<class 'pyEPR.ansys.HfssEMSetup'>)\n",
      "INFO 05:02PM [get_setup]: \tOpened setup `Setup`  (<class 'pyEPR.ansys.HfssEMSetup'>)\n",
      "INFO 05:02PM [analyze]: Analyzing setup Setup\n",
      "06:53PM 48s INFO [get_f_convergence]: Saved convergences to C:\\Users\\user\\Qiskit Metal\\hfss_eig_f_convergence.csv\n"
     ]
    },
    {
     "name": "stdout",
     "output_type": "stream",
     "text": [
      "Time Elapsed: 6770.865190982819\n"
     ]
    },
    {
     "name": "stderr",
     "output_type": "stream",
     "text": [
      "06:53PM 49s CRITICAL [_qt_message_handler]: line: 0, func: None(), file: None  CRITICAL: QEventDispatcherWin32::wakeUp: Failed to post a message (Not enough quota is available to process this command.)\n",
      "\n"
     ]
    }
   ],
   "source": [
    "import time\n",
    "start = time.time()\n",
    "print(\"Counting\")\n",
    "\n",
    "eig_2qb.sim.run(name=\"ChipWithoutReadout\",\n",
    "                components=['Q_1', 'Q_2','Q_3','Q_4','Bus_13','Bus_23','Bus_24','Bus_14','Readout_1', 'Readout_2', 'Readout_3', 'Readout_4',\n",
    "                           'Launch_Readout_Q_1','Launch_Readout_Q_2','Launch_Readout_Q_3','Launch_Readout_Q_4',\n",
    "                           'Launch_CL_Q_1','Launch_CL_Q_2','Launch_FL_Q_3','Launch_FL_Q_4',\n",
    "                            'Cap_Readout_Q_1','Cap_Readout_Q_2','Cap_Readout_Q_3','Cap_Readout_Q_4',\n",
    "                           'Charge_Line_Q_1','Charge_Line_Q_2','Flux_Line_Q_3','Flux_Line_Q_4',\n",
    "                           'TL_Readout_Q_1','TL_Readout_Q_2','TL_Readout_Q_3','TL_Readout_Q_4'])\n",
    "\n",
    "end = time.time()\n",
    "print(\"Time Elapsed:\", end - start)"
   ]
  },
  {
   "cell_type": "code",
   "execution_count": 42,
   "id": "29d74b2a-884a-4ec8-9f42-6f1f08f7c5d2",
   "metadata": {},
   "outputs": [],
   "source": [
    "eig_2qb.sim.plot_convergences()"
   ]
  },
  {
   "cell_type": "code",
   "execution_count": 43,
   "id": "d0bdfd93-cfa3-41c6-8392-5d183531a86f",
   "metadata": {},
   "outputs": [
    {
     "name": "stdout",
     "output_type": "stream",
     "text": [
      "Design \"ChipWithoutReadout_hfss\" info:\n",
      "\t# eigenmodes    12\n",
      "\t# variations    1\n",
      "Design \"ChipWithoutReadout_hfss\" info:\n",
      "\t# eigenmodes    12\n",
      "\t# variations    1\n"
     ]
    },
    {
     "data": {
      "text/html": [
       "<div>\n",
       "<style scoped>\n",
       "    .dataframe tbody tr th:only-of-type {\n",
       "        vertical-align: middle;\n",
       "    }\n",
       "\n",
       "    .dataframe tbody tr th {\n",
       "        vertical-align: top;\n",
       "    }\n",
       "\n",
       "    .dataframe thead th {\n",
       "        text-align: right;\n",
       "    }\n",
       "</style>\n",
       "<table border=\"1\" class=\"dataframe\">\n",
       "  <thead>\n",
       "    <tr style=\"text-align: right;\">\n",
       "      <th></th>\n",
       "      <th></th>\n",
       "      <th>Freq. (GHz)</th>\n",
       "      <th>Quality Factor</th>\n",
       "    </tr>\n",
       "    <tr>\n",
       "      <th>variation</th>\n",
       "      <th>mode</th>\n",
       "      <th></th>\n",
       "      <th></th>\n",
       "    </tr>\n",
       "  </thead>\n",
       "  <tbody>\n",
       "    <tr>\n",
       "      <th rowspan=\"12\" valign=\"top\">0</th>\n",
       "      <th>0</th>\n",
       "      <td>4.872064</td>\n",
       "      <td>inf</td>\n",
       "    </tr>\n",
       "    <tr>\n",
       "      <th>1</th>\n",
       "      <td>5.073668</td>\n",
       "      <td>inf</td>\n",
       "    </tr>\n",
       "    <tr>\n",
       "      <th>2</th>\n",
       "      <td>5.228010</td>\n",
       "      <td>inf</td>\n",
       "    </tr>\n",
       "    <tr>\n",
       "      <th>3</th>\n",
       "      <td>5.242823</td>\n",
       "      <td>inf</td>\n",
       "    </tr>\n",
       "    <tr>\n",
       "      <th>4</th>\n",
       "      <td>5.318098</td>\n",
       "      <td>inf</td>\n",
       "    </tr>\n",
       "    <tr>\n",
       "      <th>5</th>\n",
       "      <td>5.455883</td>\n",
       "      <td>inf</td>\n",
       "    </tr>\n",
       "    <tr>\n",
       "      <th>6</th>\n",
       "      <td>5.751513</td>\n",
       "      <td>inf</td>\n",
       "    </tr>\n",
       "    <tr>\n",
       "      <th>7</th>\n",
       "      <td>5.953469</td>\n",
       "      <td>inf</td>\n",
       "    </tr>\n",
       "    <tr>\n",
       "      <th>8</th>\n",
       "      <td>6.061440</td>\n",
       "      <td>inf</td>\n",
       "    </tr>\n",
       "    <tr>\n",
       "      <th>9</th>\n",
       "      <td>6.380419</td>\n",
       "      <td>inf</td>\n",
       "    </tr>\n",
       "    <tr>\n",
       "      <th>10</th>\n",
       "      <td>6.724154</td>\n",
       "      <td>inf</td>\n",
       "    </tr>\n",
       "    <tr>\n",
       "      <th>11</th>\n",
       "      <td>6.829460</td>\n",
       "      <td>inf</td>\n",
       "    </tr>\n",
       "  </tbody>\n",
       "</table>\n",
       "</div>"
      ],
      "text/plain": [
       "                Freq. (GHz)  Quality Factor\n",
       "variation mode                             \n",
       "0         0        4.872064             inf\n",
       "          1        5.073668             inf\n",
       "          2        5.228010             inf\n",
       "          3        5.242823             inf\n",
       "          4        5.318098             inf\n",
       "          5        5.455883             inf\n",
       "          6        5.751513             inf\n",
       "          7        5.953469             inf\n",
       "          8        6.061440             inf\n",
       "          9        6.380419             inf\n",
       "          10       6.724154             inf\n",
       "          11       6.829460             inf"
      ]
     },
     "execution_count": 43,
     "metadata": {},
     "output_type": "execute_result"
    }
   ],
   "source": [
    "eig_2qb.get_frequencies()"
   ]
  },
  {
   "cell_type": "code",
   "execution_count": 44,
   "id": "e8ac0430-0953-4f1f-9445-fef25f39d2f7",
   "metadata": {},
   "outputs": [],
   "source": [
    "del eig_2qb.setup.junctions['jj']"
   ]
  },
  {
   "cell_type": "code",
   "execution_count": 45,
   "id": "8f69b70a-b3f1-4fd0-97e7-0e8a79861b3c",
   "metadata": {},
   "outputs": [
    {
     "data": {
      "text/plain": [
       "{'junctions': {'jj1': {'rect': 'JJ_rect_Lj_Q_1_rect_jj',\n",
       "   'line': 'JJ_Lj_Q_1_rect_jj_',\n",
       "   'Lj_variable': 'Lj1',\n",
       "   'Cj_variable': 'Cj1'},\n",
       "  'jj2': {'rect': 'JJ_rect_Lj_Q_2_rect_jj',\n",
       "   'line': 'JJ_Lj_Q_2_rect_jj_',\n",
       "   'Lj_variable': 'Lj2',\n",
       "   'Cj_variable': 'Cj2'},\n",
       "  'jj3': {'rect': 'JJ_rect_Lj_Q_3_rect_jj',\n",
       "   'line': 'JJ_Lj_Q_3_rect_jj_',\n",
       "   'Lj_variable': 'Lj3',\n",
       "   'Cj_variable': 'Cj3'},\n",
       "  'jj4': {'rect': 'JJ_rect_Lj_Q_4_rect_jj',\n",
       "   'line': 'JJ_Lj_Q_4_rect_jj_',\n",
       "   'Lj_variable': 'Lj4',\n",
       "   'Cj_variable': 'Cj4'}},\n",
       " 'dissipatives': {'dielectrics_bulk': ['main']},\n",
       " 'cos_trunc': 8,\n",
       " 'fock_trunc': 7,\n",
       " 'sweep_variable': 'Lj1'}"
      ]
     },
     "execution_count": 45,
     "metadata": {},
     "output_type": "execute_result"
    }
   ],
   "source": [
    "eig_2qb.setup.junctions.jj1 = Dict(rect='JJ_rect_Lj_Q_1_rect_jj', line='JJ_Lj_Q_1_rect_jj_',\n",
    "                  Lj_variable='Lj1', Cj_variable='Cj1')\n",
    "eig_2qb.setup.junctions.jj2 = Dict(rect='JJ_rect_Lj_Q_2_rect_jj', line='JJ_Lj_Q_2_rect_jj_',\n",
    "                  Lj_variable='Lj2', Cj_variable='Cj2')\n",
    "eig_2qb.setup.junctions.jj3 = Dict(rect='JJ_rect_Lj_Q_3_rect_jj', line='JJ_Lj_Q_3_rect_jj_',\n",
    "                  Lj_variable='Lj3', Cj_variable='Cj3')\n",
    "eig_2qb.setup.junctions.jj4 = Dict(rect='JJ_rect_Lj_Q_4_rect_jj', line='JJ_Lj_Q_4_rect_jj_',\n",
    "                  Lj_variable='Lj4', Cj_variable='Cj4')\n",
    "\n",
    "\n",
    "\n",
    "eig_2qb.setup.sweep_variable = 'Lj1'\n",
    "eig_2qb.setup"
   ]
  },
  {
   "cell_type": "code",
   "execution_count": 46,
   "id": "796f6987-2ff5-48c3-b130-9374043c0b51",
   "metadata": {},
   "outputs": [
    {
     "name": "stdout",
     "output_type": "stream",
     "text": [
      "Design \"ChipWithoutReadout_hfss\" info:\n",
      "\t# eigenmodes    12\n",
      "\t# variations    1\n",
      "Design \"ChipWithoutReadout_hfss\" info:\n",
      "\t# eigenmodes    12\n",
      "\t# variations    1\n"
     ]
    },
    {
     "name": "stderr",
     "output_type": "stream",
     "text": [
      "WARNING:py.warnings:C:\\ProgramData\\Anaconda3\\envs\\qmetal\\lib\\site-packages\\pyEPR\\project_info.py:239: FutureWarning: The default dtype for empty Series will be 'object' instead of 'float64' in a future version. Specify a dtype explicitly to silence this warning.\n",
      "  options=pd.Series(get_instance_vars(self.options)),\n",
      "\n"
     ]
    },
    {
     "name": "stdout",
     "output_type": "stream",
     "text": [
      "\n",
      "        energy_elec_all       = 5.58443313187822e-24\n",
      "        energy_elec_substrate = 5.12845080623539e-24\n",
      "        EPR of substrate = 91.8%\n",
      "\n",
      "        energy_mag    = 2.33590433444508e-25\n",
      "        energy_mag % of energy_elec_all  = 4.2%\n",
      "        \n",
      "\n",
      "Variation 0  [1/1]\n"
     ]
    },
    {
     "name": "stderr",
     "output_type": "stream",
     "text": [
      "WARNING:py.warnings:C:\\ProgramData\\Anaconda3\\envs\\qmetal\\lib\\site-packages\\pyEPR\\core_distributed_analysis.py:1101: FutureWarning: The default dtype for empty Series will be 'object' instead of 'float64' in a future version. Specify a dtype explicitly to silence this warning.\n",
      "  Ljs = pd.Series({})\n",
      "\n",
      "WARNING:py.warnings:C:\\ProgramData\\Anaconda3\\envs\\qmetal\\lib\\site-packages\\pyEPR\\core_distributed_analysis.py:1102: FutureWarning: The default dtype for empty Series will be 'object' instead of 'float64' in a future version. Specify a dtype explicitly to silence this warning.\n",
      "  Cjs = pd.Series({})\n",
      "\n",
      "WARNING:py.warnings:C:\\ProgramData\\Anaconda3\\envs\\qmetal\\lib\\site-packages\\pyEPR\\core_distributed_analysis.py:1245: FutureWarning: The default dtype for empty Series will be 'object' instead of 'float64' in a future version. Specify a dtype explicitly to silence this warning.\n",
      "  _Om = pd.Series({})\n",
      "\n"
     ]
    },
    {
     "name": "stdout",
     "output_type": "stream",
     "text": [
      "\n",
      "  \u001b[1mMode 0 at 4.87 GHz   [1/12]\u001b[0m\n",
      "    Calculating ℰ_magnetic,ℰ_electric\n"
     ]
    },
    {
     "name": "stderr",
     "output_type": "stream",
     "text": [
      "WARNING:py.warnings:C:\\ProgramData\\Anaconda3\\envs\\qmetal\\lib\\site-packages\\pyEPR\\core_distributed_analysis.py:981: FutureWarning: The default dtype for empty Series will be 'object' instead of 'float64' in a future version. Specify a dtype explicitly to silence this warning.\n",
      "  Sj = pd.Series({})\n",
      "\n"
     ]
    },
    {
     "name": "stdout",
     "output_type": "stream",
     "text": [
      "       (ℰ_E-ℰ_H)/ℰ_E       ℰ_E       ℰ_H\n",
      "               95.8%  2.792e-24 1.168e-25\n",
      "\n",
      "    Calculating junction energy participation ration (EPR)\n",
      "\tmethod=`line_voltage`. First estimates:\n",
      "\tjunction        EPR p_0j   sign s_0j    (p_capacitive)\n",
      "\t\tEnergy fraction (Lj over Lj&Cj)= 97.28%\n",
      "\tjj1             0.985402  (+)        0.0275179\n",
      "\t\tEnergy fraction (Lj over Lj&Cj)= 97.57%\n",
      "\tjj2             1.74075e-08  (+)        4.33913e-10\n",
      "\t\tEnergy fraction (Lj over Lj&Cj)= 98.61%\n",
      "\tjj3             5.74366e-05  (+)        8.07357e-07\n"
     ]
    },
    {
     "name": "stderr",
     "output_type": "stream",
     "text": [
      "WARNING:py.warnings:C:\\ProgramData\\Anaconda3\\envs\\qmetal\\lib\\site-packages\\pyEPR\\core_distributed_analysis.py:933: FutureWarning: The default dtype for empty Series will be 'object' instead of 'float64' in a future version. Specify a dtype explicitly to silence this warning.\n",
      "  Qp = pd.Series({})\n",
      "\n"
     ]
    },
    {
     "name": "stdout",
     "output_type": "stream",
     "text": [
      "\t\tEnergy fraction (Lj over Lj&Cj)= 98.61%\n",
      "\tjj4             2.49739e-05  (+)        3.51045e-07\n",
      "\t\t(U_tot_cap-U_tot_ind)/mean=0.01%\n",
      "Calculating Qdielectric_main for mode 0 (0/11)\n"
     ]
    },
    {
     "name": "stderr",
     "output_type": "stream",
     "text": [
      "WARNING:py.warnings:C:\\ProgramData\\Anaconda3\\envs\\qmetal\\lib\\site-packages\\pyEPR\\core_distributed_analysis.py:1307: FutureWarning: The series.append method is deprecated and will be removed from pandas in a future version. Use pandas.concat instead.\n",
      "  sol = sol.append(self.get_Qdielectric(\n",
      "\n"
     ]
    },
    {
     "name": "stdout",
     "output_type": "stream",
     "text": [
      "p_dielectric_main_0 = 0.9183476075593248\n"
     ]
    },
    {
     "name": "stderr",
     "output_type": "stream",
     "text": [
      "WARNING:py.warnings:C:\\ProgramData\\Anaconda3\\envs\\qmetal\\lib\\site-packages\\pyEPR\\core_distributed_analysis.py:1245: FutureWarning: The default dtype for empty Series will be 'object' instead of 'float64' in a future version. Specify a dtype explicitly to silence this warning.\n",
      "  _Om = pd.Series({})\n",
      "\n"
     ]
    },
    {
     "name": "stdout",
     "output_type": "stream",
     "text": [
      "\n",
      "  \u001b[1mMode 1 at 5.07 GHz   [2/12]\u001b[0m\n",
      "    Calculating ℰ_magnetic,ℰ_electric\n"
     ]
    },
    {
     "name": "stderr",
     "output_type": "stream",
     "text": [
      "WARNING:py.warnings:C:\\ProgramData\\Anaconda3\\envs\\qmetal\\lib\\site-packages\\pyEPR\\core_distributed_analysis.py:981: FutureWarning: The default dtype for empty Series will be 'object' instead of 'float64' in a future version. Specify a dtype explicitly to silence this warning.\n",
      "  Sj = pd.Series({})\n",
      "\n"
     ]
    },
    {
     "name": "stdout",
     "output_type": "stream",
     "text": [
      "       (ℰ_E-ℰ_H)/ℰ_E       ℰ_E       ℰ_H\n",
      "               84.0%  3.798e-24 6.084e-25\n",
      "\n",
      "    Calculating junction energy participation ration (EPR)\n",
      "\tmethod=`line_voltage`. First estimates:\n",
      "\tjunction        EPR p_1j   sign s_1j    (p_capacitive)\n",
      "\t\tEnergy fraction (Lj over Lj&Cj)= 97.06%\n",
      "\tjj1             2.40652e-07  (+)        7.28803e-09\n",
      "\t\tEnergy fraction (Lj over Lj&Cj)= 97.37%\n",
      "\tjj2              0.88694  (+)        0.0239762\n",
      "\t\tEnergy fraction (Lj over Lj&Cj)= 98.50%\n",
      "\tjj3             0.000224499  (+)        3.42224e-06\n"
     ]
    },
    {
     "name": "stderr",
     "output_type": "stream",
     "text": [
      "WARNING:py.warnings:C:\\ProgramData\\Anaconda3\\envs\\qmetal\\lib\\site-packages\\pyEPR\\core_distributed_analysis.py:933: FutureWarning: The default dtype for empty Series will be 'object' instead of 'float64' in a future version. Specify a dtype explicitly to silence this warning.\n",
      "  Qp = pd.Series({})\n",
      "\n"
     ]
    },
    {
     "name": "stdout",
     "output_type": "stream",
     "text": [
      "\t\tEnergy fraction (Lj over Lj&Cj)= 98.50%\n",
      "\tjj4             0.000190193  (+)        2.89927e-06\n",
      "\t\t(U_tot_cap-U_tot_ind)/mean=-1.14%\n",
      "Calculating Qdielectric_main for mode 1 (1/11)\n"
     ]
    },
    {
     "name": "stderr",
     "output_type": "stream",
     "text": [
      "WARNING:py.warnings:C:\\ProgramData\\Anaconda3\\envs\\qmetal\\lib\\site-packages\\pyEPR\\core_distributed_analysis.py:1307: FutureWarning: The series.append method is deprecated and will be removed from pandas in a future version. Use pandas.concat instead.\n",
      "  sol = sol.append(self.get_Qdielectric(\n",
      "\n"
     ]
    },
    {
     "name": "stdout",
     "output_type": "stream",
     "text": [
      "p_dielectric_main_1 = 0.9171594165357226\n"
     ]
    },
    {
     "name": "stderr",
     "output_type": "stream",
     "text": [
      "WARNING:py.warnings:C:\\ProgramData\\Anaconda3\\envs\\qmetal\\lib\\site-packages\\pyEPR\\core_distributed_analysis.py:1245: FutureWarning: The default dtype for empty Series will be 'object' instead of 'float64' in a future version. Specify a dtype explicitly to silence this warning.\n",
      "  _Om = pd.Series({})\n",
      "\n"
     ]
    },
    {
     "name": "stdout",
     "output_type": "stream",
     "text": [
      "\n",
      "  \u001b[1mMode 2 at 5.23 GHz   [3/12]\u001b[0m\n",
      "    Calculating ℰ_magnetic,ℰ_electric\n"
     ]
    },
    {
     "name": "stderr",
     "output_type": "stream",
     "text": [
      "WARNING:py.warnings:C:\\ProgramData\\Anaconda3\\envs\\qmetal\\lib\\site-packages\\pyEPR\\core_distributed_analysis.py:981: FutureWarning: The default dtype for empty Series will be 'object' instead of 'float64' in a future version. Specify a dtype explicitly to silence this warning.\n",
      "  Sj = pd.Series({})\n",
      "\n"
     ]
    },
    {
     "name": "stdout",
     "output_type": "stream",
     "text": [
      "       (ℰ_E-ℰ_H)/ℰ_E       ℰ_E       ℰ_H\n",
      "               97.9%  1.565e-24 3.231e-26\n",
      "\n",
      "    Calculating junction energy participation ration (EPR)\n",
      "\tmethod=`line_voltage`. First estimates:\n",
      "\tjunction        EPR p_2j   sign s_2j    (p_capacitive)\n",
      "\t\tEnergy fraction (Lj over Lj&Cj)= 96.88%\n",
      "\tjj1             0.00017708  (+)        5.69402e-06\n",
      "\t\tEnergy fraction (Lj over Lj&Cj)= 97.21%\n",
      "\tjj2             0.000193236  (+)        5.5463e-06\n",
      "\t\tEnergy fraction (Lj over Lj&Cj)= 98.41%\n",
      "\tjj3              1.00251  (+)        0.0162261\n"
     ]
    },
    {
     "name": "stderr",
     "output_type": "stream",
     "text": [
      "WARNING:py.warnings:C:\\ProgramData\\Anaconda3\\envs\\qmetal\\lib\\site-packages\\pyEPR\\core_distributed_analysis.py:933: FutureWarning: The default dtype for empty Series will be 'object' instead of 'float64' in a future version. Specify a dtype explicitly to silence this warning.\n",
      "  Qp = pd.Series({})\n",
      "\n"
     ]
    },
    {
     "name": "stdout",
     "output_type": "stream",
     "text": [
      "\t\tEnergy fraction (Lj over Lj&Cj)= 98.41%\n",
      "\tjj4             2.23724e-05  (+)        3.62106e-07\n",
      "\t\t(U_tot_cap-U_tot_ind)/mean=-0.36%\n",
      "Calculating Qdielectric_main for mode 2 (2/11)\n"
     ]
    },
    {
     "name": "stderr",
     "output_type": "stream",
     "text": [
      "WARNING:py.warnings:C:\\ProgramData\\Anaconda3\\envs\\qmetal\\lib\\site-packages\\pyEPR\\core_distributed_analysis.py:1307: FutureWarning: The series.append method is deprecated and will be removed from pandas in a future version. Use pandas.concat instead.\n",
      "  sol = sol.append(self.get_Qdielectric(\n",
      "\n"
     ]
    },
    {
     "name": "stdout",
     "output_type": "stream",
     "text": [
      "p_dielectric_main_2 = 0.9187907695168609\n"
     ]
    },
    {
     "name": "stderr",
     "output_type": "stream",
     "text": [
      "WARNING:py.warnings:C:\\ProgramData\\Anaconda3\\envs\\qmetal\\lib\\site-packages\\pyEPR\\core_distributed_analysis.py:1245: FutureWarning: The default dtype for empty Series will be 'object' instead of 'float64' in a future version. Specify a dtype explicitly to silence this warning.\n",
      "  _Om = pd.Series({})\n",
      "\n"
     ]
    },
    {
     "name": "stdout",
     "output_type": "stream",
     "text": [
      "\n",
      "  \u001b[1mMode 3 at 5.24 GHz   [4/12]\u001b[0m\n",
      "    Calculating ℰ_magnetic,ℰ_electric\n"
     ]
    },
    {
     "name": "stderr",
     "output_type": "stream",
     "text": [
      "WARNING:py.warnings:C:\\ProgramData\\Anaconda3\\envs\\qmetal\\lib\\site-packages\\pyEPR\\core_distributed_analysis.py:981: FutureWarning: The default dtype for empty Series will be 'object' instead of 'float64' in a future version. Specify a dtype explicitly to silence this warning.\n",
      "  Sj = pd.Series({})\n",
      "\n"
     ]
    },
    {
     "name": "stdout",
     "output_type": "stream",
     "text": [
      "       (ℰ_E-ℰ_H)/ℰ_E       ℰ_E       ℰ_H\n",
      "               98.3%  1.002e-24 1.723e-26\n",
      "\n",
      "    Calculating junction energy participation ration (EPR)\n",
      "\tmethod=`line_voltage`. First estimates:\n",
      "\tjunction        EPR p_3j   sign s_3j    (p_capacitive)\n",
      "\t\tEnergy fraction (Lj over Lj&Cj)= 96.87%\n",
      "\tjj1             4.30597e-05  (+)        1.39244e-06\n",
      "\t\tEnergy fraction (Lj over Lj&Cj)= 97.19%\n",
      "\tjj2             0.000160466  (+)        4.63184e-06\n",
      "\t\tEnergy fraction (Lj over Lj&Cj)= 98.40%\n",
      "\tjj3             1.96263e-05  (+)        3.19463e-07\n"
     ]
    },
    {
     "name": "stderr",
     "output_type": "stream",
     "text": [
      "WARNING:py.warnings:C:\\ProgramData\\Anaconda3\\envs\\qmetal\\lib\\site-packages\\pyEPR\\core_distributed_analysis.py:933: FutureWarning: The default dtype for empty Series will be 'object' instead of 'float64' in a future version. Specify a dtype explicitly to silence this warning.\n",
      "  Qp = pd.Series({})\n",
      "\n"
     ]
    },
    {
     "name": "stdout",
     "output_type": "stream",
     "text": [
      "\t\tEnergy fraction (Lj over Lj&Cj)= 98.40%\n",
      "\tjj4              1.00586  (+)        0.0163727\n",
      "\t\t(U_tot_cap-U_tot_ind)/mean=-0.34%\n",
      "Calculating Qdielectric_main for mode 3 (3/11)\n"
     ]
    },
    {
     "name": "stderr",
     "output_type": "stream",
     "text": [
      "WARNING:py.warnings:C:\\ProgramData\\Anaconda3\\envs\\qmetal\\lib\\site-packages\\pyEPR\\core_distributed_analysis.py:1307: FutureWarning: The series.append method is deprecated and will be removed from pandas in a future version. Use pandas.concat instead.\n",
      "  sol = sol.append(self.get_Qdielectric(\n",
      "\n"
     ]
    },
    {
     "name": "stdout",
     "output_type": "stream",
     "text": [
      "p_dielectric_main_3 = 0.9177747042925369\n"
     ]
    },
    {
     "name": "stderr",
     "output_type": "stream",
     "text": [
      "WARNING:py.warnings:C:\\ProgramData\\Anaconda3\\envs\\qmetal\\lib\\site-packages\\pyEPR\\core_distributed_analysis.py:1245: FutureWarning: The default dtype for empty Series will be 'object' instead of 'float64' in a future version. Specify a dtype explicitly to silence this warning.\n",
      "  _Om = pd.Series({})\n",
      "\n"
     ]
    },
    {
     "name": "stdout",
     "output_type": "stream",
     "text": [
      "\n",
      "  \u001b[1mMode 4 at 5.32 GHz   [5/12]\u001b[0m\n",
      "    Calculating ℰ_magnetic,ℰ_electric\n"
     ]
    },
    {
     "name": "stderr",
     "output_type": "stream",
     "text": [
      "WARNING:py.warnings:C:\\ProgramData\\Anaconda3\\envs\\qmetal\\lib\\site-packages\\pyEPR\\core_distributed_analysis.py:981: FutureWarning: The default dtype for empty Series will be 'object' instead of 'float64' in a future version. Specify a dtype explicitly to silence this warning.\n",
      "  Sj = pd.Series({})\n",
      "\n"
     ]
    },
    {
     "name": "stdout",
     "output_type": "stream",
     "text": [
      "       (ℰ_E-ℰ_H)/ℰ_E       ℰ_E       ℰ_H\n",
      "               12.7%   1.47e-23 1.283e-23\n",
      "\n",
      "    Calculating junction energy participation ration (EPR)\n",
      "\tmethod=`line_voltage`. First estimates:\n",
      "\tjunction        EPR p_4j   sign s_4j    (p_capacitive)\n",
      "\t\tEnergy fraction (Lj over Lj&Cj)= 96.78%\n",
      "\tjj1             3.13058e-07  (+)        1.04163e-08\n",
      "\t\tEnergy fraction (Lj over Lj&Cj)= 97.12%\n",
      "\tjj2             0.135261  (+)        0.00401722\n",
      "\t\tEnergy fraction (Lj over Lj&Cj)= 98.35%\n",
      "\tjj3             9.17433e-05  (+)        1.53652e-06\n"
     ]
    },
    {
     "name": "stderr",
     "output_type": "stream",
     "text": [
      "WARNING:py.warnings:C:\\ProgramData\\Anaconda3\\envs\\qmetal\\lib\\site-packages\\pyEPR\\core_distributed_analysis.py:933: FutureWarning: The default dtype for empty Series will be 'object' instead of 'float64' in a future version. Specify a dtype explicitly to silence this warning.\n",
      "  Qp = pd.Series({})\n",
      "\n"
     ]
    },
    {
     "name": "stdout",
     "output_type": "stream",
     "text": [
      "\t\tEnergy fraction (Lj over Lj&Cj)= 98.35%\n",
      "\tjj4             7.71552e-05  (+)        1.2922e-06\n",
      "\t\t(U_tot_cap-U_tot_ind)/mean=-0.20%\n",
      "Calculating Qdielectric_main for mode 4 (4/11)\n"
     ]
    },
    {
     "name": "stderr",
     "output_type": "stream",
     "text": [
      "WARNING:py.warnings:C:\\ProgramData\\Anaconda3\\envs\\qmetal\\lib\\site-packages\\pyEPR\\core_distributed_analysis.py:1307: FutureWarning: The series.append method is deprecated and will be removed from pandas in a future version. Use pandas.concat instead.\n",
      "  sol = sol.append(self.get_Qdielectric(\n",
      "\n"
     ]
    },
    {
     "name": "stdout",
     "output_type": "stream",
     "text": [
      "p_dielectric_main_4 = 0.907743868224978\n"
     ]
    },
    {
     "name": "stderr",
     "output_type": "stream",
     "text": [
      "WARNING:py.warnings:C:\\ProgramData\\Anaconda3\\envs\\qmetal\\lib\\site-packages\\pyEPR\\core_distributed_analysis.py:1245: FutureWarning: The default dtype for empty Series will be 'object' instead of 'float64' in a future version. Specify a dtype explicitly to silence this warning.\n",
      "  _Om = pd.Series({})\n",
      "\n"
     ]
    },
    {
     "name": "stdout",
     "output_type": "stream",
     "text": [
      "\n",
      "  \u001b[1mMode 5 at 5.46 GHz   [6/12]\u001b[0m\n",
      "    Calculating ℰ_magnetic,ℰ_electric\n"
     ]
    },
    {
     "name": "stderr",
     "output_type": "stream",
     "text": [
      "WARNING:py.warnings:C:\\ProgramData\\Anaconda3\\envs\\qmetal\\lib\\site-packages\\pyEPR\\core_distributed_analysis.py:981: FutureWarning: The default dtype for empty Series will be 'object' instead of 'float64' in a future version. Specify a dtype explicitly to silence this warning.\n",
      "  Sj = pd.Series({})\n",
      "\n"
     ]
    },
    {
     "name": "stdout",
     "output_type": "stream",
     "text": [
      "       (ℰ_E-ℰ_H)/ℰ_E       ℰ_E       ℰ_H\n",
      "                2.3%  1.026e-23 1.003e-23\n",
      "\n",
      "    Calculating junction energy participation ration (EPR)\n",
      "\tmethod=`line_voltage`. First estimates:\n",
      "\tjunction        EPR p_5j   sign s_5j    (p_capacitive)\n",
      "\t\tEnergy fraction (Lj over Lj&Cj)= 96.62%\n",
      "\tjj1             0.0236577  (+)        0.000828472\n",
      "\t\tEnergy fraction (Lj over Lj&Cj)= 96.97%\n",
      "\tjj2             2.34575e-07  (+)        7.33252e-09\n",
      "\t\tEnergy fraction (Lj over Lj&Cj)= 98.27%\n",
      "\tjj3             5.64818e-06  (+)        9.95611e-08\n"
     ]
    },
    {
     "name": "stderr",
     "output_type": "stream",
     "text": [
      "WARNING:py.warnings:C:\\ProgramData\\Anaconda3\\envs\\qmetal\\lib\\site-packages\\pyEPR\\core_distributed_analysis.py:933: FutureWarning: The default dtype for empty Series will be 'object' instead of 'float64' in a future version. Specify a dtype explicitly to silence this warning.\n",
      "  Qp = pd.Series({})\n",
      "\n"
     ]
    },
    {
     "name": "stdout",
     "output_type": "stream",
     "text": [
      "\t\tEnergy fraction (Lj over Lj&Cj)= 98.27%\n",
      "\tjj4             3.49716e-06  (+)        6.16448e-08\n",
      "\t\t(U_tot_cap-U_tot_ind)/mean=0.00%\n",
      "Calculating Qdielectric_main for mode 5 (5/11)\n"
     ]
    },
    {
     "name": "stderr",
     "output_type": "stream",
     "text": [
      "WARNING:py.warnings:C:\\ProgramData\\Anaconda3\\envs\\qmetal\\lib\\site-packages\\pyEPR\\core_distributed_analysis.py:1307: FutureWarning: The series.append method is deprecated and will be removed from pandas in a future version. Use pandas.concat instead.\n",
      "  sol = sol.append(self.get_Qdielectric(\n",
      "\n"
     ]
    },
    {
     "name": "stdout",
     "output_type": "stream",
     "text": [
      "p_dielectric_main_5 = 0.9096108457201648\n"
     ]
    },
    {
     "name": "stderr",
     "output_type": "stream",
     "text": [
      "WARNING:py.warnings:C:\\ProgramData\\Anaconda3\\envs\\qmetal\\lib\\site-packages\\pyEPR\\core_distributed_analysis.py:1245: FutureWarning: The default dtype for empty Series will be 'object' instead of 'float64' in a future version. Specify a dtype explicitly to silence this warning.\n",
      "  _Om = pd.Series({})\n",
      "\n"
     ]
    },
    {
     "name": "stdout",
     "output_type": "stream",
     "text": [
      "\n",
      "  \u001b[1mMode 6 at 5.75 GHz   [7/12]\u001b[0m\n",
      "    Calculating ℰ_magnetic,ℰ_electric\n"
     ]
    },
    {
     "name": "stderr",
     "output_type": "stream",
     "text": [
      "WARNING:py.warnings:C:\\ProgramData\\Anaconda3\\envs\\qmetal\\lib\\site-packages\\pyEPR\\core_distributed_analysis.py:981: FutureWarning: The default dtype for empty Series will be 'object' instead of 'float64' in a future version. Specify a dtype explicitly to silence this warning.\n",
      "  Sj = pd.Series({})\n",
      "\n"
     ]
    },
    {
     "name": "stdout",
     "output_type": "stream",
     "text": [
      "       (ℰ_E-ℰ_H)/ℰ_E       ℰ_E       ℰ_H\n",
      "                1.1%  2.697e-24 2.669e-24\n",
      "\n",
      "    Calculating junction energy participation ration (EPR)\n",
      "\tmethod=`line_voltage`. First estimates:\n",
      "\tjunction        EPR p_6j   sign s_6j    (p_capacitive)\n",
      "\t\tEnergy fraction (Lj over Lj&Cj)= 96.25%\n",
      "\tjj1             0.00686324  (+)        0.000267097\n",
      "\t\tEnergy fraction (Lj over Lj&Cj)= 96.64%\n",
      "\tjj2             2.50186e-06  (+)        8.69097e-08\n",
      "\t\tEnergy fraction (Lj over Lj&Cj)= 98.08%\n",
      "\tjj3             0.00423196  (+)        8.29004e-05\n"
     ]
    },
    {
     "name": "stderr",
     "output_type": "stream",
     "text": [
      "WARNING:py.warnings:C:\\ProgramData\\Anaconda3\\envs\\qmetal\\lib\\site-packages\\pyEPR\\core_distributed_analysis.py:933: FutureWarning: The default dtype for empty Series will be 'object' instead of 'float64' in a future version. Specify a dtype explicitly to silence this warning.\n",
      "  Qp = pd.Series({})\n",
      "\n"
     ]
    },
    {
     "name": "stdout",
     "output_type": "stream",
     "text": [
      "\t\tEnergy fraction (Lj over Lj&Cj)= 98.08%\n",
      "\tjj4             2.27884e-09  (+)        4.46405e-11\n",
      "\t\t(U_tot_cap-U_tot_ind)/mean=-0.00%\n",
      "Calculating Qdielectric_main for mode 6 (6/11)\n"
     ]
    },
    {
     "name": "stderr",
     "output_type": "stream",
     "text": [
      "WARNING:py.warnings:C:\\ProgramData\\Anaconda3\\envs\\qmetal\\lib\\site-packages\\pyEPR\\core_distributed_analysis.py:1307: FutureWarning: The series.append method is deprecated and will be removed from pandas in a future version. Use pandas.concat instead.\n",
      "  sol = sol.append(self.get_Qdielectric(\n",
      "\n"
     ]
    },
    {
     "name": "stdout",
     "output_type": "stream",
     "text": [
      "p_dielectric_main_6 = 0.9142844811437983\n"
     ]
    },
    {
     "name": "stderr",
     "output_type": "stream",
     "text": [
      "WARNING:py.warnings:C:\\ProgramData\\Anaconda3\\envs\\qmetal\\lib\\site-packages\\pyEPR\\core_distributed_analysis.py:1245: FutureWarning: The default dtype for empty Series will be 'object' instead of 'float64' in a future version. Specify a dtype explicitly to silence this warning.\n",
      "  _Om = pd.Series({})\n",
      "\n"
     ]
    },
    {
     "name": "stdout",
     "output_type": "stream",
     "text": [
      "\n",
      "  \u001b[1mMode 7 at 5.95 GHz   [8/12]\u001b[0m\n",
      "    Calculating ℰ_magnetic,ℰ_electric\n"
     ]
    },
    {
     "name": "stderr",
     "output_type": "stream",
     "text": [
      "WARNING:py.warnings:C:\\ProgramData\\Anaconda3\\envs\\qmetal\\lib\\site-packages\\pyEPR\\core_distributed_analysis.py:981: FutureWarning: The default dtype for empty Series will be 'object' instead of 'float64' in a future version. Specify a dtype explicitly to silence this warning.\n",
      "  Sj = pd.Series({})\n",
      "\n"
     ]
    },
    {
     "name": "stdout",
     "output_type": "stream",
     "text": [
      "       (ℰ_E-ℰ_H)/ℰ_E       ℰ_E       ℰ_H\n",
      "                0.8%  3.067e-24 3.041e-24\n",
      "\n",
      "    Calculating junction energy participation ration (EPR)\n",
      "\tmethod=`line_voltage`. First estimates:\n",
      "\tjunction        EPR p_7j   sign s_7j    (p_capacitive)\n",
      "\t\tEnergy fraction (Lj over Lj&Cj)= 96.00%\n",
      "\tjj1             7.81567e-07  (+)        3.25898e-08\n",
      "\t\tEnergy fraction (Lj over Lj&Cj)= 96.41%\n",
      "\tjj2             0.0067982  (+)        0.000253032\n",
      "\t\tEnergy fraction (Lj over Lj&Cj)= 97.94%\n",
      "\tjj3             0.0022117  (+)        4.64212e-05\n"
     ]
    },
    {
     "name": "stderr",
     "output_type": "stream",
     "text": [
      "WARNING:py.warnings:C:\\ProgramData\\Anaconda3\\envs\\qmetal\\lib\\site-packages\\pyEPR\\core_distributed_analysis.py:933: FutureWarning: The default dtype for empty Series will be 'object' instead of 'float64' in a future version. Specify a dtype explicitly to silence this warning.\n",
      "  Qp = pd.Series({})\n",
      "\n"
     ]
    },
    {
     "name": "stdout",
     "output_type": "stream",
     "text": [
      "\t\tEnergy fraction (Lj over Lj&Cj)= 97.94%\n",
      "\tjj4             1.73498e-08  (+)        3.64154e-10\n",
      "\t\t(U_tot_cap-U_tot_ind)/mean=-0.01%\n",
      "Calculating Qdielectric_main for mode 7 (7/11)\n"
     ]
    },
    {
     "name": "stderr",
     "output_type": "stream",
     "text": [
      "WARNING:py.warnings:C:\\ProgramData\\Anaconda3\\envs\\qmetal\\lib\\site-packages\\pyEPR\\core_distributed_analysis.py:1307: FutureWarning: The series.append method is deprecated and will be removed from pandas in a future version. Use pandas.concat instead.\n",
      "  sol = sol.append(self.get_Qdielectric(\n",
      "\n"
     ]
    },
    {
     "name": "stdout",
     "output_type": "stream",
     "text": [
      "p_dielectric_main_7 = 0.913432269039335\n"
     ]
    },
    {
     "name": "stderr",
     "output_type": "stream",
     "text": [
      "WARNING:py.warnings:C:\\ProgramData\\Anaconda3\\envs\\qmetal\\lib\\site-packages\\pyEPR\\core_distributed_analysis.py:1245: FutureWarning: The default dtype for empty Series will be 'object' instead of 'float64' in a future version. Specify a dtype explicitly to silence this warning.\n",
      "  _Om = pd.Series({})\n",
      "\n"
     ]
    },
    {
     "name": "stdout",
     "output_type": "stream",
     "text": [
      "\n",
      "  \u001b[1mMode 8 at 6.06 GHz   [9/12]\u001b[0m\n",
      "    Calculating ℰ_magnetic,ℰ_electric\n"
     ]
    },
    {
     "name": "stderr",
     "output_type": "stream",
     "text": [
      "WARNING:py.warnings:C:\\ProgramData\\Anaconda3\\envs\\qmetal\\lib\\site-packages\\pyEPR\\core_distributed_analysis.py:981: FutureWarning: The default dtype for empty Series will be 'object' instead of 'float64' in a future version. Specify a dtype explicitly to silence this warning.\n",
      "  Sj = pd.Series({})\n",
      "\n"
     ]
    },
    {
     "name": "stdout",
     "output_type": "stream",
     "text": [
      "       (ℰ_E-ℰ_H)/ℰ_E       ℰ_E       ℰ_H\n",
      "                0.7%  2.741e-24 2.723e-24\n",
      "\n",
      "    Calculating junction energy participation ration (EPR)\n",
      "\tmethod=`line_voltage`. First estimates:\n",
      "\tjunction        EPR p_8j   sign s_8j    (p_capacitive)\n",
      "\t\tEnergy fraction (Lj over Lj&Cj)= 95.86%\n",
      "\tjj1             3.63167e-07  (+)        1.56976e-08\n",
      "\t\tEnergy fraction (Lj over Lj&Cj)= 96.29%\n",
      "\tjj2             0.00516687  (+)        0.000199352\n",
      "\t\tEnergy fraction (Lj over Lj&Cj)= 97.87%\n",
      "\tjj3             1.50118e-08  (+)        3.26614e-10\n"
     ]
    },
    {
     "name": "stderr",
     "output_type": "stream",
     "text": [
      "WARNING:py.warnings:C:\\ProgramData\\Anaconda3\\envs\\qmetal\\lib\\site-packages\\pyEPR\\core_distributed_analysis.py:933: FutureWarning: The default dtype for empty Series will be 'object' instead of 'float64' in a future version. Specify a dtype explicitly to silence this warning.\n",
      "  Qp = pd.Series({})\n",
      "\n"
     ]
    },
    {
     "name": "stdout",
     "output_type": "stream",
     "text": [
      "\t\tEnergy fraction (Lj over Lj&Cj)= 97.87%\n",
      "\tjj4             0.00196809  (+)        4.28202e-05\n",
      "\t\t(U_tot_cap-U_tot_ind)/mean=-0.01%\n",
      "Calculating Qdielectric_main for mode 8 (8/11)\n"
     ]
    },
    {
     "name": "stderr",
     "output_type": "stream",
     "text": [
      "WARNING:py.warnings:C:\\ProgramData\\Anaconda3\\envs\\qmetal\\lib\\site-packages\\pyEPR\\core_distributed_analysis.py:1307: FutureWarning: The series.append method is deprecated and will be removed from pandas in a future version. Use pandas.concat instead.\n",
      "  sol = sol.append(self.get_Qdielectric(\n",
      "\n"
     ]
    },
    {
     "name": "stdout",
     "output_type": "stream",
     "text": [
      "p_dielectric_main_8 = 0.9118261623682774\n"
     ]
    },
    {
     "name": "stderr",
     "output_type": "stream",
     "text": [
      "WARNING:py.warnings:C:\\ProgramData\\Anaconda3\\envs\\qmetal\\lib\\site-packages\\pyEPR\\core_distributed_analysis.py:1245: FutureWarning: The default dtype for empty Series will be 'object' instead of 'float64' in a future version. Specify a dtype explicitly to silence this warning.\n",
      "  _Om = pd.Series({})\n",
      "\n"
     ]
    },
    {
     "name": "stdout",
     "output_type": "stream",
     "text": [
      "\n",
      "  \u001b[1mMode 9 at 6.38 GHz   [10/12]\u001b[0m\n",
      "    Calculating ℰ_magnetic,ℰ_electric\n"
     ]
    },
    {
     "name": "stderr",
     "output_type": "stream",
     "text": [
      "WARNING:py.warnings:C:\\ProgramData\\Anaconda3\\envs\\qmetal\\lib\\site-packages\\pyEPR\\core_distributed_analysis.py:981: FutureWarning: The default dtype for empty Series will be 'object' instead of 'float64' in a future version. Specify a dtype explicitly to silence this warning.\n",
      "  Sj = pd.Series({})\n",
      "\n"
     ]
    },
    {
     "name": "stdout",
     "output_type": "stream",
     "text": [
      "       (ℰ_E-ℰ_H)/ℰ_E       ℰ_E       ℰ_H\n",
      "                0.4%  1.792e-24 1.784e-24\n",
      "\n",
      "    Calculating junction energy participation ration (EPR)\n",
      "\tmethod=`line_voltage`. First estimates:\n",
      "\tjunction        EPR p_9j   sign s_9j    (p_capacitive)\n",
      "\t\tEnergy fraction (Lj over Lj&Cj)= 95.43%\n",
      "\tjj1             0.00333263  (+)        0.000159611\n",
      "\t\tEnergy fraction (Lj over Lj&Cj)= 95.90%\n",
      "\tjj2             1.42583e-07  (+)        6.09548e-09\n",
      "\t\tEnergy fraction (Lj over Lj&Cj)= 97.65%\n",
      "\tjj3             1.23448e-08  (+)        2.97601e-10\n"
     ]
    },
    {
     "name": "stderr",
     "output_type": "stream",
     "text": [
      "WARNING:py.warnings:C:\\ProgramData\\Anaconda3\\envs\\qmetal\\lib\\site-packages\\pyEPR\\core_distributed_analysis.py:933: FutureWarning: The default dtype for empty Series will be 'object' instead of 'float64' in a future version. Specify a dtype explicitly to silence this warning.\n",
      "  Qp = pd.Series({})\n",
      "\n"
     ]
    },
    {
     "name": "stdout",
     "output_type": "stream",
     "text": [
      "\t\tEnergy fraction (Lj over Lj&Cj)= 97.65%\n",
      "\tjj4             0.00114069  (+)        2.7499e-05\n",
      "\t\t(U_tot_cap-U_tot_ind)/mean=-0.00%\n",
      "Calculating Qdielectric_main for mode 9 (9/11)\n"
     ]
    },
    {
     "name": "stderr",
     "output_type": "stream",
     "text": [
      "WARNING:py.warnings:C:\\ProgramData\\Anaconda3\\envs\\qmetal\\lib\\site-packages\\pyEPR\\core_distributed_analysis.py:1307: FutureWarning: The series.append method is deprecated and will be removed from pandas in a future version. Use pandas.concat instead.\n",
      "  sol = sol.append(self.get_Qdielectric(\n",
      "\n"
     ]
    },
    {
     "name": "stdout",
     "output_type": "stream",
     "text": [
      "p_dielectric_main_9 = 0.913852085233238\n"
     ]
    },
    {
     "name": "stderr",
     "output_type": "stream",
     "text": [
      "WARNING:py.warnings:C:\\ProgramData\\Anaconda3\\envs\\qmetal\\lib\\site-packages\\pyEPR\\core_distributed_analysis.py:1245: FutureWarning: The default dtype for empty Series will be 'object' instead of 'float64' in a future version. Specify a dtype explicitly to silence this warning.\n",
      "  _Om = pd.Series({})\n",
      "\n"
     ]
    },
    {
     "name": "stdout",
     "output_type": "stream",
     "text": [
      "\n",
      "  \u001b[1mMode 10 at 6.72 GHz   [11/12]\u001b[0m\n",
      "    Calculating ℰ_magnetic,ℰ_electric\n"
     ]
    },
    {
     "name": "stderr",
     "output_type": "stream",
     "text": [
      "WARNING:py.warnings:C:\\ProgramData\\Anaconda3\\envs\\qmetal\\lib\\site-packages\\pyEPR\\core_distributed_analysis.py:981: FutureWarning: The default dtype for empty Series will be 'object' instead of 'float64' in a future version. Specify a dtype explicitly to silence this warning.\n",
      "  Sj = pd.Series({})\n",
      "\n"
     ]
    },
    {
     "name": "stdout",
     "output_type": "stream",
     "text": [
      "       (ℰ_E-ℰ_H)/ℰ_E       ℰ_E       ℰ_H\n",
      "                0.2%  2.196e-24 2.192e-24\n",
      "\n",
      "    Calculating junction energy participation ration (EPR)\n",
      "\tmethod=`line_voltage`. First estimates:\n",
      "\tjunction        EPR p_10j   sign s_10j    (p_capacitive)\n",
      "\t\tEnergy fraction (Lj over Lj&Cj)= 94.95%\n",
      "\tjj1             0.00206977  (+)        0.000110097\n",
      "\t\tEnergy fraction (Lj over Lj&Cj)= 95.47%\n",
      "\tjj2             1.58483e-11  (+)        7.52487e-13\n",
      "\t\tEnergy fraction (Lj over Lj&Cj)= 97.39%\n",
      "\tjj3             2.58512e-07  (+)        6.9216e-09\n"
     ]
    },
    {
     "name": "stderr",
     "output_type": "stream",
     "text": [
      "WARNING:py.warnings:C:\\ProgramData\\Anaconda3\\envs\\qmetal\\lib\\site-packages\\pyEPR\\core_distributed_analysis.py:933: FutureWarning: The default dtype for empty Series will be 'object' instead of 'float64' in a future version. Specify a dtype explicitly to silence this warning.\n",
      "  Qp = pd.Series({})\n",
      "\n"
     ]
    },
    {
     "name": "stdout",
     "output_type": "stream",
     "text": [
      "\t\tEnergy fraction (Lj over Lj&Cj)= 97.39%\n",
      "\tjj4             8.53947e-08  (+)        2.28643e-09\n",
      "\t\t(U_tot_cap-U_tot_ind)/mean=0.00%\n",
      "Calculating Qdielectric_main for mode 10 (10/11)\n"
     ]
    },
    {
     "name": "stderr",
     "output_type": "stream",
     "text": [
      "WARNING:py.warnings:C:\\ProgramData\\Anaconda3\\envs\\qmetal\\lib\\site-packages\\pyEPR\\core_distributed_analysis.py:1307: FutureWarning: The series.append method is deprecated and will be removed from pandas in a future version. Use pandas.concat instead.\n",
      "  sol = sol.append(self.get_Qdielectric(\n",
      "\n"
     ]
    },
    {
     "name": "stdout",
     "output_type": "stream",
     "text": [
      "p_dielectric_main_10 = 0.9123842799495412\n"
     ]
    },
    {
     "name": "stderr",
     "output_type": "stream",
     "text": [
      "WARNING:py.warnings:C:\\ProgramData\\Anaconda3\\envs\\qmetal\\lib\\site-packages\\pyEPR\\core_distributed_analysis.py:1245: FutureWarning: The default dtype for empty Series will be 'object' instead of 'float64' in a future version. Specify a dtype explicitly to silence this warning.\n",
      "  _Om = pd.Series({})\n",
      "\n"
     ]
    },
    {
     "name": "stdout",
     "output_type": "stream",
     "text": [
      "\n",
      "  \u001b[1mMode 11 at 6.83 GHz   [12/12]\u001b[0m\n",
      "    Calculating ℰ_magnetic,ℰ_electric\n"
     ]
    },
    {
     "name": "stderr",
     "output_type": "stream",
     "text": [
      "WARNING:py.warnings:C:\\ProgramData\\Anaconda3\\envs\\qmetal\\lib\\site-packages\\pyEPR\\core_distributed_analysis.py:981: FutureWarning: The default dtype for empty Series will be 'object' instead of 'float64' in a future version. Specify a dtype explicitly to silence this warning.\n",
      "  Sj = pd.Series({})\n",
      "\n"
     ]
    },
    {
     "name": "stdout",
     "output_type": "stream",
     "text": [
      "       (ℰ_E-ℰ_H)/ℰ_E       ℰ_E       ℰ_H\n",
      "                0.2%   2.43e-24 2.426e-24\n",
      "\n",
      "    Calculating junction energy participation ration (EPR)\n",
      "\tmethod=`line_voltage`. First estimates:\n",
      "\tjunction        EPR p_11j   sign s_11j    (p_capacitive)\n",
      "\t\tEnergy fraction (Lj over Lj&Cj)= 94.80%\n",
      "\tjj1             2.39502e-10  (+)        1.31419e-11\n",
      "\t\tEnergy fraction (Lj over Lj&Cj)= 95.33%\n",
      "\tjj2             0.00202399  (+)        9.91342e-05\n",
      "\t\tEnergy fraction (Lj over Lj&Cj)= 97.31%\n",
      "\tjj3             7.39766e-09  (+)        2.04323e-10\n"
     ]
    },
    {
     "name": "stderr",
     "output_type": "stream",
     "text": [
      "WARNING:py.warnings:C:\\ProgramData\\Anaconda3\\envs\\qmetal\\lib\\site-packages\\pyEPR\\core_distributed_analysis.py:933: FutureWarning: The default dtype for empty Series will be 'object' instead of 'float64' in a future version. Specify a dtype explicitly to silence this warning.\n",
      "  Qp = pd.Series({})\n",
      "\n"
     ]
    },
    {
     "name": "stdout",
     "output_type": "stream",
     "text": [
      "\t\tEnergy fraction (Lj over Lj&Cj)= 97.31%\n",
      "\tjj4             2.66818e-07  (+)        7.3695e-09\n",
      "\t\t(U_tot_cap-U_tot_ind)/mean=-0.00%\n",
      "Calculating Qdielectric_main for mode 11 (11/11)\n"
     ]
    },
    {
     "name": "stderr",
     "output_type": "stream",
     "text": [
      "WARNING:py.warnings:C:\\ProgramData\\Anaconda3\\envs\\qmetal\\lib\\site-packages\\pyEPR\\core_distributed_analysis.py:1307: FutureWarning: The series.append method is deprecated and will be removed from pandas in a future version. Use pandas.concat instead.\n",
      "  sol = sol.append(self.get_Qdielectric(\n",
      "\n"
     ]
    },
    {
     "name": "stdout",
     "output_type": "stream",
     "text": [
      "p_dielectric_main_11 = 0.9112156214619831\n"
     ]
    },
    {
     "ename": "com_error",
     "evalue": "(-2147352567, 'Exception occurred.', (0, None, None, None, 0, -2147024382), None)",
     "output_type": "error",
     "traceback": [
      "\u001b[1;31m---------------------------------------------------------------------------\u001b[0m",
      "\u001b[1;31mcom_error\u001b[0m                                 Traceback (most recent call last)",
      "Cell \u001b[1;32mIn[46], line 1\u001b[0m\n\u001b[1;32m----> 1\u001b[0m \u001b[43meig_2qb\u001b[49m\u001b[38;5;241;43m.\u001b[39;49m\u001b[43mrun_epr\u001b[49m\u001b[43m(\u001b[49m\u001b[43m)\u001b[49m\n",
      "File \u001b[1;32mC:\\ProgramData\\Anaconda3\\envs\\qmetal\\lib\\site-packages\\qiskit_metal\\analyses\\quantization\\energy_participation_ratio.py:172\u001b[0m, in \u001b[0;36mEPRanalysis.run_epr\u001b[1;34m(self, no_junctions)\u001b[0m\n\u001b[0;32m    170\u001b[0m \u001b[38;5;28mself\u001b[39m\u001b[38;5;241m.\u001b[39mget_stored_energy(no_junctions)\n\u001b[0;32m    171\u001b[0m \u001b[38;5;28;01mif\u001b[39;00m \u001b[38;5;129;01mnot\u001b[39;00m no_junctions:\n\u001b[1;32m--> 172\u001b[0m     \u001b[38;5;28;43mself\u001b[39;49m\u001b[38;5;241;43m.\u001b[39;49m\u001b[43mrun_analysis\u001b[49m\u001b[43m(\u001b[49m\u001b[43m)\u001b[49m\n\u001b[0;32m    173\u001b[0m     \u001b[38;5;28mself\u001b[39m\u001b[38;5;241m.\u001b[39mspectrum_analysis(\u001b[38;5;28mself\u001b[39m\u001b[38;5;241m.\u001b[39msetup\u001b[38;5;241m.\u001b[39mcos_trunc, \u001b[38;5;28mself\u001b[39m\u001b[38;5;241m.\u001b[39msetup\u001b[38;5;241m.\u001b[39mfock_trunc)\n\u001b[0;32m    174\u001b[0m     \u001b[38;5;28;01mtry\u001b[39;00m:\n",
      "File \u001b[1;32mC:\\ProgramData\\Anaconda3\\envs\\qmetal\\lib\\site-packages\\qiskit_metal\\analyses\\quantization\\energy_participation_ratio.py:219\u001b[0m, in \u001b[0;36mEPRanalysis.run_analysis\u001b[1;34m(self)\u001b[0m\n\u001b[0;32m    215\u001b[0m \u001b[38;5;28;01mdef\u001b[39;00m \u001b[38;5;21mrun_analysis\u001b[39m(\u001b[38;5;28mself\u001b[39m):\n\u001b[0;32m    216\u001b[0m \u001b[38;5;250m    \u001b[39m\u001b[38;5;124;03m\"\"\"Short-cut to the same-name method found in renderers.ansys_renderer.py.\u001b[39;00m\n\u001b[0;32m    217\u001b[0m \u001b[38;5;124;03m    Eventually, the analysis code needs to be only here, and the renderer method deprecated.\u001b[39;00m\n\u001b[0;32m    218\u001b[0m \u001b[38;5;124;03m    \"\"\"\u001b[39;00m\n\u001b[1;32m--> 219\u001b[0m     \u001b[38;5;28;43mself\u001b[39;49m\u001b[38;5;241;43m.\u001b[39;49m\u001b[43msim\u001b[49m\u001b[38;5;241;43m.\u001b[39;49m\u001b[43mrenderer\u001b[49m\u001b[38;5;241;43m.\u001b[39;49m\u001b[43mepr_run_analysis\u001b[49m\u001b[43m(\u001b[49m\u001b[43m)\u001b[49m\n",
      "File \u001b[1;32mC:\\ProgramData\\Anaconda3\\envs\\qmetal\\lib\\site-packages\\qiskit_metal\\renderers\\renderer_ansys\\ansys_renderer.py:1759\u001b[0m, in \u001b[0;36mQAnsysRenderer.epr_run_analysis\u001b[1;34m(self, junctions, dissipatives)\u001b[0m\n\u001b[0;32m   1757\u001b[0m \u001b[38;5;28;01mif\u001b[39;00m junctions \u001b[38;5;129;01mis\u001b[39;00m \u001b[38;5;129;01mnot\u001b[39;00m \u001b[38;5;28;01mNone\u001b[39;00m \u001b[38;5;129;01mor\u001b[39;00m dissipatives \u001b[38;5;129;01mis\u001b[39;00m \u001b[38;5;129;01mnot\u001b[39;00m \u001b[38;5;28;01mNone\u001b[39;00m:\n\u001b[0;32m   1758\u001b[0m     \u001b[38;5;28mself\u001b[39m\u001b[38;5;241m.\u001b[39mepr_start(junctions, dissipatives)\n\u001b[1;32m-> 1759\u001b[0m \u001b[38;5;28;43mself\u001b[39;49m\u001b[38;5;241;43m.\u001b[39;49m\u001b[43mepr_distributed_analysis\u001b[49m\u001b[38;5;241;43m.\u001b[39;49m\u001b[43mdo_EPR_analysis\u001b[49m\u001b[43m(\u001b[49m\u001b[43m)\u001b[49m\n",
      "File \u001b[1;32mC:\\ProgramData\\Anaconda3\\envs\\qmetal\\lib\\site-packages\\pyEPR\\core_distributed_analysis.py:1326\u001b[0m, in \u001b[0;36mDistributedAnalysis.do_EPR_analysis\u001b[1;34m(self, variations, modes, append_analysis)\u001b[0m\n\u001b[0;32m   1323\u001b[0m     SOL[mode] \u001b[38;5;241m=\u001b[39m sol\n\u001b[0;32m   1325\u001b[0m \u001b[38;5;66;03m# Save\u001b[39;00m\n\u001b[1;32m-> 1326\u001b[0m \u001b[38;5;28;43mself\u001b[39;49m\u001b[38;5;241;43m.\u001b[39;49m\u001b[43m_update_results\u001b[49m\u001b[43m(\u001b[49m\u001b[43mvariation\u001b[49m\u001b[43m,\u001b[49m\u001b[43m \u001b[49m\u001b[43mOm\u001b[49m\u001b[43m,\u001b[49m\u001b[43m \u001b[49m\u001b[43mPm\u001b[49m\u001b[43m,\u001b[49m\u001b[43m \u001b[49m\u001b[43mSm\u001b[49m\u001b[43m,\u001b[49m\u001b[43m \u001b[49m\u001b[43mQm_coupling\u001b[49m\u001b[43m,\u001b[49m\u001b[43m \u001b[49m\u001b[43mSOL\u001b[49m\u001b[43m,\u001b[49m\n\u001b[0;32m   1327\u001b[0m \u001b[43m                     \u001b[49m\u001b[43mfreqs_bare_GHz\u001b[49m\u001b[43m,\u001b[49m\u001b[43m \u001b[49m\u001b[43mQs_bare\u001b[49m\u001b[43m,\u001b[49m\u001b[43m \u001b[49m\u001b[43mLjs\u001b[49m\u001b[43m,\u001b[49m\u001b[43m \u001b[49m\u001b[43mCjs\u001b[49m\u001b[43m,\u001b[49m\n\u001b[0;32m   1328\u001b[0m \u001b[43m                     \u001b[49m\u001b[43mPm_cap\u001b[49m\u001b[43m,\u001b[49m\u001b[43m \u001b[49m\u001b[43mI_peak\u001b[49m\u001b[43m,\u001b[49m\u001b[43m \u001b[49m\u001b[43mV_peak\u001b[49m\u001b[43m,\u001b[49m\n\u001b[0;32m   1329\u001b[0m \u001b[43m                     \u001b[49m\u001b[43mansys_energies\u001b[49m\u001b[43m,\u001b[49m\n\u001b[0;32m   1330\u001b[0m \u001b[43m                     \u001b[49m\u001b[38;5;28;43mself\u001b[39;49m\u001b[38;5;241;43m.\u001b[39;49m\u001b[43m_hfss_variables\u001b[49m\u001b[43m[\u001b[49m\u001b[43mvariation\u001b[49m\u001b[43m]\u001b[49m\u001b[43m)\u001b[49m\n\u001b[0;32m   1331\u001b[0m \u001b[38;5;28mself\u001b[39m\u001b[38;5;241m.\u001b[39msave()\n\u001b[0;32m   1333\u001b[0m \u001b[38;5;28mself\u001b[39m\u001b[38;5;241m.\u001b[39m_previously_analyzed\u001b[38;5;241m.\u001b[39madd(variation)\n",
      "File \u001b[1;32mC:\\ProgramData\\Anaconda3\\envs\\qmetal\\lib\\site-packages\\pyEPR\\core_distributed_analysis.py:1376\u001b[0m, in \u001b[0;36mDistributedAnalysis._update_results\u001b[1;34m(self, variation, Om, Pm, Sm, Qm_coupling, sols, freqs_bare_GHz, Qs_bare, Ljs, Cjs, Pm_cap, I_peak, V_peak, ansys_energies, _hfss_variables)\u001b[0m\n\u001b[0;32m   1372\u001b[0m \u001b[38;5;28mself\u001b[39m\u001b[38;5;241m.\u001b[39mresults[variation][\u001b[38;5;124m'\u001b[39m\u001b[38;5;124mmesh\u001b[39m\u001b[38;5;124m'\u001b[39m] \u001b[38;5;241m=\u001b[39m \u001b[38;5;28mself\u001b[39m\u001b[38;5;241m.\u001b[39mget_mesh_statistics(\n\u001b[0;32m   1373\u001b[0m     variation)  \u001b[38;5;66;03m# dataframe\u001b[39;00m\n\u001b[0;32m   1374\u001b[0m \u001b[38;5;28mself\u001b[39m\u001b[38;5;241m.\u001b[39mresults[variation][\u001b[38;5;124m'\u001b[39m\u001b[38;5;124mconvergence\u001b[39m\u001b[38;5;124m'\u001b[39m] \u001b[38;5;241m=\u001b[39m \u001b[38;5;28mself\u001b[39m\u001b[38;5;241m.\u001b[39mget_convergence(\n\u001b[0;32m   1375\u001b[0m     variation)\n\u001b[1;32m-> 1376\u001b[0m \u001b[38;5;28mself\u001b[39m\u001b[38;5;241m.\u001b[39mresults[variation][\u001b[38;5;124m'\u001b[39m\u001b[38;5;124mconvergence_f_pass\u001b[39m\u001b[38;5;124m'\u001b[39m] \u001b[38;5;241m=\u001b[39m \u001b[38;5;28;43mself\u001b[39;49m\u001b[38;5;241;43m.\u001b[39;49m\u001b[43mhfss_report_f_convergence\u001b[49m\u001b[43m(\u001b[49m\n\u001b[0;32m   1377\u001b[0m \u001b[43m    \u001b[49m\u001b[43mvariation\u001b[49m\u001b[43m,\u001b[49m\u001b[43m \u001b[49m\u001b[43msave_csv\u001b[49m\u001b[38;5;241;43m=\u001b[39;49m\u001b[38;5;28;43;01mFalse\u001b[39;49;00m\u001b[43m)\u001b[49m\n",
      "File \u001b[1;32mC:\\ProgramData\\Anaconda3\\envs\\qmetal\\lib\\site-packages\\pyEPR\\core_distributed_analysis.py:1582\u001b[0m, in \u001b[0;36mDistributedAnalysis.hfss_report_f_convergence\u001b[1;34m(self, variation, save_csv)\u001b[0m\n\u001b[0;32m   1579\u001b[0m \u001b[38;5;66;03m# Properties of lines\u001b[39;00m\n\u001b[0;32m   1580\u001b[0m curves \u001b[38;5;241m=\u001b[39m [\u001b[38;5;124mf\u001b[39m\u001b[38;5;124m\"\u001b[39m\u001b[38;5;132;01m{\u001b[39;00mreport_name\u001b[38;5;132;01m}\u001b[39;00m\u001b[38;5;124m:re(Mode(\u001b[39m\u001b[38;5;132;01m{\u001b[39;00mi\u001b[38;5;132;01m}\u001b[39;00m\u001b[38;5;124m)):Curve1\u001b[39m\u001b[38;5;124m\"\u001b[39m \u001b[38;5;28;01mfor\u001b[39;00m i \u001b[38;5;129;01min\u001b[39;00m \u001b[38;5;28mrange\u001b[39m(\n\u001b[0;32m   1581\u001b[0m     \u001b[38;5;241m1\u001b[39m, \u001b[38;5;241m1\u001b[39m\u001b[38;5;241m+\u001b[39m\u001b[38;5;28mself\u001b[39m\u001b[38;5;241m.\u001b[39mn_modes)]\n\u001b[1;32m-> 1582\u001b[0m \u001b[43mset_property\u001b[49m\u001b[43m(\u001b[49m\u001b[43mreport\u001b[49m\u001b[43m,\u001b[49m\u001b[43m \u001b[49m\u001b[38;5;124;43m'\u001b[39;49m\u001b[38;5;124;43mAttributes\u001b[39;49m\u001b[38;5;124;43m'\u001b[39;49m\u001b[43m,\u001b[49m\u001b[43m \u001b[49m\u001b[43mcurves\u001b[49m\u001b[43m,\u001b[49m\u001b[43m \u001b[49m\u001b[38;5;124;43m'\u001b[39;49m\u001b[38;5;124;43mLine Width\u001b[39;49m\u001b[38;5;124;43m'\u001b[39;49m\u001b[43m,\u001b[49m\u001b[43m \u001b[49m\u001b[38;5;241;43m3\u001b[39;49m\u001b[43m)\u001b[49m\n\u001b[0;32m   1583\u001b[0m set_property(report, \u001b[38;5;124m'\u001b[39m\u001b[38;5;124mScaling\u001b[39m\u001b[38;5;124m'\u001b[39m,\n\u001b[0;32m   1584\u001b[0m              \u001b[38;5;124mf\u001b[39m\u001b[38;5;124m\"\u001b[39m\u001b[38;5;132;01m{\u001b[39;00mreport_name\u001b[38;5;132;01m}\u001b[39;00m\u001b[38;5;124m:AxisY1\u001b[39m\u001b[38;5;124m\"\u001b[39m, \u001b[38;5;124m'\u001b[39m\u001b[38;5;124mAuto Units\u001b[39m\u001b[38;5;124m'\u001b[39m, \u001b[38;5;28;01mFalse\u001b[39;00m)\n\u001b[0;32m   1585\u001b[0m set_property(report, \u001b[38;5;124m'\u001b[39m\u001b[38;5;124mScaling\u001b[39m\u001b[38;5;124m'\u001b[39m, \u001b[38;5;124mf\u001b[39m\u001b[38;5;124m\"\u001b[39m\u001b[38;5;132;01m{\u001b[39;00mreport_name\u001b[38;5;132;01m}\u001b[39;00m\u001b[38;5;124m:AxisY1\u001b[39m\u001b[38;5;124m\"\u001b[39m, \u001b[38;5;124m'\u001b[39m\u001b[38;5;124mUnits\u001b[39m\u001b[38;5;124m'\u001b[39m, \u001b[38;5;124m'\u001b[39m\u001b[38;5;124mg\u001b[39m\u001b[38;5;124m'\u001b[39m)\n",
      "File \u001b[1;32mC:\\ProgramData\\Anaconda3\\envs\\qmetal\\lib\\site-packages\\pyEPR\\ansys.py:357\u001b[0m, in \u001b[0;36mset_property\u001b[1;34m(prop_holder, prop_tab, prop_server, name, value, prop_args)\u001b[0m\n\u001b[0;32m    355\u001b[0m \u001b[38;5;28;01mif\u001b[39;00m \u001b[38;5;129;01mnot\u001b[39;00m \u001b[38;5;28misinstance\u001b[39m(prop_server, \u001b[38;5;28mlist\u001b[39m):\n\u001b[0;32m    356\u001b[0m     prop_server \u001b[38;5;241m=\u001b[39m [prop_server]\n\u001b[1;32m--> 357\u001b[0m \u001b[38;5;28;01mreturn\u001b[39;00m \u001b[43mprop_holder\u001b[49m\u001b[38;5;241;43m.\u001b[39;49m\u001b[43mChangeProperty\u001b[49m\u001b[43m(\u001b[49m\u001b[43m[\u001b[49m\n\u001b[0;32m    358\u001b[0m \u001b[43m    \u001b[49m\u001b[38;5;124;43m\"\u001b[39;49m\u001b[38;5;124;43mNAME:AllTabs\u001b[39;49m\u001b[38;5;124;43m\"\u001b[39;49m\u001b[43m,\u001b[49m\n\u001b[0;32m    359\u001b[0m \u001b[43m    \u001b[49m\u001b[43m[\u001b[49m\n\u001b[0;32m    360\u001b[0m \u001b[43m        \u001b[49m\u001b[38;5;124;43m\"\u001b[39;49m\u001b[38;5;124;43mNAME:\u001b[39;49m\u001b[38;5;124;43m\"\u001b[39;49m\u001b[43m \u001b[49m\u001b[38;5;241;43m+\u001b[39;49m\u001b[43m \u001b[49m\u001b[43mprop_tab\u001b[49m\u001b[43m,\u001b[49m\u001b[43m \u001b[49m\u001b[43m[\u001b[49m\u001b[38;5;124;43m\"\u001b[39;49m\u001b[38;5;124;43mNAME:PropServers\u001b[39;49m\u001b[38;5;124;43m\"\u001b[39;49m\u001b[43m,\u001b[49m\u001b[43m \u001b[49m\u001b[38;5;241;43m*\u001b[39;49m\u001b[43mprop_server\u001b[49m\u001b[43m]\u001b[49m\u001b[43m,\u001b[49m\n\u001b[0;32m    361\u001b[0m \u001b[43m        \u001b[49m\u001b[43m[\u001b[49m\n\u001b[0;32m    362\u001b[0m \u001b[43m            \u001b[49m\u001b[38;5;124;43m\"\u001b[39;49m\u001b[38;5;124;43mNAME:ChangedProps\u001b[39;49m\u001b[38;5;124;43m\"\u001b[39;49m\u001b[43m,\u001b[49m\n\u001b[0;32m    363\u001b[0m \u001b[43m            \u001b[49m\u001b[43m[\u001b[49m\u001b[38;5;124;43m\"\u001b[39;49m\u001b[38;5;124;43mNAME:\u001b[39;49m\u001b[38;5;124;43m\"\u001b[39;49m\u001b[43m \u001b[49m\u001b[38;5;241;43m+\u001b[39;49m\u001b[43m \u001b[49m\u001b[43mname\u001b[49m\u001b[43m,\u001b[49m\u001b[43m \u001b[49m\u001b[38;5;124;43m\"\u001b[39;49m\u001b[38;5;124;43mValue:=\u001b[39;49m\u001b[38;5;124;43m\"\u001b[39;49m\u001b[43m,\u001b[49m\u001b[43m \u001b[49m\u001b[43mvalue\u001b[49m\u001b[43m]\u001b[49m\u001b[43m \u001b[49m\u001b[38;5;241;43m+\u001b[39;49m\u001b[43m \u001b[49m\u001b[43m(\u001b[49m\u001b[43mprop_args\u001b[49m\u001b[43m \u001b[49m\u001b[38;5;129;43;01mor\u001b[39;49;00m\u001b[43m \u001b[49m\u001b[43m[\u001b[49m\u001b[43m]\u001b[49m\u001b[43m)\u001b[49m\n\u001b[0;32m    364\u001b[0m \u001b[43m        \u001b[49m\u001b[43m]\u001b[49m\n\u001b[0;32m    365\u001b[0m \u001b[43m    \u001b[49m\u001b[43m]\u001b[49m\n\u001b[0;32m    366\u001b[0m \u001b[43m\u001b[49m\u001b[43m]\u001b[49m\u001b[43m)\u001b[49m\n",
      "File \u001b[1;32m<COMObject GetModule>:2\u001b[0m, in \u001b[0;36mChangeProperty\u001b[1;34m(self, args)\u001b[0m\n",
      "\u001b[1;31mcom_error\u001b[0m: (-2147352567, 'Exception occurred.', (0, None, None, None, 0, -2147024382), None)"
     ]
    }
   ],
   "source": [
    "eig_2qb.run_epr()"
   ]
  },
  {
   "cell_type": "code",
   "execution_count": 47,
   "id": "939d03cf-7b58-407b-8005-8d059462a561",
   "metadata": {},
   "outputs": [
    {
     "data": {
      "image/png": "[encoded data removed]",
      "text/plain": [
       "<IPython.core.display.Image object>"
      ]
     },
     "metadata": {},
     "output_type": "display_data"
    },
    {
     "data": {
      "text/plain": [
       "WindowsPath('C:/Users/user/Qiskit Metal/ansys.png')"
      ]
     },
     "execution_count": 47,
     "metadata": {},
     "output_type": "execute_result"
    }
   ],
   "source": [
    "eig_2qb.sim.save_screenshot()  # optional"
   ]
  },
  {
   "cell_type": "code",
   "execution_count": 48,
   "id": "062e6abd-0e0b-4037-99e3-3a1f5daa769f",
   "metadata": {},
   "outputs": [
    {
     "name": "stdout",
     "output_type": "stream",
     "text": [
      "Warning! 3 COM references still alive\n",
      "Ansys will likely refuse to shut down\n"
     ]
    }
   ],
   "source": [
    "eig_2qb.sim.close()"
   ]
  },
  {
   "cell_type": "markdown",
   "id": "92ab2218-a8f7-4026-aa10-12854e1deea4",
   "metadata": {
    "jp-MarkdownHeadingCollapsed": true
   },
   "source": [
    "## Rendering Block by Block"
   ]
  },
  {
   "cell_type": "markdown",
   "id": "73b3d4c0-43cf-4946-87be-6a7507a81f26",
   "metadata": {},
   "source": [
    "### Qubit 1, Qubit 3 and Bus_13"
   ]
  },
  {
   "cell_type": "code",
   "execution_count": 116,
   "id": "45fa64be-322d-4e5a-8e3c-c535cd7a5af5",
   "metadata": {},
   "outputs": [],
   "source": [
    "eig_qb = EPRanalysis(design, \"hfss\")"
   ]
  },
  {
   "cell_type": "code",
   "execution_count": 117,
   "id": "a2da0332-d555-4bf5-9d11-8e3360977b2a",
   "metadata": {},
   "outputs": [
    {
     "data": {
      "text/plain": [
       "{'name': 'Setup',\n",
       " 'reuse_selected_design': True,\n",
       " 'reuse_setup': True,\n",
       " 'min_freq_ghz': 1,\n",
       " 'n_modes': 1,\n",
       " 'max_delta_f': 0.5,\n",
       " 'max_passes': 10,\n",
       " 'min_passes': 1,\n",
       " 'min_converged': 1,\n",
       " 'pct_refinement': 30,\n",
       " 'basis_order': 1,\n",
       " 'vars': {'Lj': '10 nH', 'Cj': '0 fF'}}"
      ]
     },
     "execution_count": 117,
     "metadata": {},
     "output_type": "execute_result"
    }
   ],
   "source": [
    "eig_qb.sim.setup"
   ]
  },
  {
   "cell_type": "code",
   "execution_count": 118,
   "id": "77cfc5ee-97b1-4112-8451-2b47bd26a804",
   "metadata": {},
   "outputs": [
    {
     "data": {
      "text/plain": [
       "{'name': 'Setup',\n",
       " 'reuse_selected_design': True,\n",
       " 'reuse_setup': True,\n",
       " 'min_freq_ghz': 3,\n",
       " 'n_modes': 3,\n",
       " 'max_delta_f': 0.1,\n",
       " 'max_passes': 12,\n",
       " 'min_passes': 1,\n",
       " 'min_converged': 1,\n",
       " 'pct_refinement': 30,\n",
       " 'basis_order': 1,\n",
       " 'vars': {'Lj1': '14.9 nH', 'Cj1': '0 fF', 'Lj2': '13.3 nH', 'Cj2': '0 fF'}}"
      ]
     },
     "execution_count": 118,
     "metadata": {},
     "output_type": "execute_result"
    }
   ],
   "source": [
    "# example: update single setting\n",
    "eig_qb.sim.setup.n_modes = 3\n",
    "eig_qb.sim.setup.max_passes = 12\n",
    "eig_qb.sim.setup.vars = Dict(Lj1= '14.9 nH', Cj1= '0 fF',\n",
    "                           Lj2= '13.3 nH', Cj2= '0 fF')\n",
    "# example: update multiple settings\n",
    "eig_qb.sim.setup_update(max_delta_f = 0.1, min_freq_ghz = 3)\n",
    "\n",
    "eig_qb.sim.setup"
   ]
  },
  {
   "cell_type": "code",
   "execution_count": 119,
   "id": "df7d622b-f942-4684-b8f3-c199ba3d937d",
   "metadata": {},
   "outputs": [
    {
     "data": {
      "text/plain": [
       "{'Lj': '10nH',\n",
       " 'Cj': 0,\n",
       " '_Rj': 0,\n",
       " 'max_mesh_length_jj': '7um',\n",
       " 'max_mesh_length_port': '7um',\n",
       " 'project_path': None,\n",
       " 'project_name': None,\n",
       " 'design_name': None,\n",
       " 'x_buffer_width_mm': 0.5,\n",
       " 'y_buffer_width_mm': 0.5,\n",
       " 'wb_threshold': '400um',\n",
       " 'wb_offset': '0um',\n",
       " 'wb_size': 5,\n",
       " 'plot_ansys_fields_options': {'name': 'NAME:Mag_E1',\n",
       "  'UserSpecifyName': '0',\n",
       "  'UserSpecifyFolder': '0',\n",
       "  'QuantityName': 'Mag_E',\n",
       "  'PlotFolder': 'E Field',\n",
       "  'StreamlinePlot': 'False',\n",
       "  'AdjacentSidePlot': 'False',\n",
       "  'FullModelPlot': 'False',\n",
       "  'IntrinsicVar': \"Phase='0deg'\",\n",
       "  'PlotGeomInfo_0': '1',\n",
       "  'PlotGeomInfo_1': 'Surface',\n",
       "  'PlotGeomInfo_2': 'FacesList',\n",
       "  'PlotGeomInfo_3': '1'}}"
      ]
     },
     "execution_count": 119,
     "metadata": {},
     "output_type": "execute_result"
    }
   ],
   "source": [
    "# TODO: fold this inside either an analysis class method, or inside the analysis class setup\n",
    "\n",
    "eig_qb.sim.renderer.options['x_buffer_width_mm'] = 0.5\n",
    "eig_qb.sim.renderer.options['y_buffer_width_mm'] = 0.5\n",
    "eig_qb.sim.renderer.options"
   ]
  },
  {
   "cell_type": "code",
   "execution_count": 120,
   "id": "6032f7aa-ec55-44a3-9136-1d1c10612047",
   "metadata": {},
   "outputs": [
    {
     "name": "stderr",
     "output_type": "stream",
     "text": [
      "INFO 04:08PM [connect_project]: Connecting to Ansys Desktop API...\n",
      "INFO 04:08PM [load_ansys_project]: \tOpened Ansys App\n",
      "INFO 04:08PM [load_ansys_project]: \tOpened Ansys Desktop v2024.1.0\n",
      "INFO 04:08PM [load_ansys_project]: \tOpened Ansys Project\n",
      "\tFolder:    C:/Users/user/Documents/Ansoft/\n",
      "\tProject:   Project5\n",
      "INFO 04:08PM [connect_design]: No active design found (or error getting active design).\n",
      "INFO 04:08PM [connect]: \t Connected to project \"Project5\". No design detected\n",
      "INFO 04:08PM [connect_design]: \tOpened active design\n",
      "\tDesign:    Block1_hfss [Solution type: Eigenmode]\n",
      "WARNING 04:08PM [connect_setup]: \tNo design setup detected.\n",
      "WARNING 04:08PM [connect_setup]: \tCreating eigenmode default setup.\n",
      "INFO 04:08PM [get_setup]: \tOpened setup `Setup`  (<class 'pyEPR.ansys.HfssEMSetup'>)\n",
      "INFO 04:09PM [get_setup]: \tOpened setup `Setup`  (<class 'pyEPR.ansys.HfssEMSetup'>)\n",
      "INFO 04:09PM [analyze]: Analyzing setup Setup\n",
      "04:17PM 08s INFO [get_f_convergence]: Saved convergences to C:\\Users\\user\\Qiskit Metal\\hfss_eig_f_convergence.csv\n"
     ]
    }
   ],
   "source": [
    "eig_qb.sim.run(name=\"Block1\", components=['Q_1','Q_3','Bus_13'], open_terminations=[('Q_1', 'readout'), ('Q_3', 'readout'), ('Q_1', 'Charge_Line')], box_plus_buffer = False)"
   ]
  },
  {
   "cell_type": "code",
   "execution_count": 121,
   "id": "4c4faaf3-e883-4810-8e20-32ad93872287",
   "metadata": {},
   "outputs": [
    {
     "data": {
      "text/html": [
       "<div>\n",
       "<style scoped>\n",
       "    .dataframe tbody tr th:only-of-type {\n",
       "        vertical-align: middle;\n",
       "    }\n",
       "\n",
       "    .dataframe tbody tr th {\n",
       "        vertical-align: top;\n",
       "    }\n",
       "\n",
       "    .dataframe thead th {\n",
       "        text-align: right;\n",
       "    }\n",
       "</style>\n",
       "<table border=\"1\" class=\"dataframe\">\n",
       "  <thead>\n",
       "    <tr style=\"text-align: right;\">\n",
       "      <th></th>\n",
       "      <th>re(Mode(1)) [g]</th>\n",
       "      <th>re(Mode(2)) [g]</th>\n",
       "      <th>re(Mode(3)) [g]</th>\n",
       "    </tr>\n",
       "    <tr>\n",
       "      <th>Pass []</th>\n",
       "      <th></th>\n",
       "      <th></th>\n",
       "      <th></th>\n",
       "    </tr>\n",
       "  </thead>\n",
       "  <tbody>\n",
       "    <tr>\n",
       "      <th>1</th>\n",
       "      <td>3.852027</td>\n",
       "      <td>4.544469</td>\n",
       "      <td>7.043666</td>\n",
       "    </tr>\n",
       "    <tr>\n",
       "      <th>2</th>\n",
       "      <td>4.383849</td>\n",
       "      <td>5.142001</td>\n",
       "      <td>7.909560</td>\n",
       "    </tr>\n",
       "    <tr>\n",
       "      <th>3</th>\n",
       "      <td>3.318168</td>\n",
       "      <td>4.908481</td>\n",
       "      <td>6.204092</td>\n",
       "    </tr>\n",
       "    <tr>\n",
       "      <th>4</th>\n",
       "      <td>3.978580</td>\n",
       "      <td>5.052250</td>\n",
       "      <td>7.079119</td>\n",
       "    </tr>\n",
       "    <tr>\n",
       "      <th>5</th>\n",
       "      <td>4.243533</td>\n",
       "      <td>5.183391</td>\n",
       "      <td>7.754772</td>\n",
       "    </tr>\n",
       "    <tr>\n",
       "      <th>6</th>\n",
       "      <td>4.525148</td>\n",
       "      <td>5.521671</td>\n",
       "      <td>8.260532</td>\n",
       "    </tr>\n",
       "    <tr>\n",
       "      <th>7</th>\n",
       "      <td>4.623836</td>\n",
       "      <td>5.656911</td>\n",
       "      <td>8.460240</td>\n",
       "    </tr>\n",
       "    <tr>\n",
       "      <th>8</th>\n",
       "      <td>4.719254</td>\n",
       "      <td>5.713348</td>\n",
       "      <td>8.552767</td>\n",
       "    </tr>\n",
       "    <tr>\n",
       "      <th>9</th>\n",
       "      <td>4.799615</td>\n",
       "      <td>5.741572</td>\n",
       "      <td>8.599301</td>\n",
       "    </tr>\n",
       "    <tr>\n",
       "      <th>10</th>\n",
       "      <td>4.840852</td>\n",
       "      <td>5.757959</td>\n",
       "      <td>8.629330</td>\n",
       "    </tr>\n",
       "    <tr>\n",
       "      <th>11</th>\n",
       "      <td>4.879510</td>\n",
       "      <td>5.762344</td>\n",
       "      <td>8.648323</td>\n",
       "    </tr>\n",
       "    <tr>\n",
       "      <th>12</th>\n",
       "      <td>4.905846</td>\n",
       "      <td>5.765235</td>\n",
       "      <td>8.661288</td>\n",
       "    </tr>\n",
       "  </tbody>\n",
       "</table>\n",
       "</div>"
      ],
      "text/plain": [
       "         re(Mode(1)) [g]  re(Mode(2)) [g]  re(Mode(3)) [g]\n",
       "Pass []                                                   \n",
       "1               3.852027         4.544469         7.043666\n",
       "2               4.383849         5.142001         7.909560\n",
       "3               3.318168         4.908481         6.204092\n",
       "4               3.978580         5.052250         7.079119\n",
       "5               4.243533         5.183391         7.754772\n",
       "6               4.525148         5.521671         8.260532\n",
       "7               4.623836         5.656911         8.460240\n",
       "8               4.719254         5.713348         8.552767\n",
       "9               4.799615         5.741572         8.599301\n",
       "10              4.840852         5.757959         8.629330\n",
       "11              4.879510         5.762344         8.648323\n",
       "12              4.905846         5.765235         8.661288"
      ]
     },
     "execution_count": 121,
     "metadata": {},
     "output_type": "execute_result"
    }
   ],
   "source": [
    "eig_qb.sim.convergence_f"
   ]
  },
  {
   "cell_type": "code",
   "execution_count": 122,
   "id": "01091c8d-0517-4afa-9827-88fbf439c3e6",
   "metadata": {},
   "outputs": [
    {
     "name": "stderr",
     "output_type": "stream",
     "text": [
      "INFO 04:24PM [get_setup]: \tOpened setup `Setup`  (<class 'pyEPR.ansys.HfssEMSetup'>)\n"
     ]
    }
   ],
   "source": [
    "eig_qb.sim.plot_fields('main', eigenmode=3)"
   ]
  },
  {
   "cell_type": "code",
   "execution_count": 123,
   "id": "143cbc2a-15e8-48a9-a58e-4fa760531a5d",
   "metadata": {},
   "outputs": [],
   "source": [
    "eig_qb.sim.plot_convergences()"
   ]
  },
  {
   "cell_type": "code",
   "execution_count": 124,
   "id": "c9ca356c-c9c2-45e0-a8dc-352b86f36e6d",
   "metadata": {},
   "outputs": [],
   "source": [
    "eig_qb.sim.clear_fields()"
   ]
  },
  {
   "cell_type": "code",
   "execution_count": 125,
   "id": "7a426a96-0240-4641-9dd9-d5869cdd85c0",
   "metadata": {},
   "outputs": [
    {
     "data": {
      "text/plain": [
       "{'junctions': {'jj1': {'Lj_variable': 'Lj1',\n",
       "   'Cj_variable': 'Cj1',\n",
       "   'rect': 'JJ_rect_Lj_Q_1_rect_jj',\n",
       "   'line': 'JJ_Lj_Q_1_rect_jj_'},\n",
       "  'jj2': {'Lj_variable': 'Lj2',\n",
       "   'Cj_variable': 'Cj2',\n",
       "   'rect': 'JJ_rect_Lj_Q_3_rect_jj',\n",
       "   'line': 'JJ_Lj_Q_3_rect_jj_'}},\n",
       " 'dissipatives': {'dielectrics_bulk': ['main']},\n",
       " 'cos_trunc': 8,\n",
       " 'fock_trunc': 7,\n",
       " 'sweep_variable': 'Lj1'}"
      ]
     },
     "execution_count": 125,
     "metadata": {},
     "output_type": "execute_result"
    }
   ],
   "source": [
    "eig_qb.del_junction()\n",
    "eig_qb.add_junction('jj1', 'Lj1', 'Cj1', rect='JJ_rect_Lj_Q_1_rect_jj', line='JJ_Lj_Q_1_rect_jj_')\n",
    "eig_qb.add_junction('jj2', 'Lj2', 'Cj2', rect='JJ_rect_Lj_Q_3_rect_jj', line='JJ_Lj_Q_3_rect_jj_')\n",
    "eig_qb.setup.sweep_variable = 'Lj1'\n",
    "eig_qb.setup"
   ]
  },
  {
   "cell_type": "code",
   "execution_count": 127,
   "id": "44a3871d-7842-4829-b609-9b8655d02380",
   "metadata": {},
   "outputs": [
    {
     "name": "stdout",
     "output_type": "stream",
     "text": [
      "Design \"Block1_hfss\" info:\n",
      "\t# eigenmodes    3\n",
      "\t# variations    1\n",
      "Design \"Block1_hfss\" info:\n",
      "\t# eigenmodes    3\n",
      "\t# variations    1\n"
     ]
    },
    {
     "name": "stderr",
     "output_type": "stream",
     "text": [
      "WARNING:py.warnings:C:\\ProgramData\\Anaconda3\\envs\\qmetal\\lib\\site-packages\\pyEPR\\project_info.py:239: FutureWarning: The default dtype for empty Series will be 'object' instead of 'float64' in a future version. Specify a dtype explicitly to silence this warning.\n",
      "  options=pd.Series(get_instance_vars(self.options)),\n",
      "\n"
     ]
    },
    {
     "name": "stdout",
     "output_type": "stream",
     "text": [
      "\n",
      "        energy_elec_all       = 1.33356965332102e-23\n",
      "        energy_elec_substrate = 1.18890651580182e-23\n",
      "        EPR of substrate = 89.2%\n",
      "\n",
      "        energy_mag    = 1.33320130027317e-23\n",
      "        energy_mag % of energy_elec_all  = 100.0%\n",
      "        \n",
      "\n",
      "Variation 0  [1/1]\n"
     ]
    },
    {
     "name": "stderr",
     "output_type": "stream",
     "text": [
      "WARNING:py.warnings:C:\\ProgramData\\Anaconda3\\envs\\qmetal\\lib\\site-packages\\pyEPR\\core_distributed_analysis.py:1101: FutureWarning: The default dtype for empty Series will be 'object' instead of 'float64' in a future version. Specify a dtype explicitly to silence this warning.\n",
      "  Ljs = pd.Series({})\n",
      "\n",
      "WARNING:py.warnings:C:\\ProgramData\\Anaconda3\\envs\\qmetal\\lib\\site-packages\\pyEPR\\core_distributed_analysis.py:1102: FutureWarning: The default dtype for empty Series will be 'object' instead of 'float64' in a future version. Specify a dtype explicitly to silence this warning.\n",
      "  Cjs = pd.Series({})\n",
      "\n",
      "WARNING:py.warnings:C:\\ProgramData\\Anaconda3\\envs\\qmetal\\lib\\site-packages\\pyEPR\\core_distributed_analysis.py:1245: FutureWarning: The default dtype for empty Series will be 'object' instead of 'float64' in a future version. Specify a dtype explicitly to silence this warning.\n",
      "  _Om = pd.Series({})\n",
      "\n"
     ]
    },
    {
     "name": "stdout",
     "output_type": "stream",
     "text": [
      "\n",
      "  \u001b[1mMode 0 at 4.91 GHz   [1/3]\u001b[0m\n",
      "    Calculating ℰ_magnetic,ℰ_electric\n"
     ]
    },
    {
     "name": "stderr",
     "output_type": "stream",
     "text": [
      "WARNING:py.warnings:C:\\ProgramData\\Anaconda3\\envs\\qmetal\\lib\\site-packages\\pyEPR\\core_distributed_analysis.py:981: FutureWarning: The default dtype for empty Series will be 'object' instead of 'float64' in a future version. Specify a dtype explicitly to silence this warning.\n",
      "  Sj = pd.Series({})\n",
      "\n"
     ]
    },
    {
     "name": "stdout",
     "output_type": "stream",
     "text": [
      "       (ℰ_E-ℰ_H)/ℰ_E       ℰ_E       ℰ_H\n",
      "               98.7%   1.57e-24 2.111e-26\n",
      "\n",
      "    Calculating junction energy participation ration (EPR)\n",
      "\tmethod=`line_voltage`. First estimates:\n",
      "\tjunction        EPR p_0j   sign s_0j    (p_capacitive)\n",
      "\t\tEnergy fraction (Lj over Lj&Cj)= 97.25%\n",
      "\tjj1              1.01455  (+)        0.0287263\n"
     ]
    },
    {
     "name": "stderr",
     "output_type": "stream",
     "text": [
      "WARNING:py.warnings:C:\\ProgramData\\Anaconda3\\envs\\qmetal\\lib\\site-packages\\pyEPR\\core_distributed_analysis.py:933: FutureWarning: The default dtype for empty Series will be 'object' instead of 'float64' in a future version. Specify a dtype explicitly to silence this warning.\n",
      "  Qp = pd.Series({})\n",
      "\n"
     ]
    },
    {
     "name": "stdout",
     "output_type": "stream",
     "text": [
      "\t\tEnergy fraction (Lj over Lj&Cj)= 97.53%\n",
      "\tjj2             5.80688e-08  (+)        1.46762e-09\n",
      "\t\t(U_tot_cap-U_tot_ind)/mean=0.04%\n",
      "Calculating Qdielectric_main for mode 0 (0/2)\n"
     ]
    },
    {
     "name": "stderr",
     "output_type": "stream",
     "text": [
      "WARNING:py.warnings:C:\\ProgramData\\Anaconda3\\envs\\qmetal\\lib\\site-packages\\pyEPR\\core_distributed_analysis.py:1307: FutureWarning: The series.append method is deprecated and will be removed from pandas in a future version. Use pandas.concat instead.\n",
      "  sol = sol.append(self.get_Qdielectric(\n",
      "\n",
      "WARNING:py.warnings:C:\\ProgramData\\Anaconda3\\envs\\qmetal\\lib\\site-packages\\pyEPR\\core_distributed_analysis.py:1245: FutureWarning: The default dtype for empty Series will be 'object' instead of 'float64' in a future version. Specify a dtype explicitly to silence this warning.\n",
      "  _Om = pd.Series({})\n",
      "\n"
     ]
    },
    {
     "name": "stdout",
     "output_type": "stream",
     "text": [
      "p_dielectric_main_0 = 0.9198122216633153\n",
      "\n",
      "  \u001b[1mMode 1 at 5.77 GHz   [2/3]\u001b[0m\n",
      "    Calculating ℰ_magnetic,ℰ_electric\n"
     ]
    },
    {
     "name": "stderr",
     "output_type": "stream",
     "text": [
      "WARNING:py.warnings:C:\\ProgramData\\Anaconda3\\envs\\qmetal\\lib\\site-packages\\pyEPR\\core_distributed_analysis.py:981: FutureWarning: The default dtype for empty Series will be 'object' instead of 'float64' in a future version. Specify a dtype explicitly to silence this warning.\n",
      "  Sj = pd.Series({})\n",
      "\n"
     ]
    },
    {
     "name": "stdout",
     "output_type": "stream",
     "text": [
      "       (ℰ_E-ℰ_H)/ℰ_E       ℰ_E       ℰ_H\n",
      "                0.9%  2.013e-24 1.996e-24\n",
      "\n",
      "    Calculating junction energy participation ration (EPR)\n",
      "\tmethod=`line_voltage`. First estimates:\n",
      "\tjunction        EPR p_1j   sign s_1j    (p_capacitive)\n",
      "\t\tEnergy fraction (Lj over Lj&Cj)= 96.24%\n",
      "\tjj1             0.00886815  (+)        0.000346771\n"
     ]
    },
    {
     "name": "stderr",
     "output_type": "stream",
     "text": [
      "WARNING:py.warnings:C:\\ProgramData\\Anaconda3\\envs\\qmetal\\lib\\site-packages\\pyEPR\\core_distributed_analysis.py:933: FutureWarning: The default dtype for empty Series will be 'object' instead of 'float64' in a future version. Specify a dtype explicitly to silence this warning.\n",
      "  Qp = pd.Series({})\n",
      "\n"
     ]
    },
    {
     "name": "stdout",
     "output_type": "stream",
     "text": [
      "\t\tEnergy fraction (Lj over Lj&Cj)= 96.63%\n",
      "\tjj2             4.1538e-06  (+)        1.44984e-07\n",
      "\t\t(U_tot_cap-U_tot_ind)/mean=0.00%\n",
      "Calculating Qdielectric_main for mode 1 (1/2)\n"
     ]
    },
    {
     "name": "stderr",
     "output_type": "stream",
     "text": [
      "WARNING:py.warnings:C:\\ProgramData\\Anaconda3\\envs\\qmetal\\lib\\site-packages\\pyEPR\\core_distributed_analysis.py:1307: FutureWarning: The series.append method is deprecated and will be removed from pandas in a future version. Use pandas.concat instead.\n",
      "  sol = sol.append(self.get_Qdielectric(\n",
      "\n",
      "WARNING:py.warnings:C:\\ProgramData\\Anaconda3\\envs\\qmetal\\lib\\site-packages\\pyEPR\\core_distributed_analysis.py:1245: FutureWarning: The default dtype for empty Series will be 'object' instead of 'float64' in a future version. Specify a dtype explicitly to silence this warning.\n",
      "  _Om = pd.Series({})\n",
      "\n"
     ]
    },
    {
     "name": "stdout",
     "output_type": "stream",
     "text": [
      "p_dielectric_main_1 = 0.9156417043849421\n",
      "\n",
      "  \u001b[1mMode 2 at 8.66 GHz   [3/3]\u001b[0m\n",
      "    Calculating ℰ_magnetic,ℰ_electric\n"
     ]
    },
    {
     "name": "stderr",
     "output_type": "stream",
     "text": [
      "WARNING:py.warnings:C:\\ProgramData\\Anaconda3\\envs\\qmetal\\lib\\site-packages\\pyEPR\\core_distributed_analysis.py:981: FutureWarning: The default dtype for empty Series will be 'object' instead of 'float64' in a future version. Specify a dtype explicitly to silence this warning.\n",
      "  Sj = pd.Series({})\n",
      "\n"
     ]
    },
    {
     "name": "stdout",
     "output_type": "stream",
     "text": [
      "       (ℰ_E-ℰ_H)/ℰ_E       ℰ_E       ℰ_H\n",
      "                0.0%  6.668e-24 6.666e-24\n",
      "\n",
      "    Calculating junction energy participation ration (EPR)\n",
      "\tmethod=`line_voltage`. First estimates:\n",
      "\tjunction        EPR p_2j   sign s_2j    (p_capacitive)\n",
      "\t\tEnergy fraction (Lj over Lj&Cj)= 91.89%\n",
      "\tjj1             0.000302564  (+)        2.67029e-05\n"
     ]
    },
    {
     "name": "stderr",
     "output_type": "stream",
     "text": [
      "WARNING:py.warnings:C:\\ProgramData\\Anaconda3\\envs\\qmetal\\lib\\site-packages\\pyEPR\\core_distributed_analysis.py:933: FutureWarning: The default dtype for empty Series will be 'object' instead of 'float64' in a future version. Specify a dtype explicitly to silence this warning.\n",
      "  Qp = pd.Series({})\n",
      "\n"
     ]
    },
    {
     "name": "stdout",
     "output_type": "stream",
     "text": [
      "\t\tEnergy fraction (Lj over Lj&Cj)= 92.70%\n",
      "\tjj2             7.59603e-08  (+)        5.98402e-09\n",
      "\t\t(U_tot_cap-U_tot_ind)/mean=0.00%\n",
      "Calculating Qdielectric_main for mode 2 (2/2)\n"
     ]
    },
    {
     "name": "stderr",
     "output_type": "stream",
     "text": [
      "WARNING:py.warnings:C:\\ProgramData\\Anaconda3\\envs\\qmetal\\lib\\site-packages\\pyEPR\\core_distributed_analysis.py:1307: FutureWarning: The series.append method is deprecated and will be removed from pandas in a future version. Use pandas.concat instead.\n",
      "  sol = sol.append(self.get_Qdielectric(\n",
      "\n"
     ]
    },
    {
     "name": "stdout",
     "output_type": "stream",
     "text": [
      "p_dielectric_main_2 = 0.8915218735227352\n"
     ]
    },
    {
     "ename": "com_error",
     "evalue": "(-2147352567, 'Exception occurred.', (0, None, None, None, 0, -2147024382), None)",
     "output_type": "error",
     "traceback": [
      "\u001b[1;31m---------------------------------------------------------------------------\u001b[0m",
      "\u001b[1;31mcom_error\u001b[0m                                 Traceback (most recent call last)",
      "Cell \u001b[1;32mIn[127], line 1\u001b[0m\n\u001b[1;32m----> 1\u001b[0m \u001b[43meig_qb\u001b[49m\u001b[38;5;241;43m.\u001b[39;49m\u001b[43mrun_epr\u001b[49m\u001b[43m(\u001b[49m\u001b[43m)\u001b[49m\n",
      "File \u001b[1;32mC:\\ProgramData\\Anaconda3\\envs\\qmetal\\lib\\site-packages\\qiskit_metal\\analyses\\quantization\\energy_participation_ratio.py:172\u001b[0m, in \u001b[0;36mEPRanalysis.run_epr\u001b[1;34m(self, no_junctions)\u001b[0m\n\u001b[0;32m    170\u001b[0m \u001b[38;5;28mself\u001b[39m\u001b[38;5;241m.\u001b[39mget_stored_energy(no_junctions)\n\u001b[0;32m    171\u001b[0m \u001b[38;5;28;01mif\u001b[39;00m \u001b[38;5;129;01mnot\u001b[39;00m no_junctions:\n\u001b[1;32m--> 172\u001b[0m     \u001b[38;5;28;43mself\u001b[39;49m\u001b[38;5;241;43m.\u001b[39;49m\u001b[43mrun_analysis\u001b[49m\u001b[43m(\u001b[49m\u001b[43m)\u001b[49m\n\u001b[0;32m    173\u001b[0m     \u001b[38;5;28mself\u001b[39m\u001b[38;5;241m.\u001b[39mspectrum_analysis(\u001b[38;5;28mself\u001b[39m\u001b[38;5;241m.\u001b[39msetup\u001b[38;5;241m.\u001b[39mcos_trunc, \u001b[38;5;28mself\u001b[39m\u001b[38;5;241m.\u001b[39msetup\u001b[38;5;241m.\u001b[39mfock_trunc)\n\u001b[0;32m    174\u001b[0m     \u001b[38;5;28;01mtry\u001b[39;00m:\n",
      "File \u001b[1;32mC:\\ProgramData\\Anaconda3\\envs\\qmetal\\lib\\site-packages\\qiskit_metal\\analyses\\quantization\\energy_participation_ratio.py:219\u001b[0m, in \u001b[0;36mEPRanalysis.run_analysis\u001b[1;34m(self)\u001b[0m\n\u001b[0;32m    215\u001b[0m \u001b[38;5;28;01mdef\u001b[39;00m \u001b[38;5;21mrun_analysis\u001b[39m(\u001b[38;5;28mself\u001b[39m):\n\u001b[0;32m    216\u001b[0m \u001b[38;5;250m    \u001b[39m\u001b[38;5;124;03m\"\"\"Short-cut to the same-name method found in renderers.ansys_renderer.py.\u001b[39;00m\n\u001b[0;32m    217\u001b[0m \u001b[38;5;124;03m    Eventually, the analysis code needs to be only here, and the renderer method deprecated.\u001b[39;00m\n\u001b[0;32m    218\u001b[0m \u001b[38;5;124;03m    \"\"\"\u001b[39;00m\n\u001b[1;32m--> 219\u001b[0m     \u001b[38;5;28;43mself\u001b[39;49m\u001b[38;5;241;43m.\u001b[39;49m\u001b[43msim\u001b[49m\u001b[38;5;241;43m.\u001b[39;49m\u001b[43mrenderer\u001b[49m\u001b[38;5;241;43m.\u001b[39;49m\u001b[43mepr_run_analysis\u001b[49m\u001b[43m(\u001b[49m\u001b[43m)\u001b[49m\n",
      "File \u001b[1;32mC:\\ProgramData\\Anaconda3\\envs\\qmetal\\lib\\site-packages\\qiskit_metal\\renderers\\renderer_ansys\\ansys_renderer.py:1759\u001b[0m, in \u001b[0;36mQAnsysRenderer.epr_run_analysis\u001b[1;34m(self, junctions, dissipatives)\u001b[0m\n\u001b[0;32m   1757\u001b[0m \u001b[38;5;28;01mif\u001b[39;00m junctions \u001b[38;5;129;01mis\u001b[39;00m \u001b[38;5;129;01mnot\u001b[39;00m \u001b[38;5;28;01mNone\u001b[39;00m \u001b[38;5;129;01mor\u001b[39;00m dissipatives \u001b[38;5;129;01mis\u001b[39;00m \u001b[38;5;129;01mnot\u001b[39;00m \u001b[38;5;28;01mNone\u001b[39;00m:\n\u001b[0;32m   1758\u001b[0m     \u001b[38;5;28mself\u001b[39m\u001b[38;5;241m.\u001b[39mepr_start(junctions, dissipatives)\n\u001b[1;32m-> 1759\u001b[0m \u001b[38;5;28;43mself\u001b[39;49m\u001b[38;5;241;43m.\u001b[39;49m\u001b[43mepr_distributed_analysis\u001b[49m\u001b[38;5;241;43m.\u001b[39;49m\u001b[43mdo_EPR_analysis\u001b[49m\u001b[43m(\u001b[49m\u001b[43m)\u001b[49m\n",
      "File \u001b[1;32mC:\\ProgramData\\Anaconda3\\envs\\qmetal\\lib\\site-packages\\pyEPR\\core_distributed_analysis.py:1326\u001b[0m, in \u001b[0;36mDistributedAnalysis.do_EPR_analysis\u001b[1;34m(self, variations, modes, append_analysis)\u001b[0m\n\u001b[0;32m   1323\u001b[0m     SOL[mode] \u001b[38;5;241m=\u001b[39m sol\n\u001b[0;32m   1325\u001b[0m \u001b[38;5;66;03m# Save\u001b[39;00m\n\u001b[1;32m-> 1326\u001b[0m \u001b[38;5;28;43mself\u001b[39;49m\u001b[38;5;241;43m.\u001b[39;49m\u001b[43m_update_results\u001b[49m\u001b[43m(\u001b[49m\u001b[43mvariation\u001b[49m\u001b[43m,\u001b[49m\u001b[43m \u001b[49m\u001b[43mOm\u001b[49m\u001b[43m,\u001b[49m\u001b[43m \u001b[49m\u001b[43mPm\u001b[49m\u001b[43m,\u001b[49m\u001b[43m \u001b[49m\u001b[43mSm\u001b[49m\u001b[43m,\u001b[49m\u001b[43m \u001b[49m\u001b[43mQm_coupling\u001b[49m\u001b[43m,\u001b[49m\u001b[43m \u001b[49m\u001b[43mSOL\u001b[49m\u001b[43m,\u001b[49m\n\u001b[0;32m   1327\u001b[0m \u001b[43m                     \u001b[49m\u001b[43mfreqs_bare_GHz\u001b[49m\u001b[43m,\u001b[49m\u001b[43m \u001b[49m\u001b[43mQs_bare\u001b[49m\u001b[43m,\u001b[49m\u001b[43m \u001b[49m\u001b[43mLjs\u001b[49m\u001b[43m,\u001b[49m\u001b[43m \u001b[49m\u001b[43mCjs\u001b[49m\u001b[43m,\u001b[49m\n\u001b[0;32m   1328\u001b[0m \u001b[43m                     \u001b[49m\u001b[43mPm_cap\u001b[49m\u001b[43m,\u001b[49m\u001b[43m \u001b[49m\u001b[43mI_peak\u001b[49m\u001b[43m,\u001b[49m\u001b[43m \u001b[49m\u001b[43mV_peak\u001b[49m\u001b[43m,\u001b[49m\n\u001b[0;32m   1329\u001b[0m \u001b[43m                     \u001b[49m\u001b[43mansys_energies\u001b[49m\u001b[43m,\u001b[49m\n\u001b[0;32m   1330\u001b[0m \u001b[43m                     \u001b[49m\u001b[38;5;28;43mself\u001b[39;49m\u001b[38;5;241;43m.\u001b[39;49m\u001b[43m_hfss_variables\u001b[49m\u001b[43m[\u001b[49m\u001b[43mvariation\u001b[49m\u001b[43m]\u001b[49m\u001b[43m)\u001b[49m\n\u001b[0;32m   1331\u001b[0m \u001b[38;5;28mself\u001b[39m\u001b[38;5;241m.\u001b[39msave()\n\u001b[0;32m   1333\u001b[0m \u001b[38;5;28mself\u001b[39m\u001b[38;5;241m.\u001b[39m_previously_analyzed\u001b[38;5;241m.\u001b[39madd(variation)\n",
      "File \u001b[1;32mC:\\ProgramData\\Anaconda3\\envs\\qmetal\\lib\\site-packages\\pyEPR\\core_distributed_analysis.py:1376\u001b[0m, in \u001b[0;36mDistributedAnalysis._update_results\u001b[1;34m(self, variation, Om, Pm, Sm, Qm_coupling, sols, freqs_bare_GHz, Qs_bare, Ljs, Cjs, Pm_cap, I_peak, V_peak, ansys_energies, _hfss_variables)\u001b[0m\n\u001b[0;32m   1372\u001b[0m \u001b[38;5;28mself\u001b[39m\u001b[38;5;241m.\u001b[39mresults[variation][\u001b[38;5;124m'\u001b[39m\u001b[38;5;124mmesh\u001b[39m\u001b[38;5;124m'\u001b[39m] \u001b[38;5;241m=\u001b[39m \u001b[38;5;28mself\u001b[39m\u001b[38;5;241m.\u001b[39mget_mesh_statistics(\n\u001b[0;32m   1373\u001b[0m     variation)  \u001b[38;5;66;03m# dataframe\u001b[39;00m\n\u001b[0;32m   1374\u001b[0m \u001b[38;5;28mself\u001b[39m\u001b[38;5;241m.\u001b[39mresults[variation][\u001b[38;5;124m'\u001b[39m\u001b[38;5;124mconvergence\u001b[39m\u001b[38;5;124m'\u001b[39m] \u001b[38;5;241m=\u001b[39m \u001b[38;5;28mself\u001b[39m\u001b[38;5;241m.\u001b[39mget_convergence(\n\u001b[0;32m   1375\u001b[0m     variation)\n\u001b[1;32m-> 1376\u001b[0m \u001b[38;5;28mself\u001b[39m\u001b[38;5;241m.\u001b[39mresults[variation][\u001b[38;5;124m'\u001b[39m\u001b[38;5;124mconvergence_f_pass\u001b[39m\u001b[38;5;124m'\u001b[39m] \u001b[38;5;241m=\u001b[39m \u001b[38;5;28;43mself\u001b[39;49m\u001b[38;5;241;43m.\u001b[39;49m\u001b[43mhfss_report_f_convergence\u001b[49m\u001b[43m(\u001b[49m\n\u001b[0;32m   1377\u001b[0m \u001b[43m    \u001b[49m\u001b[43mvariation\u001b[49m\u001b[43m,\u001b[49m\u001b[43m \u001b[49m\u001b[43msave_csv\u001b[49m\u001b[38;5;241;43m=\u001b[39;49m\u001b[38;5;28;43;01mFalse\u001b[39;49;00m\u001b[43m)\u001b[49m\n",
      "File \u001b[1;32mC:\\ProgramData\\Anaconda3\\envs\\qmetal\\lib\\site-packages\\pyEPR\\core_distributed_analysis.py:1582\u001b[0m, in \u001b[0;36mDistributedAnalysis.hfss_report_f_convergence\u001b[1;34m(self, variation, save_csv)\u001b[0m\n\u001b[0;32m   1579\u001b[0m \u001b[38;5;66;03m# Properties of lines\u001b[39;00m\n\u001b[0;32m   1580\u001b[0m curves \u001b[38;5;241m=\u001b[39m [\u001b[38;5;124mf\u001b[39m\u001b[38;5;124m\"\u001b[39m\u001b[38;5;132;01m{\u001b[39;00mreport_name\u001b[38;5;132;01m}\u001b[39;00m\u001b[38;5;124m:re(Mode(\u001b[39m\u001b[38;5;132;01m{\u001b[39;00mi\u001b[38;5;132;01m}\u001b[39;00m\u001b[38;5;124m)):Curve1\u001b[39m\u001b[38;5;124m\"\u001b[39m \u001b[38;5;28;01mfor\u001b[39;00m i \u001b[38;5;129;01min\u001b[39;00m \u001b[38;5;28mrange\u001b[39m(\n\u001b[0;32m   1581\u001b[0m     \u001b[38;5;241m1\u001b[39m, \u001b[38;5;241m1\u001b[39m\u001b[38;5;241m+\u001b[39m\u001b[38;5;28mself\u001b[39m\u001b[38;5;241m.\u001b[39mn_modes)]\n\u001b[1;32m-> 1582\u001b[0m \u001b[43mset_property\u001b[49m\u001b[43m(\u001b[49m\u001b[43mreport\u001b[49m\u001b[43m,\u001b[49m\u001b[43m \u001b[49m\u001b[38;5;124;43m'\u001b[39;49m\u001b[38;5;124;43mAttributes\u001b[39;49m\u001b[38;5;124;43m'\u001b[39;49m\u001b[43m,\u001b[49m\u001b[43m \u001b[49m\u001b[43mcurves\u001b[49m\u001b[43m,\u001b[49m\u001b[43m \u001b[49m\u001b[38;5;124;43m'\u001b[39;49m\u001b[38;5;124;43mLine Width\u001b[39;49m\u001b[38;5;124;43m'\u001b[39;49m\u001b[43m,\u001b[49m\u001b[43m \u001b[49m\u001b[38;5;241;43m3\u001b[39;49m\u001b[43m)\u001b[49m\n\u001b[0;32m   1583\u001b[0m set_property(report, \u001b[38;5;124m'\u001b[39m\u001b[38;5;124mScaling\u001b[39m\u001b[38;5;124m'\u001b[39m,\n\u001b[0;32m   1584\u001b[0m              \u001b[38;5;124mf\u001b[39m\u001b[38;5;124m\"\u001b[39m\u001b[38;5;132;01m{\u001b[39;00mreport_name\u001b[38;5;132;01m}\u001b[39;00m\u001b[38;5;124m:AxisY1\u001b[39m\u001b[38;5;124m\"\u001b[39m, \u001b[38;5;124m'\u001b[39m\u001b[38;5;124mAuto Units\u001b[39m\u001b[38;5;124m'\u001b[39m, \u001b[38;5;28;01mFalse\u001b[39;00m)\n\u001b[0;32m   1585\u001b[0m set_property(report, \u001b[38;5;124m'\u001b[39m\u001b[38;5;124mScaling\u001b[39m\u001b[38;5;124m'\u001b[39m, \u001b[38;5;124mf\u001b[39m\u001b[38;5;124m\"\u001b[39m\u001b[38;5;132;01m{\u001b[39;00mreport_name\u001b[38;5;132;01m}\u001b[39;00m\u001b[38;5;124m:AxisY1\u001b[39m\u001b[38;5;124m\"\u001b[39m, \u001b[38;5;124m'\u001b[39m\u001b[38;5;124mUnits\u001b[39m\u001b[38;5;124m'\u001b[39m, \u001b[38;5;124m'\u001b[39m\u001b[38;5;124mg\u001b[39m\u001b[38;5;124m'\u001b[39m)\n",
      "File \u001b[1;32mC:\\ProgramData\\Anaconda3\\envs\\qmetal\\lib\\site-packages\\pyEPR\\ansys.py:357\u001b[0m, in \u001b[0;36mset_property\u001b[1;34m(prop_holder, prop_tab, prop_server, name, value, prop_args)\u001b[0m\n\u001b[0;32m    355\u001b[0m \u001b[38;5;28;01mif\u001b[39;00m \u001b[38;5;129;01mnot\u001b[39;00m \u001b[38;5;28misinstance\u001b[39m(prop_server, \u001b[38;5;28mlist\u001b[39m):\n\u001b[0;32m    356\u001b[0m     prop_server \u001b[38;5;241m=\u001b[39m [prop_server]\n\u001b[1;32m--> 357\u001b[0m \u001b[38;5;28;01mreturn\u001b[39;00m \u001b[43mprop_holder\u001b[49m\u001b[38;5;241;43m.\u001b[39;49m\u001b[43mChangeProperty\u001b[49m\u001b[43m(\u001b[49m\u001b[43m[\u001b[49m\n\u001b[0;32m    358\u001b[0m \u001b[43m    \u001b[49m\u001b[38;5;124;43m\"\u001b[39;49m\u001b[38;5;124;43mNAME:AllTabs\u001b[39;49m\u001b[38;5;124;43m\"\u001b[39;49m\u001b[43m,\u001b[49m\n\u001b[0;32m    359\u001b[0m \u001b[43m    \u001b[49m\u001b[43m[\u001b[49m\n\u001b[0;32m    360\u001b[0m \u001b[43m        \u001b[49m\u001b[38;5;124;43m\"\u001b[39;49m\u001b[38;5;124;43mNAME:\u001b[39;49m\u001b[38;5;124;43m\"\u001b[39;49m\u001b[43m \u001b[49m\u001b[38;5;241;43m+\u001b[39;49m\u001b[43m \u001b[49m\u001b[43mprop_tab\u001b[49m\u001b[43m,\u001b[49m\u001b[43m \u001b[49m\u001b[43m[\u001b[49m\u001b[38;5;124;43m\"\u001b[39;49m\u001b[38;5;124;43mNAME:PropServers\u001b[39;49m\u001b[38;5;124;43m\"\u001b[39;49m\u001b[43m,\u001b[49m\u001b[43m \u001b[49m\u001b[38;5;241;43m*\u001b[39;49m\u001b[43mprop_server\u001b[49m\u001b[43m]\u001b[49m\u001b[43m,\u001b[49m\n\u001b[0;32m    361\u001b[0m \u001b[43m        \u001b[49m\u001b[43m[\u001b[49m\n\u001b[0;32m    362\u001b[0m \u001b[43m            \u001b[49m\u001b[38;5;124;43m\"\u001b[39;49m\u001b[38;5;124;43mNAME:ChangedProps\u001b[39;49m\u001b[38;5;124;43m\"\u001b[39;49m\u001b[43m,\u001b[49m\n\u001b[0;32m    363\u001b[0m \u001b[43m            \u001b[49m\u001b[43m[\u001b[49m\u001b[38;5;124;43m\"\u001b[39;49m\u001b[38;5;124;43mNAME:\u001b[39;49m\u001b[38;5;124;43m\"\u001b[39;49m\u001b[43m \u001b[49m\u001b[38;5;241;43m+\u001b[39;49m\u001b[43m \u001b[49m\u001b[43mname\u001b[49m\u001b[43m,\u001b[49m\u001b[43m \u001b[49m\u001b[38;5;124;43m\"\u001b[39;49m\u001b[38;5;124;43mValue:=\u001b[39;49m\u001b[38;5;124;43m\"\u001b[39;49m\u001b[43m,\u001b[49m\u001b[43m \u001b[49m\u001b[43mvalue\u001b[49m\u001b[43m]\u001b[49m\u001b[43m \u001b[49m\u001b[38;5;241;43m+\u001b[39;49m\u001b[43m \u001b[49m\u001b[43m(\u001b[49m\u001b[43mprop_args\u001b[49m\u001b[43m \u001b[49m\u001b[38;5;129;43;01mor\u001b[39;49;00m\u001b[43m \u001b[49m\u001b[43m[\u001b[49m\u001b[43m]\u001b[49m\u001b[43m)\u001b[49m\n\u001b[0;32m    364\u001b[0m \u001b[43m        \u001b[49m\u001b[43m]\u001b[49m\n\u001b[0;32m    365\u001b[0m \u001b[43m    \u001b[49m\u001b[43m]\u001b[49m\n\u001b[0;32m    366\u001b[0m \u001b[43m\u001b[49m\u001b[43m]\u001b[49m\u001b[43m)\u001b[49m\n",
      "File \u001b[1;32m<COMObject GetModule>:2\u001b[0m, in \u001b[0;36mChangeProperty\u001b[1;34m(self, args)\u001b[0m\n",
      "\u001b[1;31mcom_error\u001b[0m: (-2147352567, 'Exception occurred.', (0, None, None, None, 0, -2147024382), None)"
     ]
    }
   ],
   "source": [
    "eig_qb.run_epr()"
   ]
  },
  {
   "cell_type": "code",
   "execution_count": 128,
   "id": "26656a89-00de-4436-9017-0432d3afb5f5",
   "metadata": {},
   "outputs": [
    {
     "name": "stdout",
     "output_type": "stream",
     "text": [
      "Warning! 6 COM references still alive\n",
      "Ansys will likely refuse to shut down\n"
     ]
    }
   ],
   "source": [
    "eig_qb.sim.close()"
   ]
  },
  {
   "cell_type": "code",
   "execution_count": null,
   "id": "729df98d-7ff8-4d57-b7b2-e6c1b0c8ddcb",
   "metadata": {},
   "outputs": [],
   "source": []
  },
  {
   "cell_type": "markdown",
   "id": "36dc788d-aba6-4ee4-b7ef-1f9af8554372",
   "metadata": {},
   "source": [
    "## GDS"
   ]
  },
  {
   "cell_type": "code",
   "execution_count": 51,
   "id": "5338753a-ea23-4a05-9cfa-66008ec0cecc",
   "metadata": {},
   "outputs": [],
   "source": [
    "mt_gds = design.renderers.gds\n"
   ]
  },
  {
   "cell_type": "code",
   "execution_count": 58,
   "id": "fba6603b-8bf9-4444-ba87-d3fd99006f29",
   "metadata": {},
   "outputs": [],
   "source": [
    "mt_gds.options['path_filename'] = '../qiskit-metal-main/qiskit-metal-main/tutorials/resources/Fake_Junctions.GDS'"
   ]
  },
  {
   "cell_type": "code",
   "execution_count": 66,
   "id": "5e8775bd-d270-4cdf-b910-7dcd3e30e1a2",
   "metadata": {},
   "outputs": [],
   "source": [
    "\n",
    "\n",
    "mt_gds.options.no_cheese.buffer = '40um'\n",
    "mt_gds.options.max_points = 199\n",
    "mt_gds.options.cheese.cheese_0_x = '2um'\n",
    "mt_gds.options.cheese.cheese_0_y = '1um'\n",
    "mt_gds.options.cheese.view_in_file = {'main': {1: True}}\n",
    "\n"
   ]
  },
  {
   "cell_type": "code",
   "execution_count": 67,
   "id": "3c065c39-6ca8-4780-88a7-867f31dc24b4",
   "metadata": {},
   "outputs": [
    {
     "data": {
      "text/plain": [
       "1"
      ]
     },
     "execution_count": 67,
     "metadata": {},
     "output_type": "execute_result"
    }
   ],
   "source": [
    "mt_gds.export_to_gds(\"MyDesign1.gds\")"
   ]
  },
  {
   "cell_type": "code",
   "execution_count": null,
   "id": "37001247-e07f-4935-8149-01f1b717d1f5",
   "metadata": {},
   "outputs": [],
   "source": []
  },
  {
   "cell_type": "code",
   "execution_count": null,
   "id": "c5ec8faa-7acb-42f6-a94f-2004427ddaea",
   "metadata": {},
   "outputs": [],
   "source": []
  }
 ],
 "metadata": {
  "kernelspec": {
   "display_name": "Python 3 (ipykernel)",
   "language": "python",
   "name": "python3"
  },
  "language_info": {
   "codemirror_mode": {
    "name": "ipython",
    "version": 3
   },
   "file_extension": ".py",
   "mimetype": "text/x-python",
   "name": "python",
   "nbconvert_exporter": "python",
   "pygments_lexer": "ipython3",
   "version": "3.9.19"
  }
 },
 "nbformat": 4,
 "nbformat_minor": 5
}
